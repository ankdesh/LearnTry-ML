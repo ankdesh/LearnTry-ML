{
 "cells": [
  {
   "cell_type": "markdown",
   "id": "bcded1a6-2430-4707-a78c-c82f4c5ee6fc",
   "metadata": {},
   "source": [
    "<a href = \"https://www.pieriantraining.com\"><img src=\"../PT Centered Purple.png\"> </a>\n",
    "\n",
    "<em style=\"text-align:center\">Copyrighted by Pierian Training</em>"
   ]
  },
  {
   "cell_type": "markdown",
   "id": "728f1747-b8fc-4d31-96c2-047fc83c079d",
   "metadata": {},
   "source": [
    "#  Context Compression\n",
    "\n",
    "\"Compression\" is a bit of a strange term to use here, but the basic gist is that using another LLM call we can ask the model to extract only the relevant information from a vector doc lookup call. \n",
    "\n",
    "Let's revisit our last example:"
   ]
  },
  {
   "cell_type": "code",
   "execution_count": 1,
   "id": "20effa46-1a40-4696-a939-98e9e8437714",
   "metadata": {},
   "outputs": [],
   "source": [
    "# Build a sample vectorDB\n",
    "from langchain.vectorstores import Chroma\n",
    "from langchain.document_loaders import WikipediaLoader\n",
    "from langchain.embeddings.openai import OpenAIEmbeddings\n",
    "from langchain.text_splitter import CharacterTextSplitter"
   ]
  },
  {
   "cell_type": "markdown",
   "id": "4fee8a05-8426-4897-ae40-6acce3171f92",
   "metadata": {},
   "source": [
    "### OpenAI Connection for Embeddings"
   ]
  },
  {
   "cell_type": "code",
   "execution_count": 2,
   "id": "4b1bc5f5-335c-496b-ad92-c740309b8223",
   "metadata": {},
   "outputs": [],
   "source": [
    "import os\n",
    "embedding_function = OpenAIEmbeddings()"
   ]
  },
  {
   "cell_type": "code",
   "execution_count": 3,
   "id": "a0dcfb0a-4e2a-4f45-9592-b0539ce1d99a",
   "metadata": {},
   "outputs": [],
   "source": [
    "# docs"
   ]
  },
  {
   "cell_type": "markdown",
   "id": "c5f427b3-257a-441e-81f3-4eff46d4b881",
   "metadata": {},
   "source": [
    "### Connect to Embed Documents via ChromaDB"
   ]
  },
  {
   "cell_type": "code",
   "execution_count": 4,
   "id": "cf5d0bbf-668d-48dd-b14d-610626989d40",
   "metadata": {},
   "outputs": [],
   "source": [
    "db_connection = Chroma(persist_directory='./mk_ultra',embedding_function=embedding_function)"
   ]
  },
  {
   "cell_type": "markdown",
   "id": "8575133b-ade6-452f-8adc-09ce750d41b2",
   "metadata": {},
   "source": [
    "### Contextual Compression"
   ]
  },
  {
   "cell_type": "code",
   "execution_count": 5,
   "id": "d687dcb4-c1fa-419a-bec8-f7ebe567c7a0",
   "metadata": {},
   "outputs": [],
   "source": [
    "from langchain.chat_models import ChatOpenAI\n",
    "from langchain.retrievers import ContextualCompressionRetriever\n",
    "from langchain.retrievers.document_compressors import LLMChainExtractor"
   ]
  },
  {
   "cell_type": "code",
   "execution_count": 6,
   "id": "6269f01f-2e3a-4fe1-8ccf-f94bd5c85efd",
   "metadata": {},
   "outputs": [],
   "source": [
    "llm = ChatOpenAI(temperature=0)\n",
    "compressor = LLMChainExtractor.from_llm(llm)"
   ]
  },
  {
   "cell_type": "code",
   "execution_count": 7,
   "id": "aa0576ee-b6f8-4c4a-945f-3be771c7d34b",
   "metadata": {},
   "outputs": [],
   "source": [
    "compression_retriever = ContextualCompressionRetriever(base_compressor=compressor, base_retriever=db_connection.as_retriever())"
   ]
  },
  {
   "cell_type": "code",
   "execution_count": 8,
   "id": "edf9f159-6a66-4c46-9324-a743de83b393",
   "metadata": {},
   "outputs": [],
   "source": [
    "docs = db_connection.similarity_search('When was this declassified?')"
   ]
  },
  {
   "cell_type": "code",
   "execution_count": 9,
   "id": "33c277fc-2bb7-4de9-b6c9-6d87ac4e9220",
   "metadata": {},
   "outputs": [
    {
     "data": {
      "text/plain": [
       "Document(page_content='The Church Committee (formally the United States Senate Select Committee to Study Governmental Operations with Respect to Intelligence Activities) was a US Senate select committee in 1975 that  investigated abuses by the Central Intelligence Agency (CIA), National Security Agency (NSA), Federal Bureau of Investigation (FBI), and the Internal Revenue Service (IRS). Chaired by Idaho Senator Frank Church (D-ID), the committee was part of a series of investigations into intelligence abuses in 1975, dubbed the \"Year of Intelligence\", including its House counterpart, the Pike Committee, and the presidential Rockefeller Commission. The committee\\'s efforts led to the establishment of the permanent US Senate Select Committee on Intelligence.\\nThe most shocking revelations of the committee include Operation MKULTRA, which involved the drugging and torture of unwitting US citizens as part of human experimentation on mind control; COINTELPRO, which involved the surveillance and infiltration of American political and civil-rights organizations; and Family Jewels, a CIA program to covertly assassinate foreign leaders.It also unearthed Project SHAMROCK, a program in which the major telecommunications companies shared their traffic with the NSA, and officially confirmed the existence of this signals intelligence agency to the public for the first time.\\n\\n\\n== Background ==\\nBy the early years of the 1970s, a series of troubling revelations had appeared in the press concerning intelligence activities. First came the revelations by Army intelligence officer Christopher Pyle in January 1970 of the US Army\\'s spying on the civilian population and Senator Sam Ervin\\'s Senate investigations produced more revelations. Then on December 22, 1974, The New York Times published a lengthy article by Seymour Hersh detailing operations engaged in by the CIA over the years that had been dubbed the \"family jewels\". Covert action programs involving assassination attempts on foreign leaders and covert attempts to subvert foreign governments were reported for the first time. In addition, the article discussed efforts by intelligence agencies to collect information on the political activities of US citizens.The creation of the Church Committee was approved on January 27, 1975, by a vote of 82 to 4 in the Senate.', metadata={'source': 'https://en.wikipedia.org/wiki/Church_Committee', 'summary': 'The Church Committee (formally the United States Senate Select Committee to Study Governmental Operations with Respect to Intelligence Activities) was a US Senate select committee in 1975 that  investigated abuses by the Central Intelligence Agency (CIA), National Security Agency (NSA), Federal Bureau of Investigation (FBI), and the Internal Revenue Service (IRS). Chaired by Idaho Senator Frank Church (D-ID), the committee was part of a series of investigations into intelligence abuses in 1975, dubbed the \"Year of Intelligence\", including its House counterpart, the Pike Committee, and the presidential Rockefeller Commission. The committee\\'s efforts led to the establishment of the permanent US Senate Select Committee on Intelligence.\\nThe most shocking revelations of the committee include Operation MKULTRA, which involved the drugging and torture of unwitting US citizens as part of human experimentation on mind control; COINTELPRO, which involved the surveillance and infiltration of American political and civil-rights organizations; and Family Jewels, a CIA program to covertly assassinate foreign leaders.It also unearthed Project SHAMROCK, a program in which the major telecommunications companies shared their traffic with the NSA, and officially confirmed the existence of this signals intelligence agency to the public for the first time.', 'title': 'Church Committee'})"
      ]
     },
     "execution_count": 9,
     "metadata": {},
     "output_type": "execute_result"
    }
   ],
   "source": [
    "docs[0]"
   ]
  },
  {
   "cell_type": "code",
   "execution_count": 10,
   "id": "4c048545-b672-4116-832c-d0beda0d4b11",
   "metadata": {},
   "outputs": [
    {
     "name": "stderr",
     "output_type": "stream",
     "text": [
      "/home/ankdesh/virtualenv/pytorch-host/lib/python3.10/site-packages/langchain/chains/llm.py:316: UserWarning: The predict_and_parse method is deprecated, instead pass an output parser directly to LLMChain.\n",
      "  warnings.warn(\n",
      "/home/ankdesh/virtualenv/pytorch-host/lib/python3.10/site-packages/langchain/chains/llm.py:316: UserWarning: The predict_and_parse method is deprecated, instead pass an output parser directly to LLMChain.\n",
      "  warnings.warn(\n",
      "/home/ankdesh/virtualenv/pytorch-host/lib/python3.10/site-packages/langchain/chains/llm.py:316: UserWarning: The predict_and_parse method is deprecated, instead pass an output parser directly to LLMChain.\n",
      "  warnings.warn(\n",
      "/home/ankdesh/virtualenv/pytorch-host/lib/python3.10/site-packages/langchain/chains/llm.py:316: UserWarning: The predict_and_parse method is deprecated, instead pass an output parser directly to LLMChain.\n",
      "  warnings.warn(\n"
     ]
    }
   ],
   "source": [
    "compressed_docs = compression_retriever.get_relevant_documents(\"When was this declassified?\")"
   ]
  },
  {
   "cell_type": "code",
   "execution_count": 11,
   "id": "3eb01487-d6a9-48cf-9f69-ab78892453b8",
   "metadata": {},
   "outputs": [
    {
     "data": {
      "text/plain": [
       "'The Church Committee (formally the United States Senate Select Committee to Study Governmental Operations with Respect to Intelligence Activities) was a US Senate select committee in 1975 that  investigated abuses by the Central Intelligence Agency (CIA), National Security Agency (NSA), Federal Bureau of Investigation (FBI), and the Internal Revenue Service (IRS).'"
      ]
     },
     "execution_count": 11,
     "metadata": {},
     "output_type": "execute_result"
    }
   ],
   "source": [
    "compressed_docs[0].page_content"
   ]
  },
  {
   "cell_type": "code",
   "execution_count": null,
   "id": "e42ad062-ece0-47d1-ae91-4074e40a90db",
   "metadata": {},
   "outputs": [],
   "source": []
  }
 ],
 "metadata": {
  "kernelspec": {
   "display_name": "Python 3 (ipykernel)",
   "language": "python",
   "name": "python3"
  },
  "language_info": {
   "codemirror_mode": {
    "name": "ipython",
    "version": 3
   },
   "file_extension": ".py",
   "mimetype": "text/x-python",
   "name": "python",
   "nbconvert_exporter": "python",
   "pygments_lexer": "ipython3",
   "version": "3.10.12"
  }
 },
 "nbformat": 4,
 "nbformat_minor": 5
}

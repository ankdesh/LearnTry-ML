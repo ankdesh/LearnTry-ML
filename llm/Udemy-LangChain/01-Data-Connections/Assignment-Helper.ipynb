{
 "cells": [
  {
   "cell_type": "code",
   "execution_count": 1,
   "id": "997b781a-665e-416b-ab56-ee08fd9b5d55",
   "metadata": {},
   "outputs": [],
   "source": [
    "from langchain.vectorstores import Chroma\n",
    "from langchain.chat_models import ChatOpenAI\n",
    "from langchain.document_loaders import TextLoader\n",
    "from langchain.embeddings.openai import OpenAIEmbeddings\n",
    "from langchain.text_splitter import CharacterTextSplitter\n",
    "from langchain.retrievers import ContextualCompressionRetriever\n",
    "from langchain.retrievers.document_compressors import LLMChainExtractor "
   ]
  },
  {
   "cell_type": "code",
   "execution_count": 2,
   "id": "79bae57a-b38e-420c-8e8e-a8066bf6434d",
   "metadata": {},
   "outputs": [],
   "source": [
    "import os\n",
    "embedding_function = OpenAIEmbeddings()"
   ]
  },
  {
   "cell_type": "code",
   "execution_count": 3,
   "id": "f29f6867-32d6-4893-9ee7-c5436967f0f3",
   "metadata": {},
   "outputs": [],
   "source": [
    "loader = TextLoader(\"/home/ankdesh/explore/LearnTry-ML/llm/Udemy-LangChain/01-Data-Connections/some_data/US_Constitution.txt\")"
   ]
  },
  {
   "cell_type": "code",
   "execution_count": 4,
   "id": "a177b800-14f2-4372-a7b5-49f80047cc70",
   "metadata": {},
   "outputs": [],
   "source": [
    "doc = loader.load()"
   ]
  },
  {
   "cell_type": "code",
   "execution_count": 6,
   "id": "263446a2-6fef-4e4f-a122-2e660ace4683",
   "metadata": {},
   "outputs": [
    {
     "name": "stdout",
     "output_type": "stream",
     "text": [
      "1\n"
     ]
    }
   ],
   "source": [
    "print (len(doc))"
   ]
  },
  {
   "cell_type": "code",
   "execution_count": 20,
   "id": "38fe1477-e65f-4ddf-b87d-57bb8601872b",
   "metadata": {},
   "outputs": [
    {
     "name": "stderr",
     "output_type": "stream",
     "text": [
      "Created a chunk of size 205, which is longer than the specified 200\n",
      "Created a chunk of size 252, which is longer than the specified 200\n",
      "Created a chunk of size 333, which is longer than the specified 200\n",
      "Created a chunk of size 472, which is longer than the specified 200\n",
      "Created a chunk of size 312, which is longer than the specified 200\n"
     ]
    }
   ],
   "source": [
    "# split it into chunks\n",
    "text_splitter = CharacterTextSplitter.from_tiktoken_encoder(chunk_size=200)\n",
    "docs = text_splitter.split_documents(doc)"
   ]
  },
  {
   "cell_type": "code",
   "execution_count": 21,
   "id": "035e3586-e521-4f27-ac61-fc74e600dd99",
   "metadata": {},
   "outputs": [
    {
     "name": "stdout",
     "output_type": "stream",
     "text": [
      "89\n"
     ]
    }
   ],
   "source": [
    "print (len(docs))"
   ]
  },
  {
   "cell_type": "code",
   "execution_count": 22,
   "id": "44f69ff2-4c13-469b-9059-06eee84997ed",
   "metadata": {},
   "outputs": [],
   "source": [
    "db = Chroma.from_documents(docs, embedding_function)"
   ]
  },
  {
   "cell_type": "code",
   "execution_count": 23,
   "id": "a316d047-56d8-4194-9c4a-3f073c861442",
   "metadata": {},
   "outputs": [],
   "source": [
    "model = ChatOpenAI(api_key=os.getenv('OPENAI_API_KEY'))"
   ]
  },
  {
   "cell_type": "code",
   "execution_count": 24,
   "id": "9a12bb12-710a-4a8b-9daf-bcd4d6a6d1b0",
   "metadata": {},
   "outputs": [],
   "source": [
    "compressor = LLMChainExtractor.from_llm(model)\n",
    "compression_retriever = ContextualCompressionRetriever(base_compressor=compressor, base_retriever=db.as_retriever())"
   ]
  },
  {
   "cell_type": "code",
   "execution_count": 25,
   "id": "f03d7b2f-4d97-41d3-bdb3-6df41d55f857",
   "metadata": {},
   "outputs": [
    {
     "name": "stderr",
     "output_type": "stream",
     "text": [
      "/home/ankdesh/virtualenv/pytorch-host/lib/python3.10/site-packages/langchain/chains/llm.py:316: UserWarning: The predict_and_parse method is deprecated, instead pass an output parser directly to LLMChain.\n",
      "  warnings.warn(\n",
      "/home/ankdesh/virtualenv/pytorch-host/lib/python3.10/site-packages/langchain/chains/llm.py:316: UserWarning: The predict_and_parse method is deprecated, instead pass an output parser directly to LLMChain.\n",
      "  warnings.warn(\n",
      "/home/ankdesh/virtualenv/pytorch-host/lib/python3.10/site-packages/langchain/chains/llm.py:316: UserWarning: The predict_and_parse method is deprecated, instead pass an output parser directly to LLMChain.\n",
      "  warnings.warn(\n",
      "/home/ankdesh/virtualenv/pytorch-host/lib/python3.10/site-packages/langchain/chains/llm.py:316: UserWarning: The predict_and_parse method is deprecated, instead pass an output parser directly to LLMChain.\n",
      "  warnings.warn(\n"
     ]
    }
   ],
   "source": [
    "compressed_docs = compression_retriever.get_relevant_documents(\"What is the 13th Amendment?\")"
   ]
  },
  {
   "cell_type": "code",
   "execution_count": 29,
   "id": "f4d3d964-2073-4a03-bd19-7f5c0ccc814f",
   "metadata": {},
   "outputs": [
    {
     "name": "stdout",
     "output_type": "stream",
     "text": [
      "13th Amendment\n",
      "Section 1\n",
      "Neither slavery nor involuntary servitude, except as a punishment for crime whereof the party shall have been duly convicted, shall exist within the United States, or any place subject to their jurisdiction.\n"
     ]
    }
   ],
   "source": [
    "print (compressed_docs[1].page_content)"
   ]
  },
  {
   "cell_type": "code",
   "execution_count": 30,
   "id": "5c8dcccf-7542-456f-9f04-da9063396233",
   "metadata": {},
   "outputs": [
    {
     "name": "stdout",
     "output_type": "stream",
     "text": [
      "13th Amendment\n",
      "13th Amendment\n",
      "Section 1\n",
      "Neither slavery nor involuntary servitude, except as a punishment for crime whereof the party shall have been duly convicted, shall exist within the United States, or any place subject to their jurisdiction.\n"
     ]
    }
   ],
   "source": [
    "print (\"\\n\".join(x.page_content for x in compressed_docs))"
   ]
  },
  {
   "cell_type": "code",
   "execution_count": null,
   "id": "8de8ddb6-c2ac-4e65-acc3-36ae375b327d",
   "metadata": {},
   "outputs": [],
   "source": []
  }
 ],
 "metadata": {
  "kernelspec": {
   "display_name": "Python 3 (ipykernel)",
   "language": "python",
   "name": "python3"
  },
  "language_info": {
   "codemirror_mode": {
    "name": "ipython",
    "version": 3
   },
   "file_extension": ".py",
   "mimetype": "text/x-python",
   "name": "python",
   "nbconvert_exporter": "python",
   "pygments_lexer": "ipython3",
   "version": "3.10.12"
  }
 },
 "nbformat": 4,
 "nbformat_minor": 5
}

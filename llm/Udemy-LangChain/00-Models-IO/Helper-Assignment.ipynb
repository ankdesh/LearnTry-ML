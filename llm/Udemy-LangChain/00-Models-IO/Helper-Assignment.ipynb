{
 "cells": [
  {
   "cell_type": "code",
   "execution_count": 1,
   "id": "3fdc1f00-682c-429c-a7fa-60dcd44a8164",
   "metadata": {},
   "outputs": [],
   "source": [
    "from langchain.prompts import (\n",
    "    ChatPromptTemplate,\n",
    "    PromptTemplate,\n",
    "    SystemMessagePromptTemplate,\n",
    "    AIMessagePromptTemplate,\n",
    "    HumanMessagePromptTemplate,\n",
    ")\n",
    "from datetime import datetime\n",
    "from langchain.llms import OpenAI\n",
    "from langchain.output_parsers import DatetimeOutputParser\n",
    "from langchain.chat_models import ChatOpenAI"
   ]
  },
  {
   "cell_type": "code",
   "execution_count": 4,
   "id": "f9da7788-f9e3-4d29-9d80-6a3560f4bd42",
   "metadata": {},
   "outputs": [],
   "source": [
    "system_prompt = SystemMessagePromptTemplate.from_template(\"You are an history teacher and your job is to come up with tough history\\\n",
    "questions about the topic of {topic}\")"
   ]
  },
  {
   "cell_type": "code",
   "execution_count": 5,
   "id": "3f427c3c-9997-4727-84d6-727317ea74a9",
   "metadata": {},
   "outputs": [
    {
     "name": "stdout",
     "output_type": "stream",
     "text": [
      "prompt=PromptTemplate(input_variables=['topic'], template='You are an history teacher and your job is to come up with tough historyquestions about the topic of {topic}')\n"
     ]
    }
   ],
   "source": [
    "print (system_prompt)"
   ]
  },
  {
   "cell_type": "code",
   "execution_count": 14,
   "id": "b0bab92c-d2d0-4fd2-8190-d17ca77155b4",
   "metadata": {},
   "outputs": [
    {
     "name": "stdout",
     "output_type": "stream",
     "text": [
      "[SystemMessage(content='You are an history teacher and your job is to come up with tough historyquestions about the topic of Ankur'), HumanMessage(content='Create a question on the Ankur')]\n"
     ]
    }
   ],
   "source": [
    "system_prompt = SystemMessagePromptTemplate.from_template(\"You are an history teacher and your job is to come up with tough history\\\n",
    "questions about the topic of {topic}\")\n",
    "\n",
    "human_prompt = HumanMessagePromptTemplate.from_template(\"Create a question on the {topic}\")\n",
    "\n",
    "chat_prompt = ChatPromptTemplate.from_messages([system_prompt,human_prompt])\n",
    "\n",
    "request = chat_prompt.format_prompt(topic=\"Ankur\").to_messages()\n",
    "\n",
    "print (request)"
   ]
  },
  {
   "cell_type": "code",
   "execution_count": 15,
   "id": "eaa7c504-83e1-4b8e-9873-8074706f07e9",
   "metadata": {},
   "outputs": [],
   "source": [
    "output_parser = DatetimeOutputParser()"
   ]
  },
  {
   "cell_type": "code",
   "execution_count": 16,
   "id": "333599b9-fd67-402f-be87-03599a671b53",
   "metadata": {},
   "outputs": [
    {
     "data": {
      "text/plain": [
       "'Write a datetime string that matches the \\n            following pattern: \"%Y-%m-%dT%H:%M:%S.%fZ\". Examples: 580-01-27T06:35:46.193821Z, 441-04-30T18:32:05.566658Z, 803-06-15T12:52:17.456608Z'"
      ]
     },
     "execution_count": 16,
     "metadata": {},
     "output_type": "execute_result"
    }
   ],
   "source": [
    "output_parser.get_format_instructions()"
   ]
  },
  {
   "cell_type": "code",
   "execution_count": null,
   "id": "93213712-4372-4b37-ae8e-963770f607de",
   "metadata": {},
   "outputs": [],
   "source": []
  },
  {
   "cell_type": "code",
   "execution_count": 17,
   "id": "bc5a8186-161c-4e8d-a0f1-ab05509124a6",
   "metadata": {},
   "outputs": [
    {
     "ename": "NameError",
     "evalue": "name 'question' is not defined",
     "output_type": "error",
     "traceback": [
      "\u001b[0;31m---------------------------------------------------------------------------\u001b[0m",
      "\u001b[0;31mNameError\u001b[0m                                 Traceback (most recent call last)",
      "Cell \u001b[0;32mIn[17], line 8\u001b[0m\n\u001b[1;32m      4\u001b[0m human_prompt \u001b[38;5;241m=\u001b[39m HumanMessagePromptTemplate\u001b[38;5;241m.\u001b[39mfrom_template(\u001b[38;5;124m\"\u001b[39m\u001b[38;5;124mAnswer the following question: \u001b[39m\u001b[38;5;132;01m{question}\u001b[39;00m\u001b[38;5;124m \u001b[39m\u001b[38;5;130;01m\\n\u001b[39;00m\u001b[38;5;124m \u001b[39m\u001b[38;5;132;01m{output_instructions}\u001b[39;00m\u001b[38;5;124m\"\u001b[39m)\n\u001b[1;32m      6\u001b[0m chat_prompt \u001b[38;5;241m=\u001b[39m ChatPromptTemplate\u001b[38;5;241m.\u001b[39mfrom_messages([system_prompt,human_prompt])\n\u001b[0;32m----> 8\u001b[0m request \u001b[38;5;241m=\u001b[39m chat_prompt\u001b[38;5;241m.\u001b[39mformat_prompt(question\u001b[38;5;241m=\u001b[39m\u001b[43mquestion\u001b[49m, output_instructions\u001b[38;5;241m=\u001b[39moutput_parser\u001b[38;5;241m.\u001b[39mget_format_instructions())\u001b[38;5;241m.\u001b[39mto_messages()\n\u001b[1;32m     10\u001b[0m model \u001b[38;5;241m=\u001b[39m ChatOpenAI(api_key\u001b[38;5;241m=\u001b[39mopen_ai_api_key)\n\u001b[1;32m     12\u001b[0m answer \u001b[38;5;241m=\u001b[39m model(request)\u001b[38;5;241m.\u001b[39mcontent\n",
      "\u001b[0;31mNameError\u001b[0m: name 'question' is not defined"
     ]
    }
   ],
   "source": [
    "system_prompt = SystemMessagePromptTemplate.from_template(\"You are a robot which gives answer about history as concisely as possible\")\n",
    "\n",
    "output_parser = DatetimeOutputParser()\n",
    "human_prompt = HumanMessagePromptTemplate.from_template(\"Answer the following question: {question} \\n {output_instructions}\")\n",
    "\n",
    "chat_prompt = ChatPromptTemplate.from_messages([system_prompt,human_prompt])\n",
    "\n",
    "request = chat_prompt.format_prompt(question=question, output_instructions=output_parser.get_format_instructions()).to_messages()\n",
    "\n",
    "model = ChatOpenAI(api_key=open_ai_api_key)\n",
    "\n",
    "answer = model(request).content"
   ]
  },
  {
   "cell_type": "code",
   "execution_count": null,
   "id": "0e59dfdf-fe1f-4ef1-803e-d2d2101bae26",
   "metadata": {},
   "outputs": [],
   "source": []
  }
 ],
 "metadata": {
  "kernelspec": {
   "display_name": "Python 3 (ipykernel)",
   "language": "python",
   "name": "python3"
  },
  "language_info": {
   "codemirror_mode": {
    "name": "ipython",
    "version": 3
   },
   "file_extension": ".py",
   "mimetype": "text/x-python",
   "name": "python",
   "nbconvert_exporter": "python",
   "pygments_lexer": "ipython3",
   "version": "3.10.12"
  }
 },
 "nbformat": 4,
 "nbformat_minor": 5
}

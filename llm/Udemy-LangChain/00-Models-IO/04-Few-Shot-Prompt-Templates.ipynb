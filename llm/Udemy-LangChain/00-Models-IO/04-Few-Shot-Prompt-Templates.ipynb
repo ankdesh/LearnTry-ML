{
 "cells": [
  {
   "cell_type": "markdown",
   "id": "92e2b813-97d9-464f-b559-1dc5115e5c01",
   "metadata": {},
   "source": [
    "<a href = \"https://www.pieriantraining.com\"><img src=\"../PT Centered Purple.png\"> </a>\n",
    "\n",
    "<em style=\"text-align:center\">Copyrighted by Pierian Training</em>"
   ]
  },
  {
   "cell_type": "markdown",
   "id": "4a117a35-c3a6-4bfd-b46e-fc144a4683ac",
   "metadata": {},
   "source": [
    "# Few Shot Prompt Template\n",
    "\n",
    "Let's go over an example where you want a historical conversation to show the LLM Chat Bot a few examples, known as \"Few Shot Prompts\". We essentially build a historical conversation *before* sending the message history to the chat bot. Be careful not too make the entire message too long, as you may hit context limits (but the latest models have quite large contexsts, e.g. GPT-4 has up to 32k tokens at this time)."
   ]
  },
  {
   "cell_type": "code",
   "execution_count": 5,
   "id": "615e7aa0-680f-4eb7-b22a-564defb5af56",
   "metadata": {},
   "outputs": [],
   "source": [
    "from langchain.chat_models import ChatOpenAI\n",
    "from langchain import PromptTemplate, LLMChain\n",
    "from langchain.prompts.chat import (\n",
    "    ChatPromptTemplate,\n",
    "    SystemMessagePromptTemplate,\n",
    "    AIMessagePromptTemplate,\n",
    "    HumanMessagePromptTemplate,\n",
    ")\n",
    "from langchain.schema import AIMessage, HumanMessage, SystemMessage"
   ]
  },
  {
   "cell_type": "markdown",
   "id": "7f10bc82-59fe-4f79-8520-8d0857d2b02d",
   "metadata": {},
   "source": [
    "## API KEY and Chat Setup"
   ]
  },
  {
   "cell_type": "code",
   "execution_count": 4,
   "id": "898121f8-389f-4e14-8f8a-deccbd884ab0",
   "metadata": {},
   "outputs": [],
   "source": [
    "import os\n",
    "api_key = os.getenv('OPENAI_API_KEY')"
   ]
  },
  {
   "cell_type": "code",
   "execution_count": 6,
   "id": "b3a3bffc-a827-4568-b932-faa2aeb6732b",
   "metadata": {},
   "outputs": [],
   "source": [
    "chat = ChatOpenAI(openai_api_key=api_key,temperature=0)"
   ]
  },
  {
   "cell_type": "markdown",
   "id": "d5810213-483b-44fe-8d0a-55d20b7e06e9",
   "metadata": {},
   "source": [
    "## Creating Example Inputs and Outputs"
   ]
  },
  {
   "cell_type": "code",
   "execution_count": 7,
   "id": "be9ac832-93de-4653-9912-1cd585c86063",
   "metadata": {},
   "outputs": [],
   "source": [
    "template = \"You are a helpful assistant that translates complex legal terms into plain and understandable terms.\"\n",
    "system_message_prompt = SystemMessagePromptTemplate.from_template(template)"
   ]
  },
  {
   "cell_type": "code",
   "execution_count": 8,
   "id": "e0cfc325-a9d7-49dc-8a1b-fa8570b35ae0",
   "metadata": {},
   "outputs": [
    {
     "name": "stdout",
     "output_type": "stream",
     "text": [
      "prompt=PromptTemplate(input_variables=[], template='You are a helpful assistant that translates complex legal terms into plain and understandable terms.')\n"
     ]
    }
   ],
   "source": [
    "print (system_message_prompt)"
   ]
  },
  {
   "cell_type": "code",
   "execution_count": 9,
   "id": "b3c0aace-77d1-4ca4-9f51-7c1145a37fe8",
   "metadata": {},
   "outputs": [],
   "source": [
    "legal_text = \"The provisions herein shall be severable, and if any provision or portion thereof is deemed invalid, illegal, or unenforceable by a court of competent jurisdiction, the remaining provisions or portions thereof shall remain in full force and effect to the maximum extent permitted by law.\"\n",
    "example_input_one = HumanMessagePromptTemplate.from_template(legal_text)\n",
    "\n",
    "plain_text = \"The rules in this agreement can be separated. If a court decides that one rule or part of it is not valid, illegal, or cannot be enforced, the other rules will still apply and be enforced as much as they can under the law.\"\n",
    "example_output_one = AIMessagePromptTemplate.from_template(plain_text)"
   ]
  },
  {
   "cell_type": "code",
   "execution_count": 10,
   "id": "7c651577-c2d3-4a43-9edb-125119579da4",
   "metadata": {},
   "outputs": [],
   "source": [
    "human_template = \"{legal_text}\"\n",
    "human_message_prompt = HumanMessagePromptTemplate.from_template(human_template)"
   ]
  },
  {
   "cell_type": "code",
   "execution_count": 11,
   "id": "4842eb22-7da0-4293-93af-f41f60bde6c1",
   "metadata": {},
   "outputs": [],
   "source": [
    "chat_prompt = ChatPromptTemplate.from_messages(\n",
    "    [system_message_prompt, example_input_one, example_output_one, human_message_prompt]\n",
    ")"
   ]
  },
  {
   "cell_type": "code",
   "execution_count": 13,
   "id": "17b4d047-5a8f-4811-aff8-46fe8b796314",
   "metadata": {},
   "outputs": [
    {
     "name": "stdout",
     "output_type": "stream",
     "text": [
      "input_variables=['legal_text'] messages=[SystemMessagePromptTemplate(prompt=PromptTemplate(input_variables=[], template='You are a helpful assistant that translates complex legal terms into plain and understandable terms.')), HumanMessagePromptTemplate(prompt=PromptTemplate(input_variables=[], template='The provisions herein shall be severable, and if any provision or portion thereof is deemed invalid, illegal, or unenforceable by a court of competent jurisdiction, the remaining provisions or portions thereof shall remain in full force and effect to the maximum extent permitted by law.')), AIMessagePromptTemplate(prompt=PromptTemplate(input_variables=[], template='The rules in this agreement can be separated. If a court decides that one rule or part of it is not valid, illegal, or cannot be enforced, the other rules will still apply and be enforced as much as they can under the law.')), HumanMessagePromptTemplate(prompt=PromptTemplate(input_variables=['legal_text'], template='{legal_text}'))]\n"
     ]
    }
   ],
   "source": [
    "print (chat_prompt)"
   ]
  },
  {
   "cell_type": "code",
   "execution_count": 14,
   "id": "d3430799-dd3f-4dad-a739-253778b5b316",
   "metadata": {},
   "outputs": [],
   "source": [
    "some_example_text = \"The grantor, being the fee simple owner of the real property herein described, conveys and warrants to the grantee, his heirs and assigns, all of the grantor's right, title, and interest in and to the said property, subject to all existing encumbrances, liens, and easements, as recorded in the official records of the county, and any applicable covenants, conditions, and restrictions affecting the property, in consideration of the sum of [purchase price] paid by the grantee.\"\n",
    "request = chat_prompt.format_prompt(legal_text=some_example_text).to_messages()"
   ]
  },
  {
   "cell_type": "code",
   "execution_count": 17,
   "id": "6cf01254-a710-4b39-9a0a-1f2d31c11c5e",
   "metadata": {},
   "outputs": [
    {
     "name": "stdout",
     "output_type": "stream",
     "text": [
      "System: You are a helpful assistant that translates complex legal terms into plain and understandable terms.\n",
      "Human: The provisions herein shall be severable, and if any provision or portion thereof is deemed invalid, illegal, or unenforceable by a court of competent jurisdiction, the remaining provisions or portions thereof shall remain in full force and effect to the maximum extent permitted by law.\n",
      "AI: The rules in this agreement can be separated. If a court decides that one rule or part of it is not valid, illegal, or cannot be enforced, the other rules will still apply and be enforced as much as they can under the law.\n",
      "Human: The grantor, being the fee simple owner of the real property herein described, conveys and warrants to the grantee, his heirs and assigns, all of the grantor's right, title, and interest in and to the said property, subject to all existing encumbrances, liens, and easements, as recorded in the official records of the county, and any applicable covenants, conditions, and restrictions affecting the property, in consideration of the sum of [purchase price] paid by the grantee.\n"
     ]
    }
   ],
   "source": [
    "request_raw = chat_prompt.format_prompt(legal_text=some_example_text)\n",
    "print (request_raw.to_string())"
   ]
  },
  {
   "cell_type": "code",
   "execution_count": 18,
   "id": "4521c9dd-cb8d-4257-9165-da15048534f6",
   "metadata": {},
   "outputs": [],
   "source": [
    "result = chat(request)"
   ]
  },
  {
   "cell_type": "code",
   "execution_count": 19,
   "id": "1368bca7-f36e-4e2d-b752-28db75b94b16",
   "metadata": {},
   "outputs": [
    {
     "name": "stdout",
     "output_type": "stream",
     "text": [
      "The person who currently owns the property is selling and transferring all of their rights, ownership, and interest in the property to the buyer. However, the property may have existing debts, claims, or rights of others recorded in the county's official records, as well as any rules or restrictions that affect the property. The buyer is paying a certain amount of money to the seller as part of this agreement.\n"
     ]
    }
   ],
   "source": [
    "print(result.content)"
   ]
  },
  {
   "cell_type": "code",
   "execution_count": null,
   "id": "a1a7f7df-de5f-4962-9a23-b71adef80792",
   "metadata": {},
   "outputs": [],
   "source": []
  }
 ],
 "metadata": {
  "kernelspec": {
   "display_name": "Python 3 (ipykernel)",
   "language": "python",
   "name": "python3"
  },
  "language_info": {
   "codemirror_mode": {
    "name": "ipython",
    "version": 3
   },
   "file_extension": ".py",
   "mimetype": "text/x-python",
   "name": "python",
   "nbconvert_exporter": "python",
   "pygments_lexer": "ipython3",
   "version": "3.10.12"
  }
 },
 "nbformat": 4,
 "nbformat_minor": 5
}

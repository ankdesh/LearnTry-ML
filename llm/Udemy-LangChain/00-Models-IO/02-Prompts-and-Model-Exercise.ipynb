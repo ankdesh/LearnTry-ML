{
 "cells": [
  {
   "cell_type": "markdown",
   "id": "ede50d4d-6b9b-46b4-946c-edc6bde899c7",
   "metadata": {},
   "source": [
    "<a href = \"https://www.pieriantraining.com\"><img src=\"../PT Centered Purple.png\"> </a>\n",
    "\n",
    "<em style=\"text-align:center\">Copyrighted by Pierian Training</em>"
   ]
  },
  {
   "cell_type": "markdown",
   "id": "6c706772-7bbb-41a9-ab96-6480bc3ef2a3",
   "metadata": {
    "tags": []
   },
   "source": [
    "# Prompts and Models Exercise\n",
    "\n",
    "### NOTE: FEEL FREE TO JUST TREAT THIS AS A CODE ALONG EXAMPLE IF YOU DONT WANT AN EXERCISE BUT RATHER WATCH AN EXAMPLE.\n",
    "\n",
    "**TASK: Create a Python function that uses Prompts and Chat internally to give travel ideas related to two variables:**\n",
    "\n",
    "    * An Interest or Hobby\n",
    "    * A Budget\n",
    "    \n",
    "Remember that you should also decide on a system prompt. The end function will just be a nice wrapper on top of all the previous LangChain components we've discussed earlier."
   ]
  },
  {
   "cell_type": "code",
   "execution_count": 1,
   "id": "f6cdc2b1-6013-4395-91c7-f502f9c1e3a9",
   "metadata": {},
   "outputs": [],
   "source": [
    "import os\n",
    "api_key = os.environ[\"OPENAI_API_KEY\"]"
   ]
  },
  {
   "cell_type": "code",
   "execution_count": 6,
   "id": "975855c1-42a6-48b8-9a46-4aa5d23b17d6",
   "metadata": {},
   "outputs": [],
   "source": [
    "from langchain.chat_models import ChatOpenAI\n",
    "chat = ChatOpenAI(openai_api_key=api_key)"
   ]
  },
  {
   "cell_type": "code",
   "execution_count": 2,
   "id": "463212ac-6d7f-4e1b-9467-04cd750ecc9c",
   "metadata": {},
   "outputs": [],
   "source": [
    "from langchain.prompts import (\n",
    "    ChatPromptTemplate,\n",
    "    PromptTemplate,\n",
    "    SystemMessagePromptTemplate,\n",
    "    AIMessagePromptTemplate,\n",
    "    HumanMessagePromptTemplate,\n",
    ")"
   ]
  },
  {
   "cell_type": "code",
   "execution_count": 4,
   "id": "c60414ce-9626-4ccc-9656-0903ed4a9426",
   "metadata": {},
   "outputs": [],
   "source": [
    "system_prompt_template = SystemMessagePromptTemplate.from_template(\"You are a travel agent. When asked for travel plans, create itemlized list of plans\\\n",
    "    Keep the item description short\")"
   ]
  },
  {
   "cell_type": "code",
   "execution_count": 9,
   "id": "b4e6adae-ddfa-403f-afbc-eac1ff964c54",
   "metadata": {},
   "outputs": [],
   "source": [
    "def travel_idea(interest,budget):\n",
    "    '''\n",
    "    INPUTS:\n",
    "        interest: A str interest or hobby (e.g. fishing)\n",
    "        budget: A str budget (e.g. $10,000)\n",
    "    '''\n",
    "    system_prompt_template = SystemMessagePromptTemplate.from_template(\"You are a travel agent. When asked for travel plans, create itemlized list of plans\\\n",
    "    Keep the item description short\")\n",
    "    human_prompt_template = HumanMessagePromptTemplate.from_template(\"Create a travel plan for some one interested in {interest} under budget of {budget}\")\n",
    "\n",
    "    chat_prompt = ChatPromptTemplate.from_messages([system_prompt_template,human_prompt_template])\n",
    "    request = chat_prompt.format_prompt(interest=interest, budget=budget)\n",
    "\n",
    "    result = chat(request.to_messages())\n",
    "\n",
    "    return result "
   ]
  },
  {
   "cell_type": "markdown",
   "id": "34d0ecc5-a526-4a9b-933f-e7785f9401df",
   "metadata": {},
   "source": [
    "**Example Solution**\n",
    "\n",
    "Keep in mind your solution may differ slightly, but as long as it works, that's ok!"
   ]
  },
  {
   "cell_type": "code",
   "execution_count": 11,
   "id": "f7e240b6-96cf-4163-ad19-90a44cf7ef24",
   "metadata": {},
   "outputs": [],
   "source": [
    "result = travel_idea('fishing','$10,000')"
   ]
  },
  {
   "cell_type": "code",
   "execution_count": 12,
   "id": "25a25625-68b2-4b86-8fff-0a977a01cc32",
   "metadata": {},
   "outputs": [
    {
     "name": "stdout",
     "output_type": "stream",
     "text": [
      "Travel Plan for Fishing Adventure (Under $10,000 Budget):\n",
      "\n",
      "1. Destination: Panama City Beach, Florida\n",
      "   - Known for its exceptional fishing opportunities, including deep-sea fishing charters.\n",
      "\n",
      "2. Accommodation: Beachfront Condo Rental\n",
      "   - Stay in a cozy beachfront condo, offering stunning ocean views and easy access to fishing spots.\n",
      "\n",
      "3. Fishing Charter: Full-Day Offshore Fishing Trip\n",
      "   - Book a full-day offshore fishing charter, providing the chance to catch various species such as tuna, marlin, and mahi-mahi.\n",
      "\n",
      "4. Fishing Equipment Rental: Rods, Reels, and Tackle\n",
      "   - Rent high-quality fishing equipment, including rods, reels, and tackle, to ensure an enjoyable fishing experience.\n",
      "\n",
      "5. Fishing License: Non-resident Saltwater Fishing License\n",
      "   - Obtain a non-resident saltwater fishing license, allowing you to legally fish in the Florida waters.\n",
      "\n",
      "6. Dining: Fresh Seafood Restaurants\n",
      "   - Indulge in fresh seafood meals at local restaurants, savoring the flavors of your daily catch.\n",
      "\n",
      "7. Leisure Activities: Beach Relaxation and Water Sports\n",
      "   - Take breaks from fishing to relax on the pristine beaches or engage in thrilling water sports like jet skiing or paddleboarding.\n",
      "\n",
      "8. Souvenir Shopping: Local Fishing Tackle Shops\n",
      "   - Explore local fishing tackle shops and pick up some souvenirs, such as lures or fishing gear, to commemorate your trip.\n",
      "\n",
      "9. Transportation: Flight and Car Rental\n",
      "   - Book a round-trip flight to Panama City Beach and rent a car to ensure convenient transportation throughout your stay.\n",
      "\n",
      "10. Travel Insurance: Fishing Adventure Coverage\n",
      "    - Consider purchasing travel insurance that covers fishing-related activities to provide peace of mind during your trip.\n",
      "\n",
      "Note: Prices may vary depending on the season and availability. It is recommended to check for specific offers and make reservations in advance.\n"
     ]
    }
   ],
   "source": [
    "print (result.content)"
   ]
  },
  {
   "cell_type": "code",
   "execution_count": null,
   "id": "ca01a72f-8b7f-4018-a20a-95a9ff90fcbe",
   "metadata": {},
   "outputs": [],
   "source": []
  }
 ],
 "metadata": {
  "kernelspec": {
   "display_name": "Python 3 (ipykernel)",
   "language": "python",
   "name": "python3"
  },
  "language_info": {
   "codemirror_mode": {
    "name": "ipython",
    "version": 3
   },
   "file_extension": ".py",
   "mimetype": "text/x-python",
   "name": "python",
   "nbconvert_exporter": "python",
   "pygments_lexer": "ipython3",
   "version": "3.10.12"
  }
 },
 "nbformat": 4,
 "nbformat_minor": 5
}

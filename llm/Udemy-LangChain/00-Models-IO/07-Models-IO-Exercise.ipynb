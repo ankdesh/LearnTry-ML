{
 "cells": [
  {
   "cell_type": "markdown",
   "id": "378f3df7-19b9-49a1-b695-5d578138b4ae",
   "metadata": {},
   "source": [
    "<a href = \"https://www.pieriantraining.com\"><img src=\"../PT Centered Purple.png\"> </a>\n",
    "\n",
    "<em style=\"text-align:center\">Copyrighted by Pierian Training</em>"
   ]
  },
  {
   "cell_type": "markdown",
   "id": "cf5ff2a8-fcc1-4ef6-a91b-a56f29a0fc2c",
   "metadata": {},
   "source": [
    "# Model IO Exercise \n",
    "\n",
    "The purpose of this exercise is to test your understanding of building out Model IO systems. You will also hopefully notice the need to chain responses together, which we will cover later in this course!\n",
    "\n",
    "Watch the video for a full overview on minimum outputs this class should be capable of, but feel free to expand on this project, or to just treat it as a code-along!"
   ]
  },
  {
   "cell_type": "markdown",
   "id": "6f36f621-d2cb-43e7-89ad-41691ab266c1",
   "metadata": {},
   "source": [
    "## History Quiz\n",
    "\n",
    "Our main goal is to use LangChain and Python to create a very simple class with a few methods for:\n",
    "* Writing a historical question that has a date as the correct answer\n",
    "* Getting the correct answer from LLM\n",
    "* Getting a Human user's best guess at at correct answer\n",
    "* Checking/reporting the difference between the correct answer and the user answer"
   ]
  },
  {
   "cell_type": "markdown",
   "id": "6421bf0c-6aca-4291-9aaf-473b78b9be77",
   "metadata": {},
   "source": [
    "### Suggested Imports\n",
    "\n",
    "Feel free to accomplish this task however you prefer!"
   ]
  },
  {
   "cell_type": "code",
   "execution_count": 1,
   "id": "3cde30a6-5b0b-475f-9460-809e174cac97",
   "metadata": {},
   "outputs": [],
   "source": [
    "from langchain.prompts import (\n",
    "    ChatPromptTemplate,\n",
    "    PromptTemplate,\n",
    "    SystemMessagePromptTemplate,\n",
    "    AIMessagePromptTemplate,\n",
    "    HumanMessagePromptTemplate,\n",
    ")\n",
    "from datetime import datetime\n",
    "from langchain.llms import OpenAI\n",
    "from langchain.output_parsers import DatetimeOutputParser\n",
    "from langchain.chat_models import ChatOpenAI"
   ]
  },
  {
   "cell_type": "code",
   "execution_count": 2,
   "id": "d1b9e1d7-7011-4ad7-aab9-4e164c41354f",
   "metadata": {},
   "outputs": [],
   "source": [
    "import os\n",
    "open_ai_api_key = os.getenv('OPENAI_API_KEY')"
   ]
  },
  {
   "cell_type": "code",
   "execution_count": 25,
   "id": "c1e1fce6-7f28-4d74-a92b-0424c6abcd30",
   "metadata": {},
   "outputs": [],
   "source": [
    "class HistoryQuiz():\n",
    "    \n",
    "    def create_history_question(self,topic):\n",
    "        '''\n",
    "        This method should output a historical question about the topic that has a date as the correct answer.\n",
    "        For example:\n",
    "        \n",
    "            \"On what date did World War 2 end?\"\n",
    "            \n",
    "        '''\n",
    "        system_prompt = SystemMessagePromptTemplate.from_template(\"You are an history teacher and your job is to come up with tough\\\n",
    "        historical question about the {topic} that has a date as the correct answer. The question should be single line question\")\n",
    "\n",
    "        human_prompt = HumanMessagePromptTemplate.from_template(\"Create a question on the {topic}.\")\n",
    "        \n",
    "        chat_prompt = ChatPromptTemplate.from_messages([system_prompt,human_prompt])\n",
    "        \n",
    "        request = chat_prompt.format_prompt(topic=topic).to_messages()\n",
    "\n",
    "        model = ChatOpenAI(api_key=open_ai_api_key)\n",
    "        \n",
    "        question = model(request).content\n",
    "\n",
    "        return question\n",
    "    \n",
    "    def get_AI_answer(self,question):\n",
    "        '''\n",
    "        This method should get the answer to the historical question from the method above.\n",
    "        Note: This answer must be in datetime format! Use DateTimeOutputParser to confirm!\n",
    "        \n",
    "        September 2, 1945 --> datetime.datetime(1945, 9, 2, 0, 0)\n",
    "        '''\n",
    "        system_prompt = SystemMessagePromptTemplate.from_template(\"You are a robot which gives answer about history as dates only\")\n",
    "\n",
    "        output_parser = DatetimeOutputParser()\n",
    "        human_prompt = HumanMessagePromptTemplate.from_template(\"Answer the following question: {question} \\n {output_instructions}\")\n",
    "        \n",
    "        chat_prompt = ChatPromptTemplate.from_messages([system_prompt,human_prompt])\n",
    "        \n",
    "        request = chat_prompt.format_prompt(question=question, output_instructions=output_parser.get_format_instructions()).to_messages()\n",
    "\n",
    "        model = ChatOpenAI(api_key=open_ai_api_key)\n",
    "        \n",
    "        answer = model(request).content\n",
    "\n",
    "        try:\n",
    "            correct_datetime=output_parser.parse(answer)\n",
    "        except:\n",
    "            model = OpenAI(api_key=open_ai_api_key)\n",
    "            new_parser = OutputFixingParser.from_llm(parser=output_parser, llm=model)\n",
    "            correct_datetime\n",
    "        \n",
    "        return correct_datetime\n",
    "    \n",
    "    def get_user_answer(self,question):\n",
    "        '''\n",
    "        This method should grab a user answer and convert it to datetime. It should collect a Year, Month, and Day.\n",
    "        You can just use input() for this.\n",
    "        '''\n",
    "        \n",
    "\n",
    "        \n",
    "        return user_datetime\n",
    "        \n",
    "        \n",
    "    def check_user_answer(self,user_answer,ai_answer):\n",
    "        '''\n",
    "        Should check the user answer against the AI answer and return the difference between them\n",
    "        '''\n",
    "        # print or return the difference between the answers here!\n",
    "        pass\n",
    "        "
   ]
  },
  {
   "cell_type": "markdown",
   "id": "ff79a31c-3189-48d2-b1af-bf1a9eef9e1c",
   "metadata": {},
   "source": [
    "### Example Usage\n",
    "\n",
    "Feel free to expand or edit this project. To keep things simple we have every method return an object that will then feed into a new method!"
   ]
  },
  {
   "cell_type": "code",
   "execution_count": 26,
   "id": "937e4900-1148-4836-835b-dd2936b8e30e",
   "metadata": {},
   "outputs": [],
   "source": [
    "quiz_bot = HistoryQuiz()"
   ]
  },
  {
   "cell_type": "code",
   "execution_count": 22,
   "id": "5dd56ef3-819d-4996-b9a5-1cfad88e5eed",
   "metadata": {},
   "outputs": [],
   "source": [
    "question = quiz_bot.create_history_question(topic='World War 2')"
   ]
  },
  {
   "cell_type": "code",
   "execution_count": 23,
   "id": "9eecb542-6018-4526-9f89-24f031468829",
   "metadata": {},
   "outputs": [
    {
     "data": {
      "text/plain": [
       "'On what date did the attack on Pearl Harbor occur?'"
      ]
     },
     "execution_count": 23,
     "metadata": {},
     "output_type": "execute_result"
    }
   ],
   "source": [
    "question"
   ]
  },
  {
   "cell_type": "code",
   "execution_count": 27,
   "id": "c86320ce-4497-4eb0-80f5-871736cb51e7",
   "metadata": {},
   "outputs": [
    {
     "ename": "OutputParserException",
     "evalue": "Could not parse datetime string: The attack on Pearl Harbor occurred on December 7, 1941. The corresponding datetime string would be \"1941-12-07T00:00:00.000000Z\".",
     "output_type": "error",
     "traceback": [
      "\u001b[0;31m---------------------------------------------------------------------------\u001b[0m",
      "\u001b[0;31mValueError\u001b[0m                                Traceback (most recent call last)",
      "File \u001b[0;32m~/virtualenv/pytorch-host/lib/python3.10/site-packages/langchain/output_parsers/datetime.py:47\u001b[0m, in \u001b[0;36mDatetimeOutputParser.parse\u001b[0;34m(self, response)\u001b[0m\n\u001b[1;32m     46\u001b[0m \u001b[38;5;28;01mtry\u001b[39;00m:\n\u001b[0;32m---> 47\u001b[0m     \u001b[38;5;28;01mreturn\u001b[39;00m \u001b[43mdatetime\u001b[49m\u001b[38;5;241;43m.\u001b[39;49m\u001b[43mstrptime\u001b[49m\u001b[43m(\u001b[49m\u001b[43mresponse\u001b[49m\u001b[38;5;241;43m.\u001b[39;49m\u001b[43mstrip\u001b[49m\u001b[43m(\u001b[49m\u001b[43m)\u001b[49m\u001b[43m,\u001b[49m\u001b[43m \u001b[49m\u001b[38;5;28;43mself\u001b[39;49m\u001b[38;5;241;43m.\u001b[39;49m\u001b[43mformat\u001b[49m\u001b[43m)\u001b[49m\n\u001b[1;32m     48\u001b[0m \u001b[38;5;28;01mexcept\u001b[39;00m \u001b[38;5;167;01mValueError\u001b[39;00m \u001b[38;5;28;01mas\u001b[39;00m e:\n",
      "File \u001b[0;32m/usr/lib/python3.10/_strptime.py:568\u001b[0m, in \u001b[0;36m_strptime_datetime\u001b[0;34m(cls, data_string, format)\u001b[0m\n\u001b[1;32m    566\u001b[0m \u001b[38;5;250m\u001b[39m\u001b[38;5;124;03m\"\"\"Return a class cls instance based on the input string and the\u001b[39;00m\n\u001b[1;32m    567\u001b[0m \u001b[38;5;124;03mformat string.\"\"\"\u001b[39;00m\n\u001b[0;32m--> 568\u001b[0m tt, fraction, gmtoff_fraction \u001b[38;5;241m=\u001b[39m \u001b[43m_strptime\u001b[49m\u001b[43m(\u001b[49m\u001b[43mdata_string\u001b[49m\u001b[43m,\u001b[49m\u001b[43m \u001b[49m\u001b[38;5;28;43mformat\u001b[39;49m\u001b[43m)\u001b[49m\n\u001b[1;32m    569\u001b[0m tzname, gmtoff \u001b[38;5;241m=\u001b[39m tt[\u001b[38;5;241m-\u001b[39m\u001b[38;5;241m2\u001b[39m:]\n",
      "File \u001b[0;32m/usr/lib/python3.10/_strptime.py:349\u001b[0m, in \u001b[0;36m_strptime\u001b[0;34m(data_string, format)\u001b[0m\n\u001b[1;32m    348\u001b[0m \u001b[38;5;28;01mif\u001b[39;00m \u001b[38;5;129;01mnot\u001b[39;00m found:\n\u001b[0;32m--> 349\u001b[0m     \u001b[38;5;28;01mraise\u001b[39;00m \u001b[38;5;167;01mValueError\u001b[39;00m(\u001b[38;5;124m\"\u001b[39m\u001b[38;5;124mtime data \u001b[39m\u001b[38;5;132;01m%r\u001b[39;00m\u001b[38;5;124m does not match format \u001b[39m\u001b[38;5;132;01m%r\u001b[39;00m\u001b[38;5;124m\"\u001b[39m \u001b[38;5;241m%\u001b[39m\n\u001b[1;32m    350\u001b[0m                      (data_string, \u001b[38;5;28mformat\u001b[39m))\n\u001b[1;32m    351\u001b[0m \u001b[38;5;28;01mif\u001b[39;00m \u001b[38;5;28mlen\u001b[39m(data_string) \u001b[38;5;241m!=\u001b[39m found\u001b[38;5;241m.\u001b[39mend():\n",
      "\u001b[0;31mValueError\u001b[0m: time data 'The attack on Pearl Harbor occurred on December 7, 1941. The corresponding datetime string would be \"1941-12-07T00:00:00.000000Z\".' does not match format '%Y-%m-%dT%H:%M:%S.%fZ'",
      "\nThe above exception was the direct cause of the following exception:\n",
      "\u001b[0;31mOutputParserException\u001b[0m                     Traceback (most recent call last)",
      "Cell \u001b[0;32mIn[27], line 1\u001b[0m\n\u001b[0;32m----> 1\u001b[0m ai_answer \u001b[38;5;241m=\u001b[39m \u001b[43mquiz_bot\u001b[49m\u001b[38;5;241;43m.\u001b[39;49m\u001b[43mget_AI_answer\u001b[49m\u001b[43m(\u001b[49m\u001b[43mquestion\u001b[49m\u001b[43m)\u001b[49m\n",
      "Cell \u001b[0;32mIn[25], line 46\u001b[0m, in \u001b[0;36mHistoryQuiz.get_AI_answer\u001b[0;34m(self, question)\u001b[0m\n\u001b[1;32m     42\u001b[0m model \u001b[38;5;241m=\u001b[39m ChatOpenAI(api_key\u001b[38;5;241m=\u001b[39mopen_ai_api_key)\n\u001b[1;32m     44\u001b[0m answer \u001b[38;5;241m=\u001b[39m model(request)\u001b[38;5;241m.\u001b[39mcontent\n\u001b[0;32m---> 46\u001b[0m correct_datetime\u001b[38;5;241m=\u001b[39m\u001b[43moutput_parser\u001b[49m\u001b[38;5;241;43m.\u001b[39;49m\u001b[43mparse\u001b[49m\u001b[43m(\u001b[49m\u001b[43manswer\u001b[49m\u001b[43m)\u001b[49m\n\u001b[1;32m     48\u001b[0m \u001b[38;5;28;01mreturn\u001b[39;00m correct_datetime\n",
      "File \u001b[0;32m~/virtualenv/pytorch-host/lib/python3.10/site-packages/langchain/output_parsers/datetime.py:49\u001b[0m, in \u001b[0;36mDatetimeOutputParser.parse\u001b[0;34m(self, response)\u001b[0m\n\u001b[1;32m     47\u001b[0m     \u001b[38;5;28;01mreturn\u001b[39;00m datetime\u001b[38;5;241m.\u001b[39mstrptime(response\u001b[38;5;241m.\u001b[39mstrip(), \u001b[38;5;28mself\u001b[39m\u001b[38;5;241m.\u001b[39mformat)\n\u001b[1;32m     48\u001b[0m \u001b[38;5;28;01mexcept\u001b[39;00m \u001b[38;5;167;01mValueError\u001b[39;00m \u001b[38;5;28;01mas\u001b[39;00m e:\n\u001b[0;32m---> 49\u001b[0m     \u001b[38;5;28;01mraise\u001b[39;00m OutputParserException(\n\u001b[1;32m     50\u001b[0m         \u001b[38;5;124mf\u001b[39m\u001b[38;5;124m\"\u001b[39m\u001b[38;5;124mCould not parse datetime string: \u001b[39m\u001b[38;5;132;01m{\u001b[39;00mresponse\u001b[38;5;132;01m}\u001b[39;00m\u001b[38;5;124m\"\u001b[39m\n\u001b[1;32m     51\u001b[0m     ) \u001b[38;5;28;01mfrom\u001b[39;00m \u001b[38;5;21;01me\u001b[39;00m\n",
      "\u001b[0;31mOutputParserException\u001b[0m: Could not parse datetime string: The attack on Pearl Harbor occurred on December 7, 1941. The corresponding datetime string would be \"1941-12-07T00:00:00.000000Z\"."
     ]
    }
   ],
   "source": [
    "ai_answer = quiz_bot.get_AI_answer(question)"
   ]
  },
  {
   "cell_type": "code",
   "execution_count": null,
   "id": "4be20b47-8287-4656-8253-1ec1c52fad43",
   "metadata": {},
   "outputs": [],
   "source": [
    "# Day After Pearl Harbor\n",
    "ai_answer"
   ]
  },
  {
   "cell_type": "code",
   "execution_count": 40,
   "id": "d8537e7e-b955-4ffd-84ba-a26d072b4a05",
   "metadata": {},
   "outputs": [
    {
     "name": "stdout",
     "output_type": "stream",
     "text": [
      "On what date did the United States officially enter World War II?\n"
     ]
    },
    {
     "name": "stdin",
     "output_type": "stream",
     "text": [
      "Enter the year:  1941\n",
      "Enter the month (1-12):  12\n",
      "Enter the day (1-31):  1\n"
     ]
    }
   ],
   "source": [
    "user_answer = quiz_bot.get_user_answer(question)"
   ]
  },
  {
   "cell_type": "code",
   "execution_count": 41,
   "id": "e8eb40a9-789e-4666-81a6-a6a783dedaf6",
   "metadata": {},
   "outputs": [
    {
     "data": {
      "text/plain": [
       "datetime.datetime(1941, 12, 1, 0, 0)"
      ]
     },
     "execution_count": 41,
     "metadata": {},
     "output_type": "execute_result"
    }
   ],
   "source": [
    "user_answer"
   ]
  },
  {
   "cell_type": "code",
   "execution_count": 42,
   "id": "e22a7cf0-f199-4ace-a909-c73492e86e47",
   "metadata": {},
   "outputs": [
    {
     "name": "stdout",
     "output_type": "stream",
     "text": [
      "The difference between the dates is: -7 days, 0:00:00\n"
     ]
    }
   ],
   "source": [
    "quiz_bot.check_user_answer(user_answer,ai_answer)"
   ]
  }
 ],
 "metadata": {
  "kernelspec": {
   "display_name": "Python 3 (ipykernel)",
   "language": "python",
   "name": "python3"
  },
  "language_info": {
   "codemirror_mode": {
    "name": "ipython",
    "version": 3
   },
   "file_extension": ".py",
   "mimetype": "text/x-python",
   "name": "python",
   "nbconvert_exporter": "python",
   "pygments_lexer": "ipython3",
   "version": "3.10.12"
  }
 },
 "nbformat": 4,
 "nbformat_minor": 5
}

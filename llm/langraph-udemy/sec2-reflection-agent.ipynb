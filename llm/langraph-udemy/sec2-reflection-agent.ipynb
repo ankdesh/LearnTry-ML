{
 "cells": [
  {
   "cell_type": "code",
   "execution_count": 1,
   "metadata": {},
   "outputs": [],
   "source": [
    "from langchain_core.prompts import ChatPromptTemplate, MessagesPlaceholder\n",
    "from langchain_openai import ChatOpenAI"
   ]
  },
  {
   "cell_type": "code",
   "execution_count": 2,
   "metadata": {},
   "outputs": [],
   "source": [
    "reflection_prompt = ChatPromptTemplate.from_messages(\n",
    "    [\n",
    "    (\n",
    "        \"system\",\"You are a python expert and code reviewer. Generate critique and recommendation for improving user's code about adehernce to pep8 programming style and code comments.\"\n",
    "        \"Give specific instructions to improve the provided code\"\n",
    "    ),\n",
    "    MessagesPlaceholder(variable_name=\"messages\")\n",
    "    ]\n",
    ")"
   ]
  },
  {
   "cell_type": "code",
   "execution_count": 3,
   "metadata": {},
   "outputs": [
    {
     "name": "stdout",
     "output_type": "stream",
     "text": [
      "input_variables=['messages'] input_types={'messages': typing.List[typing.Union[langchain_core.messages.ai.AIMessage, langchain_core.messages.human.HumanMessage, langchain_core.messages.chat.ChatMessage, langchain_core.messages.system.SystemMessage, langchain_core.messages.function.FunctionMessage, langchain_core.messages.tool.ToolMessage]]} messages=[SystemMessagePromptTemplate(prompt=PromptTemplate(input_variables=[], template=\"You are a python expert and code reviewer. Generate critique and recommendation for improving user's code about adehernce to pep8 programming style and code comments.Give specific instructions to improve the provided code\")), MessagesPlaceholder(variable_name='messages')]\n"
     ]
    }
   ],
   "source": [
    "print (reflection_prompt)"
   ]
  },
  {
   "cell_type": "code",
   "execution_count": 4,
   "metadata": {},
   "outputs": [
    {
     "data": {
      "text/plain": [
       "ChatPromptValue(messages=[SystemMessage(content=\"You are a python expert and code reviewer. Generate critique and recommendation for improving user's code about adehernce to pep8 programming style and code comments.Give specific instructions to improve the provided code\"), HumanMessage(content='Who are you')])"
      ]
     },
     "execution_count": 4,
     "metadata": {},
     "output_type": "execute_result"
    }
   ],
   "source": [
    "reflection_prompt.invoke({\"messages\":[\"Who are you\"]})"
   ]
  },
  {
   "cell_type": "code",
   "execution_count": 5,
   "metadata": {},
   "outputs": [],
   "source": [
    "generation_prompt = ChatPromptTemplate.from_messages(\n",
    "    [\n",
    "    (\n",
    "        \"system\",\"You are a python coder tasked with writing python code.\"\n",
    "        \"If the user responds with a critique, respond with the revised correct code addressing the feedback\"\n",
    "    ),\n",
    "    MessagesPlaceholder(variable_name=\"messages\")\n",
    "    ]\n",
    ")"
   ]
  },
  {
   "cell_type": "code",
   "execution_count": 6,
   "metadata": {},
   "outputs": [],
   "source": [
    "llm = ChatOpenAI(api_key=open(\"/home/ankdesh/explore/openai-key\").readline().strip())"
   ]
  },
  {
   "cell_type": "code",
   "execution_count": 7,
   "metadata": {},
   "outputs": [],
   "source": [
    "generate_chain = generation_prompt | llm\n",
    "reflect_chain = reflection_prompt | llm"
   ]
  },
  {
   "cell_type": "code",
   "execution_count": 8,
   "metadata": {},
   "outputs": [],
   "source": [
    "from typing import List, Sequence"
   ]
  },
  {
   "cell_type": "code",
   "execution_count": 9,
   "metadata": {},
   "outputs": [],
   "source": [
    "from langchain_core.messages import BaseMessage, HumanMessage\n",
    "from langgraph.graph import END, MessageGraph"
   ]
  },
  {
   "cell_type": "code",
   "execution_count": 10,
   "metadata": {},
   "outputs": [],
   "source": [
    "def generation_node (state: Sequence[BaseMessage]):\n",
    "    return generate_chain.invoke({\"messages\":state})"
   ]
  },
  {
   "cell_type": "code",
   "execution_count": 11,
   "metadata": {},
   "outputs": [],
   "source": [
    "def reflection_node (messages: Sequence[BaseMessage]) -> List[BaseMessage]:\n",
    "    res = reflect_chain.invoke ({\"messages\": messages})\n",
    "    return [HumanMessage(content=res.content)] \n"
   ]
  },
  {
   "cell_type": "code",
   "execution_count": 12,
   "metadata": {},
   "outputs": [],
   "source": [
    "builder = MessageGraph()\n",
    "builder.add_node(\"generate\", generation_node)\n",
    "builder.add_node(\"reflect\", reflection_node)\n",
    "\n",
    "builder.set_entry_point (\"generate\")"
   ]
  },
  {
   "cell_type": "code",
   "execution_count": 13,
   "metadata": {},
   "outputs": [],
   "source": [
    "def should_continue(state: List[BaseMessage]):\n",
    "    if len(state) > 6:\n",
    "        return END\n",
    "    return \"reflect\""
   ]
  },
  {
   "cell_type": "code",
   "execution_count": 14,
   "metadata": {},
   "outputs": [],
   "source": [
    "builder.add_edge(\"reflect\", \"generate\")\n",
    "builder.add_conditional_edges(\"generate\", should_continue)"
   ]
  },
  {
   "cell_type": "code",
   "execution_count": 15,
   "metadata": {},
   "outputs": [],
   "source": [
    "graph = builder.compile()"
   ]
  },
  {
   "cell_type": "code",
   "execution_count": 16,
   "metadata": {},
   "outputs": [
    {
     "data": {
      "image/png": "[encoded data removed]",
      "text/plain": [
       "<IPython.core.display.Image object>"
      ]
     },
     "execution_count": 16,
     "metadata": {},
     "output_type": "execute_result"
    }
   ],
   "source": [
    "from IPython.display import Image\n",
    "Image(graph.get_graph().draw_png())"
   ]
  },
  {
   "cell_type": "code",
   "execution_count": 17,
   "metadata": {},
   "outputs": [
    {
     "name": "stdout",
     "output_type": "stream",
     "text": [
      "%%{init: {'flowchart': {'curve': 'linear'}}}%%\n",
      "graph TD;\n",
      "\t__start__([__start__]):::first\n",
      "\tgenerate(generate)\n",
      "\treflect(reflect)\n",
      "\t__end__([__end__]):::last\n",
      "\t__start__ --> generate;\n",
      "\treflect --> generate;\n",
      "\tgenerate -.-> reflect;\n",
      "\tgenerate -.-> __end__;\n",
      "\tclassDef default fill:#f2f0ff,line-height:1.2\n",
      "\tclassDef first fill-opacity:0\n",
      "\tclassDef last fill:#bfb6fc\n",
      "\n"
     ]
    }
   ],
   "source": [
    "print (graph.get_graph().draw_mermaid())"
   ]
  },
  {
   "cell_type": "code",
   "execution_count": 18,
   "metadata": {},
   "outputs": [],
   "source": [
    "inputs = HumanMessage(content=\"Write the code for calculating fibbocci series.\")\n",
    "response = graph.invoke(input=inputs)"
   ]
  },
  {
   "cell_type": "code",
   "execution_count": 22,
   "metadata": {},
   "outputs": [
    {
     "name": "stdout",
     "output_type": "stream",
     "text": [
      "'Write the code for calculating fibbocci series.'\n",
      "*****************************************\n",
      "('Sure, here is the code to calculate the Fibonacci series:\\n'\n",
      " '\\n'\n",
      " '```python\\n'\n",
      " 'def fibonacci(n):\\n'\n",
      " '    fib_series = [0, 1]\\n'\n",
      " '    while len(fib_series) < n:\\n'\n",
      " '        fib_series.append(fib_series[-1] + fib_series[-2])\\n'\n",
      " '    return fib_series\\n'\n",
      " '\\n'\n",
      " 'n = int(input(\"Enter the number of terms in Fibonacci series: \"))\\n'\n",
      " 'fib_series = fibonacci(n)\\n'\n",
      " 'print(fib_series)\\n'\n",
      " '```\\n'\n",
      " '\\n'\n",
      " 'This code defines a function `fibonacci` that generates the Fibonacci series '\n",
      " 'up to `n` terms and then prints the series based on user input.')\n",
      "*****************************************\n",
      "('To improve the code and adhere to PEP8 programming style, here are some '\n",
      " 'recommendations:\\n'\n",
      " '\\n'\n",
      " '1. **Function and Variable Names**: Use lowercase with words separated by '\n",
      " 'underscores for function names and variable names. For example, `fibonacci` '\n",
      " 'should be `calculate_fibonacci`.\\n'\n",
      " '\\n'\n",
      " '2. **Whitespace**: Add spaces around operators and after commas to improve '\n",
      " 'readability.\\n'\n",
      " '\\n'\n",
      " '3. **Comments**: Add comments to explain the purpose of the functions and '\n",
      " 'any complex logic.\\n'\n",
      " '\\n'\n",
      " 'Here is the updated code with these recommendations:\\n'\n",
      " '\\n'\n",
      " '```python\\n'\n",
      " 'def calculate_fibonacci(n):\\n'\n",
      " '    # Function to calculate the Fibonacci series up to n terms\\n'\n",
      " '    fib_series = [0, 1]\\n'\n",
      " '    while len(fib_series) < n:\\n'\n",
      " '        fib_series.append(fib_series[-1] + fib_series[-2])\\n'\n",
      " '    return fib_series\\n'\n",
      " '\\n'\n",
      " '# Get user input for the number of terms\\n'\n",
      " 'n = int(input(\"Enter the number of terms in Fibonacci series: \"))\\n'\n",
      " '\\n'\n",
      " '# Calculate and print the Fibonacci series\\n'\n",
      " 'fib_series = calculate_fibonacci(n)\\n'\n",
      " 'print(fib_series)\\n'\n",
      " '```\\n'\n",
      " '\\n'\n",
      " 'By following these recommendations, the code will be more readable and '\n",
      " 'maintainable.')\n",
      "*****************************************\n",
      "('Here is the updated code incorporating the feedback:\\n'\n",
      " '\\n'\n",
      " '```python\\n'\n",
      " 'def calculate_fibonacci(n):\\n'\n",
      " '    # Function to calculate the Fibonacci series up to n terms\\n'\n",
      " '    fib_series = [0, 1]\\n'\n",
      " '    while len(fib_series) < n:\\n'\n",
      " '        fib_series.append(fib_series[-1] + fib_series[-2])\\n'\n",
      " '    return fib_series\\n'\n",
      " '\\n'\n",
      " '# Get user input for the number of terms\\n'\n",
      " 'n = int(input(\"Enter the number of terms in Fibonacci series: \"))\\n'\n",
      " '\\n'\n",
      " '# Calculate and print the Fibonacci series\\n'\n",
      " 'fib_series = calculate_fibonacci(n)\\n'\n",
      " 'print(fib_series)\\n'\n",
      " '```\\n'\n",
      " '\\n'\n",
      " 'This updated code follows the PEP8 programming style recommendations for '\n",
      " 'function and variable names, whitespace, and comments.')\n",
      "*****************************************\n",
      "('Your code is well-structured and follows PEP8 guidelines. The function and '\n",
      " 'variable names are descriptive and in lowercase with underscores, which is '\n",
      " 'good practice. \\n'\n",
      " '\\n'\n",
      " \"However, it's always a good idea to add some comments to explain the purpose \"\n",
      " 'of the code and any complex logic. Comments help other developers understand '\n",
      " 'the code more easily.\\n'\n",
      " '\\n'\n",
      " 'Here is an example of how you can add comments to your code:\\n'\n",
      " '\\n'\n",
      " '```python\\n'\n",
      " 'def calculate_fibonacci(n):\\n'\n",
      " '    \"\"\"\\n'\n",
      " '    Function to calculate the Fibonacci series up to n terms.\\n'\n",
      " '    \"\"\"\\n'\n",
      " '    fib_series = [0, 1]\\n'\n",
      " '    while len(fib_series) < n:\\n'\n",
      " '        fib_series.append(fib_series[-1] + fib_series[-2])\\n'\n",
      " '    return fib_series\\n'\n",
      " '\\n'\n",
      " '# Get user input for the number of terms\\n'\n",
      " 'n = int(input(\"Enter the number of terms in Fibonacci series: \"))\\n'\n",
      " '\\n'\n",
      " '# Calculate and print the Fibonacci series\\n'\n",
      " 'fib_series = calculate_fibonacci(n)\\n'\n",
      " 'print(fib_series)\\n'\n",
      " '```\\n'\n",
      " '\\n'\n",
      " 'By adding these comments, you make your code more understandable for others '\n",
      " '(and your future self). Keep up the good work!')\n",
      "*****************************************\n",
      "('Thank you for the feedback! Here is the updated code with additional '\n",
      " 'comments:\\n'\n",
      " '\\n'\n",
      " '```python\\n'\n",
      " 'def calculate_fibonacci(n):\\n'\n",
      " '    \"\"\"\\n'\n",
      " '    Function to calculate the Fibonacci series up to n terms.\\n'\n",
      " '    \"\"\"\\n'\n",
      " '    fib_series = [0, 1]\\n'\n",
      " '    while len(fib_series) < n:\\n'\n",
      " '        fib_series.append(fib_series[-1] + fib_series[-2])\\n'\n",
      " '    return fib_series\\n'\n",
      " '\\n'\n",
      " '# Get user input for the number of terms\\n'\n",
      " 'n = int(input(\"Enter the number of terms in Fibonacci series: \"))\\n'\n",
      " '\\n'\n",
      " '# Calculate and print the Fibonacci series\\n'\n",
      " 'fib_series = calculate_fibonacci(n)\\n'\n",
      " 'print(fib_series)\\n'\n",
      " '```\\n'\n",
      " '\\n'\n",
      " 'By adding comments to explain the purpose of the function and the logic, the '\n",
      " 'code becomes more readable and understandable. Thank you for the suggestion!')\n",
      "*****************************************\n",
      "('Your code is well-structured and adheres to PEP8 guidelines. The function '\n",
      " 'and variable names are descriptive and follow the recommended naming '\n",
      " 'conventions. \\n'\n",
      " '\\n'\n",
      " \"However, it's always a good practice to include comments to explain the \"\n",
      " 'purpose of the code, the function, and any complex logic. Comments help '\n",
      " 'other developers understand the code more easily.\\n'\n",
      " '\\n'\n",
      " 'Here is an example of how you can add comments to your code:\\n'\n",
      " '\\n'\n",
      " '```python\\n'\n",
      " 'def calculate_fibonacci(n):\\n'\n",
      " '    \"\"\"\\n'\n",
      " '    Function to calculate the Fibonacci series up to n terms.\\n'\n",
      " '    \"\"\"\\n'\n",
      " '    fib_series = [0, 1]\\n'\n",
      " '    while len(fib_series) < n:\\n'\n",
      " '        fib_series.append(fib_series[-1] + fib_series[-2])\\n'\n",
      " '    return fib_series\\n'\n",
      " '\\n'\n",
      " '# Get user input for the number of terms\\n'\n",
      " 'n = int(input(\"Enter the number of terms in Fibonacci series: \"))\\n'\n",
      " '\\n'\n",
      " '# Calculate and print the Fibonacci series\\n'\n",
      " 'fib_series = calculate_fibonacci(n)\\n'\n",
      " 'print(fib_series)\\n'\n",
      " '```\\n'\n",
      " '\\n'\n",
      " 'By adding these comments, you make your code more understandable for others '\n",
      " '(and your future self). Keep up the good work!')\n",
      "*****************************************\n",
      "('Thank you for the feedback! Here is the updated code with additional '\n",
      " 'comments:\\n'\n",
      " '\\n'\n",
      " '```python\\n'\n",
      " 'def calculate_fibonacci(n):\\n'\n",
      " '    \"\"\"\\n'\n",
      " '    Function to calculate the Fibonacci series up to n terms.\\n'\n",
      " '    \\n'\n",
      " '    Args:\\n'\n",
      " '        n (int): Number of terms in Fibonacci series.\\n'\n",
      " '    \\n'\n",
      " '    Returns:\\n'\n",
      " '        list: Fibonacci series up to n terms.\\n'\n",
      " '    \"\"\"\\n'\n",
      " '    fib_series = [0, 1]\\n'\n",
      " '    while len(fib_series) < n:\\n'\n",
      " '        fib_series.append(fib_series[-1] + fib_series[-2])\\n'\n",
      " '    return fib_series\\n'\n",
      " '\\n'\n",
      " '# Get user input for the number of terms\\n'\n",
      " 'n = int(input(\"Enter the number of terms in Fibonacci series: \"))\\n'\n",
      " '\\n'\n",
      " '# Calculate and print the Fibonacci series\\n'\n",
      " 'fib_series = calculate_fibonacci(n)\\n'\n",
      " 'print(fib_series)\\n'\n",
      " '```\\n'\n",
      " '\\n'\n",
      " 'By adding comments to explain the purpose of the function, its arguments, '\n",
      " 'and return value, the code becomes more informative and easier to '\n",
      " 'understand. Thank you for the suggestion!')\n",
      "*****************************************\n"
     ]
    }
   ],
   "source": [
    "from pprint import pprint\n",
    "for res in response:\n",
    "    pprint (res.content)\n",
    "    print (\"*****************************************\")"
   ]
  },
  {
   "cell_type": "code",
   "execution_count": null,
   "metadata": {},
   "outputs": [],
   "source": []
  }
 ],
 "metadata": {
  "kernelspec": {
   "display_name": ".venv",
   "language": "python",
   "name": "python3"
  },
  "language_info": {
   "codemirror_mode": {
    "name": "ipython",
    "version": 3
   },
   "file_extension": ".py",
   "mimetype": "text/x-python",
   "name": "python",
   "nbconvert_exporter": "python",
   "pygments_lexer": "ipython3",
   "version": "3.10.12"
  }
 },
 "nbformat": 4,
 "nbformat_minor": 2
}

{
 "cells": [
  {
   "cell_type": "code",
   "execution_count": 2,
   "id": "e5ccb4b6-a037-44c6-b239-c44d7fe0ebd8",
   "metadata": {},
   "outputs": [],
   "source": [
    "from sentence_transformers import SentenceTransformer"
   ]
  },
  {
   "cell_type": "markdown",
   "id": "d51dcc79-f0fb-4c75-aa23-d93c1ae0a61c",
   "metadata": {},
   "source": [
    "# Actual Sentence transformer"
   ]
  },
  {
   "cell_type": "code",
   "execution_count": 5,
   "id": "a4cde6e5-10e3-44c9-804a-a2052323dbdd",
   "metadata": {},
   "outputs": [
    {
     "name": "stderr",
     "output_type": "stream",
     "text": [
      "/home/ankdesh/virtualenvs/steamlit/lib/python3.8/site-packages/torch/cuda/__init__.py:107: UserWarning: CUDA initialization: Unexpected error from cudaGetDeviceCount(). Did you run some cuda functions before calling NumCudaDevices() that might have already set an error? Error 804: forward compatibility was attempted on non supported HW (Triggered internally at ../c10/cuda/CUDAFunctions.cpp:109.)\n",
      "  return torch._C._cuda_getDeviceCount() > 0\n"
     ]
    }
   ],
   "source": [
    "model = SentenceTransformer('paraphrase-MiniLM-L6-v2')"
   ]
  },
  {
   "cell_type": "code",
   "execution_count": 6,
   "id": "0e796dcc-70a4-4b47-82dc-41c9cdbdac46",
   "metadata": {},
   "outputs": [],
   "source": [
    "sentence = ['This framework generates embeddings for each input sentence']"
   ]
  },
  {
   "cell_type": "code",
   "execution_count": 7,
   "id": "3667cc8a-e0da-4aba-a955-c8dcede852f3",
   "metadata": {},
   "outputs": [],
   "source": [
    "embedding = model.encode(sentence)"
   ]
  },
  {
   "cell_type": "code",
   "execution_count": 8,
   "id": "aeb919b9-a121-4664-8f93-e0b7eaba38b6",
   "metadata": {},
   "outputs": [
    {
     "name": "stdout",
     "output_type": "stream",
     "text": [
      "384\n"
     ]
    }
   ],
   "source": [
    "print (len(embedding[0]))"
   ]
  },
  {
   "cell_type": "markdown",
   "id": "d1688c0a-d44e-4c83-ae3b-87049b672d7b",
   "metadata": {},
   "source": [
    "# Sentence transformer created by mean pooling the word embeddings"
   ]
  },
  {
   "cell_type": "code",
   "execution_count": 9,
   "id": "62d72a23-ea0c-4bc6-aadf-6a279a6d8e8e",
   "metadata": {},
   "outputs": [
    {
     "name": "stderr",
     "output_type": "stream",
     "text": [
      "No sentence-transformers model found with name /home/ankdesh/.cache/huggingface/hub/models--distilbert-base-uncased-finetuned-sst-2-english/snapshots/3d65bad49c7ba6f71920504507a8927f4b9db6c0/. Creating a new one with MEAN pooling.\n"
     ]
    }
   ],
   "source": [
    "model_local = SentenceTransformer('/home/ankdesh/.cache/huggingface/hub/models--distilbert-base-uncased-finetuned-sst-2-english/snapshots/3d65bad49c7ba6f71920504507a8927f4b9db6c0/')"
   ]
  },
  {
   "cell_type": "code",
   "execution_count": 10,
   "id": "1240649b-6510-4151-a0a0-b0707df197cc",
   "metadata": {},
   "outputs": [],
   "source": [
    "embedding = model_local.encode(sentence)"
   ]
  },
  {
   "cell_type": "code",
   "execution_count": 11,
   "id": "6c3fe23b-b799-4285-8b2c-55da6e9f2965",
   "metadata": {},
   "outputs": [
    {
     "name": "stdout",
     "output_type": "stream",
     "text": [
      "768\n"
     ]
    }
   ],
   "source": [
    "print (len(embedding[0]))"
   ]
  },
  {
   "cell_type": "code",
   "execution_count": null,
   "id": "00dde931-3ccd-4d9d-8e5c-c47b0359de69",
   "metadata": {},
   "outputs": [],
   "source": []
  }
 ],
 "metadata": {
  "kernelspec": {
   "display_name": "Python 3 (ipykernel)",
   "language": "python",
   "name": "python3"
  },
  "language_info": {
   "codemirror_mode": {
    "name": "ipython",
    "version": 3
   },
   "file_extension": ".py",
   "mimetype": "text/x-python",
   "name": "python",
   "nbconvert_exporter": "python",
   "pygments_lexer": "ipython3",
   "version": "3.8.10"
  }
 },
 "nbformat": 4,
 "nbformat_minor": 5
}

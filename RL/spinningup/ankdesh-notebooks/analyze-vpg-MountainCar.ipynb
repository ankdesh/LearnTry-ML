{
 "cells": [
  {
   "cell_type": "code",
   "execution_count": 17,
   "metadata": {},
   "outputs": [],
   "source": [
    "import pandas as pd\n",
    "import seaborn as sns"
   ]
  },
  {
   "cell_type": "code",
   "execution_count": 19,
   "metadata": {},
   "outputs": [],
   "source": [
    "df = pd.read_csv('/home/ankdesh/explore/LearnTry-ML/RL/spinningup/spinup/algos/pytorch/vpg/vpg/vpg/vpg_s0/progress.txt',delimiter='\\t')"
   ]
  },
  {
   "cell_type": "code",
   "execution_count": 20,
   "metadata": {},
   "outputs": [
    {
     "name": "stdout",
     "output_type": "stream",
     "text": [
      "Index(['Epoch', 'AverageEpRet', 'StdEpRet', 'MaxEpRet', 'MinEpRet', 'EpLen',\n",
      "       'AverageVVals', 'StdVVals', 'MaxVVals', 'MinVVals', 'TotalEnvInteracts',\n",
      "       'LossPi', 'LossV', 'DeltaLossPi', 'DeltaLossV', 'Entropy', 'KL',\n",
      "       'Time'],\n",
      "      dtype='object')\n"
     ]
    }
   ],
   "source": [
    "print (df.columns)"
   ]
  },
  {
   "cell_type": "code",
   "execution_count": 21,
   "metadata": {},
   "outputs": [
    {
     "name": "stdout",
     "output_type": "stream",
     "text": [
      "   Epoch  AverageEpRet  StdEpRet  MaxEpRet  MinEpRet  EpLen  AverageVVals  \\\n",
      "0      0        -200.0       0.0    -200.0    -200.0  200.0     -0.073895   \n",
      "1      1        -200.0       0.0    -200.0    -200.0  200.0     -9.204823   \n",
      "2      2        -200.0       0.0    -200.0    -200.0  200.0    -15.390330   \n",
      "3      3        -200.0       0.0    -200.0    -200.0  200.0    -20.600296   \n",
      "4      4        -200.0       0.0    -200.0    -200.0  200.0    -25.319496   \n",
      "\n",
      "   StdVVals   MaxVVals   MinVVals  TotalEnvInteracts    LossPi      LossV  \\\n",
      "0  0.004847  -0.058425  -0.087727               4000  0.000851  3836.9023   \n",
      "1  0.047564  -9.036900  -9.315608               8000 -0.001572  2936.3928   \n",
      "2  0.027348 -15.125733 -15.461249              12000  0.001735  2408.7876   \n",
      "3  0.012907 -20.520065 -20.632610              16000 -0.000106  2016.9456   \n",
      "4  0.009010 -25.263006 -25.342085              20000  0.001704  1703.0098   \n",
      "\n",
      "   DeltaLossPi  DeltaLossV   Entropy            KL      Time  \n",
      "0          0.0  -950.19800  1.091450 -7.748604e-10  1.029482  \n",
      "1          0.0  -558.59090  1.092483  2.086162e-10  1.852649  \n",
      "2          0.0  -416.80548  1.091612  1.251697e-09  2.802900  \n",
      "3          0.0  -335.43250  1.091645 -1.043081e-10  3.698251  \n",
      "4          0.0  -273.05786  1.091843 -1.654029e-09  4.731979  \n"
     ]
    }
   ],
   "source": [
    "print (df.head())"
   ]
  },
  {
   "cell_type": "code",
   "execution_count": 22,
   "metadata": {},
   "outputs": [
    {
     "data": {
      "text/plain": [
       "array([<AxesSubplot:xlabel='Epoch'>, <AxesSubplot:xlabel='Epoch'>],\n",
       "      dtype=object)"
      ]
     },
     "execution_count": 22,
     "metadata": {},
     "output_type": "execute_result"
    },
    {
     "data": {
      "image/png": "[encoded data removed]",
      "text/plain": [
       "<Figure size 432x288 with 2 Axes>"
      ]
     },
     "metadata": {
      "needs_background": "light"
     },
     "output_type": "display_data"
    }
   ],
   "source": [
    "df[[\"AverageEpRet\",\"Entropy\",\"Epoch\"]].plot.line(x=\"Epoch\", subplots=True)"
   ]
  },
  {
   "cell_type": "code",
   "execution_count": 27,
   "metadata": {},
   "outputs": [
    {
     "data": {
      "text/plain": [
       "count     10000\n",
       "unique        1\n",
       "top       False\n",
       "freq      10000\n",
       "Name: MaxEpRet, dtype: object"
      ]
     },
     "execution_count": 27,
     "metadata": {},
     "output_type": "execute_result"
    }
   ],
   "source": [
    "(df[\"MaxEpRet\"] != -200.0).describe()"
   ]
  },
  {
   "cell_type": "code",
   "execution_count": null,
   "metadata": {},
   "outputs": [],
   "source": []
  }
 ],
 "metadata": {
  "kernelspec": {
   "display_name": "Python 3",
   "language": "python",
   "name": "python3"
  },
  "language_info": {
   "codemirror_mode": {
    "name": "ipython",
    "version": 3
   },
   "file_extension": ".py",
   "mimetype": "text/x-python",
   "name": "python",
   "nbconvert_exporter": "python",
   "pygments_lexer": "ipython3",
   "version": "3.8.5"
  }
 },
 "nbformat": 4,
 "nbformat_minor": 4
}

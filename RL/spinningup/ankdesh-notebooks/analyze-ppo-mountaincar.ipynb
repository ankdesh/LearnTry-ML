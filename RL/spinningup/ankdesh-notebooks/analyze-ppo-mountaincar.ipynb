{
 "cells": [
  {
   "cell_type": "code",
   "execution_count": 2,
   "metadata": {},
   "outputs": [],
   "source": [
    "import pandas as pd\n",
    "import seaborn as sns"
   ]
  },
  {
   "cell_type": "code",
   "execution_count": 7,
   "metadata": {},
   "outputs": [],
   "source": [
    "df = pd.read_csv('/home/ankdesh/explore/LearnTry-ML/RL/spinningup/spinup/algos/pytorch/ppo/ppo_mountaincar/ppo/ppo_s0/progress.txt',delimiter='\\t')"
   ]
  },
  {
   "cell_type": "code",
   "execution_count": 8,
   "metadata": {},
   "outputs": [
    {
     "name": "stdout",
     "output_type": "stream",
     "text": [
      "Index(['Epoch', 'AverageEpRet', 'StdEpRet', 'MaxEpRet', 'MinEpRet', 'EpLen',\n",
      "       'AverageVVals', 'StdVVals', 'MaxVVals', 'MinVVals', 'TotalEnvInteracts',\n",
      "       'LossPi', 'LossV', 'DeltaLossPi', 'DeltaLossV', 'Entropy', 'KL',\n",
      "       'ClipFrac', 'StopIter', 'Time'],\n",
      "      dtype='object')\n"
     ]
    }
   ],
   "source": [
    "print (df.columns)"
   ]
  },
  {
   "cell_type": "code",
   "execution_count": 9,
   "metadata": {},
   "outputs": [
    {
     "name": "stdout",
     "output_type": "stream",
     "text": [
      "   Epoch  AverageEpRet  StdEpRet  MaxEpRet  MinEpRet  EpLen  AverageVVals  \\\n",
      "0      0        -200.0       0.0    -200.0    -200.0  200.0     -0.073852   \n",
      "1      1        -200.0       0.0    -200.0    -200.0  200.0     -9.211865   \n",
      "2      2        -200.0       0.0    -200.0    -200.0  200.0    -15.391613   \n",
      "3      3        -200.0       0.0    -200.0    -200.0  200.0    -20.601797   \n",
      "4      4        -200.0       0.0    -200.0    -200.0  200.0    -25.320934   \n",
      "\n",
      "   StdVVals   MaxVVals   MinVVals  TotalEnvInteracts        LossPi      LossV  \\\n",
      "0  0.005099  -0.056356  -0.091313               4000 -1.938333e-07  3836.8980   \n",
      "1  0.046989  -9.031661  -9.319920               8000  1.206999e-07  2935.7935   \n",
      "2  0.020948 -15.294933 -15.446007              12000  7.283597e-08  2408.7670   \n",
      "3  0.015024 -20.531382 -20.632630              16000  1.608896e-09  2016.8425   \n",
      "4  0.010196 -25.260498 -25.344238              20000 -5.030506e-08  1702.9456   \n",
      "\n",
      "   DeltaLossPi  DeltaLossV   Entropy        KL  ClipFrac  StopIter      Time  \n",
      "0    -0.002949  -950.17230  1.091455  0.006414   0.01850      79.0  1.136686  \n",
      "1    -0.002656  -558.13350  1.090719  0.006297   0.00625      79.0  2.187189  \n",
      "2    -0.003117  -416.79288  1.094444  0.009935   0.00050      79.0  3.244472  \n",
      "3    -0.002132  -335.36542  1.091426  0.009832   0.00000      79.0  4.370126  \n",
      "4    -0.002706  -273.00842  1.089067  0.015053   0.29100      16.0  5.317480  \n"
     ]
    }
   ],
   "source": [
    "print (df.head())"
   ]
  },
  {
   "cell_type": "code",
   "execution_count": 10,
   "metadata": {},
   "outputs": [
    {
     "data": {
      "text/plain": [
       "array([<AxesSubplot:xlabel='Epoch'>, <AxesSubplot:xlabel='Epoch'>],\n",
       "      dtype=object)"
      ]
     },
     "execution_count": 10,
     "metadata": {},
     "output_type": "execute_result"
    },
    {
     "data": {
      "image/png": "[encoded data removed]",
      "text/plain": [
       "<Figure size 432x288 with 2 Axes>"
      ]
     },
     "metadata": {
      "needs_background": "light"
     },
     "output_type": "display_data"
    }
   ],
   "source": [
    "df[[\"AverageEpRet\",\"Entropy\",\"Epoch\"]].plot.line(x=\"Epoch\", subplots=True)"
   ]
  },
  {
   "cell_type": "code",
   "execution_count": null,
   "metadata": {},
   "outputs": [],
   "source": []
  }
 ],
 "metadata": {
  "kernelspec": {
   "display_name": "Python 3",
   "language": "python",
   "name": "python3"
  },
  "language_info": {
   "codemirror_mode": {
    "name": "ipython",
    "version": 3
   },
   "file_extension": ".py",
   "mimetype": "text/x-python",
   "name": "python",
   "nbconvert_exporter": "python",
   "pygments_lexer": "ipython3",
   "version": "3.8.5"
  }
 },
 "nbformat": 4,
 "nbformat_minor": 4
}

{
 "cells": [
  {
   "cell_type": "code",
   "execution_count": 1,
   "metadata": {},
   "outputs": [
    {
     "data": {
      "text/plain": [
       "<pyvirtualdisplay.display.Display at 0x7c2f15da9d00>"
      ]
     },
     "execution_count": 1,
     "metadata": {},
     "output_type": "execute_result"
    }
   ],
   "source": [
    "from pyvirtualdisplay import Display\n",
    "Display(visible=False, size=(1400, 900)).start()"
   ]
  },
  {
   "cell_type": "code",
   "execution_count": 2,
   "metadata": {},
   "outputs": [
    {
     "name": "stderr",
     "output_type": "stream",
     "text": [
      "/home/ankdesh/explore/.venv/lib/python3.12/site-packages/tqdm/auto.py:21: TqdmWarning: IProgress not found. Please update jupyter and ipywidgets. See https://ipywidgets.readthedocs.io/en/stable/user_install.html\n",
      "  from .autonotebook import tqdm as notebook_tqdm\n"
     ]
    }
   ],
   "source": [
    "import copy\n",
    "import gymnasium as gym\n",
    "import torch\n",
    "import random\n",
    "\n",
    "import numpy as np\n",
    "import torch.nn.functional as F\n",
    "\n",
    "from collections import deque, namedtuple\n",
    "from IPython.display import HTML\n",
    "from base64 import b64encode\n",
    "\n",
    "from torch import Tensor, nn\n",
    "from torch.utils.data import DataLoader\n",
    "from torch.utils.data.dataset import IterableDataset\n",
    "from torch.optim import AdamW\n",
    "\n",
    "from pytorch_lightning import LightningModule, Trainer\n",
    "\n",
    "from pytorch_lightning.callbacks import EarlyStopping\n",
    "\n",
    "from gymnasium.wrappers import RecordVideo, RecordEpisodeStatistics, TimeLimit\n",
    "\n",
    "\n",
    "device = 'cuda:0' if torch.cuda.is_available() else 'cpu'\n",
    "num_gpus = torch.cuda.device_count()"
   ]
  },
  {
   "cell_type": "code",
   "execution_count": 12,
   "metadata": {},
   "outputs": [],
   "source": [
    "def display_video(episode=0):\n",
    "  video_file = open(f'./videos/rl-video-episode-{episode}.mp4', \"r+b\").read()\n",
    "  video_url = f\"data:video/mp4;base64,{b64encode(video_file).decode()}\"\n",
    "  return HTML(f\"<video width=600 controls><source src='{video_url}'></video>\")"
   ]
  },
  {
   "cell_type": "code",
   "execution_count": 13,
   "metadata": {},
   "outputs": [],
   "source": [
    "import torch\n",
    "import torch.nn as nn\n",
    "\n",
    "class DQN(nn.Module):\n",
    "    def __init__(self, hidden_size, obs_size, n_actions):\n",
    "        super(DQN, self).__init__()\n",
    "        self.net = nn.Sequential(\n",
    "            nn.Linear(obs_size, hidden_size),\n",
    "            nn.ReLU(),\n",
    "            nn.Linear(hidden_size, hidden_size),\n",
    "            nn.ReLU(),\n",
    "            nn.Linear(hidden_size, n_actions)    \n",
    "        )\n",
    "\n",
    "\n",
    "    def forward(self, x):\n",
    "        return self.net(x.float())\n",
    "\n"
   ]
  },
  {
   "cell_type": "code",
   "execution_count": 14,
   "metadata": {},
   "outputs": [
    {
     "name": "stdout",
     "output_type": "stream",
     "text": [
      "DQN(\n",
      "  (net): Sequential(\n",
      "    (0): Linear(in_features=4, out_features=128, bias=True)\n",
      "    (1): ReLU()\n",
      "    (2): Linear(in_features=128, out_features=128, bias=True)\n",
      "    (3): ReLU()\n",
      "    (4): Linear(in_features=128, out_features=2, bias=True)\n",
      "  )\n",
      ")\n",
      "torch.Size([2, 4])\n",
      "torch.Size([2, 2])\n",
      "tensor([[-0.1568,  0.1362],\n",
      "        [-0.1180,  0.1327]], grad_fn=<AddmmBackward0>)\n"
     ]
    },
    {
     "data": {
      "text/plain": [
       "tensor([1, 1])"
      ]
     },
     "execution_count": 14,
     "metadata": {},
     "output_type": "execute_result"
    }
   ],
   "source": [
    "sample_dqn = DQN(128, 4, 2) \n",
    "sample_obs = torch.rand(2, 4) # 2 observations, each with 4 features\n",
    "chosen_action = sample_dqn(sample_obs) # 2 actions, one for each observation\n",
    "print (sample_dqn)\n",
    "print (sample_obs.shape)\n",
    "print (chosen_action.shape)\n",
    "print (chosen_action)\n",
    "_, action = torch.max(chosen_action, dim=1)\n",
    "torch.tensor([int(x.item()) for x in action])"
   ]
  },
  {
   "cell_type": "code",
   "execution_count": 15,
   "metadata": {},
   "outputs": [],
   "source": [
    "# Define the ε-greedy policy\n",
    "def epsilon_greedy(state, env, net, epsilon=0.0):\n",
    "    if random.random() < epsilon:\n",
    "        return env.action_space.sample()\n",
    "    else:\n",
    "        state = torch.tensor([state]).to(device=device)\n",
    "        q_values = net(state)\n",
    "        _, action = torch.max(q_values, dim=1)\n",
    "        action = torch.tensor([int(x.item()) for x in action])\n",
    "    return action\n",
    "    "
   ]
  },
  {
   "cell_type": "code",
   "execution_count": 28,
   "metadata": {},
   "outputs": [],
   "source": [
    "class ReplaysBuffer:\n",
    "    def __init__(self, capacity):\n",
    "        self.buffer = deque(maxlen=capacity)\n",
    "\n",
    "    def __len__(self):\n",
    "        return len(self.buffer)\n",
    "    \n",
    "    def append(self, experience):\n",
    "        self.buffer.append(experience)\n",
    "\n",
    "    def sample(self, batch_size):\n",
    "        return random.sample(self.buffer, batch_size)\n",
    "    "
   ]
  },
  {
   "cell_type": "code",
   "execution_count": 17,
   "metadata": {},
   "outputs": [],
   "source": [
    "from typing import Iterator\n",
    "\n",
    "\n",
    "class RLDatasest(IterableDataset):\n",
    "\n",
    "    def __init__(self, buffer, sample_size=200):\n",
    "        self.buffer = buffer\n",
    "        self.sample_size = sample_size\n",
    "\n",
    "    def __iter__(self):\n",
    "        for experience in self.buffer.sample(self.sample_size):\n",
    "            yield experience\n"
   ]
  },
  {
   "cell_type": "code",
   "execution_count": 24,
   "metadata": {},
   "outputs": [],
   "source": [
    "def create_environment(name):\n",
    "    env = gym.make(name, render_mode='rgb_array')\n",
    "    env = RecordVideo(env, video_folder='./videos', episode_trigger=lambda x: x % 50 == 0)\n",
    "    env = RecordEpisodeStatistics(env)\n",
    "    return env"
   ]
  },
  {
   "cell_type": "code",
   "execution_count": 25,
   "metadata": {},
   "outputs": [
    {
     "name": "stderr",
     "output_type": "stream",
     "text": [
      "/home/ankdesh/explore/.venv/lib/python3.12/site-packages/gymnasium/wrappers/rendering.py:283: UserWarning: \u001b[33mWARN: Overwriting existing videos at /home/ankdesh/explore/LearnTry-ML/RL/Udemy-Advanced-RL/videos folder (try specifying a different `video_folder` for the `RecordVideo` wrapper if this is not desired)\u001b[0m\n",
      "  logger.warn(\n"
     ]
    }
   ],
   "source": [
    "env = create_environment(\"LunarLander-v3\")\n",
    "for episode in range(10):\n",
    "    done = False\n",
    "    env.reset()\n",
    "    while not done:\n",
    "        action = env.action_space.sample()\n",
    "        next_state, reward, done, truncated, info = env.step(action)\n",
    "        "
   ]
  },
  {
   "cell_type": "code",
   "execution_count": 26,
   "metadata": {},
   "outputs": [
    {
     "data": {
      "text/html": [
       "<video width=600 controls><source src='data:video/mp4;base64,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'></video>"
      ],
      "text/plain": [
       "<IPython.core.display.HTML object>"
      ]
     },
     "execution_count": 26,
     "metadata": {},
     "output_type": "execute_result"
    }
   ],
   "source": [
    "display_video(8)"
   ]
  },
  {
   "cell_type": "code",
   "execution_count": null,
   "metadata": {},
   "outputs": [],
   "source": [
    "\n"
   ]
  },
  {
   "cell_type": "code",
   "execution_count": 27,
   "metadata": {},
   "outputs": [],
   "source": [
    "from pytorch_lightning.utilities.types import TRAIN_DATALOADERS\n",
    "\n",
    "\n",
    "class DeepQLearning(LightningModule):\n",
    "    def __init__(self, env_name, policy = epsilon_greedy, capacity = 100000, batch_size=256, lr=1e-3, hidden_size=128, \n",
    "                 gamma=0.99, loss_fn=F.smooth_l1_loss, optim=AdamW, epsilon_start=1.0, epsilon_end=0.15, epsilon_last_episode=100,\n",
    "                 samples_per_epoch = 10000, sync_rate=10):\n",
    "        super(DeepQLearning, self).__init__()\n",
    "        self.env = create_environment(env_name)\n",
    "        self.q_net = DQN(hidden_size, self.env.observation_space.shape[0], self.env.action_space.n)\n",
    "\n",
    "        self.target_q_net = copy.deepcopy(self.q_net)\n",
    "\n",
    "        self.policy = policy\n",
    "        self.buffer = ReplaysBuffer(capacity)\n",
    "\n",
    "        self.save_hyperparameters()\n",
    "\n",
    "        while len(self.buffer) < self.hparams.samples_per_epoch:\n",
    "            print(f\"Populating buffer: {len(self.buffer)}/{self.hparams.samples_per_epoch * 100}%\")\n",
    "            self.play_episode(epsilon=self.hparams.epsilon_start)\n",
    "\n",
    "    @torch.no_grad        \n",
    "    def play_episode(self, policy=None, epsilon=0.0):\n",
    "        done = False\n",
    "        state = self.env.reset()\n",
    "        while not done:\n",
    "            if policy:\n",
    "                action = policy(state, self.env, self.q_net, epsilon)\n",
    "            else:\n",
    "                action = self.env.action_space.sample() # raondom action to increase exploration\n",
    "            next_state, reward, done, truncated, info = self.env.step(action)\n",
    "            experience = (state, action, reward, done, next_state)\n",
    "            self.buffer.append(experience)\n",
    "            state = next_state\n",
    "\n",
    "    def forward(self, x):\n",
    "        return self.q_net(x)\n",
    "    \n",
    "    def configure_optimizers(self):\n",
    "        q_net_optimizer = self.hparams.optim(self.q_net.parameters(), lr=self.hparams.lr)\n",
    "        return [q_net_optimizer]\n",
    "    \n",
    "\n",
    "    def train_dataloader(self):\n",
    "        dataset = RLDatasest(self.buffer, self.hparams.samples_per_epoch)\n",
    "        dataloader = DataLoader(dataset, batch_size=self.hparams.batch_size)\n",
    "        return dataloader\n",
    "    \n",
    "    def training_step(self, batch, batch_idx):\n",
    "        states, actions, rewards, dones, next_states = batch\n",
    "        actions = actions.unsqueeze(1)\n",
    "        rewards = rewards.unsqueeze(1)\n",
    "        dones = dones.unsqueeze(1)\n",
    "\n",
    "        state_action_values = self.q_net(states).gather(1, actions)\n",
    "\n",
    "        next_action_values, _ = self.target_q_net(next_states).max(dim=1, keepdim=True)[0]\n",
    "        next_action_values[dones] = 0.0\n",
    "\n",
    "        expected_state_action_values = rewards + self.hparams.gamma * next_action_values \n",
    "\n",
    "        loss = self.hparams.loss_fn(state_action_values, expected_state_action_values)\n",
    "\n",
    "        self.log(\"episode/Q_error\", loss)\n",
    "        \n",
    "        return loss\n",
    "    \n",
    "    \n",
    "    def training_epoch_end(self, training_step_outputs):\n",
    "        epsilon = max(self.hparams.eps_end, \n",
    "                      self.hparams.end_start  - self.current_epoch / self.hparams.epsilon_last_episode)\n",
    "    \n"
   ]
  },
  {
   "cell_type": "code",
   "execution_count": null,
   "metadata": {},
   "outputs": [],
   "source": []
  }
 ],
 "metadata": {
  "kernelspec": {
   "display_name": ".venv",
   "language": "python",
   "name": "python3"
  },
  "language_info": {
   "codemirror_mode": {
    "name": "ipython",
    "version": 3
   },
   "file_extension": ".py",
   "mimetype": "text/x-python",
   "name": "python",
   "nbconvert_exporter": "python",
   "pygments_lexer": "ipython3",
   "version": "3.12.3"
  }
 },
 "nbformat": 4,
 "nbformat_minor": 2
}

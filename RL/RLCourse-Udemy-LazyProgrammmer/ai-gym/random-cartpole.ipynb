{
 "cells": [
  {
   "cell_type": "code",
   "execution_count": 2,
   "metadata": {},
   "outputs": [],
   "source": [
    "import sys\n",
    "sys.path.insert(0, '../') # Loading utils\n",
    "import utils"
   ]
  },
  {
   "cell_type": "code",
   "execution_count": 48,
   "metadata": {},
   "outputs": [],
   "source": [
    "from __future__ import print_function, division\n",
    "from builtins import range\n",
    "\n",
    "import gym\n",
    "import numpy as np\n",
    "import matplotlib.pyplot as plt\n",
    "from gym import wrappers"
   ]
  },
  {
   "cell_type": "code",
   "execution_count": 8,
   "metadata": {},
   "outputs": [],
   "source": [
    "def getAction(s,w): \n",
    "    ''' Defines the policy. Returns an action given state and parameters.'''\n",
    "    return 1 if s.dot(w) > 0 else 0"
   ]
  },
  {
   "cell_type": "code",
   "execution_count": 23,
   "metadata": {},
   "outputs": [],
   "source": [
    "def playOneEpisode(env, params):\n",
    "    ''' Plays single episode given parameters'''\n",
    "    observation = env.reset()\n",
    "    done = False\n",
    "    t = 0\n",
    "    \n",
    "    while t < 10000:\n",
    "        t += 1\n",
    "        action = getAction(observation,params)\n",
    "        observation, reward, done, _ = env.step(action)\n",
    "        if done:\n",
    "            break\n",
    "    return t"
   ]
  },
  {
   "cell_type": "code",
   "execution_count": 33,
   "metadata": {},
   "outputs": [],
   "source": [
    "def playMultipleEpisodes(env, numEpisodes, params):\n",
    "    '''Plays muiltple episodes and returns average time taken for episodes '''\n",
    "    episodeLenths = np.empty(numEpisodes)\n",
    "    \n",
    "    for e in range(numEpisodes):\n",
    "        episodeLenths[e] = playOneEpisode(env, params)\n",
    "    \n",
    "    averageLen = np.mean(episodeLenths)\n",
    "    return averageLen"
   ]
  },
  {
   "cell_type": "code",
   "execution_count": 44,
   "metadata": {},
   "outputs": [],
   "source": [
    "def randomSearch(env, numEpisodesToPlay):\n",
    "  ''' Randomly generates the params and plays the game '''\n",
    "  episode_lengths = []\n",
    "  best = 0\n",
    "  params = None\n",
    "  for t in range(numEpisodesToPlay):\n",
    "    new_params = np.random.random(4)*2 - 1\n",
    "    avg_length = playMultipleEpisodes(env, 100, new_params)\n",
    "    episode_lengths.append(avg_length)\n",
    "\n",
    "    if avg_length > best:\n",
    "      params = new_params\n",
    "      best = avg_length\n",
    "  return episode_lengths, params\n"
   ]
  },
  {
   "cell_type": "code",
   "execution_count": 45,
   "metadata": {},
   "outputs": [
    {
     "name": "stdout",
     "output_type": "stream",
     "text": [
      "\u001b[33mWARN: gym.spaces.Box autodetected dtype as <class 'numpy.float32'>. Please provide explicit dtype.\u001b[0m\n"
     ]
    },
    {
     "data": {
      "image/png": "[encoded data removed]",
      "text/plain": [
       "<Figure size 432x288 with 1 Axes>"
      ]
     },
     "metadata": {},
     "output_type": "display_data"
    },
    {
     "name": "stdout",
     "output_type": "stream",
     "text": [
      "***Final run with final weights***\n"
     ]
    },
    {
     "data": {
      "text/plain": [
       "200.0"
      ]
     },
     "execution_count": 45,
     "metadata": {},
     "output_type": "execute_result"
    }
   ],
   "source": [
    "env = gym.make('CartPole-v0')\n",
    "episode_lengths, params = randomSearch(env, 1000)\n",
    "plt.plot(episode_lengths)\n",
    "plt.show()\n",
    "\n",
    "# play a final set of episodes\n",
    "print(\"***Final run with final weights***\")\n",
    "playMultipleEpisodes(env, 100, params)\n"
   ]
  },
  {
   "cell_type": "code",
   "execution_count": 46,
   "metadata": {},
   "outputs": [
    {
     "data": {
      "text/plain": [
       "(array([569.,  86.,  87.,  65.,  44.,  26.,  24.,  24.,  23.,  52.]),\n",
       " array([  8.75 ,  27.875,  47.   ,  66.125,  85.25 , 104.375, 123.5  ,\n",
       "        142.625, 161.75 , 180.875, 200.   ]),\n",
       " <a list of 10 Patch objects>)"
      ]
     },
     "execution_count": 46,
     "metadata": {},
     "output_type": "execute_result"
    },
    {
     "data": {
      "image/png": "[encoded data removed]",
      "text/plain": [
       "<Figure size 432x288 with 1 Axes>"
      ]
     },
     "metadata": {},
     "output_type": "display_data"
    }
   ],
   "source": [
    "plt.hist(episode_lengths)"
   ]
  },
  {
   "cell_type": "code",
   "execution_count": 51,
   "metadata": {},
   "outputs": [
    {
     "name": "stdout",
     "output_type": "stream",
     "text": [
      "\u001b[33mWARN: gym.spaces.Box autodetected dtype as <class 'numpy.float32'>. Please provide explicit dtype.\u001b[0m\n",
      "***Final run with final weights***\n"
     ]
    },
    {
     "data": {
      "text/plain": [
       "200.0"
      ]
     },
     "execution_count": 51,
     "metadata": {},
     "output_type": "execute_result"
    }
   ],
   "source": [
    "# Try wrappers for dumping videos\n",
    "env = gym.make('CartPole-v0')\n",
    "env = wrappers.Monitor(env, 'wrappers_dump')\n",
    "\n",
    "# play a final set of episodes\n",
    "print(\"***Final run with final weights***\")\n",
    "playMultipleEpisodes(env, 100, params)\n"
   ]
  },
  {
   "cell_type": "code",
   "execution_count": null,
   "metadata": {},
   "outputs": [],
   "source": []
  }
 ],
 "metadata": {
  "kernelspec": {
   "display_name": "Python 3",
   "language": "python",
   "name": "python3"
  },
  "language_info": {
   "codemirror_mode": {
    "name": "ipython",
    "version": 3
   },
   "file_extension": ".py",
   "mimetype": "text/x-python",
   "name": "python",
   "nbconvert_exporter": "python",
   "pygments_lexer": "ipython3",
   "version": "3.5.2"
  }
 },
 "nbformat": 4,
 "nbformat_minor": 2
}

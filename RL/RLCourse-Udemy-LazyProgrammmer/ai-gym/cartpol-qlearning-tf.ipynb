{
 "cells": [
  {
   "cell_type": "code",
   "execution_count": 1,
   "metadata": {},
   "outputs": [],
   "source": [
    "from __future__ import print_function, division\n",
    "from builtins import range"
   ]
  },
  {
   "cell_type": "code",
   "execution_count": 3,
   "metadata": {},
   "outputs": [],
   "source": [
    "import gym\n",
    "import os\n",
    "import sys\n",
    "import numpy as np\n",
    "import matplotlib.pyplot as plt\n",
    "from gym import wrappers\n",
    "from datetime import datetime\n",
    "from sklearn.pipeline import FeatureUnion\n",
    "from sklearn.preprocessing import StandardScaler\n",
    "from sklearn.kernel_approximation import RBFSampler\n",
    "import tensorflow as tf"
   ]
  },
  {
   "cell_type": "code",
   "execution_count": 4,
   "metadata": {},
   "outputs": [],
   "source": [
    "def plot_running_avg(totalrewards):\n",
    "  N = len(totalrewards)\n",
    "  running_avg = np.empty(N)                  \n",
    "  for t in range(N): \n",
    "    running_avg[t] = totalrewards[max(0, t-100):(t+1)].mean()                          \n",
    "  plt.plot(running_avg)\n",
    "  plt.title(\"Running Average\")                                                                        \n",
    "  plt.show()   "
   ]
  },
  {
   "cell_type": "code",
   "execution_count": 5,
   "metadata": {},
   "outputs": [],
   "source": [
    "class SGDRegressor:\n",
    "  def __init__(self, D):\n",
    "    print(\"Hello TensorFlow!\")\n",
    "    lr = 0.1\n",
    "\n",
    "    # create inputs, targets, params\n",
    "    # matmul doesn't like when w is 1-D\n",
    "    # so we make it 2-D and then flatten the prediction\n",
    "    self.w = tf.Variable(tf.random_normal(shape=(D, 1)), name='w')\n",
    "    self.X = tf.placeholder(tf.float32, shape=(None, D), name='X')\n",
    "    self.Y = tf.placeholder(tf.float32, shape=(None,), name='Y')\n",
    "\n",
    "    # make prediction and cost\n",
    "    Y_hat = tf.reshape( tf.matmul(self.X, self.w), [-1] )\n",
    "    delta = self.Y - Y_hat\n",
    "    cost = tf.reduce_sum(delta * delta)\n",
    "\n",
    "    # ops we want to call later\n",
    "    self.train_op = tf.train.GradientDescentOptimizer(lr).minimize(cost)\n",
    "    self.predict_op = Y_hat\n",
    "  \n",
    "    # start the session and initialize params\n",
    "    init = tf.global_variables_initializer()\n",
    "    self.session = tf.InteractiveSession()\n",
    "    self.session.run(init)\n",
    "\n",
    "  def partial_fit(self, X, Y):\n",
    "    self.session.run(self.train_op, feed_dict={self.X: X, self.Y: Y})\n",
    "\n",
    "  def predict(self, X):\n",
    "    return self.session.run(self.predict_op, feed_dict={self.X: X})\n"
   ]
  },
  {
   "cell_type": "code",
   "execution_count": 6,
   "metadata": {},
   "outputs": [],
   "source": [
    "class FeatureTransformer:                                      \n",
    "  def __init__(self, env):                                     \n",
    "    # observation_examples = np.array([env.observation_space.sample() for x in range(10000)])\n",
    "    # NOTE!! state samples are poor, b/c you get velocities --> infinity\n",
    "    observation_examples = np.random.random((20000, 4))*2 - 1                          \n",
    "    scaler = StandardScaler()      \n",
    "    scaler.fit(observation_examples)           \n",
    "    \n",
    "    # Used to converte a state to a featurizes represenation.\n",
    "    # We use RBF kernels with different variances to cover different parts of the space\n",
    "    featurizer = FeatureUnion([\n",
    "            (\"rbf1\", RBFSampler(gamma=0.05, n_components=1000)),\n",
    "            (\"rbf2\", RBFSampler(gamma=1.0, n_components=1000)),\n",
    "            (\"rbf3\", RBFSampler(gamma=0.5, n_components=1000)),\n",
    "            (\"rbf4\", RBFSampler(gamma=0.1, n_components=1000))\n",
    "            ]) \n",
    "    feature_examples = featurizer.fit_transform(scaler.transform(observation_examples))\n",
    "    \n",
    "    self.dimensions = feature_examples.shape[1]\n",
    "    self.scaler = scaler\n",
    "    self.featurizer = featurizer\n",
    "      \n",
    "  def transform(self, observations):\n",
    "    scaled = self.scaler.transform(observations)\n",
    "    return self.featurizer.transform(scaled)\n"
   ]
  },
  {
   "cell_type": "code",
   "execution_count": 7,
   "metadata": {},
   "outputs": [],
   "source": [
    "# Holds one SGDRegressor for each action\n",
    "class Model:\n",
    "  def __init__(self, env, feature_transformer):\n",
    "    self.env = env\n",
    "    self.models = []\n",
    "    self.feature_transformer = feature_transformer\n",
    "    for i in range(env.action_space.n):\n",
    "      model = SGDRegressor(feature_transformer.dimensions)\n",
    "      self.models.append(model)\n",
    "\n",
    "  def predict(self, s):\n",
    "    X = self.feature_transformer.transform(np.atleast_2d(s))\n",
    "    result = np.stack([m.predict(X) for m in self.models]).T\n",
    "    return result\n",
    "\n",
    "  def update(self, s, a, G):\n",
    "    X = self.feature_transformer.transform(np.atleast_2d(s))\n",
    "    self.models[a].partial_fit(X, [G])\n",
    "\n",
    "  def sample_action(self, s, eps):\n",
    "    if np.random.random() < eps:\n",
    "      return self.env.action_space.sample()\n",
    "    else:\n",
    "      return np.argmax(self.predict(s))\n"
   ]
  },
  {
   "cell_type": "code",
   "execution_count": 8,
   "metadata": {},
   "outputs": [],
   "source": [
    "def play_one(env, model, eps, gamma):\n",
    "  observation = env.reset()\n",
    "  done = False\n",
    "  totalreward = 0\n",
    "  iters = 0\n",
    "  while not done and iters < 2000:\n",
    "    # if we reach 2000, just quit, don't want this going forever\n",
    "    # the 200 limit seems a bit early\n",
    "    action = model.sample_action(observation, eps)\n",
    "    prev_observation = observation\n",
    "    observation, reward, done, info = env.step(action)\n",
    "\n",
    "    if done:\n",
    "      reward = -200\n",
    "\n",
    "    # update the model\n",
    "    next = model.predict(observation)\n",
    "    # print(next.shape)\n",
    "    assert(next.shape == (1, env.action_space.n))\n",
    "    G = reward + gamma*np.max(next)\n",
    "    model.update(prev_observation, action, G)\n",
    "\n",
    "    if reward == 1: # if we changed the reward to -200\n",
    "      totalreward += reward\n",
    "    iters += 1\n",
    "\n",
    "  return totalreward\n"
   ]
  },
  {
   "cell_type": "code",
   "execution_count": 9,
   "metadata": {},
   "outputs": [],
   "source": [
    "def main():\n",
    "  env = gym.make('CartPole-v0')\n",
    "  ft = FeatureTransformer(env)\n",
    "  model = Model(env, ft)\n",
    "  gamma = 0.99\n",
    "\n",
    "  if 'monitor' in sys.argv:\n",
    "    filename = os.path.basename(__file__).split('.')[0]\n",
    "    monitor_dir = './' + filename + '_' + str(datetime.now())\n",
    "    env = wrappers.Monitor(env, monitor_dir)\n",
    "\n",
    "\n",
    "  N = 500\n",
    "  totalrewards = np.empty(N)\n",
    "  costs = np.empty(N)\n",
    "  for n in range(N):\n",
    "    eps = 1.0/np.sqrt(n+1)\n",
    "    totalreward = play_one(env, model, eps, gamma)\n",
    "    totalrewards[n] = totalreward\n",
    "    if n % 100 == 0:\n",
    "      print(\"episode:\", n, \"total reward:\", totalreward, \"eps:\", eps, \"avg reward (last 100):\", totalrewards[max(0, n-100):(n+1)].mean())\n",
    "\n",
    "  print(\"avg reward for last 100 episodes:\", totalrewards[-100:].mean())\n",
    "  print(\"total steps:\", totalrewards.sum())\n",
    "\n",
    "  plt.plot(totalrewards)\n",
    "  plt.title(\"Rewards\")\n",
    "  plt.show()\n",
    "\n",
    "  plot_running_avg(totalrewards)\n"
   ]
  },
  {
   "cell_type": "code",
   "execution_count": 10,
   "metadata": {},
   "outputs": [
    {
     "name": "stdout",
     "output_type": "stream",
     "text": [
      "\u001b[33mWARN: gym.spaces.Box autodetected dtype as <class 'numpy.float32'>. Please provide explicit dtype.\u001b[0m\n",
      "Hello TensorFlow!\n",
      "Hello TensorFlow!\n"
     ]
    },
    {
     "name": "stderr",
     "output_type": "stream",
     "text": [
      "/home/ankdesh/virtualenvs/general/lib/python3.5/site-packages/tensorflow/python/client/session.py:1714: UserWarning: An interactive session is already active. This can cause out-of-memory errors in some cases. You must explicitly call `InteractiveSession.close()` to release resources held by the other session(s).\n",
      "  warnings.warn('An interactive session is already active. This can '\n"
     ]
    },
    {
     "name": "stdout",
     "output_type": "stream",
     "text": [
      "episode: 0 total reward: 12.0 eps: 1.0 avg reward (last 100): 12.0\n",
      "episode: 100 total reward: 199.0 eps: 0.09950371902099892 avg reward (last 100): 101.0990099009901\n",
      "episode: 200 total reward: 199.0 eps: 0.07053456158585983 avg reward (last 100): 189.62376237623764\n",
      "episode: 300 total reward: 199.0 eps: 0.0576390417704235 avg reward (last 100): 169.16831683168317\n",
      "episode: 400 total reward: 199.0 eps: 0.04993761694389223 avg reward (last 100): 189.05940594059405\n",
      "avg reward for last 100 episodes: 198.96\n",
      "total steps: 84644.0\n"
     ]
    },
    {
     "data": {
      "image/png": "[encoded data removed]",
      "text/plain": [
       "<Figure size 432x288 with 1 Axes>"
      ]
     },
     "metadata": {},
     "output_type": "display_data"
    },
    {
     "data": {
      "image/png": "[encoded data removed]",
      "text/plain": [
       "<Figure size 432x288 with 1 Axes>"
      ]
     },
     "metadata": {},
     "output_type": "display_data"
    }
   ],
   "source": [
    "main()"
   ]
  },
  {
   "cell_type": "code",
   "execution_count": null,
   "metadata": {},
   "outputs": [],
   "source": []
  }
 ],
 "metadata": {
  "kernelspec": {
   "display_name": "Python 3",
   "language": "python",
   "name": "python3"
  },
  "language_info": {
   "codemirror_mode": {
    "name": "ipython",
    "version": 3
   },
   "file_extension": ".py",
   "mimetype": "text/x-python",
   "name": "python",
   "nbconvert_exporter": "python",
   "pygments_lexer": "ipython3",
   "version": "3.5.2"
  }
 },
 "nbformat": 4,
 "nbformat_minor": 2
}

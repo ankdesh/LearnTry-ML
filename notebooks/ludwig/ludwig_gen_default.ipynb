{
 "cells": [
  {
   "cell_type": "code",
   "execution_count": 1,
   "metadata": {},
   "outputs": [
    {
     "name": "stderr",
     "output_type": "stream",
     "text": [
      "/home/ankdesh/explore/.venv/lib/python3.10/site-packages/tqdm/auto.py:21: TqdmWarning: IProgress not found. Please update jupyter and ipywidgets. See https://ipywidgets.readthedocs.io/en/stable/user_install.html\n",
      "  from .autonotebook import tqdm as notebook_tqdm\n",
      "/home/ankdesh/explore/.venv/lib/python3.10/site-packages/torch/cuda/__init__.py:118: UserWarning: CUDA initialization: Unexpected error from cudaGetDeviceCount(). Did you run some cuda functions before calling NumCudaDevices() that might have already set an error? Error 804: forward compatibility was attempted on non supported HW (Triggered internally at ../c10/cuda/CUDAFunctions.cpp:108.)\n",
      "  return torch._C._cuda_getDeviceCount() > 0\n",
      "/home/ankdesh/explore/.venv/lib/python3.10/site-packages/bitsandbytes/cextension.py:34: UserWarning: The installed version of bitsandbytes was compiled without GPU support. 8-bit optimizers, 8-bit multiplication, and GPU quantization are unavailable.\n",
      "  warn(\"The installed version of bitsandbytes was compiled without GPU support. \"\n"
     ]
    },
    {
     "name": "stdout",
     "output_type": "stream",
     "text": [
      "/home/ankdesh/explore/.venv/lib/python3.10/site-packages/bitsandbytes/libbitsandbytes_cpu.so: undefined symbol: cadam32bit_grad_fp32\n"
     ]
    },
    {
     "name": "stderr",
     "output_type": "stream",
     "text": [
      "/home/ankdesh/explore/.venv/lib/python3.10/site-packages/torch/cuda/__init__.py:619: UserWarning: Can't initialize NVML\n",
      "  warnings.warn(\"Can't initialize NVML\")\n"
     ]
    }
   ],
   "source": [
    "from ludwig.api import LudwigModel\n",
    "import pandas as pd"
   ]
  },
  {
   "cell_type": "code",
   "execution_count": 3,
   "metadata": {},
   "outputs": [],
   "source": [
    "df = pd.read_csv('/home/ankdesh/temp/rotten_tomatoes.csv')"
   ]
  },
  {
   "cell_type": "code",
   "execution_count": 4,
   "metadata": {},
   "outputs": [
    {
     "name": "stdout",
     "output_type": "stream",
     "text": [
      "Unnamed: 0          int64\n",
      "movie_title        object\n",
      "content_rating     object\n",
      "genres             object\n",
      "runtime           float64\n",
      "top_critic           bool\n",
      "review_content     object\n",
      "recommended         int64\n",
      "dtype: object\n"
     ]
    }
   ],
   "source": [
    "print (df.dtypes)"
   ]
  },
  {
   "cell_type": "code",
   "execution_count": 5,
   "metadata": {},
   "outputs": [],
   "source": [
    "def process_column(col) -> None:\n",
    "    print (col.name, col.dtypes)"
   ]
  },
  {
   "cell_type": "code",
   "execution_count": 6,
   "metadata": {},
   "outputs": [],
   "source": [
    "def is_categorical (col, threshold_entries=10):\n",
    "        if df[col].nunique() <= threshold_entries:\n",
    "            return True\n",
    "        else:\n",
    "            return False "
   ]
  },
  {
   "cell_type": "code",
   "execution_count": 7,
   "metadata": {},
   "outputs": [],
   "source": [
    "def predict_ludwig_type(col)->str:\n",
    "    if pd.api.types.is_integer_dtype(col):\n",
    "        if is_categorical (col):\n",
    "            return \"category\"\n",
    "        else: \n",
    "            return \"number\"\n",
    "    \n",
    "    elif pd.api.types.is_float_dtype(col):\n",
    "        return \"number\"\n",
    "    \n",
    "    elif pd.api.types.is_bool_dtype(col):\n",
    "        return \"binary\"\n",
    "    \n",
    "    elif pd.api.types.is_datetime64_any_dtype(col):\n",
    "        return \"date\"\n",
    "        \n",
    "    elif pd.api.types.is_object_dtype(col):\n",
    "        return \"text\""
   ]
  },
  {
   "cell_type": "code",
   "execution_count": 9,
   "metadata": {},
   "outputs": [],
   "source": [
    "import pandas as pd\n",
    "\n",
    "def infer_ludwig_dtype(column, categorical_threshold=3):\n",
    "    \"\"\"\n",
    "    Infer the Ludwig data type for a Pandas DataFrame column.\n",
    "\n",
    "    Parameters:\n",
    "    column (pd.Series): The column to infer the data type for.\n",
    "    categorical_threshold (float): The maximum number of unique values to consider a column as categorical.\n",
    "\n",
    "    Returns:\n",
    "    str: The inferred Ludwig data type.\n",
    "    \"\"\"\n",
    "    if pd.api.types.is_bool_dtype(column):\n",
    "        return 'binary'\n",
    "    elif pd.api.types.is_integer_dtype(column):\n",
    "        # Check if integer column should be treated as categorical\n",
    "        if column.nunique() <= categorical_threshold:\n",
    "            return 'category'\n",
    "        else:\n",
    "            return 'numerical'\n",
    "    elif pd.api.types.is_float_dtype(column):\n",
    "        return 'numerical'\n",
    "    elif isinstance(column.dtype, pd.CategoricalDtype):\n",
    "        return 'category'\n",
    "    elif pd.api.types.is_object_dtype(column):\n",
    "        # Further check if it is text or category based on unique values\n",
    "        if column.nunique() <= categorical_threshold:\n",
    "            return 'category'\n",
    "        else:\n",
    "            return 'text'\n",
    "    elif pd.api.types.is_string_dtype(column):\n",
    "        return 'text'\n",
    "    elif pd.api.types.is_datetime64_any_dtype(column):\n",
    "        return 'date'\n",
    "    else:\n",
    "        # Default to text if the type is not recognized\n",
    "        return 'text'\n",
    "\n"
   ]
  },
  {
   "cell_type": "code",
   "execution_count": 10,
   "metadata": {},
   "outputs": [
    {
     "name": "stdout",
     "output_type": "stream",
     "text": [
      "Column 'integer' is inferred as Ludwig datatype 'numerical'\n",
      "Column 'float' is inferred as Ludwig datatype 'numerical'\n",
      "Column 'boolean' is inferred as Ludwig datatype 'binary'\n",
      "Column 'string' is inferred as Ludwig datatype 'text'\n",
      "Column 'datetime' is inferred as Ludwig datatype 'date'\n",
      "Column 'category' is inferred as Ludwig datatype 'category'\n",
      "Column 'int_category' is inferred as Ludwig datatype 'category'\n"
     ]
    }
   ],
   "source": [
    "# Sample usage\n",
    "data = {\n",
    "    'integer': [1, 2, 3, 4, 5, 6],\n",
    "    'float': [1.1, 2.2, 3.3, 4.4, 5.5, 6.6],\n",
    "    'boolean': [True, False, True, False, True, False],\n",
    "    'string': ['text', 'more text', 'another text', 'text again', 'more text', 'another text'],\n",
    "    'datetime': pd.to_datetime(['2023-01-01', '2023-01-02', '2023-01-03', '2023-01-04', '2023-01-05', '2023-01-06']),\n",
    "    'category': pd.Series(['a', 'b', 'a', 'b', 'a', 'b'], dtype='category'),\n",
    "    'int_category': [1, 1, 2, 2, 3, 3]  # Integer column that should be categorical\n",
    "}\n",
    "\n",
    "df = pd.DataFrame(data)\n",
    "\n",
    "# Test the function\n",
    "for column in df.columns:\n",
    "    print(f\"Column '{column}' is inferred as Ludwig datatype '{infer_ludwig_dtype(df[column])}'\")"
   ]
  },
  {
   "cell_type": "code",
   "execution_count": 11,
   "metadata": {},
   "outputs": [],
   "source": [
    "import pandas as pd\n",
    "\n",
    "def infer_ludwig_dtype(column, categorical_threshold=0.1):\n",
    "    \"\"\"\n",
    "    Infer the Ludwig data type for a Pandas DataFrame column.\n",
    "\n",
    "    Parameters:\n",
    "    column (pd.Series): The column to infer the data type for.\n",
    "    categorical_threshold (float): The maximum proportion of unique values to consider a column as categorical.\n",
    "\n",
    "    Returns:\n",
    "    str: The inferred Ludwig data type.\n",
    "    \"\"\"\n",
    "    if pd.api.types.is_bool_dtype(column):\n",
    "        return 'binary'\n",
    "    elif pd.api.types.is_integer_dtype(column):\n",
    "        # Check if integer column should be treated as categorical\n",
    "        if column.nunique() / column.size <= categorical_threshold:\n",
    "            return 'category'\n",
    "        else:\n",
    "            return 'numerical'\n",
    "    elif pd.api.types.is_float_dtype(column):\n",
    "        return 'numerical'\n",
    "    elif pd.api.types.is_categorical_dtype(column):\n",
    "        return 'category'\n",
    "    elif pd.api.types.is_object_dtype(column):\n",
    "        # Further check if it is text or category based on unique values\n",
    "        if column.nunique() / column.size <= categorical_threshold:\n",
    "            return 'category'\n",
    "        else:\n",
    "            return 'text'\n",
    "    elif pd.api.types.is_string_dtype(column):\n",
    "        return 'text'\n",
    "    elif pd.api.types.is_datetime64_any_dtype(column):\n",
    "        return 'date'\n",
    "    else:\n",
    "        # Default to text if the type is not recognized\n",
    "        return 'text'\n",
    "\n",
    "def generate_ludwig_config(df, target_column):\n",
    "    \"\"\"\n",
    "    Generate the input field of a Ludwig configuration file based on the DataFrame's columns.\n",
    "\n",
    "    Parameters:\n",
    "    df (pd.DataFrame): The input DataFrame.\n",
    "    target_column (str): The name of the target column.\n",
    "\n",
    "    Returns:\n",
    "    dict: The input field of the Ludwig configuration file.\n",
    "    \"\"\"\n",
    "    input_features = []\n",
    "    for column in df.columns:\n",
    "        if column == target_column:\n",
    "            continue\n",
    "        ludwig_type = infer_ludwig_dtype(df[column])\n",
    "        input_features.append({\n",
    "            'name': column,\n",
    "            'type': ludwig_type\n",
    "        })\n",
    "    \n",
    "    output_features = [{\n",
    "        'name': target_column,\n",
    "        'type': infer_ludwig_dtype(df[target_column])\n",
    "    }]\n",
    "    \n",
    "    config = {\n",
    "        'input_features': input_features,\n",
    "        'output_features': output_features\n",
    "    }\n",
    "    return config\n",
    "\n",
    "# Sample usage\n",
    "data = {\n",
    "    'integer': [1, 2, 3, 4, 5, 6],\n",
    "    'float': [1.1, 2.2, 3.3, 4.4, 5.5, 6.6],\n",
    "    'boolean': [True, False, True, False, True, False],\n",
    "    'string': ['text', 'more text', 'another text', 'text again', 'more text', 'another text'],\n",
    "    'datetime': pd.to_datetime(['2023-01-01', '2023-01-02', '2023-01-03', '2023-01-04', '2023-01-05', '2023-01-06']),\n",
    "    'category': pd.Series(['a', 'b', 'a', 'b', 'a', 'b'], dtype='category'),\n",
    "    'int_category': [1, 1, 2, 2, 3, 3],  # Integer column that should be categorical\n",
    "    'target': [0, 1, 0, 1, 0, 1]  # Target column for the output feature\n",
    "}\n",
    "\n"
   ]
  },
  {
   "cell_type": "code",
   "execution_count": 16,
   "metadata": {},
   "outputs": [
    {
     "name": "stderr",
     "output_type": "stream",
     "text": [
      "/tmp/ipykernel_76040/2011940009.py:24: DeprecationWarning: is_categorical_dtype is deprecated and will be removed in a future version. Use isinstance(dtype, pd.CategoricalDtype) instead\n",
      "  elif pd.api.types.is_categorical_dtype(column):\n"
     ]
    },
    {
     "data": {
      "text/plain": [
       "{'input_features': [{'name': 'Unnamed: 0', 'type': 'numerical'},\n",
       "  {'name': 'movie_title', 'type': 'text'},\n",
       "  {'name': 'content_rating', 'type': 'category'},\n",
       "  {'name': 'genres', 'type': 'category'},\n",
       "  {'name': 'runtime', 'type': 'numerical'},\n",
       "  {'name': 'top_critic', 'type': 'binary'},\n",
       "  {'name': 'review_content', 'type': 'text'}],\n",
       " 'output_features': [{'name': 'recommended', 'type': 'category'}]}"
      ]
     },
     "execution_count": 16,
     "metadata": {},
     "output_type": "execute_result"
    }
   ],
   "source": [
    "df = pd.read_csv('/home/ankdesh/temp/rotten_tomatoes.csv')\n",
    "# Generate Ludwig config\n",
    "config = generate_ludwig_config(df, 'recommended')\n",
    "config\n"
   ]
  },
  {
   "cell_type": "code",
   "execution_count": 17,
   "metadata": {},
   "outputs": [],
   "source": [
    "import yaml"
   ]
  },
  {
   "cell_type": "code",
   "execution_count": 18,
   "metadata": {},
   "outputs": [],
   "source": [
    "yaml.dump(config,open(\"gen_config.yaml\", \"w\"))"
   ]
  },
  {
   "cell_type": "code",
   "execution_count": 19,
   "metadata": {},
   "outputs": [],
   "source": [
    "model = LudwigModel(config='gen_config.yaml')"
   ]
  },
  {
   "cell_type": "code",
   "execution_count": 20,
   "metadata": {},
   "outputs": [
    {
     "name": "stderr",
     "output_type": "stream",
     "text": [
      "/home/ankdesh/explore/.venv/lib/python3.10/site-packages/torch/nn/modules/conv.py:306: UserWarning: Using padding='same' with even kernel lengths and odd dilation may require a zero-padded copy of the input be created (Triggered internally at ../aten/src/ATen/native/Convolution.cpp:1031.)\n",
      "  return F.conv1d(input, weight, bias, self.stride,\n"
     ]
    }
   ],
   "source": [
    "results = model.train(dataset=df)"
   ]
  },
  {
   "cell_type": "code",
   "execution_count": 23,
   "metadata": {},
   "outputs": [
    {
     "data": {
      "text/plain": [
       "{'recommended': {'accuracy': [0.706938624382019,\n",
       "   0.8636952638626099,\n",
       "   0.932355523109436,\n",
       "   0.9702885150909424,\n",
       "   0.9878581166267395,\n",
       "   0.9909813404083252,\n",
       "   0.9931337833404541],\n",
       "  'accuracy_micro': [0.7391071319580078,\n",
       "   0.8750595450401306,\n",
       "   0.93729168176651,\n",
       "   0.9727380871772766,\n",
       "   0.9888392686843872,\n",
       "   0.9916964173316956,\n",
       "   0.9936309456825256],\n",
       "  'loss': [0.55918949842453,\n",
       "   0.29113084077835083,\n",
       "   0.15384788811206818,\n",
       "   0.07121182978153229,\n",
       "   0.031082915142178535,\n",
       "   0.023528484627604485,\n",
       "   0.01919330656528473],\n",
       "  'roc_auc': [0.7935038805007935,\n",
       "   0.9439418315887451,\n",
       "   0.9843692779541016,\n",
       "   0.996536910533905,\n",
       "   0.9993084669113159,\n",
       "   0.9995951652526855,\n",
       "   0.9997155666351318]},\n",
       " 'combined': {'loss': [0.55918949842453,\n",
       "   0.29113084077835083,\n",
       "   0.15384788811206818,\n",
       "   0.07121182978153229,\n",
       "   0.031082915142178535,\n",
       "   0.023528484627604485,\n",
       "   0.01919330656528473]}}"
      ]
     },
     "execution_count": 23,
     "metadata": {},
     "output_type": "execute_result"
    }
   ],
   "source": [
    "results.train_stats.training"
   ]
  },
  {
   "cell_type": "code",
   "execution_count": null,
   "metadata": {},
   "outputs": [],
   "source": []
  }
 ],
 "metadata": {
  "kernelspec": {
   "display_name": ".venv",
   "language": "python",
   "name": "python3"
  },
  "language_info": {
   "codemirror_mode": {
    "name": "ipython",
    "version": 3
   },
   "file_extension": ".py",
   "mimetype": "text/x-python",
   "name": "python",
   "nbconvert_exporter": "python",
   "pygments_lexer": "ipython3",
   "version": "3.10.12"
  }
 },
 "nbformat": 4,
 "nbformat_minor": 2
}

{
 "cells": [
  {
   "cell_type": "code",
   "execution_count": 1,
   "metadata": {},
   "outputs": [
    {
     "name": "stderr",
     "output_type": "stream",
     "text": [
      "/home/ankdesh/explore/.venv/lib/python3.10/site-packages/tqdm/auto.py:21: TqdmWarning: IProgress not found. Please update jupyter and ipywidgets. See https://ipywidgets.readthedocs.io/en/stable/user_install.html\n",
      "  from .autonotebook import tqdm as notebook_tqdm\n",
      "/home/ankdesh/explore/.venv/lib/python3.10/site-packages/torch/cuda/__init__.py:118: UserWarning: CUDA initialization: Unexpected error from cudaGetDeviceCount(). Did you run some cuda functions before calling NumCudaDevices() that might have already set an error? Error 804: forward compatibility was attempted on non supported HW (Triggered internally at ../c10/cuda/CUDAFunctions.cpp:108.)\n",
      "  return torch._C._cuda_getDeviceCount() > 0\n",
      "/home/ankdesh/explore/.venv/lib/python3.10/site-packages/bitsandbytes/cextension.py:34: UserWarning: The installed version of bitsandbytes was compiled without GPU support. 8-bit optimizers, 8-bit multiplication, and GPU quantization are unavailable.\n",
      "  warn(\"The installed version of bitsandbytes was compiled without GPU support. \"\n"
     ]
    },
    {
     "name": "stdout",
     "output_type": "stream",
     "text": [
      "/home/ankdesh/explore/.venv/lib/python3.10/site-packages/bitsandbytes/libbitsandbytes_cpu.so: undefined symbol: cadam32bit_grad_fp32\n"
     ]
    },
    {
     "name": "stderr",
     "output_type": "stream",
     "text": [
      "/home/ankdesh/explore/.venv/lib/python3.10/site-packages/torch/cuda/__init__.py:619: UserWarning: Can't initialize NVML\n",
      "  warnings.warn(\"Can't initialize NVML\")\n"
     ]
    }
   ],
   "source": [
    "from ludwig.api import LudwigModel\n",
    "import pandas as pd"
   ]
  },
  {
   "cell_type": "code",
   "execution_count": 2,
   "metadata": {},
   "outputs": [],
   "source": [
    "df = pd.read_csv('/home/ankdesh/temp/rotten_tomatoes.csv')"
   ]
  },
  {
   "cell_type": "code",
   "execution_count": 5,
   "metadata": {},
   "outputs": [],
   "source": [
    "model = LudwigModel(config='rotten_tomato_config.yaml')"
   ]
  },
  {
   "cell_type": "code",
   "execution_count": 6,
   "metadata": {},
   "outputs": [],
   "source": [
    "results = model.train(dataset=df)"
   ]
  },
  {
   "cell_type": "code",
   "execution_count": 11,
   "metadata": {},
   "outputs": [
    {
     "data": {
      "text/plain": [
       "{'recommended': {'accuracy': [0.7127083539962769,\n",
       "   0.6370833516120911,\n",
       "   0.622083306312561,\n",
       "   0.7024999856948853,\n",
       "   0.6320833563804626,\n",
       "   0.7318750023841858,\n",
       "   0.7366666793823242,\n",
       "   0.7639583349227905,\n",
       "   0.7483333349227905,\n",
       "   0.7089583277702332,\n",
       "   0.7481250166893005,\n",
       "   0.7322916388511658,\n",
       "   0.7258333563804626],\n",
       "  'loss': [0.6094992160797119,\n",
       "   0.7701447010040283,\n",
       "   0.8399535417556763,\n",
       "   0.8587579131126404,\n",
       "   0.9556824564933777,\n",
       "   0.7384754419326782,\n",
       "   0.7756580710411072,\n",
       "   0.647132396697998,\n",
       "   0.6720603108406067,\n",
       "   0.8417708277702332,\n",
       "   0.7472761869430542,\n",
       "   0.7886767387390137,\n",
       "   0.8058766722679138],\n",
       "  'precision': [0.7229011654853821,\n",
       "   0.895369827747345,\n",
       "   0.9043591618537903,\n",
       "   0.6891107559204102,\n",
       "   0.9021806716918945,\n",
       "   0.7349973320960999,\n",
       "   0.7287573218345642,\n",
       "   0.7911622524261475,\n",
       "   0.7863115668296814,\n",
       "   0.8599306344985962,\n",
       "   0.7743467688560486,\n",
       "   0.8426140546798706,\n",
       "   0.8239672780036926],\n",
       "  'recall': [0.8900883197784424,\n",
       "   0.48707884550094604,\n",
       "   0.45469415187835693,\n",
       "   0.9708864688873291,\n",
       "   0.4736669957637787,\n",
       "   0.9054628610610962,\n",
       "   0.9342492818832397,\n",
       "   0.8550866842269897,\n",
       "   0.8305528163909912,\n",
       "   0.6486751437187195,\n",
       "   0.8531239628791809,\n",
       "   0.712790310382843,\n",
       "   0.7242394685745239],\n",
       "  'roc_auc': [0.7694103121757507,\n",
       "   0.8034427762031555,\n",
       "   0.8156307339668274,\n",
       "   0.8101458549499512,\n",
       "   0.8166788816452026,\n",
       "   0.8048784136772156,\n",
       "   0.8162844181060791,\n",
       "   0.8180645108222961,\n",
       "   0.8141454458236694,\n",
       "   0.8094522953033447,\n",
       "   0.8032649159431458,\n",
       "   0.8127182722091675,\n",
       "   0.8039894104003906],\n",
       "  'specificity': [0.4016064405441284,\n",
       "   0.9001721143722534,\n",
       "   0.9156626462936401,\n",
       "   0.23178428411483765,\n",
       "   0.9099254012107849,\n",
       "   0.42742398381233215,\n",
       "   0.39013195037841797,\n",
       "   0.6041308045387268,\n",
       "   0.6041308045387268,\n",
       "   0.8146873116493225,\n",
       "   0.563970148563385,\n",
       "   0.7664945721626282,\n",
       "   0.7286288142204285]},\n",
       " 'combined': {'loss': [0.6094992160797119,\n",
       "   0.7701447010040283,\n",
       "   0.8399535417556763,\n",
       "   0.8587579131126404,\n",
       "   0.9556824564933777,\n",
       "   0.7384754419326782,\n",
       "   0.7756580710411072,\n",
       "   0.647132396697998,\n",
       "   0.6720603108406067,\n",
       "   0.8417708277702332,\n",
       "   0.7472761869430542,\n",
       "   0.7886767387390137,\n",
       "   0.8058766722679138]}}"
      ]
     },
     "execution_count": 11,
     "metadata": {},
     "output_type": "execute_result"
    }
   ],
   "source": [
    "results.train_stats.validation"
   ]
  },
  {
   "cell_type": "code",
   "execution_count": null,
   "metadata": {},
   "outputs": [],
   "source": []
  }
 ],
 "metadata": {
  "kernelspec": {
   "display_name": ".venv",
   "language": "python",
   "name": "python3"
  },
  "language_info": {
   "codemirror_mode": {
    "name": "ipython",
    "version": 3
   },
   "file_extension": ".py",
   "mimetype": "text/x-python",
   "name": "python",
   "nbconvert_exporter": "python",
   "pygments_lexer": "ipython3",
   "version": "3.10.12"
  }
 },
 "nbformat": 4,
 "nbformat_minor": 2
}

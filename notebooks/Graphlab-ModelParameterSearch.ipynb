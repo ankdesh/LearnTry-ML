{
 "cells": [
  {
   "cell_type": "code",
   "execution_count": 6,
   "metadata": {
    "collapsed": false
   },
   "outputs": [],
   "source": [
    "import graphlab\n",
    "from graphlab import model_parameter_search"
   ]
  },
  {
   "cell_type": "code",
   "execution_count": 2,
   "metadata": {
    "collapsed": false
   },
   "outputs": [
    {
     "name": "stderr",
     "output_type": "stream",
     "text": [
      "[INFO] GraphLab Create v1.8.2 started. Logging: /tmp/graphlab_server_1460391162.log\n"
     ]
    },
    {
     "data": {
      "text/html": [
       "<pre>Finished parsing file /home/ankdesh/explore/learntry/MachineLearning/Data/regressionData.csv</pre>"
      ],
      "text/plain": [
       "Finished parsing file /home/ankdesh/explore/learntry/MachineLearning/Data/regressionData.csv"
      ]
     },
     "metadata": {},
     "output_type": "display_data"
    },
    {
     "name": "stdout",
     "output_type": "stream",
     "text": [
      "------------------------------------------------------\n",
      "Inferred types from first line of file as \n",
      "column_type_hints=[float,float,float,float,int]\n",
      "If parsing fails due to incorrect types, you can correct\n",
      "the inferred type list above and pass it to read_csv in\n",
      "the column_type_hints argument\n",
      "------------------------------------------------------\n"
     ]
    }
   ],
   "source": [
    "data = graphlab.SFrame.read_csv('../Data/regressionData.csv')"
   ]
  },
  {
   "cell_type": "code",
   "execution_count": 7,
   "metadata": {
    "collapsed": false
   },
   "outputs": [],
   "source": [
    "training, validation = data.random_split(0.8)\n",
    "params = {'target': 'X'}"
   ]
  },
  {
   "cell_type": "code",
   "execution_count": 8,
   "metadata": {
    "collapsed": false
   },
   "outputs": [
    {
     "name": "stderr",
     "output_type": "stream",
     "text": [
      "[INFO] Validating job.\n",
      "[INFO] Creating a LocalAsync environment called 'async'.\n",
      "[INFO] Validation complete. Job: 'Model-Parameter-Search-Apr-11-2016-22-22-0800000' ready for execution\n"
     ]
    },
    {
     "name": "stdout",
     "output_type": "stream",
     "text": [
      "/home/ankdesh/.graphlab/artifacts/results/job-results-9cb0f603-35ee-4eee-b3de-f9614065d71c/job-definition/26490013-e82b-411e-b838-c13890295961\n",
      "/home/ankdesh/.graphlab/artifacts/results/job-results-9cb0f603-35ee-4eee-b3de-f9614065d71c/job-definition/d750e198-fdda-449e-863c-853c444d2982"
     ]
    },
    {
     "name": "stderr",
     "output_type": "stream",
     "text": [
      "[INFO] Job: 'Model-Parameter-Search-Apr-11-2016-22-22-0800000' scheduled.\n"
     ]
    },
    {
     "name": "stdout",
     "output_type": "stream",
     "text": [
      "\n",
      "/home/ankdesh/.graphlab/artifacts/Model-Parameter-Search-Apr-11-2016-22-22-0800000.Job/2128f35c-96bd-45e1-aa4c-4971eed0a4f5"
     ]
    },
    {
     "name": "stderr",
     "output_type": "stream",
     "text": [
      "[INFO] Validating job.\n",
      "[INFO] A job with name 'Model-Parameter-Search-Apr-11-2016-22-22-0800000' already exists. Renaming the job to 'Model-Parameter-Search-Apr-11-2016-22-22-0800000-6d9b4'.\n",
      "[INFO] Validation complete. Job: 'Model-Parameter-Search-Apr-11-2016-22-22-0800000-6d9b4' ready for execution\n"
     ]
    },
    {
     "name": "stdout",
     "output_type": "stream",
     "text": [
      "\n",
      "/home/ankdesh/.graphlab/artifacts/Model-Parameter-Search-Apr-11-2016-22-22-0800000.Job/0acc0544-814b-444b-b4f8-b7e1845420a9\n",
      "/home/ankdesh/.graphlab/artifacts/results/job-results-ce6327d4-4b66-47fb-ab1f-5e8a5d54524c/job-definition/c935b8c9-93fc-42d6-9118-b5397c2da6db"
     ]
    },
    {
     "name": "stderr",
     "output_type": "stream",
     "text": [
      "[INFO] Job: 'Model-Parameter-Search-Apr-11-2016-22-22-0800000-6d9b4' scheduled.\n"
     ]
    },
    {
     "name": "stdout",
     "output_type": "stream",
     "text": [
      "\n",
      "/home/ankdesh/.graphlab/artifacts/results/job-results-ce6327d4-4b66-47fb-ab1f-5e8a5d54524c/job-definition/473a675c-9ffa-43fc-ad55-9f703f683365\n",
      "/home/ankdesh/.graphlab/artifacts/Model-Parameter-Search-Apr-11-2016-22-22-0800000-6d9b4.Job/815f0a3d-8825-4e5e-8023-ce14a453a1f0\n",
      "/home/ankdesh/.graphlab/artifacts/Model-Parameter-Search-Apr-11-2016-22-22-0800000-6d9b4.Job/c93df58b-6a65-4728-9355-44257d73b798\n"
     ]
    }
   ],
   "source": [
    "job = model_parameter_search.create((training, validation),\n",
    "                                        graphlab.linear_regression.create,\n",
    "                                        params, max_models=4)"
   ]
  },
  {
   "cell_type": "code",
   "execution_count": 11,
   "metadata": {
    "collapsed": false
   },
   "outputs": [],
   "source": [
    "results = job.get_results()"
   ]
  },
  {
   "cell_type": "code",
   "execution_count": 13,
   "metadata": {
    "collapsed": false
   },
   "outputs": [
    {
     "name": "stdout",
     "output_type": "stream",
     "text": [
      "None\n"
     ]
    }
   ],
   "source": [
    "print results.export_csv('temp.csv')"
   ]
  },
  {
   "cell_type": "code",
   "execution_count": 16,
   "metadata": {
    "collapsed": false
   },
   "outputs": [
    {
     "data": {
      "text/html": [
       "<div style=\"max-height:1000px;max-width:1500px;overflow:auto;\"><table frame=\"box\" rules=\"cols\">\n",
       "    <tr>\n",
       "        <th style=\"padding-left: 1em; padding-right: 1em; text-align: center\">training_rmse</th>\n",
       "        <th style=\"padding-left: 1em; padding-right: 1em; text-align: center\">validation_rmse</th>\n",
       "    </tr>\n",
       "    <tr>\n",
       "        <td style=\"padding-left: 1em; padding-right: 1em; text-align: center; vertical-align: top\">0.721124993311</td>\n",
       "        <td style=\"padding-left: 1em; padding-right: 1em; text-align: center; vertical-align: top\">0.747496052744</td>\n",
       "    </tr>\n",
       "    <tr>\n",
       "        <td style=\"padding-left: 1em; padding-right: 1em; text-align: center; vertical-align: top\">0.760674291514</td>\n",
       "        <td style=\"padding-left: 1em; padding-right: 1em; text-align: center; vertical-align: top\">0.781941882293</td>\n",
       "    </tr>\n",
       "    <tr>\n",
       "        <td style=\"padding-left: 1em; padding-right: 1em; text-align: center; vertical-align: top\">0.566481937052</td>\n",
       "        <td style=\"padding-left: 1em; padding-right: 1em; text-align: center; vertical-align: top\">0.584078793916</td>\n",
       "    </tr>\n",
       "    <tr>\n",
       "        <td style=\"padding-left: 1em; padding-right: 1em; text-align: center; vertical-align: top\">0.739722315991</td>\n",
       "        <td style=\"padding-left: 1em; padding-right: 1em; text-align: center; vertical-align: top\">0.764653219094</td>\n",
       "    </tr>\n",
       "</table>\n",
       "[4 rows x 2 columns]<br/>\n",
       "</div>"
      ],
      "text/plain": [
       "Columns:\n",
       "\ttraining_rmse\tfloat\n",
       "\tvalidation_rmse\tfloat\n",
       "\n",
       "Rows: 4\n",
       "\n",
       "Data:\n",
       "+----------------+-----------------+\n",
       "| training_rmse  | validation_rmse |\n",
       "+----------------+-----------------+\n",
       "| 0.721124993311 |  0.747496052744 |\n",
       "| 0.760674291514 |  0.781941882293 |\n",
       "| 0.566481937052 |  0.584078793916 |\n",
       "| 0.739722315991 |  0.764653219094 |\n",
       "+----------------+-----------------+\n",
       "[4 rows x 2 columns]"
      ]
     },
     "execution_count": 16,
     "metadata": {},
     "output_type": "execute_result"
    }
   ],
   "source": [
    "results[['training_rmse', 'validation_rmse']]"
   ]
  },
  {
   "cell_type": "code",
   "execution_count": null,
   "metadata": {
    "collapsed": true
   },
   "outputs": [],
   "source": []
  }
 ],
 "metadata": {
  "kernelspec": {
   "display_name": "Python 2",
   "language": "python",
   "name": "python2"
  },
  "language_info": {
   "codemirror_mode": {
    "name": "ipython",
    "version": 2
   },
   "file_extension": ".py",
   "mimetype": "text/x-python",
   "name": "python",
   "nbconvert_exporter": "python",
   "pygments_lexer": "ipython2",
   "version": "2.7.10"
  }
 },
 "nbformat": 4,
 "nbformat_minor": 0
}

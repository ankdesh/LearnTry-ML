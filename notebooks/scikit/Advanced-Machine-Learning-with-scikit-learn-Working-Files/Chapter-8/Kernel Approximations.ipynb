{
 "cells": [
  {
   "cell_type": "code",
   "execution_count": null,
   "metadata": {
    "collapsed": true
   },
   "outputs": [],
   "source": [
    "import matplotlib.pyplot as plt\n",
    "import numpy as np\n",
    "%matplotlib inline"
   ]
  },
  {
   "cell_type": "markdown",
   "metadata": {},
   "source": [
    "# Kernel Approximations for Large-Scale Non-Linear Learning"
   ]
  },
  {
   "cell_type": "markdown",
   "metadata": {},
   "source": [
    "\n",
    "Predictions in a kernel-SVM are made using the formular\n",
    "\n",
    "$$\n",
    "\\hat{y} = \\alpha_1 y_1 k(\\mathbf{x^{(1)}}, \\mathbf{x}) + ... + \\alpha_n y_n k(\\mathbf{x^{(n)}}, \\mathbf{x})> 0\n",
    "$$\n",
    "\n",
    "$$\n",
    "0 \\leq \\alpha_i \\leq C\n",
    "$$\n",
    "\n"
   ]
  },
  {
   "cell_type": "markdown",
   "metadata": {},
   "source": [
    "Radial basis function (Gaussian) kernel:\n",
    "$$k(\\mathbf{x}, \\mathbf{x'}) = \\exp(-\\gamma ||\\mathbf{x} - \\mathbf{x'}||^2)$$"
   ]
  },
  {
   "cell_type": "markdown",
   "metadata": {},
   "source": [
    "Kernel approximation $\\phi$:\n",
    "    $$\\phi(\\mathbf{x})\\phi(\\mathbf{x'}) \\approx k(\\mathbf{x}, \\mathbf{x'})$$"
   ]
  },
  {
   "cell_type": "markdown",
   "metadata": {},
   "source": [
    "$$\\hat{y} \\approx w^T \\phi(\\mathbf{x})> 0$$"
   ]
  },
  {
   "cell_type": "code",
   "execution_count": null,
   "metadata": {
    "collapsed": false
   },
   "outputs": [],
   "source": [
    "from helpers import Timer\n",
    "\n",
    "from sklearn.datasets import load_digits\n",
    "from sklearn.cross_validation import train_test_split\n",
    "digits = load_digits()\n",
    "X, y = digits.data / 16., digits.target\n",
    "\n",
    "X_train, X_test, y_train, y_test = train_test_split(X, y, random_state=0)"
   ]
  },
  {
   "cell_type": "markdown",
   "metadata": {},
   "source": [
    "## Linear SVM"
   ]
  },
  {
   "cell_type": "code",
   "execution_count": null,
   "metadata": {
    "collapsed": false
   },
   "outputs": [],
   "source": [
    "from sklearn.svm import LinearSVC\n",
    "from sklearn.grid_search import GridSearchCV\n",
    "\n",
    "grid = GridSearchCV(LinearSVC(random_state=0),\n",
    "                    param_grid={'C': np.logspace(-3, 2, 6)}, cv=5)\n",
    "with Timer():\n",
    "    grid.fit(X_train, y_train)\n",
    "grid.score(X_test, y_test)"
   ]
  },
  {
   "cell_type": "markdown",
   "metadata": {},
   "source": [
    "## Kernel SVM"
   ]
  },
  {
   "cell_type": "code",
   "execution_count": null,
   "metadata": {
    "collapsed": false
   },
   "outputs": [],
   "source": [
    "from sklearn.svm import SVC\n",
    "from sklearn.grid_search import GridSearchCV\n",
    "\n",
    "grid = GridSearchCV(SVC(), param_grid={'C': np.logspace(-3, 2, 6),\n",
    "                                       'gamma': np.logspace(-3, 2, 6)}, cv=5)\n",
    "with Timer():\n",
    "    grid.fit(X_train, y_train)\n",
    "grid.score(X_test, y_test)"
   ]
  },
  {
   "cell_type": "markdown",
   "metadata": {},
   "source": [
    "## Kernel Approximation + Linear SVM"
   ]
  },
  {
   "cell_type": "code",
   "execution_count": null,
   "metadata": {
    "collapsed": false
   },
   "outputs": [],
   "source": [
    "from sklearn.kernel_approximation import RBFSampler\n",
    "from sklearn.pipeline import make_pipeline\n",
    "\n",
    "pipe = make_pipeline(RBFSampler(random_state=0),\n",
    "                     LinearSVC(dual=False, random_state=0))\n",
    "\n",
    "grid = GridSearchCV(pipe, param_grid={'linearsvc__C': np.logspace(-3, 2, 6),\n",
    "                                      'rbfsampler__gamma': np.logspace(-3, 2, 6)}, cv=5)\n",
    "with Timer():\n",
    "    grid.fit(X_train, y_train)\n",
    "grid.score(X_test, y_test)"
   ]
  },
  {
   "cell_type": "markdown",
   "metadata": {},
   "source": [
    "## Out of core Kernel approximation"
   ]
  },
  {
   "cell_type": "code",
   "execution_count": null,
   "metadata": {
    "collapsed": true
   },
   "outputs": [],
   "source": [
    "import cPickle\n",
    "from sklearn.linear_model import SGDClassifier\n",
    "\n",
    "sgd = SGDClassifier(random_state=0)\n",
    "\n",
    "for iteration in range(30):\n",
    "    for i in range(9):\n",
    "        X_batch, y_batch = cPickle.load(open(\"data/batch_%02d.pickle\" % i))\n",
    "        sgd.partial_fit(X_batch, y_batch, classes=range(10))"
   ]
  },
  {
   "cell_type": "code",
   "execution_count": null,
   "metadata": {
    "collapsed": false
   },
   "outputs": [],
   "source": [
    "X_test, y_test = cPickle.load(open(\"data/batch_09.pickle\"))\n",
    "\n",
    "sgd.score(X_test, y_test)"
   ]
  },
  {
   "cell_type": "code",
   "execution_count": null,
   "metadata": {
    "collapsed": false
   },
   "outputs": [],
   "source": [
    "\n",
    "sgd = SGDClassifier(random_state=0)\n",
    "rbf_sampler = RBFSampler(gamma=.2, random_state=0).fit(np.ones((1, 64)))\n",
    "\n",
    "for iteration in range(30):\n",
    "    for i in range(9):\n",
    "        X_batch, y_batch = cPickle.load(open(\"data/batch_%02d.pickle\" % i))\n",
    "        X_kernel = rbf_sampler.transform(X_batch)\n",
    "        sgd.partial_fit(X_kernel, y_batch, classes=range(10))"
   ]
  },
  {
   "cell_type": "code",
   "execution_count": null,
   "metadata": {
    "collapsed": false
   },
   "outputs": [],
   "source": [
    "sgd.score(rbf_sampler.transform(X_test), y_test)"
   ]
  }
 ],
 "metadata": {
  "kernelspec": {
   "display_name": "Python 2",
   "language": "python",
   "name": "python2"
  },
  "language_info": {
   "codemirror_mode": {
    "name": "ipython",
    "version": 2
   },
   "file_extension": ".py",
   "mimetype": "text/x-python",
   "name": "python",
   "nbconvert_exporter": "python",
   "pygments_lexer": "ipython2",
   "version": "2.7.9"
  }
 },
 "nbformat": 4,
 "nbformat_minor": 0
}

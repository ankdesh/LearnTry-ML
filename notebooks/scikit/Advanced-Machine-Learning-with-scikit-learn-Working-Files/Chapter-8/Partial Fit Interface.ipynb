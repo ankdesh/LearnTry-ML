{
 "cells": [
  {
   "cell_type": "code",
   "execution_count": null,
   "metadata": {
    "collapsed": true
   },
   "outputs": [],
   "source": [
    "import matplotlib.pyplot as plt\n",
    "import numpy as np\n",
    "%matplotlib inline"
   ]
  },
  {
   "cell_type": "markdown",
   "metadata": {},
   "source": [
    "# The Partial Fit Interface"
   ]
  },
  {
   "cell_type": "markdown",
   "metadata": {},
   "source": [
    "<img src=\"partial_fit.svg\" width=\"80%\">"
   ]
  },
  {
   "cell_type": "markdown",
   "metadata": {
    "collapsed": true
   },
   "source": [
    "## Out-of-core linear classification"
   ]
  },
  {
   "cell_type": "code",
   "execution_count": null,
   "metadata": {
    "collapsed": false,
    "scrolled": true
   },
   "outputs": [],
   "source": [
    "import cPickle\n",
    "from sklearn.linear_model import SGDClassifier\n",
    "\n",
    "sgd = SGDClassifier(random_state=0)\n",
    "\n",
    "for i in range(9):\n",
    "    X_batch, y_batch = cPickle.load(open(\"data/batch_%02d.pickle\" % i))\n",
    "    sgd.partial_fit(X_batch, y_batch, classes=range(10))"
   ]
  },
  {
   "cell_type": "code",
   "execution_count": null,
   "metadata": {
    "collapsed": false
   },
   "outputs": [],
   "source": [
    "X_test, y_test = cPickle.load(open(\"data/batch_09.pickle\"))\n",
    "\n",
    "sgd.score(X_test, y_test)"
   ]
  },
  {
   "cell_type": "code",
   "execution_count": null,
   "metadata": {
    "collapsed": false
   },
   "outputs": [],
   "source": [
    "sgd = SGDClassifier()\n",
    "\n",
    "accuracies = [0]\n",
    "for i in range(9):\n",
    "    X_batch, y_batch = cPickle.load(open(\"data/batch_%02d.pickle\" % i))\n",
    "    if i > 0:\n",
    "        accuracies.append(sgd.score(X_batch, y_batch))\n",
    "    sgd.partial_fit(X_batch, y_batch, classes=range(10))"
   ]
  },
  {
   "cell_type": "code",
   "execution_count": null,
   "metadata": {
    "collapsed": false
   },
   "outputs": [],
   "source": [
    "plt.plot(accuracies)\n",
    "plt.xlabel(\"batches seen\")\n",
    "plt.ylabel(\"generalization performance\")"
   ]
  },
  {
   "cell_type": "markdown",
   "metadata": {},
   "source": [
    "### Loading chunks using Pandas"
   ]
  },
  {
   "cell_type": "code",
   "execution_count": null,
   "metadata": {
    "collapsed": false
   },
   "outputs": [],
   "source": [
    "import pandas as pd\n",
    "csv_iterator = pd.read_csv(\"data/digits.csv\", chunksize=100)\n",
    "\n",
    "sgd = SGDClassifier()\n",
    "\n",
    "for batch in csv_iterator:\n",
    "    X = batch[batch.columns[:-1]]\n",
    "    y = batch[batch.columns[-1]]\n",
    "    sgd.partial_fit(X_batch, y_batch, classes=range(10))"
   ]
  },
  {
   "cell_type": "markdown",
   "metadata": {},
   "source": [
    "### Algorithms"
   ]
  },
  {
   "cell_type": "code",
   "execution_count": null,
   "metadata": {
    "collapsed": false
   },
   "outputs": [],
   "source": [
    "from sklearn.utils.testing import all_estimators\n",
    "for name, Class in all_estimators():\n",
    "    if hasattr(Class, \"partial_fit\"):\n",
    "        print(\"%s.%s\" % (Class.__module__.split(\".\")[1], name))"
   ]
  },
  {
   "cell_type": "markdown",
   "metadata": {},
   "source": [
    "### Multiple iterations"
   ]
  },
  {
   "cell_type": "code",
   "execution_count": null,
   "metadata": {
    "collapsed": false
   },
   "outputs": [],
   "source": [
    "sgd = SGDClassifier(random_state=0)\n",
    "\n",
    "X_test, y_test = cPickle.load(open(\"data/batch_09.pickle\"))\n",
    "\n",
    "accuracies = []\n",
    "for iteration in range(20):\n",
    "    for i in range(9):\n",
    "        X_batch, y_batch = cPickle.load(open(\"data/batch_%02d.pickle\" % i))\n",
    "        sgd.partial_fit(X_batch, y_batch, classes=range(10))\n",
    "    accuracies.append(sgd.score(X_test, y_test))"
   ]
  },
  {
   "cell_type": "code",
   "execution_count": null,
   "metadata": {
    "collapsed": false
   },
   "outputs": [],
   "source": [
    "plt.plot(accuracies)"
   ]
  }
 ],
 "metadata": {
  "kernelspec": {
   "display_name": "Python 2",
   "language": "python",
   "name": "python2"
  },
  "language_info": {
   "codemirror_mode": {
    "name": "ipython",
    "version": 2
   },
   "file_extension": ".py",
   "mimetype": "text/x-python",
   "name": "python",
   "nbconvert_exporter": "python",
   "pygments_lexer": "ipython2",
   "version": "2.7.9"
  }
 },
 "nbformat": 4,
 "nbformat_minor": 0
}

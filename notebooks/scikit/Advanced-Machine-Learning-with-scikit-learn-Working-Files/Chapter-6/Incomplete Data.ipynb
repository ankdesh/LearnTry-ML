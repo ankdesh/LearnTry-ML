{
 "cells": [
  {
   "cell_type": "code",
   "execution_count": null,
   "metadata": {
    "collapsed": true
   },
   "outputs": [],
   "source": [
    "import matplotlib.pyplot as plt\n",
    "import numpy as np\n",
    "%matplotlib inline"
   ]
  },
  {
   "cell_type": "markdown",
   "metadata": {},
   "source": [
    "# Handling missing values"
   ]
  },
  {
   "cell_type": "code",
   "execution_count": null,
   "metadata": {
    "collapsed": false
   },
   "outputs": [],
   "source": [
    "from sklearn.datasets import load_digits\n",
    "digits = load_digits()\n",
    "X, y = digits.data, digits.target\n",
    "print(X.shape)"
   ]
  },
  {
   "cell_type": "code",
   "execution_count": null,
   "metadata": {
    "collapsed": true
   },
   "outputs": [],
   "source": [
    "rng = np.random.RandomState(0)\n",
    "missing_mask = rng.uniform(size=X.shape) < .05\n",
    "X_missing = X.copy()\n",
    "X_missing[missing_mask] = np.NaN"
   ]
  },
  {
   "cell_type": "code",
   "execution_count": null,
   "metadata": {
    "collapsed": false
   },
   "outputs": [],
   "source": [
    "from sklearn.cross_validation import train_test_split\n",
    "X_train, X_test, X_train_missing, X_test_missing, y_train, y_test = train_test_split(X, X_missing, y, random_state=0)"
   ]
  },
  {
   "cell_type": "code",
   "execution_count": null,
   "metadata": {
    "collapsed": false
   },
   "outputs": [],
   "source": [
    "has_missing_features_train = np.isnan(X_train_missing).any(axis=1)\n",
    "X_train_no_missing = X_train[~has_missing_features_train]\n",
    "y_train_no_missing = y_train[~has_missing_features_train]\n",
    "print(X_train.shape)\n",
    "print(X_train_no_missing.shape)"
   ]
  },
  {
   "cell_type": "code",
   "execution_count": null,
   "metadata": {
    "collapsed": false
   },
   "outputs": [],
   "source": [
    "print(\"Expected number of samples without missing values: %d\" % (len(X_train) * (1 - .05) ** 64))"
   ]
  },
  {
   "cell_type": "code",
   "execution_count": null,
   "metadata": {
    "collapsed": false
   },
   "outputs": [],
   "source": [
    "from sklearn.preprocessing import Imputer\n",
    "imputer = Imputer().fit(X_train_missing)\n",
    "X_train_imputed = imputer.transform(X_train_missing)"
   ]
  },
  {
   "cell_type": "code",
   "execution_count": null,
   "metadata": {
    "collapsed": false
   },
   "outputs": [],
   "source": [
    "import matplotlib\n",
    "cmap = matplotlib.cm.gray\n",
    "cmap.set_bad('r',1.)\n",
    "\n",
    "fig, axes = plt.subplots(3, 8, figsize=(10, 5), subplot_kw={'xticks':(), 'yticks': ()})\n",
    "for i, ax in enumerate(axes.T):\n",
    "    ax[0].imshow(X_train[i].reshape(8, 8), interpolation=\"Nearest\", cmap=\"gray\")\n",
    "    ax[1].imshow(X_train_missing[i].reshape(8, 8), interpolation=\"Nearest\", cmap=\"gray\")\n",
    "    ax[2].imshow(X_train_imputed[i].reshape(8, 8), interpolation=\"Nearest\", cmap=\"gray\")"
   ]
  },
  {
   "cell_type": "code",
   "execution_count": null,
   "metadata": {
    "collapsed": false
   },
   "outputs": [],
   "source": [
    "from sklearn.linear_model import LogisticRegressionCV\n",
    "lr = LogisticRegressionCV().fit(X_train, y_train)\n",
    "print(\"Test accuracy with full data: %f\" % lr.score(X_test, y_test))\n",
    "\n",
    "lr = LogisticRegressionCV().fit(X_train_no_missing, y_train_no_missing)\n",
    "print(\"Test accuracy using non-missing data: %f\" % lr.score(X_test, y_test))\n",
    "\n",
    "lr = LogisticRegressionCV().fit(X_train_imputed, y_train)\n",
    "print(\"Test accuracy with imputed data: %f\" % lr.score(X_test, y_test))"
   ]
  },
  {
   "cell_type": "code",
   "execution_count": null,
   "metadata": {
    "collapsed": false
   },
   "outputs": [],
   "source": [
    "lr.predict(imputer.transform(X_test_missing))"
   ]
  },
  {
   "cell_type": "code",
   "execution_count": null,
   "metadata": {
    "collapsed": true
   },
   "outputs": [],
   "source": []
  }
 ],
 "metadata": {
  "kernelspec": {
   "display_name": "Python 2",
   "language": "python",
   "name": "python2"
  },
  "language_info": {
   "codemirror_mode": {
    "name": "ipython",
    "version": 2
   },
   "file_extension": ".py",
   "mimetype": "text/x-python",
   "name": "python",
   "nbconvert_exporter": "python",
   "pygments_lexer": "ipython2",
   "version": "2.7.9"
  }
 },
 "nbformat": 4,
 "nbformat_minor": 0
}

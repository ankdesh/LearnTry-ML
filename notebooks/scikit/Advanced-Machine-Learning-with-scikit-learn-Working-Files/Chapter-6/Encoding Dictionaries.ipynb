{
 "cells": [
  {
   "cell_type": "code",
   "execution_count": null,
   "metadata": {
    "collapsed": true
   },
   "outputs": [],
   "source": [
    "import matplotlib.pyplot as plt\n",
    "import numpy as np\n",
    "%matplotlib inline"
   ]
  },
  {
   "cell_type": "markdown",
   "metadata": {},
   "source": [
    "# Encoding Features from Dictionaries"
   ]
  },
  {
   "cell_type": "markdown",
   "metadata": {},
   "source": [
    "```\n",
    "Users = age, location\n",
    "\n",
    "age is float\n",
    "likes puppies in ['yes', 'no']\n",
    "location in ['Paris', 'Tokyo', 'New York']\n",
    "```"
   ]
  },
  {
   "cell_type": "code",
   "execution_count": null,
   "metadata": {
    "collapsed": true
   },
   "outputs": [],
   "source": [
    "X = [{'age': 15.9, 'likes puppies': 'yes', 'location': 'Tokyo'},\n",
    "     {'age': 21.5, 'likes puppies': 'no',  'location': 'New York'},\n",
    "     {'age': 31.3, 'likes puppies': 'no',  'location': 'Paris'},\n",
    "     {'age': 25.1, 'likes puppies': 'yes', 'location': 'New York'},\n",
    "     {'age': 63.6, 'likes puppies': 'no',  'location': 'Tokyo'},\n",
    "     {'age': 14.4, 'likes puppies': 'yes', 'location': 'Tokyo'}]"
   ]
  },
  {
   "cell_type": "code",
   "execution_count": null,
   "metadata": {
    "collapsed": false
   },
   "outputs": [],
   "source": [
    "from sklearn.feature_extraction import DictVectorizer\n",
    "vect = DictVectorizer(sparse=False).fit(X)\n",
    "vect.transform(X)"
   ]
  },
  {
   "cell_type": "code",
   "execution_count": null,
   "metadata": {
    "collapsed": false
   },
   "outputs": [],
   "source": [
    "vect.get_feature_names()"
   ]
  }
 ],
 "metadata": {
  "kernelspec": {
   "display_name": "Python 2",
   "language": "python",
   "name": "python2"
  },
  "language_info": {
   "codemirror_mode": {
    "name": "ipython",
    "version": 2
   },
   "file_extension": ".py",
   "mimetype": "text/x-python",
   "name": "python",
   "nbconvert_exporter": "python",
   "pygments_lexer": "ipython2",
   "version": "2.7.9"
  }
 },
 "nbformat": 4,
 "nbformat_minor": 0
}

{
 "cells": [
  {
   "cell_type": "code",
   "execution_count": null,
   "metadata": {
    "collapsed": true
   },
   "outputs": [],
   "source": [
    "import matplotlib.pyplot as plt\n",
    "import numpy as np\n",
    "%matplotlib inline"
   ]
  },
  {
   "cell_type": "markdown",
   "metadata": {},
   "source": [
    "# Why pipelines for preprocessing"
   ]
  },
  {
   "cell_type": "code",
   "execution_count": null,
   "metadata": {
    "collapsed": false
   },
   "outputs": [],
   "source": [
    "from sklearn.datasets import make_regression\n",
    "\n",
    "X, y = make_regression(random_state=42, noise=100)\n",
    "print(X.shape)"
   ]
  },
  {
   "cell_type": "code",
   "execution_count": null,
   "metadata": {
    "collapsed": true
   },
   "outputs": [],
   "source": [
    "from sklearn.cross_validation import train_test_split\n",
    "\n",
    "X_train, X_test, y_train, y_test = train_test_split(X, y, random_state=42, train_size=.5)"
   ]
  },
  {
   "cell_type": "code",
   "execution_count": null,
   "metadata": {
    "collapsed": false
   },
   "outputs": [],
   "source": [
    "from sklearn.feature_selection import SelectFpr, f_regression\n",
    "from sklearn.linear_model import Ridge\n",
    "\n",
    "fpr = SelectFpr(score_func=f_regression, alpha=.05)\n",
    "fpr.fit(X_train, y_train)\n",
    "X_train_fpr = fpr.transform(X_train)\n",
    "X_test_fpr = fpr.transform(X_test)\n",
    "\n",
    "print(X_train_fpr.shape)"
   ]
  },
  {
   "cell_type": "code",
   "execution_count": null,
   "metadata": {
    "collapsed": false
   },
   "outputs": [],
   "source": [
    "ridge = Ridge()\n",
    "ridge.fit(X_train_fpr, y_train)\n",
    "ridge.score(X_test_fpr, y_test)"
   ]
  },
  {
   "cell_type": "markdown",
   "metadata": {},
   "source": [
    "## How not to do grid-searches\n"
   ]
  },
  {
   "cell_type": "code",
   "execution_count": null,
   "metadata": {
    "collapsed": false
   },
   "outputs": [],
   "source": [
    "# DON'T DO THIS:\n",
    "from sklearn.grid_search import GridSearchCV\n",
    "param_grid = {'alpha': 10. ** np.arange(-3, 5)}\n",
    "grid = GridSearchCV(ridge, param_grid, cv=5)\n",
    "grid.fit(X_train_fpr, y_train)\n",
    "print(\"test set accuracy: %.2f\" % grid.score(X_test_fpr, y_test))"
   ]
  },
  {
   "cell_type": "markdown",
   "metadata": {},
   "source": [
    "## A more extreme example"
   ]
  },
  {
   "cell_type": "code",
   "execution_count": null,
   "metadata": {
    "collapsed": false
   },
   "outputs": [],
   "source": [
    "rng = np.random.RandomState(0)\n",
    "y = rng.rand(X.shape[0])\n",
    "X_train, X_test, y_train, y_test = train_test_split(X, y, random_state=0, train_size=.6)"
   ]
  },
  {
   "cell_type": "code",
   "execution_count": null,
   "metadata": {
    "collapsed": false
   },
   "outputs": [],
   "source": [
    "from sklearn.feature_selection import SelectKBest\n",
    "\n",
    "fpr = SelectFpr(score_func=f_regression)\n",
    "fpr.fit(X_train, y_train)\n",
    "X_train_fpr = fpr.transform(X_train)\n",
    "X_test_fpr = fpr.transform(X_test)\n",
    "\n",
    "X_train_fpr.shape"
   ]
  },
  {
   "cell_type": "code",
   "execution_count": null,
   "metadata": {
    "collapsed": false
   },
   "outputs": [],
   "source": [
    "# DON'T DO THIS:\n",
    "from sklearn.grid_search import GridSearchCV\n",
    "param_grid = {'alpha': 10. ** np.arange(-3, 3)}\n",
    "grid = GridSearchCV(ridge, param_grid, cv=5)\n",
    "grid.fit(X_train_fpr, y_train)\n",
    "print(\"best cross-validation score: %.2f\" % grid.best_score_)\n",
    "print(\"test set accuracy: %.2f\" % grid.score(X_test_fpr, y_test))"
   ]
  },
  {
   "cell_type": "markdown",
   "metadata": {},
   "source": [
    "<img src=\"figures/pipeline_cross_validation.svg\" width=40%>"
   ]
  }
 ],
 "metadata": {
  "kernelspec": {
   "display_name": "Python 2",
   "language": "python",
   "name": "python2"
  },
  "language_info": {
   "codemirror_mode": {
    "name": "ipython",
    "version": 2
   },
   "file_extension": ".py",
   "mimetype": "text/x-python",
   "name": "python",
   "nbconvert_exporter": "python",
   "pygments_lexer": "ipython2",
   "version": "2.7.9"
  }
 },
 "nbformat": 4,
 "nbformat_minor": 0
}

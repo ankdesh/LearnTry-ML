{
 "cells": [
  {
   "cell_type": "code",
   "execution_count": null,
   "metadata": {
    "collapsed": true
   },
   "outputs": [],
   "source": [
    "%matplotlib inline\n",
    "import matplotlib.pyplot as plt\n",
    "import numpy as np"
   ]
  },
  {
   "cell_type": "markdown",
   "metadata": {},
   "source": [
    "# Be mindful of default metrics"
   ]
  },
  {
   "cell_type": "markdown",
   "metadata": {},
   "source": [
    "## Regression"
   ]
  },
  {
   "cell_type": "markdown",
   "metadata": {},
   "source": [
    "$$ R^2(y, \\hat{y}) = 1 - \\frac{\\displaystyle \\sum_{i=0}^{n - 1} (y_i - \\hat{y}_i)^2}{\\displaystyle \\sum_{i=0}^{n - 1} (y_i - \\bar{y})^2}$$\n",
    "\n",
    "where $$\\bar{y} =  \\frac{1}{n} \\sum_{i=0}^{n - 1} y_i$$"
   ]
  },
  {
   "cell_type": "code",
   "execution_count": null,
   "metadata": {
    "collapsed": false
   },
   "outputs": [],
   "source": [
    "rng = np.random.RandomState(42)\n",
    "X = rng.uniform(size=(30, 1))\n",
    "a = rng.normal(scale=10)\n",
    "b = rng.normal()\n",
    "\n",
    "y_clean = np.dot(X, a).ravel() + b\n",
    "y = y_clean + rng.normal(size=len(y_clean))\n",
    "plt.plot(X[:, 0], y, 'x')"
   ]
  },
  {
   "cell_type": "code",
   "execution_count": null,
   "metadata": {
    "collapsed": false
   },
   "outputs": [],
   "source": [
    "from sklearn.metrics import mean_squared_error, r2_score\n",
    "from sklearn.linear_model import LinearRegression\n",
    "\n",
    "lr = LinearRegression().fit(X, y)\n",
    "y_pred = lr.predict(X)\n",
    "plt.plot(X[:, 0], y, 'x')\n",
    "plt.plot(X[:, 0], y_pred)"
   ]
  },
  {
   "cell_type": "code",
   "execution_count": null,
   "metadata": {
    "collapsed": false
   },
   "outputs": [],
   "source": [
    "print(\"training set R^2: %f\" % r2_score(y, y_pred))  # same as lr.score(X, y)\n",
    "print(\"training set MSE: %f\" % mean_squared_error(y, y_pred))"
   ]
  },
  {
   "cell_type": "code",
   "execution_count": null,
   "metadata": {
    "collapsed": false
   },
   "outputs": [],
   "source": [
    "print(\"training set R^2: %f\" % r2_score(10 * y, 10 * y_pred))\n",
    "print(\"training set MSE: %f\" % mean_squared_error(10 * y, 10 * y_pred))"
   ]
  },
  {
   "cell_type": "code",
   "execution_count": null,
   "metadata": {
    "collapsed": false
   },
   "outputs": [],
   "source": [
    "from sklearn.cross_validation import cross_val_score, LeaveOneOut\n",
    "cv = LeaveOneOut(len(y))\n",
    "cross_val_score(LinearRegression(), X, y, cv=cv)"
   ]
  },
  {
   "cell_type": "markdown",
   "metadata": {},
   "source": [
    "## Classification"
   ]
  },
  {
   "cell_type": "markdown",
   "metadata": {},
   "source": [
    "$$ \\texttt{accuracy}(y, \\hat{y}) = \\frac{1}{n} \\sum_{i=0}^{n-1} 1(\\hat{y}_i = y_i)$$"
   ]
  },
  {
   "cell_type": "markdown",
   "metadata": {},
   "source": [
    "### Multi-class accuracies"
   ]
  },
  {
   "cell_type": "code",
   "execution_count": null,
   "metadata": {
    "collapsed": false
   },
   "outputs": [],
   "source": [
    "from sklearn.datasets import make_blobs\n",
    "from sklearn.cross_validation import train_test_split\n",
    "from sklearn.dummy import DummyClassifier\n",
    "\n",
    "n_classes = 5\n",
    "\n",
    "X, y = make_blobs(centers=n_classes, n_samples=10000, random_state=42)\n",
    "X_train, X_test, y_train, y_test = train_test_split(X, y, test_size=.5, random_state=42)\n",
    "dummy = DummyClassifier(random_state=42).fit(X_train, y_train)\n",
    "print(\"Chance accuracy for %d classes: %.1f\" % (n_classes, dummy.score(X_test, y_test)))"
   ]
  },
  {
   "cell_type": "markdown",
   "metadata": {},
   "source": [
    "### Imbalanced classes"
   ]
  },
  {
   "cell_type": "code",
   "execution_count": null,
   "metadata": {
    "collapsed": false
   },
   "outputs": [],
   "source": [
    "from sklearn.datasets import load_digits\n",
    "from sklearn.svm import SVC\n",
    "\n",
    "digits = load_digits()\n",
    "X, y_is_three = digits.data, digits.target == 3\n",
    "\n",
    "X_train, X_test, y_train, y_test = train_test_split(X, y_is_three, test_size=.5, random_state=0)\n",
    "\n",
    "dummy = DummyClassifier().fit(X_train, y_train)\n",
    "print(\"Chance accuracy for 9:1 imbalanced classification : %.2f\" % dummy.score(X_test, y_test))"
   ]
  },
  {
   "cell_type": "code",
   "execution_count": null,
   "metadata": {
    "collapsed": false
   },
   "outputs": [],
   "source": [
    "dummy = DummyClassifier(strategy=\"most_frequent\").fit(X_train, y_train)\n",
    "print(\"Accuracy for 9:1 imbalanced classification predicting majority: %.2f\"\n",
    "      % dummy.score(X_test, y_test))"
   ]
  },
  {
   "cell_type": "code",
   "execution_count": null,
   "metadata": {
    "collapsed": true
   },
   "outputs": [],
   "source": []
  }
 ],
 "metadata": {
  "kernelspec": {
   "display_name": "Python 2",
   "language": "python",
   "name": "python2"
  },
  "language_info": {
   "codemirror_mode": {
    "name": "ipython",
    "version": 2
   },
   "file_extension": ".py",
   "mimetype": "text/x-python",
   "name": "python",
   "nbconvert_exporter": "python",
   "pygments_lexer": "ipython2",
   "version": "2.7.9"
  }
 },
 "nbformat": 4,
 "nbformat_minor": 0
}

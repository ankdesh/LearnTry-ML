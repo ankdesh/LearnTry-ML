{
 "cells": [
  {
   "cell_type": "code",
   "execution_count": null,
   "metadata": {
    "collapsed": true
   },
   "outputs": [],
   "source": [
    "import matplotlib.pyplot as plt\n",
    "import numpy as np\n",
    "%matplotlib inline"
   ]
  },
  {
   "cell_type": "markdown",
   "metadata": {},
   "source": [
    "# Why text data is important"
   ]
  },
  {
   "cell_type": "markdown",
   "metadata": {},
   "source": [
    "## E-Mail"
   ]
  },
  {
   "cell_type": "markdown",
   "metadata": {},
   "source": [
    "```\n",
    "FROM: MR.BARRY DJRIL\n",
    "DIRECTOR AUDITING / ACCOUNTING UNIT.\n",
    "GUINEA-CONAKRY\n",
    "\n",
    "THIS MESSAGE MIGHT MEET YOU IN UTMOST SUPRISE. HOWEVER IT'S JUST MY URGENT NEED FOR A FOREIGN PARTNER THAT MADE ME CONTACT YOU FOR THIS TRANSACTION.\n",
    "\n",
    "I AM A BANKER BY PROFESSION FROM GUINEA-CONAKRY IN WEST AFRICA AND CURRENTLY HOLDING THE POST OF DIRECTOR AUDITING AND ACCOUNTING UNIT OF THE BANK.\n",
    "\n",
    "I HAVE THE OPPORTUNITY OF TRANSFERING THE LEFT OVER FUNDS $4.7M (FOUR MILLION SEVEN HUNDREDTHOUSAND DOLLARS) OF ONE OF MY BANK CLIENTS WHO DIED ALONGSIDE WITH HIS ENTIRE FAMILY ON 31 ST, JULY 2000 IN A PLANE CRASH.\n",
    "\n",
    "HENCE, I AM INVITING YOU FOR A MUTUAL BUSINESS OPPORTUNITY WHERE THIS MONEY CAN BE SHARED BETWEEN US IN THE RATION OF 60/40? 40% FOR YOU AND 60% FOR ME\n",
    "\n",
    "IF YOU AGREE TO MY BUSINESS PROPOSAL. FURTHER DETAIL OF THE TRANSACTION WILL BE FORWARDED TO YOU AS SOON AS I RECEIVE YOUR RETURN MAIL AND REPLY TO ME IMMEDIATELY.\n",
    "\n",
    "NOTE; DO NOT IGNORE THIS MAIL IF YOU SEE IT IN YOUR SPAM. WE HAVE POOR INTERNET NETWORK HERE IN AFRICA, FOR THIS REASON MY FIRST MAIL TO YOU MAY ENTER SPAM INSTEAD YOUR INBOX.\n",
    "\n",
    "NOW MY QUESTIONS ARE:-\n",
    "\n",
    "1 CAN YOU HANDLE THIS PROJECT? ..\n",
    "2. CAN I GIVE YOU THIS TRUST? ..\n",
    "\n",
    "THANKS AND BEST REGARDS.\n",
    "MR.BARRY DJRIL.\n",
    "```"
   ]
  },
  {
   "cell_type": "markdown",
   "metadata": {},
   "source": [
    "## Social Media"
   ]
  },
  {
   "cell_type": "code",
   "execution_count": null,
   "metadata": {
    "collapsed": false
   },
   "outputs": [],
   "source": [
    "import pandas as pd\n",
    "flu = pd.read_csv(\"flu_trends.txt\", index_col=\"Date\")\n",
    "flu['United States'].plot(rot=60)"
   ]
  },
  {
   "cell_type": "markdown",
   "metadata": {},
   "source": [
    "## Medical Records"
   ]
  },
  {
   "cell_type": "markdown",
   "metadata": {},
   "source": [
    "## Customer Service"
   ]
  }
 ],
 "metadata": {
  "kernelspec": {
   "display_name": "Python 2",
   "language": "python",
   "name": "python2"
  },
  "language_info": {
   "codemirror_mode": {
    "name": "ipython",
    "version": 2
   },
   "file_extension": ".py",
   "mimetype": "text/x-python",
   "name": "python",
   "nbconvert_exporter": "python",
   "pygments_lexer": "ipython2",
   "version": "2.7.9"
  }
 },
 "nbformat": 4,
 "nbformat_minor": 0
}

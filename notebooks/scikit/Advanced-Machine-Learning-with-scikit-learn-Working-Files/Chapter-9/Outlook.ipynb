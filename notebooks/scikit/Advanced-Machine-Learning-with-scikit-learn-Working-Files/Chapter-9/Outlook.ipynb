{
 "cells": [
  {
   "cell_type": "markdown",
   "metadata": {},
   "source": [
    "# Outlook"
   ]
  },
  {
   "cell_type": "markdown",
   "metadata": {},
   "source": [
    "## Practice\n",
    "For example at https://www.kaggle.com/"
   ]
  },
  {
   "cell_type": "markdown",
   "metadata": {},
   "source": [
    "## Ask Questions\n",
    "For example at StackOverflow with the [scikit-learn tag](http://stackoverflow.com/questions/tagged/scikit-learn) and the [machine-learning tag](http://stackoverflow.com/questions/tagged/machine-learning)"
   ]
  },
  {
   "cell_type": "markdown",
   "metadata": {},
   "source": [
    "## Read up on ML\n",
    "<img src=\"scikit-learn-docs.png\" width=80%>"
   ]
  },
  {
   "cell_type": "markdown",
   "metadata": {},
   "source": [
    "<img src=\"esl.jpg\" width=\"150\">\n",
    "Trevor Hastie Robert Tibshirani Jerome Friedman:\n",
    "\n",
    "<a href=\"http://statweb.stanford.edu/~tibs/ElemStatLearn/\">The Elements of Statistical Learning</a>"
   ]
  },
  {
   "cell_type": "markdown",
   "metadata": {},
   "source": [
    "<img src=\"murphy.jpg\" width=150>\n",
    "Kevin Murphy:\n",
    "\n",
    "<a href=\"http://www.cs.ubc.ca/~murphyk/MLbook/\">Machine Learning</a>"
   ]
  },
  {
   "cell_type": "markdown",
   "metadata": {},
   "source": [
    "## More great reads"
   ]
  },
  {
   "cell_type": "markdown",
   "metadata": {},
   "source": [
    "<img src=\"wes.gif\" width=150>\n",
    "Wes McKinney:\n",
    "\n",
    "<a href=\"http://shop.oreilly.com/product/0636920023784.do\">Python For Data Analysis</a>"
   ]
  },
  {
   "cell_type": "markdown",
   "metadata": {},
   "source": [
    "<img src=\"data_science_for_business.jpg\" width=150>\n",
    "Foster Provost, Tom Fawcett:\n",
    "\n",
    "<a href=\"http://shop.oreilly.com/product/0636920028918.do#\">Data Science for Business </a>"
   ]
  },
  {
   "cell_type": "markdown",
   "metadata": {},
   "source": [
    "# Our book"
   ]
  },
  {
   "cell_type": "markdown",
   "metadata": {},
   "source": [
    "<img src=\"book.jpg\" width=150>\n",
    "Sarah Guido, Andreas Mueller\n",
    "\n",
    "<a href=\"http://shop.oreilly.com/product/0636920030515.do\">Introduction to Machine Learning With Python</a>"
   ]
  },
  {
   "cell_type": "code",
   "execution_count": null,
   "metadata": {
    "collapsed": true
   },
   "outputs": [],
   "source": []
  }
 ],
 "metadata": {
  "kernelspec": {
   "display_name": "Python 2",
   "language": "python",
   "name": "python2"
  },
  "language_info": {
   "codemirror_mode": {
    "name": "ipython",
    "version": 2
   },
   "file_extension": ".py",
   "mimetype": "text/x-python",
   "name": "python",
   "nbconvert_exporter": "python",
   "pygments_lexer": "ipython2",
   "version": "2.7.9"
  }
 },
 "nbformat": 4,
 "nbformat_minor": 0
}

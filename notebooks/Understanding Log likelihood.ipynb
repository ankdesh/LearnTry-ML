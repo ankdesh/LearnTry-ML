{
 "cells": [
  {
   "cell_type": "code",
   "execution_count": 9,
   "metadata": {},
   "outputs": [],
   "source": [
    "import torch\n",
    "from torch import nn"
   ]
  },
  {
   "cell_type": "markdown",
   "metadata": {},
   "source": [
    "## Generate Data"
   ]
  },
  {
   "cell_type": "code",
   "execution_count": 27,
   "metadata": {},
   "outputs": [],
   "source": [
    "N = 1000000 # Number of samples"
   ]
  },
  {
   "cell_type": "markdown",
   "metadata": {},
   "source": [
    "Here we take two gaussian models with mean 2.0 and 5.0 respectively (and variance 1.0)."
   ]
  },
  {
   "cell_type": "code",
   "execution_count": 28,
   "metadata": {},
   "outputs": [],
   "source": [
    "gauss_orig0 = torch.distributions.Normal(torch.tensor([2.0]), torch.tensor([1.0]))\n",
    "gauss_orig1 = torch.distributions.Normal(torch.tensor([5.0]), torch.tensor([1.0]))"
   ]
  },
  {
   "cell_type": "markdown",
   "metadata": {},
   "source": [
    "Now we generate samples from two distributions and also two vectors of data centered at 2.0 and 5.0"
   ]
  },
  {
   "cell_type": "code",
   "execution_count": 32,
   "metadata": {},
   "outputs": [],
   "source": [
    "x0 = gauss_orig0.sample((N,))\n",
    "x1 = gauss_orig1.sample((N,))\n",
    "x0_meanSamples = torch.ones((N,)) * 2.0 # All values centered at mean of Gauss 0\n",
    "x1_meanSamples = torch.ones((N,)) * 5.0 # All values centered at mean of Gauss 0"
   ]
  },
  {
   "cell_type": "code",
   "execution_count": 36,
   "metadata": {},
   "outputs": [
    {
     "name": "stdout",
     "output_type": "stream",
     "text": [
      "torch.Size([1000000, 1])\n",
      "tensor(1.9999)\n",
      "torch.Size([1000000]) tensor([2., 2., 2., 2., 2.])\n"
     ]
    }
   ],
   "source": [
    "print (x0.size())\n",
    "print (x0.mean())\n",
    "print (x0_meanSamples.size(), x0_meanSamples[:5])"
   ]
  },
  {
   "cell_type": "markdown",
   "metadata": {},
   "source": [
    "Now we calculate the likelihood of the two models with different samples. We expect the likelihood to be high when samples agree to the model. If this is unclear rea"
   ]
  },
  {
   "cell_type": "code",
   "execution_count": 39,
   "metadata": {},
   "outputs": [
    {
     "name": "stdout",
     "output_type": "stream",
     "text": [
      "Likelihood prob -> model = gauss0, data ~ gauss0 ::: tensor(0.2422)\n",
      "Likelihood prob -> model = gauss0, data ~ gauss1 ::: tensor(0.0027)\n",
      "Likelihood prob -> model = gauss1, data ~ gauss0 ::: tensor(0.0027)\n",
      "Likelihood prob -> model = gauss1, data ~ gauss1 :::  tensor(0.2421)\n",
      "Likelihood prob -> model = gauss0, data = 2.0 ::: tensor(0.3989)\n",
      "Likelihood prob -> model = gauss0, data = 5.0 ::: tensor(0.0044)\n"
     ]
    }
   ],
   "source": [
    "print ('Likelihood prob -> model = gauss0, data ~ gauss0 :::',torch.exp(gauss_orig0.log_prob(x0).mean())) # \n",
    "print ('Likelihood prob -> model = gauss0, data ~ gauss1 :::',torch.exp(gauss_orig0.log_prob(x1).mean())) # \n",
    "print ('Likelihood prob -> model = gauss1, data ~ gauss0 :::',torch.exp(gauss_orig1.log_prob(x0).mean())) # \n",
    "print ('Likelihood prob -> model = gauss1, data ~ gauss1 ::: ',torch.exp(gauss_orig1.log_prob(x1).mean())) # \n",
    "\n",
    "print ('Likelihood prob -> model = gauss0, data = 2.0 :::',torch.exp(gauss_orig0.log_prob(x0_meanSamples).mean())) # \n",
    "print ('Likelihood prob -> model = gauss0, data = 5.0 :::', torch.exp(gauss_orig0.log_prob(x1_meanSamples).mean())) # "
   ]
  }
 ],
 "metadata": {
  "kernelspec": {
   "display_name": "Python 3",
   "language": "python",
   "name": "python3"
  },
  "language_info": {
   "codemirror_mode": {
    "name": "ipython",
    "version": 3
   },
   "file_extension": ".py",
   "mimetype": "text/x-python",
   "name": "python",
   "nbconvert_exporter": "python",
   "pygments_lexer": "ipython3",
   "version": "3.6.9"
  }
 },
 "nbformat": 4,
 "nbformat_minor": 4
}

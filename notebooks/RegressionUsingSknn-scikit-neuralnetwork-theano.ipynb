{
 "cells": [
  {
   "cell_type": "markdown",
   "metadata": {},
   "source": [
    "- #### scikit-neuralnetwork is a wrapper around theano\n",
    "- Installing scikit-neuralnetwork\n",
    "    - pip install scikit-neuralnetwork"
   ]
  },
  {
   "cell_type": "code",
   "execution_count": 1,
   "metadata": {
    "collapsed": true
   },
   "outputs": [],
   "source": [
    "import numpy as np\n",
    "from sknn.mlp import Regressor, Layer "
   ]
  },
  {
   "cell_type": "code",
   "execution_count": 4,
   "metadata": {
    "collapsed": true
   },
   "outputs": [],
   "source": [
    "data = np.genfromtxt('../Data/regressionData.csv', delimiter=',',skip_header=1)"
   ]
  },
  {
   "cell_type": "code",
   "execution_count": 8,
   "metadata": {
    "collapsed": false
   },
   "outputs": [
    {
     "name": "stdout",
     "output_type": "stream",
     "text": [
      "[[ 0.3852046   0.18301087  0.54516589  0.59832594 -1.        ]\n",
      " [ 0.06558817  0.51554441  0.64515004  0.39008509 -1.        ]\n",
      " [ 0.5545543   0.11103005  0.21726365  0.70367588 -1.        ]\n",
      " ..., \n",
      " [ 0.21908271  0.18153053  0.94748329  0.56628271  1.        ]\n",
      " [ 0.71070115  0.70083539  0.61424712  0.47178278  1.        ]\n",
      " [ 0.58497619  0.60866482  0.09465652  0.01531494 -1.        ]]\n"
     ]
    }
   ],
   "source": [
    "print data"
   ]
  },
  {
   "cell_type": "code",
   "execution_count": 17,
   "metadata": {
    "collapsed": false
   },
   "outputs": [],
   "source": [
    "dataXy = np.split(data,[data.shape[1]-1],axis=1)"
   ]
  },
  {
   "cell_type": "code",
   "execution_count": 18,
   "metadata": {
    "collapsed": false,
    "scrolled": false
   },
   "outputs": [
    {
     "name": "stdout",
     "output_type": "stream",
     "text": [
      "(1000, 4) (1000, 1)\n"
     ]
    }
   ],
   "source": [
    "print dataXy[0].shape, dataXy[1].shape"
   ]
  },
  {
   "cell_type": "code",
   "execution_count": 24,
   "metadata": {
    "collapsed": false
   },
   "outputs": [],
   "source": [
    "dataX = np.split(dataXy[0],[dataXy[0].shape[0]*0.8],axis=0)\n",
    "dataY = np.split(dataXy[1],[dataXy[1].shape[0]*0.8],axis=0)"
   ]
  },
  {
   "cell_type": "code",
   "execution_count": 25,
   "metadata": {
    "collapsed": false
   },
   "outputs": [
    {
     "name": "stdout",
     "output_type": "stream",
     "text": [
      "(800, 4) (800, 1)\n",
      "(200, 4) (200, 1)\n"
     ]
    }
   ],
   "source": [
    "# Training data\n",
    "print dataX[0].shape, dataY[0].shape\n",
    "# Test data\n",
    "print dataX[1].shape, dataY[1].shape"
   ]
  },
  {
   "cell_type": "code",
   "execution_count": 26,
   "metadata": {
    "collapsed": false
   },
   "outputs": [
    {
     "data": {
      "text/plain": [
       "Regressor(batch_size=1, callback=None, debug=False, dropout_rate=None,\n",
       "     f_stable=0.001,\n",
       "     hidden0=<sknn.nn.Layer `Rectifier`: units=100, name=u'hidden0', frozen=False>,\n",
       "     layers=[<sknn.nn.Layer `Rectifier`: units=100, name=u'hidden0', frozen=False>, <sknn.nn.Layer `Linear`: units=1, name=u'output', frozen=False>],\n",
       "     learning_momentum=0.9, learning_rate=0.02, learning_rule=u'sgd',\n",
       "     loss_type=None, n_iter=10, n_stable=10,\n",
       "     output=<sknn.nn.Layer `Linear`: units=1, name=u'output', frozen=False>,\n",
       "     random_state=None, regularize=None, valid_set=None, valid_size=0.0,\n",
       "     verbose=None, warning=None, weight_decay=None, weights=None)"
      ]
     },
     "execution_count": 26,
     "metadata": {},
     "output_type": "execute_result"
    }
   ],
   "source": [
    "nn = Regressor(\n",
    "    layers=[\n",
    "        Layer(\"Rectifier\", units=100),\n",
    "        Layer(\"Linear\")],\n",
    "    learning_rate=0.02,\n",
    "    n_iter=10)\n",
    "nn.fit(dataX[0], dataY[0])"
   ]
  },
  {
   "cell_type": "code",
   "execution_count": 27,
   "metadata": {
    "collapsed": true
   },
   "outputs": [],
   "source": [
    "dataYHat = nn.predict(dataX[1])"
   ]
  },
  {
   "cell_type": "code",
   "execution_count": 31,
   "metadata": {
    "collapsed": false
   },
   "outputs": [
    {
     "ename": "TypeError",
     "evalue": "ufunc 'bitwise_xor' not supported for the input types, and the inputs could not be safely coerced to any supported types according to the casting rule ''safe''",
     "output_type": "error",
     "traceback": [
      "\u001b[1;31m---------------------------------------------------------------------------\u001b[0m",
      "\u001b[1;31mTypeError\u001b[0m                                 Traceback (most recent call last)",
      "\u001b[1;32m<ipython-input-31-ab716d60bc21>\u001b[0m in \u001b[0;36m<module>\u001b[1;34m()\u001b[0m\n\u001b[1;32m----> 1\u001b[1;33m \u001b[0msqtErr\u001b[0m \u001b[1;33m=\u001b[0m \u001b[0msum\u001b[0m\u001b[1;33m(\u001b[0m\u001b[1;33m(\u001b[0m\u001b[0mdataYHat\u001b[0m \u001b[1;33m-\u001b[0m \u001b[0mdataY\u001b[0m\u001b[1;33m[\u001b[0m\u001b[1;36m1\u001b[0m\u001b[1;33m]\u001b[0m\u001b[1;33m)\u001b[0m\u001b[1;33m^\u001b[0m\u001b[1;36m2\u001b[0m\u001b[1;33m)\u001b[0m\u001b[1;33m\u001b[0m\u001b[0m\n\u001b[0m",
      "\u001b[1;31mTypeError\u001b[0m: ufunc 'bitwise_xor' not supported for the input types, and the inputs could not be safely coerced to any supported types according to the casting rule ''safe''"
     ]
    }
   ],
   "source": [
    "sqtErr = sum((dataYHat - dataY[1])^2)"
   ]
  },
  {
   "cell_type": "code",
   "execution_count": 30,
   "metadata": {
    "collapsed": false
   },
   "outputs": [
    {
     "name": "stdout",
     "output_type": "stream",
     "text": [
      "[-31.00982197]\n"
     ]
    }
   ],
   "source": [
    "print sqtErr"
   ]
  },
  {
   "cell_type": "code",
   "execution_count": null,
   "metadata": {
    "collapsed": true
   },
   "outputs": [],
   "source": []
  }
 ],
 "metadata": {
  "kernelspec": {
   "display_name": "Python 2",
   "language": "python",
   "name": "python2"
  },
  "language_info": {
   "codemirror_mode": {
    "name": "ipython",
    "version": 2
   },
   "file_extension": ".py",
   "mimetype": "text/x-python",
   "name": "python",
   "nbconvert_exporter": "python",
   "pygments_lexer": "ipython2",
   "version": "2.7.11"
  }
 },
 "nbformat": 4,
 "nbformat_minor": 0
}

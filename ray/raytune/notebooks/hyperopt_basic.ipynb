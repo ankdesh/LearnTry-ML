{
 "cells": [
  {
   "cell_type": "code",
   "execution_count": 1,
   "metadata": {},
   "outputs": [],
   "source": [
    "import time\n",
    "\n",
    "import ray\n",
    "from ray import tune\n",
    "from ray.tune.schedulers import AsyncHyperBandScheduler\n",
    "from ray.tune.suggest.hyperopt import HyperOptSearch\n",
    "from hyperopt import hp"
   ]
  },
  {
   "cell_type": "code",
   "execution_count": 2,
   "metadata": {},
   "outputs": [],
   "source": [
    "def evaluation_fn(step, width, height):\n",
    "    return (0.1 + width * step / 100)**(-1) + height * 0.1\n",
    "\n",
    "\n",
    "def easy_objective(config):\n",
    "    # Hyperparameters\n",
    "    width, height = config[\"width\"], config[\"height\"]\n",
    "\n",
    "    for step in range(config[\"steps\"]):\n",
    "        # Iterative training function - can be any arbitrary training procedure\n",
    "        intermediate_score = evaluation_fn(step, width, height)\n",
    "        # Feed the score back back to Tune.\n",
    "        tune.report(iterations=step, mean_loss=intermediate_score)\n",
    "        #time.sleep(0.1)"
   ]
  },
  {
   "cell_type": "code",
   "execution_count": 3,
   "metadata": {},
   "outputs": [
    {
     "name": "stderr",
     "output_type": "stream",
     "text": [
      "WARNING: The object store is using /tmp instead of /dev/shm because /dev/shm has only 67018752 bytes available. This may slow down performance! You may be able to free up space by deleting files in /dev/shm or terminating any running plasma_store_server processes. If you are inside a Docker container, you may need to pass an argument with the flag '--shm-size' to 'docker run'.\n",
      "WARNING: The object store is using /tmp instead of /dev/shm because /dev/shm has only 67018752 bytes available. This may slow down performance! You may be able to free up space by deleting files in /dev/shm or terminating any running plasma_store_server processes. If you are inside a Docker container, you may need to pass an argument with the flag '--shm-size' to 'docker run'.\n"
     ]
    },
    {
     "data": {
      "text/plain": [
       "{'node_ip_address': '172.17.0.2',\n",
       " 'raylet_ip_address': '172.17.0.2',\n",
       " 'redis_address': '172.17.0.2:6379',\n",
       " 'object_store_address': '/tmp/ray/session_2020-09-07_16-12-22_428985_18246/sockets/plasma_store',\n",
       " 'raylet_socket_name': '/tmp/ray/session_2020-09-07_16-12-22_428985_18246/sockets/raylet',\n",
       " 'webui_url': 'localhost:8265',\n",
       " 'session_dir': '/tmp/ray/session_2020-09-07_16-12-22_428985_18246'}"
      ]
     },
     "execution_count": 3,
     "metadata": {},
     "output_type": "execute_result"
    }
   ],
   "source": [
    "ray.init(configure_logging=False)"
   ]
  },
  {
   "cell_type": "code",
   "execution_count": 6,
   "metadata": {},
   "outputs": [],
   "source": [
    "space = {\n",
    "    \"width\": hp.uniform(\"width\", 0, 20),\n",
    "    \"height\": hp.uniform(\"height\", -100, 100),\n",
    "    # This is an ignored parameter.\n",
    "    \"activation\": hp.choice(\"activation\", [\"relu\", \"tanh\"])\n",
    "}\n",
    "\n",
    "config = {\n",
    "    \"num_samples\": 10,\n",
    "    \"config\": {\n",
    "        \"steps\": 100,\n",
    "    }\n",
    "}\n",
    "algo = HyperOptSearch(\n",
    "    space,\n",
    "    metric=\"mean_loss\",\n",
    "    mode=\"min\")\n",
    "scheduler = AsyncHyperBandScheduler(metric=\"mean_loss\", mode=\"min\")"
   ]
  },
  {
   "cell_type": "code",
   "execution_count": 7,
   "metadata": {},
   "outputs": [
    {
     "name": "stderr",
     "output_type": "stream",
     "text": [
      "Tune detects GPUs, but no trials are using GPUs. To enable trials to use GPUs, set tune.run(resources_per_trial={'gpu': 1}...) which allows Tune to expose 1 GPU to each trial. You can also override `Trainable.default_resource_request` if using the Trainable API.\n",
      "Log sync requires rsync to be installed.\n"
     ]
    },
    {
     "data": {
      "text/html": [
       "== Status ==<br>Memory usage on this node: 5.3/15.6 GiB<br>Using AsyncHyperBand: num_stopped=0\n",
       "Bracket: Iter 64.000: None | Iter 16.000: None | Iter 4.000: None | Iter 1.000: None<br>Resources requested: 1/4 CPUs, 0/1 GPUs, 0.0/8.69 GiB heap, 0.0/2.98 GiB objects (0/1.0 GPUType:GTX)<br>Result logdir: /home/ankdesh/ray_results/easy_objective<br>Number of trials: 10 (9 PENDING, 1 RUNNING)<br><table>\n",
       "<thead>\n",
       "<tr><th>Trial name             </th><th>status  </th><th>loc  </th><th>activation  </th><th style=\"text-align: right;\">   height</th><th style=\"text-align: right;\">    width</th></tr>\n",
       "</thead>\n",
       "<tbody>\n",
       "<tr><td>easy_objective_178b490c</td><td>RUNNING </td><td>     </td><td>relu        </td><td style=\"text-align: right;\">-31.2225 </td><td style=\"text-align: right;\"> 1.2243  </td></tr>\n",
       "<tr><td>easy_objective_178c2c3c</td><td>PENDING </td><td>     </td><td>relu        </td><td style=\"text-align: right;\">-73.0661 </td><td style=\"text-align: right;\"> 9.07515 </td></tr>\n",
       "<tr><td>easy_objective_178cc804</td><td>PENDING </td><td>     </td><td>tanh        </td><td style=\"text-align: right;\">-89.6627 </td><td style=\"text-align: right;\">15.5659  </td></tr>\n",
       "<tr><td>easy_objective_178d50bc</td><td>PENDING </td><td>     </td><td>relu        </td><td style=\"text-align: right;\"> 79.0504 </td><td style=\"text-align: right;\"> 8.72339 </td></tr>\n",
       "<tr><td>easy_objective_178dcd44</td><td>PENDING </td><td>     </td><td>tanh        </td><td style=\"text-align: right;\">  8.23278</td><td style=\"text-align: right;\">10.2218  </td></tr>\n",
       "<tr><td>easy_objective_178e51b0</td><td>PENDING </td><td>     </td><td>tanh        </td><td style=\"text-align: right;\"> 11.8652 </td><td style=\"text-align: right;\">12.7052  </td></tr>\n",
       "<tr><td>easy_objective_178ee274</td><td>PENDING </td><td>     </td><td>tanh        </td><td style=\"text-align: right;\">-73.3325 </td><td style=\"text-align: right;\">16.9629  </td></tr>\n",
       "<tr><td>easy_objective_178f52a4</td><td>PENDING </td><td>     </td><td>tanh        </td><td style=\"text-align: right;\"> 48.9252 </td><td style=\"text-align: right;\">12.4174  </td></tr>\n",
       "<tr><td>easy_objective_178fbe88</td><td>PENDING </td><td>     </td><td>tanh        </td><td style=\"text-align: right;\">-92.4134 </td><td style=\"text-align: right;\"> 0.434294</td></tr>\n",
       "<tr><td>easy_objective_17902698</td><td>PENDING </td><td>     </td><td>tanh        </td><td style=\"text-align: right;\">-82.3858 </td><td style=\"text-align: right;\"> 8.72084 </td></tr>\n",
       "</tbody>\n",
       "</table><br><br>"
      ],
      "text/plain": [
       "<IPython.core.display.HTML object>"
      ]
     },
     "metadata": {},
     "output_type": "display_data"
    },
    {
     "name": "stderr",
     "output_type": "stream",
     "text": [
      "Log sync requires rsync to be installed.\n",
      "Log sync requires rsync to be installed.\n",
      "Log sync requires rsync to be installed.\n",
      "\u001b[2m\u001b[36m(pid=18391)\u001b[0m 2020-09-07 16:13:40,286\tWARNING function_runner.py:503 -- Function checkpointing is disabled. This may result in unexpected behavior when using checkpointing features or certain schedulers. To enable, set the train function arguments to be `func(config, checkpoint_dir=None)`.\n",
      "\u001b[2m\u001b[36m(pid=18388)\u001b[0m 2020-09-07 16:13:40,330\tWARNING function_runner.py:503 -- Function checkpointing is disabled. This may result in unexpected behavior when using checkpointing features or certain schedulers. To enable, set the train function arguments to be `func(config, checkpoint_dir=None)`.\n",
      "Log sync requires rsync to be installed.\n",
      "\u001b[2m\u001b[36m(pid=18389)\u001b[0m 2020-09-07 16:13:40,380\tWARNING function_runner.py:503 -- Function checkpointing is disabled. This may result in unexpected behavior when using checkpointing features or certain schedulers. To enable, set the train function arguments to be `func(config, checkpoint_dir=None)`.\n",
      "\u001b[2m\u001b[36m(pid=18390)\u001b[0m 2020-09-07 16:13:40,354\tWARNING function_runner.py:503 -- Function checkpointing is disabled. This may result in unexpected behavior when using checkpointing features or certain schedulers. To enable, set the train function arguments to be `func(config, checkpoint_dir=None)`.\n",
      "Log sync requires rsync to be installed.\n"
     ]
    },
    {
     "name": "stdout",
     "output_type": "stream",
     "text": [
      "Result for easy_objective_178b490c:\n",
      "  date: 2020-09-07_16-13-40\n",
      "  done: false\n",
      "  experiment_id: e9fee3ce30ea4a71bfacdc1f13818e45\n",
      "  experiment_tag: 1_activation=relu,height=-31.223,steps=100,width=1.2243\n",
      "  hostname: ab778119f77d\n",
      "  iterations: 0\n",
      "  iterations_since_restore: 1\n",
      "  mean_loss: 6.877748993067804\n",
      "  neg_mean_loss: -6.877748993067804\n",
      "  node_ip: 172.17.0.2\n",
      "  pid: 18391\n",
      "  time_since_restore: 0.0003974437713623047\n",
      "  time_this_iter_s: 0.0003974437713623047\n",
      "  time_total_s: 0.0003974437713623047\n",
      "  timestamp: 1599495220\n",
      "  timesteps_since_restore: 0\n",
      "  training_iteration: 1\n",
      "  trial_id: 178b490c\n",
      "  \n",
      "Result for easy_objective_178cc804:\n",
      "  date: 2020-09-07_16-13-40\n",
      "  done: false\n",
      "  experiment_id: ed5725e7374543578423f02ced4667cf\n",
      "  experiment_tag: 3_activation=tanh,height=-89.663,steps=100,width=15.566\n",
      "  hostname: ab778119f77d\n",
      "  iterations: 0\n",
      "  iterations_since_restore: 1\n",
      "  mean_loss: 1.033726535550894\n",
      "  neg_mean_loss: -1.033726535550894\n",
      "  node_ip: 172.17.0.2\n",
      "  pid: 18388\n",
      "  time_since_restore: 0.0003581047058105469\n",
      "  time_this_iter_s: 0.0003581047058105469\n",
      "  time_total_s: 0.0003581047058105469\n",
      "  timestamp: 1599495220\n",
      "  timesteps_since_restore: 0\n",
      "  training_iteration: 1\n",
      "  trial_id: 178cc804\n",
      "  \n",
      "Result for easy_objective_178c2c3c:\n",
      "  date: 2020-09-07_16-13-40\n",
      "  done: true\n",
      "  experiment_id: 88c88ecd912c405cabb419d0df7283da\n",
      "  experiment_tag: 2_activation=relu,height=-73.066,steps=100,width=9.0752\n",
      "  hostname: ab778119f77d\n",
      "  iterations: 0\n",
      "  iterations_since_restore: 1\n",
      "  mean_loss: 2.6933865902733096\n",
      "  neg_mean_loss: -2.6933865902733096\n",
      "  node_ip: 172.17.0.2\n",
      "  pid: 18390\n",
      "  time_since_restore: 0.0003650188446044922\n",
      "  time_this_iter_s: 0.0003650188446044922\n",
      "  time_total_s: 0.0003650188446044922\n",
      "  timestamp: 1599495220\n",
      "  timesteps_since_restore: 0\n",
      "  training_iteration: 1\n",
      "  trial_id: 178c2c3c\n",
      "  \n",
      "Result for easy_objective_178d50bc:\n",
      "  date: 2020-09-07_16-13-40\n",
      "  done: true\n",
      "  experiment_id: 631cee36db274831986bbefe000ea904\n",
      "  experiment_tag: 4_activation=relu,height=79.05,steps=100,width=8.7234\n",
      "  hostname: ab778119f77d\n",
      "  iterations: 0\n",
      "  iterations_since_restore: 1\n",
      "  mean_loss: 17.905041787826015\n",
      "  neg_mean_loss: -17.905041787826015\n",
      "  node_ip: 172.17.0.2\n",
      "  pid: 18389\n",
      "  time_since_restore: 0.002827167510986328\n",
      "  time_this_iter_s: 0.002827167510986328\n",
      "  time_total_s: 0.002827167510986328\n",
      "  timestamp: 1599495220\n",
      "  timesteps_since_restore: 0\n",
      "  training_iteration: 1\n",
      "  trial_id: 178d50bc\n",
      "  \n"
     ]
    },
    {
     "name": "stderr",
     "output_type": "stream",
     "text": [
      "Log sync requires rsync to be installed.\n",
      "\u001b[2m\u001b[36m(pid=19438)\u001b[0m 2020-09-07 16:13:41,205\tWARNING function_runner.py:503 -- Function checkpointing is disabled. This may result in unexpected behavior when using checkpointing features or certain schedulers. To enable, set the train function arguments to be `func(config, checkpoint_dir=None)`.\n",
      "Log sync requires rsync to be installed.\n",
      "Log sync requires rsync to be installed.\n"
     ]
    },
    {
     "name": "stdout",
     "output_type": "stream",
     "text": [
      "Result for easy_objective_178dcd44:\n",
      "  date: 2020-09-07_16-13-41\n",
      "  done: true\n",
      "  experiment_id: f34c2c6e7a4e48ae93d687c29730535f\n",
      "  experiment_tag: 5_activation=tanh,height=8.2328,steps=100,width=10.222\n",
      "  hostname: ab778119f77d\n",
      "  iterations: 0\n",
      "  iterations_since_restore: 1\n",
      "  mean_loss: 10.82327804219093\n",
      "  neg_mean_loss: -10.82327804219093\n",
      "  node_ip: 172.17.0.2\n",
      "  pid: 19438\n",
      "  time_since_restore: 0.007350921630859375\n",
      "  time_this_iter_s: 0.007350921630859375\n",
      "  time_total_s: 0.007350921630859375\n",
      "  timestamp: 1599495221\n",
      "  timesteps_since_restore: 0\n",
      "  training_iteration: 1\n",
      "  trial_id: 178dcd44\n",
      "  \n",
      "Result for easy_objective_178cc804:\n",
      "  date: 2020-09-07_16-13-41\n",
      "  done: true\n",
      "  experiment_id: ed5725e7374543578423f02ced4667cf\n",
      "  experiment_tag: 3_activation=tanh,height=-89.663,steps=100,width=15.566\n",
      "  hostname: ab778119f77d\n",
      "  iterations: 99\n",
      "  iterations_since_restore: 100\n",
      "  mean_loss: -8.901799837477851\n",
      "  neg_mean_loss: 8.901799837477851\n",
      "  node_ip: 172.17.0.2\n",
      "  pid: 18388\n",
      "  time_since_restore: 0.9241628646850586\n",
      "  time_this_iter_s: 0.003984689712524414\n",
      "  time_total_s: 0.9241628646850586\n",
      "  timestamp: 1599495221\n",
      "  timesteps_since_restore: 0\n",
      "  training_iteration: 100\n",
      "  trial_id: 178cc804\n",
      "  \n",
      "Result for easy_objective_178b490c:\n",
      "  date: 2020-09-07_16-13-41\n",
      "  done: true\n",
      "  experiment_id: e9fee3ce30ea4a71bfacdc1f13818e45\n",
      "  experiment_tag: 1_activation=relu,height=-31.223,steps=100,width=1.2243\n",
      "  hostname: ab778119f77d\n",
      "  iterations: 63\n",
      "  iterations_since_restore: 64\n",
      "  mean_loss: -1.974551924471501\n",
      "  neg_mean_loss: 1.974551924471501\n",
      "  node_ip: 172.17.0.2\n",
      "  pid: 18391\n",
      "  time_since_restore: 0.9956276416778564\n",
      "  time_this_iter_s: 0.003849029541015625\n",
      "  time_total_s: 0.9956276416778564\n",
      "  timestamp: 1599495221\n",
      "  timesteps_since_restore: 0\n",
      "  training_iteration: 64\n",
      "  trial_id: 178b490c\n",
      "  \n"
     ]
    },
    {
     "name": "stderr",
     "output_type": "stream",
     "text": [
      "Log sync requires rsync to be installed.\n"
     ]
    },
    {
     "name": "stdout",
     "output_type": "stream",
     "text": [
      "Result for easy_objective_178e51b0:\n",
      "  date: 2020-09-07_16-13-41\n",
      "  done: true\n",
      "  experiment_id: 7562caf7e76944e98334fa771d1ab2c9\n",
      "  experiment_tag: 6_activation=tanh,height=11.865,steps=100,width=12.705\n",
      "  hostname: ab778119f77d\n",
      "  iterations: 0\n",
      "  iterations_since_restore: 1\n",
      "  mean_loss: 11.186517382628578\n",
      "  neg_mean_loss: -11.186517382628578\n",
      "  node_ip: 172.17.0.2\n",
      "  pid: 19443\n",
      "  time_since_restore: 0.017580032348632812\n",
      "  time_this_iter_s: 0.017580032348632812\n",
      "  time_total_s: 0.017580032348632812\n",
      "  timestamp: 1599495221\n",
      "  timesteps_since_restore: 0\n",
      "  training_iteration: 1\n",
      "  trial_id: 178e51b0\n",
      "  \n",
      "Result for easy_objective_178ee274:\n",
      "  date: 2020-09-07_16-13-41\n",
      "  done: false\n",
      "  experiment_id: 07ee2baaa344438fa5a11c9fec7cf9ad\n",
      "  experiment_tag: 7_activation=tanh,height=-73.333,steps=100,width=16.963\n",
      "  hostname: ab778119f77d\n",
      "  iterations: 0\n",
      "  iterations_since_restore: 1\n",
      "  mean_loss: 2.666748079598997\n",
      "  neg_mean_loss: -2.666748079598997\n",
      "  node_ip: 172.17.0.2\n",
      "  pid: 19445\n",
      "  time_since_restore: 0.00894308090209961\n",
      "  time_this_iter_s: 0.00894308090209961\n",
      "  time_total_s: 0.00894308090209961\n",
      "  timestamp: 1599495221\n",
      "  timesteps_since_restore: 0\n",
      "  training_iteration: 1\n",
      "  trial_id: 178ee274\n",
      "  \n"
     ]
    },
    {
     "name": "stderr",
     "output_type": "stream",
     "text": [
      "\u001b[2m\u001b[36m(pid=19443)\u001b[0m 2020-09-07 16:13:41,484\tWARNING function_runner.py:503 -- Function checkpointing is disabled. This may result in unexpected behavior when using checkpointing features or certain schedulers. To enable, set the train function arguments to be `func(config, checkpoint_dir=None)`.\n",
      "\u001b[2m\u001b[36m(pid=19445)\u001b[0m 2020-09-07 16:13:41,686\tWARNING function_runner.py:503 -- Function checkpointing is disabled. This may result in unexpected behavior when using checkpointing features or certain schedulers. To enable, set the train function arguments to be `func(config, checkpoint_dir=None)`.\n"
     ]
    },
    {
     "name": "stdout",
     "output_type": "stream",
     "text": [
      "Result for easy_objective_178f52a4:\n",
      "  date: 2020-09-07_16-13-41\n",
      "  done: true\n",
      "  experiment_id: 0d6af667b74640928b9a1316b6950a94\n",
      "  experiment_tag: 8_activation=tanh,height=48.925,steps=100,width=12.417\n",
      "  hostname: ab778119f77d\n",
      "  iterations: 0\n",
      "  iterations_since_restore: 1\n",
      "  mean_loss: 14.892523161568798\n",
      "  neg_mean_loss: -14.892523161568798\n",
      "  node_ip: 172.17.0.2\n",
      "  pid: 19442\n",
      "  time_since_restore: 0.008889913558959961\n",
      "  time_this_iter_s: 0.008889913558959961\n",
      "  time_total_s: 0.008889913558959961\n",
      "  timestamp: 1599495221\n",
      "  timesteps_since_restore: 0\n",
      "  training_iteration: 1\n",
      "  trial_id: 178f52a4\n",
      "  \n"
     ]
    },
    {
     "name": "stderr",
     "output_type": "stream",
     "text": [
      "\u001b[2m\u001b[36m(pid=19442)\u001b[0m 2020-09-07 16:13:41,770\tWARNING function_runner.py:503 -- Function checkpointing is disabled. This may result in unexpected behavior when using checkpointing features or certain schedulers. To enable, set the train function arguments to be `func(config, checkpoint_dir=None)`.\n"
     ]
    },
    {
     "name": "stdout",
     "output_type": "stream",
     "text": [
      "Result for easy_objective_178fbe88:\n",
      "  date: 2020-09-07_16-13-42\n",
      "  done: false\n",
      "  experiment_id: ecefc7d323254690a1a1990d7fbed39a\n",
      "  experiment_tag: 9_activation=tanh,height=-92.413,steps=100,width=0.43429\n",
      "  hostname: ab778119f77d\n",
      "  iterations: 0\n",
      "  iterations_since_restore: 1\n",
      "  mean_loss: 0.7586640574138421\n",
      "  neg_mean_loss: -0.7586640574138421\n",
      "  node_ip: 172.17.0.2\n",
      "  pid: 19478\n",
      "  time_since_restore: 0.0004978179931640625\n",
      "  time_this_iter_s: 0.0004978179931640625\n",
      "  time_total_s: 0.0004978179931640625\n",
      "  timestamp: 1599495222\n",
      "  timesteps_since_restore: 0\n",
      "  training_iteration: 1\n",
      "  trial_id: 178fbe88\n",
      "  \n",
      "Result for easy_objective_178fbe88:\n",
      "  date: 2020-09-07_16-13-42\n",
      "  done: true\n",
      "  experiment_id: ecefc7d323254690a1a1990d7fbed39a\n",
      "  experiment_tag: 9_activation=tanh,height=-92.413,steps=100,width=0.43429\n",
      "  hostname: ab778119f77d\n",
      "  iterations: 3\n",
      "  iterations_since_restore: 4\n",
      "  mean_loss: -0.3940340798995514\n",
      "  neg_mean_loss: 0.3940340798995514\n",
      "  node_ip: 172.17.0.2\n",
      "  pid: 19478\n",
      "  time_since_restore: 0.026295185089111328\n",
      "  time_this_iter_s: 0.0048296451568603516\n",
      "  time_total_s: 0.026295185089111328\n",
      "  timestamp: 1599495222\n",
      "  timesteps_since_restore: 0\n",
      "  training_iteration: 4\n",
      "  trial_id: 178fbe88\n",
      "  \n",
      "Result for easy_objective_178ee274:\n",
      "  date: 2020-09-07_16-13-42\n",
      "  done: true\n",
      "  experiment_id: 07ee2baaa344438fa5a11c9fec7cf9ad\n",
      "  experiment_tag: 7_activation=tanh,height=-73.333,steps=100,width=16.963\n",
      "  hostname: ab778119f77d\n",
      "  iterations: 99\n",
      "  iterations_since_restore: 100\n",
      "  mean_loss: -7.274056656283909\n",
      "  neg_mean_loss: 7.274056656283909\n",
      "  node_ip: 172.17.0.2\n",
      "  pid: 19445\n",
      "  time_since_restore: 0.6273393630981445\n",
      "  time_this_iter_s: 0.003401041030883789\n",
      "  time_total_s: 0.6273393630981445\n",
      "  timestamp: 1599495222\n",
      "  timesteps_since_restore: 0\n",
      "  training_iteration: 100\n",
      "  trial_id: 178ee274\n",
      "  \n",
      "Result for easy_objective_17902698:\n",
      "  date: 2020-09-07_16-13-42\n",
      "  done: false\n",
      "  experiment_id: b307294be18f4e23bfbe886bd1a98235\n",
      "  experiment_tag: 10_activation=tanh,height=-82.386,steps=100,width=8.7208\n",
      "  hostname: ab778119f77d\n",
      "  iterations: 0\n",
      "  iterations_since_restore: 1\n",
      "  mean_loss: 1.7614221389417128\n",
      "  neg_mean_loss: -1.7614221389417128\n",
      "  node_ip: 172.17.0.2\n",
      "  pid: 19543\n",
      "  time_since_restore: 0.0041522979736328125\n",
      "  time_this_iter_s: 0.0041522979736328125\n",
      "  time_total_s: 0.0041522979736328125\n",
      "  timestamp: 1599495222\n",
      "  timesteps_since_restore: 0\n",
      "  training_iteration: 1\n",
      "  trial_id: '17902698'\n",
      "  \n",
      "Result for easy_objective_17902698:\n",
      "  date: 2020-09-07_16-13-42\n",
      "  done: true\n",
      "  experiment_id: b307294be18f4e23bfbe886bd1a98235\n",
      "  experiment_tag: 10_activation=tanh,height=-82.386,steps=100,width=8.7208\n",
      "  hostname: ab778119f77d\n",
      "  iterations: 3\n",
      "  iterations_since_restore: 4\n",
      "  mean_loss: -5.473284784417876\n",
      "  neg_mean_loss: 5.473284784417876\n",
      "  node_ip: 172.17.0.2\n",
      "  pid: 19543\n",
      "  time_since_restore: 0.014953136444091797\n",
      "  time_this_iter_s: 0.0028018951416015625\n",
      "  time_total_s: 0.014953136444091797\n",
      "  timestamp: 1599495222\n",
      "  timesteps_since_restore: 0\n",
      "  training_iteration: 4\n",
      "  trial_id: '17902698'\n",
      "  \n"
     ]
    },
    {
     "name": "stderr",
     "output_type": "stream",
     "text": [
      "\u001b[2m\u001b[36m(pid=19478)\u001b[0m 2020-09-07 16:13:42,184\tWARNING function_runner.py:503 -- Function checkpointing is disabled. This may result in unexpected behavior when using checkpointing features or certain schedulers. To enable, set the train function arguments to be `func(config, checkpoint_dir=None)`.\n"
     ]
    },
    {
     "data": {
      "text/html": [
       "== Status ==<br>Memory usage on this node: 5.4/15.6 GiB<br>Using AsyncHyperBand: num_stopped=10\n",
       "Bracket: Iter 64.000: 8.052937022576009 | Iter 16.000: 7.755337283996914 | Iter 4.000: 5.690908796504681 | Iter 1.000: -1.9877536241060338<br>Resources requested: 0/4 CPUs, 0/1 GPUs, 0.0/8.69 GiB heap, 0.0/2.98 GiB objects (0/1.0 GPUType:GTX)<br>Result logdir: /home/ankdesh/ray_results/easy_objective<br>Number of trials: 10 (10 TERMINATED)<br><table>\n",
       "<thead>\n",
       "<tr><th>Trial name             </th><th>status    </th><th>loc  </th><th>activation  </th><th style=\"text-align: right;\">   height</th><th style=\"text-align: right;\">    width</th><th style=\"text-align: right;\">     loss</th><th style=\"text-align: right;\">  iter</th><th style=\"text-align: right;\">  total time (s)</th></tr>\n",
       "</thead>\n",
       "<tbody>\n",
       "<tr><td>easy_objective_178b490c</td><td>TERMINATED</td><td>     </td><td>relu        </td><td style=\"text-align: right;\">-31.2225 </td><td style=\"text-align: right;\"> 1.2243  </td><td style=\"text-align: right;\">-1.97455 </td><td style=\"text-align: right;\">    64</td><td style=\"text-align: right;\">     0.995628   </td></tr>\n",
       "<tr><td>easy_objective_178c2c3c</td><td>TERMINATED</td><td>     </td><td>relu        </td><td style=\"text-align: right;\">-73.0661 </td><td style=\"text-align: right;\"> 9.07515 </td><td style=\"text-align: right;\"> 2.69339 </td><td style=\"text-align: right;\">     1</td><td style=\"text-align: right;\">     0.000365019</td></tr>\n",
       "<tr><td>easy_objective_178cc804</td><td>TERMINATED</td><td>     </td><td>tanh        </td><td style=\"text-align: right;\">-89.6627 </td><td style=\"text-align: right;\">15.5659  </td><td style=\"text-align: right;\">-8.9018  </td><td style=\"text-align: right;\">   100</td><td style=\"text-align: right;\">     0.924163   </td></tr>\n",
       "<tr><td>easy_objective_178d50bc</td><td>TERMINATED</td><td>     </td><td>relu        </td><td style=\"text-align: right;\"> 79.0504 </td><td style=\"text-align: right;\"> 8.72339 </td><td style=\"text-align: right;\">17.905   </td><td style=\"text-align: right;\">     1</td><td style=\"text-align: right;\">     0.00282717 </td></tr>\n",
       "<tr><td>easy_objective_178dcd44</td><td>TERMINATED</td><td>     </td><td>tanh        </td><td style=\"text-align: right;\">  8.23278</td><td style=\"text-align: right;\">10.2218  </td><td style=\"text-align: right;\">10.8233  </td><td style=\"text-align: right;\">     1</td><td style=\"text-align: right;\">     0.00735092 </td></tr>\n",
       "<tr><td>easy_objective_178e51b0</td><td>TERMINATED</td><td>     </td><td>tanh        </td><td style=\"text-align: right;\"> 11.8652 </td><td style=\"text-align: right;\">12.7052  </td><td style=\"text-align: right;\">11.1865  </td><td style=\"text-align: right;\">     1</td><td style=\"text-align: right;\">     0.01758    </td></tr>\n",
       "<tr><td>easy_objective_178ee274</td><td>TERMINATED</td><td>     </td><td>tanh        </td><td style=\"text-align: right;\">-73.3325 </td><td style=\"text-align: right;\">16.9629  </td><td style=\"text-align: right;\">-7.27406 </td><td style=\"text-align: right;\">   100</td><td style=\"text-align: right;\">     0.627339   </td></tr>\n",
       "<tr><td>easy_objective_178f52a4</td><td>TERMINATED</td><td>     </td><td>tanh        </td><td style=\"text-align: right;\"> 48.9252 </td><td style=\"text-align: right;\">12.4174  </td><td style=\"text-align: right;\">14.8925  </td><td style=\"text-align: right;\">     1</td><td style=\"text-align: right;\">     0.00888991 </td></tr>\n",
       "<tr><td>easy_objective_178fbe88</td><td>TERMINATED</td><td>     </td><td>tanh        </td><td style=\"text-align: right;\">-92.4134 </td><td style=\"text-align: right;\"> 0.434294</td><td style=\"text-align: right;\">-0.394034</td><td style=\"text-align: right;\">     4</td><td style=\"text-align: right;\">     0.0262952  </td></tr>\n",
       "<tr><td>easy_objective_17902698</td><td>TERMINATED</td><td>     </td><td>tanh        </td><td style=\"text-align: right;\">-82.3858 </td><td style=\"text-align: right;\"> 8.72084 </td><td style=\"text-align: right;\">-5.47328 </td><td style=\"text-align: right;\">     4</td><td style=\"text-align: right;\">     0.0149531  </td></tr>\n",
       "</tbody>\n",
       "</table><br><br>"
      ],
      "text/plain": [
       "<IPython.core.display.HTML object>"
      ]
     },
     "metadata": {},
     "output_type": "display_data"
    },
    {
     "name": "stderr",
     "output_type": "stream",
     "text": [
      "\u001b[2m\u001b[36m(pid=19543)\u001b[0m 2020-09-07 16:13:42,381\tWARNING function_runner.py:503 -- Function checkpointing is disabled. This may result in unexpected behavior when using checkpointing features or certain schedulers. To enable, set the train function arguments to be `func(config, checkpoint_dir=None)`.\n"
     ]
    }
   ],
   "source": [
    "result = tune.run(easy_objective, search_alg=algo, scheduler=scheduler, **config)"
   ]
  },
  {
   "cell_type": "code",
   "execution_count": 8,
   "metadata": {},
   "outputs": [
    {
     "name": "stdout",
     "output_type": "stream",
     "text": [
      "{'steps': 100, 'activation': 'relu', 'height': 79.05041787826016, 'width': 8.723391162614263}\n"
     ]
    }
   ],
   "source": [
    "print (result.get_best_config(metric=\"mean_loss\"))"
   ]
  },
  {
   "cell_type": "code",
   "execution_count": 9,
   "metadata": {},
   "outputs": [],
   "source": [
    "df = result.dataframe()"
   ]
  },
  {
   "cell_type": "code",
   "execution_count": 26,
   "metadata": {},
   "outputs": [
    {
     "name": "stdout",
     "output_type": "stream",
     "text": [
      "AxesSubplot(0.125,0.125;0.775x0.755)\n"
     ]
    },
    {
     "data": {
      "image/png": "[encoded data removed]",
      "text/plain": [
       "<Figure size 432x288 with 1 Axes>"
      ]
     },
     "metadata": {
      "needs_background": "light"
     },
     "output_type": "display_data"
    }
   ],
   "source": [
    "print(df[['config/height','mean_loss']].plot(kind='bar'))"
   ]
  },
  {
   "cell_type": "code",
   "execution_count": null,
   "metadata": {},
   "outputs": [],
   "source": []
  }
 ],
 "metadata": {
  "kernelspec": {
   "display_name": "Python 3",
   "language": "python",
   "name": "python3"
  },
  "language_info": {
   "codemirror_mode": {
    "name": "ipython",
    "version": 3
   },
   "file_extension": ".py",
   "mimetype": "text/x-python",
   "name": "python",
   "nbconvert_exporter": "python",
   "pygments_lexer": "ipython3",
   "version": "3.6.9"
  }
 },
 "nbformat": 4,
 "nbformat_minor": 4
}

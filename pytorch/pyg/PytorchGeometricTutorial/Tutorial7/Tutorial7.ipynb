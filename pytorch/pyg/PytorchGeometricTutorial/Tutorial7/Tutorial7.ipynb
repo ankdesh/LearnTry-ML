{
 "cells": [
  {
   "cell_type": "markdown",
   "metadata": {},
   "source": [
    "# Tutorial 7: ARGA & ARVGA  \n",
    "\n",
    "Paper:\n",
    "* [Adversarially Regularized Graph Autoencoder for Graph Embedding](https://www.ijcai.org/Proceedings/2018/0362.pdf)  \n",
    "\n",
    "Code:\n",
    " * [ARGA & ARVGA](https://pytorch-geometric.readthedocs.io/en/latest/_modules/torch_geometric/nn/models/autoencoder.html)\n",
    " * [Example on clustering](https://github.com/rusty1s/pytorch_geometric/blob/master/examples/argva_node_clustering.py)"
   ]
  },
  {
   "cell_type": "code",
   "execution_count": 2,
   "metadata": {},
   "outputs": [
    {
     "name": "stderr",
     "output_type": "stream",
     "text": [
      "/home/antonio/anaconda3/envs/geometric_new/lib/python3.9/site-packages/tqdm/auto.py:22: TqdmWarning: IProgress not found. Please update jupyter and ipywidgets. See https://ipywidgets.readthedocs.io/en/stable/user_install.html\n",
      "  from .autonotebook import tqdm as notebook_tqdm\n"
     ]
    },
    {
     "name": "stdout",
     "output_type": "stream",
     "text": [
      "1.11.0\n"
     ]
    }
   ],
   "source": [
    "import os\n",
    "import torch\n",
    "os.environ['TORCH'] = torch.__version__\n",
    "print(torch.__version__)\n",
    "\n",
    "!pip install -q torch-scatter -f https://data.pyg.org/whl/torch-${TORCH}.html\n",
    "!pip install -q torch-sparse -f https://data.pyg.org/whl/torch-${TORCH}.html\n",
    "!pip install -q git+https://github.com/pyg-team/pytorch_geometric.git"
   ]
  },
  {
   "cell_type": "markdown",
   "metadata": {},
   "source": [
    "## Imports"
   ]
  },
  {
   "cell_type": "code",
   "execution_count": 3,
   "metadata": {},
   "outputs": [],
   "source": [
    "import os.path as osp\n",
    "import torch\n",
    "import torch.nn.functional as F\n",
    "from sklearn.cluster import KMeans\n",
    "from sklearn.metrics.cluster import (v_measure_score, homogeneity_score, completeness_score)\n",
    "from sklearn.manifold import TSNE\n",
    "import matplotlib.pyplot as plt\n",
    "import torch_geometric.transforms as T\n",
    "from torch_geometric.datasets import Planetoid\n",
    "from torch_geometric.nn import GCNConv\n",
    "from torch_geometric.nn.models.autoencoder import ARGVA\n",
    "from torch_geometric.utils import train_test_split_edges"
   ]
  },
  {
   "cell_type": "code",
   "execution_count": 4,
   "metadata": {},
   "outputs": [],
   "source": [
    "use_cuda = False"
   ]
  },
  {
   "cell_type": "markdown",
   "metadata": {},
   "source": [
    "## Define the dataset"
   ]
  },
  {
   "cell_type": "markdown",
   "metadata": {},
   "source": [
    "Download the dataset"
   ]
  },
  {
   "cell_type": "code",
   "execution_count": 5,
   "metadata": {},
   "outputs": [
    {
     "name": "stderr",
     "output_type": "stream",
     "text": [
      "Downloading https://github.com/kimiyoung/planetoid/raw/master/data/ind.cora.x\n",
      "Downloading https://github.com/kimiyoung/planetoid/raw/master/data/ind.cora.tx\n",
      "Downloading https://github.com/kimiyoung/planetoid/raw/master/data/ind.cora.allx\n",
      "Downloading https://github.com/kimiyoung/planetoid/raw/master/data/ind.cora.y\n",
      "Downloading https://github.com/kimiyoung/planetoid/raw/master/data/ind.cora.ty\n",
      "Downloading https://github.com/kimiyoung/planetoid/raw/master/data/ind.cora.ally\n",
      "Downloading https://github.com/kimiyoung/planetoid/raw/master/data/ind.cora.graph\n",
      "Downloading https://github.com/kimiyoung/planetoid/raw/master/data/ind.cora.test.index\n",
      "Processing...\n",
      "Done!\n"
     ]
    }
   ],
   "source": [
    "dataset = 'Cora'\n",
    "path = osp.join('.', 'data', dataset)\n",
    "dataset = Planetoid(path, dataset, transform=T.NormalizeFeatures())\n",
    "data = dataset.get(0)"
   ]
  },
  {
   "cell_type": "markdown",
   "metadata": {},
   "source": [
    "Get the number of nodes"
   ]
  },
  {
   "cell_type": "code",
   "execution_count": 6,
   "metadata": {},
   "outputs": [],
   "source": [
    "num_nodes = data.x.shape[0]"
   ]
  },
  {
   "cell_type": "markdown",
   "metadata": {},
   "source": [
    "Create the train/val/test data"
   ]
  },
  {
   "cell_type": "code",
   "execution_count": 7,
   "metadata": {},
   "outputs": [
    {
     "name": "stderr",
     "output_type": "stream",
     "text": [
      "/home/antonio/anaconda3/envs/geometric_new/lib/python3.9/site-packages/torch_geometric/deprecation.py:12: UserWarning: 'train_test_split_edges' is deprecated, use 'transforms.RandomLinkSplit' instead\n",
      "  warnings.warn(out)\n"
     ]
    },
    {
     "data": {
      "text/plain": [
       "Data(x=[2708, 1433], y=[2708], val_pos_edge_index=[2, 263], test_pos_edge_index=[2, 527], train_pos_edge_index=[2, 8976], train_neg_adj_mask=[2708, 2708], val_neg_edge_index=[2, 263], test_neg_edge_index=[2, 527])"
      ]
     },
     "execution_count": 7,
     "metadata": {},
     "output_type": "execute_result"
    }
   ],
   "source": [
    "data.train_mask = data.val_mask = data.test_mask = None\n",
    "data = train_test_split_edges(data)\n",
    "data"
   ]
  },
  {
   "cell_type": "markdown",
   "metadata": {},
   "source": [
    "## Define the model"
   ]
  },
  {
   "cell_type": "markdown",
   "metadata": {},
   "source": [
    "Define the encoder classes (the same as in `Tutorial 6`)"
   ]
  },
  {
   "cell_type": "code",
   "execution_count": 8,
   "metadata": {},
   "outputs": [],
   "source": [
    "class VEncoder(torch.nn.Module):\n",
    "    def __init__(self, in_channels, out_channels):\n",
    "        super(VEncoder, self).__init__()\n",
    "        self.conv1 = GCNConv(in_channels, 2 * out_channels, cached=True)\n",
    "        self.conv_mu = GCNConv(2 * out_channels, out_channels, cached=True)\n",
    "        self.conv_logstd = GCNConv(2 * out_channels, out_channels, cached=True)\n",
    "\n",
    "    def forward(self, x, edge_index):\n",
    "        x = F.relu(self.conv1(x, edge_index))\n",
    "        return self.conv_mu(x, edge_index), self.conv_logstd(x, edge_index)"
   ]
  },
  {
   "cell_type": "markdown",
   "metadata": {},
   "source": [
    "Define the discriminator class"
   ]
  },
  {
   "cell_type": "code",
   "execution_count": 9,
   "metadata": {},
   "outputs": [],
   "source": [
    "class Discriminator(torch.nn.Module):\n",
    "    def __init__(self, in_channels, hidden_channels, out_channels):\n",
    "        super(Discriminator, self).__init__()\n",
    "        self.lin1 = torch.nn.Linear(in_channels, hidden_channels)\n",
    "        self.lin2 = torch.nn.Linear(hidden_channels, hidden_channels)\n",
    "        self.lin3 = torch.nn.Linear(hidden_channels, out_channels)\n",
    "\n",
    "    def forward(self, x):\n",
    "        x = F.relu(self.lin1(x))\n",
    "        x = F.relu(self.lin2(x))\n",
    "        x = self.lin3(x)\n",
    "        return x"
   ]
  },
  {
   "cell_type": "markdown",
   "metadata": {},
   "source": [
    "Define the training algorithm"
   ]
  },
  {
   "cell_type": "code",
   "execution_count": 10,
   "metadata": {},
   "outputs": [],
   "source": [
    "def train():\n",
    "    model.train()\n",
    "    encoder_optimizer.zero_grad()\n",
    "    \n",
    "    z = model.encode(data.x, data.train_pos_edge_index)\n",
    "\n",
    "    for i in range(5):\n",
    "        idx = range(num_nodes)  \n",
    "        discriminator.train()\n",
    "        discriminator_optimizer.zero_grad()\n",
    "        discriminator_loss = model.discriminator_loss(z[idx]) # Comment\n",
    "        discriminator_loss.backward(retain_graph=True)\n",
    "        discriminator_optimizer.step()\n",
    " \n",
    "    loss = 0\n",
    "    loss = loss + model.reg_loss(z)  # Comment\n",
    "    \n",
    "    loss = loss + model.recon_loss(z, data.train_pos_edge_index)\n",
    "    loss = loss + (1 / data.num_nodes) * model.kl_loss()\n",
    "    loss.backward()\n",
    "\n",
    "    encoder_optimizer.step()\n",
    "    \n",
    "    return loss"
   ]
  },
  {
   "cell_type": "markdown",
   "metadata": {},
   "source": [
    "Define a training test method"
   ]
  },
  {
   "cell_type": "code",
   "execution_count": 11,
   "metadata": {},
   "outputs": [],
   "source": [
    "@torch.no_grad()\n",
    "def test():\n",
    "    model.eval()\n",
    "    z = model.encode(data.x, data.train_pos_edge_index)\n",
    "\n",
    "    # Cluster embedded values using k-means.\n",
    "    kmeans_input = z.cpu().numpy()\n",
    "    kmeans = KMeans(n_clusters=7, random_state=0).fit(kmeans_input)\n",
    "    pred = kmeans.predict(kmeans_input)\n",
    "\n",
    "    labels = data.y.cpu().numpy()\n",
    "    completeness = completeness_score(labels, pred)\n",
    "    hm = homogeneity_score(labels, pred)\n",
    "    nmi = v_measure_score(labels, pred)\n",
    "\n",
    "    auc, ap = model.test(z, data.test_pos_edge_index, data.test_neg_edge_index)\n",
    "\n",
    "    return auc, ap, completeness, hm, nmi"
   ]
  },
  {
   "cell_type": "markdown",
   "metadata": {},
   "source": [
    "## Initialize the model"
   ]
  },
  {
   "cell_type": "markdown",
   "metadata": {},
   "source": [
    "Initialize an encoder and a discriminator"
   ]
  },
  {
   "cell_type": "code",
   "execution_count": 12,
   "metadata": {},
   "outputs": [],
   "source": [
    "latent_size = 32\n",
    "encoder = VEncoder(data.num_features, out_channels=latent_size)\n",
    "\n",
    "discriminator = Discriminator(in_channels=latent_size, hidden_channels=64, \n",
    "                              out_channels=1) # Comment"
   ]
  },
  {
   "cell_type": "markdown",
   "metadata": {},
   "source": [
    "Initialize the model and move everything to the GPU"
   ]
  },
  {
   "cell_type": "code",
   "execution_count": 13,
   "metadata": {},
   "outputs": [],
   "source": [
    "model = ARGVA(encoder, discriminator)\n",
    "\n",
    "device = torch.device('cuda' if torch.cuda.is_available() and use_cuda else 'cpu')\n",
    "model, data = model.to(device), data.to(device)"
   ]
  },
  {
   "cell_type": "markdown",
   "metadata": {},
   "source": [
    "Define the optimizers"
   ]
  },
  {
   "cell_type": "code",
   "execution_count": 14,
   "metadata": {},
   "outputs": [],
   "source": [
    "discriminator_optimizer = torch.optim.Adam(discriminator.parameters(), lr=0.001)\n",
    "encoder_optimizer = torch.optim.Adam(encoder.parameters(), lr=0.005)"
   ]
  },
  {
   "cell_type": "markdown",
   "metadata": {},
   "source": [
    "### Train the model"
   ]
  },
  {
   "cell_type": "code",
   "execution_count": 15,
   "metadata": {},
   "outputs": [
    {
     "name": "stdout",
     "output_type": "stream",
     "text": [
      "Epoch: 001, Loss: 5.462, AUC: 0.710, AP: 0.739, Completeness: 0.118, Homogeneity: 0.118, NMI: 0.118\n",
      "Epoch: 002, Loss: 4.772, AUC: 0.680, AP: 0.714, Completeness: 0.091, Homogeneity: 0.090, NMI: 0.091\n",
      "Epoch: 003, Loss: 4.237, AUC: 0.668, AP: 0.704, Completeness: 0.074, Homogeneity: 0.071, NMI: 0.072\n",
      "Epoch: 004, Loss: 3.706, AUC: 0.665, AP: 0.700, Completeness: 0.079, Homogeneity: 0.075, NMI: 0.077\n",
      "Epoch: 005, Loss: 3.361, AUC: 0.667, AP: 0.700, Completeness: 0.071, Homogeneity: 0.068, NMI: 0.069\n",
      "Epoch: 006, Loss: 3.041, AUC: 0.674, AP: 0.703, Completeness: 0.083, Homogeneity: 0.078, NMI: 0.081\n",
      "Epoch: 007, Loss: 2.740, AUC: 0.689, AP: 0.712, Completeness: 0.103, Homogeneity: 0.102, NMI: 0.102\n",
      "Epoch: 008, Loss: 2.487, AUC: 0.706, AP: 0.725, Completeness: 0.130, Homogeneity: 0.132, NMI: 0.131\n",
      "Epoch: 009, Loss: 2.323, AUC: 0.714, AP: 0.733, Completeness: 0.139, Homogeneity: 0.142, NMI: 0.140\n",
      "Epoch: 010, Loss: 2.177, AUC: 0.722, AP: 0.743, Completeness: 0.149, Homogeneity: 0.150, NMI: 0.150\n",
      "Epoch: 011, Loss: 2.119, AUC: 0.724, AP: 0.747, Completeness: 0.164, Homogeneity: 0.163, NMI: 0.163\n",
      "Epoch: 012, Loss: 2.161, AUC: 0.719, AP: 0.745, Completeness: 0.174, Homogeneity: 0.172, NMI: 0.173\n",
      "Epoch: 013, Loss: 2.262, AUC: 0.721, AP: 0.747, Completeness: 0.185, Homogeneity: 0.186, NMI: 0.185\n",
      "Epoch: 014, Loss: 2.326, AUC: 0.727, AP: 0.753, Completeness: 0.199, Homogeneity: 0.200, NMI: 0.199\n",
      "Epoch: 015, Loss: 2.345, AUC: 0.735, AP: 0.758, Completeness: 0.221, Homogeneity: 0.224, NMI: 0.223\n",
      "Epoch: 016, Loss: 2.342, AUC: 0.741, AP: 0.762, Completeness: 0.221, Homogeneity: 0.222, NMI: 0.221\n",
      "Epoch: 017, Loss: 2.359, AUC: 0.750, AP: 0.769, Completeness: 0.227, Homogeneity: 0.230, NMI: 0.228\n",
      "Epoch: 018, Loss: 2.417, AUC: 0.762, AP: 0.779, Completeness: 0.234, Homogeneity: 0.235, NMI: 0.235\n",
      "Epoch: 019, Loss: 2.448, AUC: 0.773, AP: 0.787, Completeness: 0.243, Homogeneity: 0.248, NMI: 0.245\n",
      "Epoch: 020, Loss: 2.510, AUC: 0.777, AP: 0.789, Completeness: 0.289, Homogeneity: 0.291, NMI: 0.290\n",
      "Epoch: 021, Loss: 2.603, AUC: 0.773, AP: 0.785, Completeness: 0.304, Homogeneity: 0.314, NMI: 0.309\n",
      "Epoch: 022, Loss: 2.726, AUC: 0.770, AP: 0.780, Completeness: 0.295, Homogeneity: 0.306, NMI: 0.300\n",
      "Epoch: 023, Loss: 2.945, AUC: 0.769, AP: 0.778, Completeness: 0.296, Homogeneity: 0.307, NMI: 0.302\n",
      "Epoch: 024, Loss: 3.170, AUC: 0.773, AP: 0.779, Completeness: 0.305, Homogeneity: 0.318, NMI: 0.311\n",
      "Epoch: 025, Loss: 3.335, AUC: 0.780, AP: 0.783, Completeness: 0.316, Homogeneity: 0.327, NMI: 0.322\n",
      "Epoch: 026, Loss: 3.439, AUC: 0.789, AP: 0.790, Completeness: 0.350, Homogeneity: 0.361, NMI: 0.355\n",
      "Epoch: 027, Loss: 3.506, AUC: 0.797, AP: 0.799, Completeness: 0.346, Homogeneity: 0.362, NMI: 0.354\n",
      "Epoch: 028, Loss: 3.528, AUC: 0.799, AP: 0.803, Completeness: 0.368, Homogeneity: 0.376, NMI: 0.372\n",
      "Epoch: 029, Loss: 3.577, AUC: 0.797, AP: 0.801, Completeness: 0.356, Homogeneity: 0.367, NMI: 0.361\n",
      "Epoch: 030, Loss: 3.713, AUC: 0.792, AP: 0.795, Completeness: 0.353, Homogeneity: 0.365, NMI: 0.359\n",
      "Epoch: 031, Loss: 3.839, AUC: 0.788, AP: 0.791, Completeness: 0.356, Homogeneity: 0.368, NMI: 0.362\n",
      "Epoch: 032, Loss: 4.028, AUC: 0.789, AP: 0.790, Completeness: 0.356, Homogeneity: 0.357, NMI: 0.357\n",
      "Epoch: 033, Loss: 4.102, AUC: 0.794, AP: 0.794, Completeness: 0.364, Homogeneity: 0.366, NMI: 0.365\n",
      "Epoch: 034, Loss: 4.186, AUC: 0.800, AP: 0.798, Completeness: 0.367, Homogeneity: 0.368, NMI: 0.367\n",
      "Epoch: 035, Loss: 4.184, AUC: 0.806, AP: 0.803, Completeness: 0.373, Homogeneity: 0.372, NMI: 0.373\n",
      "Epoch: 036, Loss: 4.362, AUC: 0.809, AP: 0.806, Completeness: 0.370, Homogeneity: 0.367, NMI: 0.368\n",
      "Epoch: 037, Loss: 4.382, AUC: 0.805, AP: 0.804, Completeness: 0.370, Homogeneity: 0.367, NMI: 0.369\n",
      "Epoch: 038, Loss: 4.352, AUC: 0.795, AP: 0.797, Completeness: 0.370, Homogeneity: 0.365, NMI: 0.367\n",
      "Epoch: 039, Loss: 4.439, AUC: 0.781, AP: 0.785, Completeness: 0.362, Homogeneity: 0.353, NMI: 0.358\n",
      "Epoch: 040, Loss: 4.455, AUC: 0.769, AP: 0.773, Completeness: 0.357, Homogeneity: 0.345, NMI: 0.351\n",
      "Epoch: 041, Loss: 4.379, AUC: 0.760, AP: 0.763, Completeness: 0.349, Homogeneity: 0.343, NMI: 0.346\n",
      "Epoch: 042, Loss: 4.435, AUC: 0.756, AP: 0.757, Completeness: 0.349, Homogeneity: 0.344, NMI: 0.347\n",
      "Epoch: 043, Loss: 4.348, AUC: 0.759, AP: 0.756, Completeness: 0.355, Homogeneity: 0.346, NMI: 0.350\n",
      "Epoch: 044, Loss: 4.384, AUC: 0.767, AP: 0.759, Completeness: 0.359, Homogeneity: 0.349, NMI: 0.354\n",
      "Epoch: 045, Loss: 4.351, AUC: 0.779, AP: 0.766, Completeness: 0.361, Homogeneity: 0.351, NMI: 0.356\n",
      "Epoch: 046, Loss: 4.297, AUC: 0.793, AP: 0.776, Completeness: 0.364, Homogeneity: 0.353, NMI: 0.358\n",
      "Epoch: 047, Loss: 4.286, AUC: 0.807, AP: 0.788, Completeness: 0.364, Homogeneity: 0.354, NMI: 0.359\n",
      "Epoch: 048, Loss: 4.194, AUC: 0.819, AP: 0.800, Completeness: 0.384, Homogeneity: 0.380, NMI: 0.382\n",
      "Epoch: 049, Loss: 4.118, AUC: 0.829, AP: 0.812, Completeness: 0.386, Homogeneity: 0.383, NMI: 0.385\n",
      "Epoch: 050, Loss: 4.119, AUC: 0.836, AP: 0.821, Completeness: 0.398, Homogeneity: 0.403, NMI: 0.400\n",
      "Epoch: 051, Loss: 4.046, AUC: 0.840, AP: 0.827, Completeness: 0.397, Homogeneity: 0.402, NMI: 0.399\n",
      "Epoch: 052, Loss: 3.925, AUC: 0.842, AP: 0.829, Completeness: 0.394, Homogeneity: 0.401, NMI: 0.398\n",
      "Epoch: 053, Loss: 3.887, AUC: 0.842, AP: 0.829, Completeness: 0.399, Homogeneity: 0.406, NMI: 0.403\n",
      "Epoch: 054, Loss: 3.823, AUC: 0.842, AP: 0.829, Completeness: 0.400, Homogeneity: 0.409, NMI: 0.404\n",
      "Epoch: 055, Loss: 3.823, AUC: 0.841, AP: 0.829, Completeness: 0.400, Homogeneity: 0.410, NMI: 0.405\n",
      "Epoch: 056, Loss: 3.803, AUC: 0.840, AP: 0.828, Completeness: 0.403, Homogeneity: 0.413, NMI: 0.408\n",
      "Epoch: 057, Loss: 3.775, AUC: 0.838, AP: 0.828, Completeness: 0.401, Homogeneity: 0.413, NMI: 0.407\n",
      "Epoch: 058, Loss: 3.802, AUC: 0.838, AP: 0.827, Completeness: 0.402, Homogeneity: 0.415, NMI: 0.408\n",
      "Epoch: 059, Loss: 3.834, AUC: 0.839, AP: 0.829, Completeness: 0.401, Homogeneity: 0.414, NMI: 0.408\n",
      "Epoch: 060, Loss: 3.866, AUC: 0.842, AP: 0.832, Completeness: 0.401, Homogeneity: 0.413, NMI: 0.407\n",
      "Epoch: 061, Loss: 3.926, AUC: 0.845, AP: 0.835, Completeness: 0.398, Homogeneity: 0.411, NMI: 0.404\n",
      "Epoch: 062, Loss: 3.963, AUC: 0.848, AP: 0.839, Completeness: 0.398, Homogeneity: 0.411, NMI: 0.405\n",
      "Epoch: 063, Loss: 4.018, AUC: 0.851, AP: 0.841, Completeness: 0.398, Homogeneity: 0.410, NMI: 0.404\n",
      "Epoch: 064, Loss: 4.084, AUC: 0.854, AP: 0.844, Completeness: 0.401, Homogeneity: 0.417, NMI: 0.409\n",
      "Epoch: 065, Loss: 4.106, AUC: 0.856, AP: 0.845, Completeness: 0.402, Homogeneity: 0.419, NMI: 0.410\n",
      "Epoch: 066, Loss: 4.182, AUC: 0.858, AP: 0.846, Completeness: 0.432, Homogeneity: 0.433, NMI: 0.433\n",
      "Epoch: 067, Loss: 4.281, AUC: 0.859, AP: 0.846, Completeness: 0.435, Homogeneity: 0.436, NMI: 0.436\n",
      "Epoch: 068, Loss: 4.233, AUC: 0.860, AP: 0.846, Completeness: 0.431, Homogeneity: 0.427, NMI: 0.429\n",
      "Epoch: 069, Loss: 4.184, AUC: 0.861, AP: 0.845, Completeness: 0.431, Homogeneity: 0.433, NMI: 0.432\n",
      "Epoch: 070, Loss: 4.249, AUC: 0.862, AP: 0.846, Completeness: 0.431, Homogeneity: 0.433, NMI: 0.432\n",
      "Epoch: 071, Loss: 4.236, AUC: 0.863, AP: 0.849, Completeness: 0.430, Homogeneity: 0.432, NMI: 0.431\n",
      "Epoch: 072, Loss: 4.280, AUC: 0.865, AP: 0.852, Completeness: 0.432, Homogeneity: 0.434, NMI: 0.433\n",
      "Epoch: 073, Loss: 4.228, AUC: 0.867, AP: 0.855, Completeness: 0.435, Homogeneity: 0.437, NMI: 0.436\n",
      "Epoch: 074, Loss: 4.325, AUC: 0.868, AP: 0.857, Completeness: 0.437, Homogeneity: 0.440, NMI: 0.439\n",
      "Epoch: 075, Loss: 4.180, AUC: 0.870, AP: 0.860, Completeness: 0.437, Homogeneity: 0.440, NMI: 0.439\n",
      "Epoch: 076, Loss: 4.162, AUC: 0.871, AP: 0.862, Completeness: 0.435, Homogeneity: 0.439, NMI: 0.437\n",
      "Epoch: 077, Loss: 4.151, AUC: 0.872, AP: 0.864, Completeness: 0.437, Homogeneity: 0.442, NMI: 0.439\n",
      "Epoch: 078, Loss: 4.121, AUC: 0.872, AP: 0.864, Completeness: 0.436, Homogeneity: 0.442, NMI: 0.439\n",
      "Epoch: 079, Loss: 4.012, AUC: 0.872, AP: 0.864, Completeness: 0.435, Homogeneity: 0.441, NMI: 0.438\n",
      "Epoch: 080, Loss: 4.103, AUC: 0.873, AP: 0.864, Completeness: 0.437, Homogeneity: 0.442, NMI: 0.439\n",
      "Epoch: 081, Loss: 3.958, AUC: 0.873, AP: 0.864, Completeness: 0.437, Homogeneity: 0.443, NMI: 0.440\n",
      "Epoch: 082, Loss: 3.985, AUC: 0.874, AP: 0.863, Completeness: 0.440, Homogeneity: 0.446, NMI: 0.443\n"
     ]
    },
    {
     "name": "stdout",
     "output_type": "stream",
     "text": [
      "Epoch: 083, Loss: 4.044, AUC: 0.876, AP: 0.864, Completeness: 0.440, Homogeneity: 0.446, NMI: 0.443\n",
      "Epoch: 084, Loss: 4.002, AUC: 0.878, AP: 0.866, Completeness: 0.443, Homogeneity: 0.449, NMI: 0.446\n",
      "Epoch: 085, Loss: 3.997, AUC: 0.880, AP: 0.868, Completeness: 0.445, Homogeneity: 0.451, NMI: 0.448\n",
      "Epoch: 086, Loss: 3.912, AUC: 0.882, AP: 0.871, Completeness: 0.450, Homogeneity: 0.456, NMI: 0.453\n",
      "Epoch: 087, Loss: 3.941, AUC: 0.885, AP: 0.874, Completeness: 0.455, Homogeneity: 0.459, NMI: 0.457\n",
      "Epoch: 088, Loss: 3.959, AUC: 0.886, AP: 0.876, Completeness: 0.462, Homogeneity: 0.467, NMI: 0.464\n",
      "Epoch: 089, Loss: 4.057, AUC: 0.888, AP: 0.879, Completeness: 0.465, Homogeneity: 0.470, NMI: 0.467\n",
      "Epoch: 090, Loss: 3.970, AUC: 0.889, AP: 0.881, Completeness: 0.464, Homogeneity: 0.469, NMI: 0.466\n",
      "Epoch: 091, Loss: 4.002, AUC: 0.890, AP: 0.882, Completeness: 0.465, Homogeneity: 0.469, NMI: 0.467\n",
      "Epoch: 092, Loss: 3.970, AUC: 0.891, AP: 0.883, Completeness: 0.455, Homogeneity: 0.459, NMI: 0.457\n",
      "Epoch: 093, Loss: 3.931, AUC: 0.892, AP: 0.884, Completeness: 0.456, Homogeneity: 0.459, NMI: 0.457\n",
      "Epoch: 094, Loss: 3.932, AUC: 0.892, AP: 0.885, Completeness: 0.449, Homogeneity: 0.453, NMI: 0.451\n",
      "Epoch: 095, Loss: 3.903, AUC: 0.893, AP: 0.886, Completeness: 0.450, Homogeneity: 0.454, NMI: 0.452\n",
      "Epoch: 096, Loss: 3.911, AUC: 0.893, AP: 0.886, Completeness: 0.450, Homogeneity: 0.453, NMI: 0.451\n",
      "Epoch: 097, Loss: 3.888, AUC: 0.893, AP: 0.886, Completeness: 0.448, Homogeneity: 0.451, NMI: 0.450\n",
      "Epoch: 098, Loss: 3.849, AUC: 0.893, AP: 0.886, Completeness: 0.448, Homogeneity: 0.451, NMI: 0.449\n",
      "Epoch: 099, Loss: 3.840, AUC: 0.892, AP: 0.886, Completeness: 0.448, Homogeneity: 0.451, NMI: 0.450\n",
      "Epoch: 100, Loss: 3.876, AUC: 0.892, AP: 0.886, Completeness: 0.449, Homogeneity: 0.454, NMI: 0.451\n",
      "Epoch: 101, Loss: 3.854, AUC: 0.892, AP: 0.887, Completeness: 0.449, Homogeneity: 0.454, NMI: 0.451\n",
      "Epoch: 102, Loss: 3.863, AUC: 0.894, AP: 0.888, Completeness: 0.451, Homogeneity: 0.457, NMI: 0.454\n",
      "Epoch: 103, Loss: 3.878, AUC: 0.895, AP: 0.890, Completeness: 0.453, Homogeneity: 0.460, NMI: 0.456\n",
      "Epoch: 104, Loss: 3.771, AUC: 0.896, AP: 0.892, Completeness: 0.454, Homogeneity: 0.461, NMI: 0.457\n",
      "Epoch: 105, Loss: 3.785, AUC: 0.897, AP: 0.893, Completeness: 0.490, Homogeneity: 0.492, NMI: 0.491\n",
      "Epoch: 106, Loss: 3.860, AUC: 0.898, AP: 0.894, Completeness: 0.490, Homogeneity: 0.493, NMI: 0.491\n",
      "Epoch: 107, Loss: 3.827, AUC: 0.899, AP: 0.895, Completeness: 0.488, Homogeneity: 0.490, NMI: 0.489\n",
      "Epoch: 108, Loss: 3.753, AUC: 0.900, AP: 0.896, Completeness: 0.484, Homogeneity: 0.487, NMI: 0.485\n",
      "Epoch: 109, Loss: 3.789, AUC: 0.901, AP: 0.897, Completeness: 0.485, Homogeneity: 0.489, NMI: 0.487\n",
      "Epoch: 110, Loss: 3.796, AUC: 0.902, AP: 0.898, Completeness: 0.485, Homogeneity: 0.488, NMI: 0.486\n",
      "Epoch: 111, Loss: 3.793, AUC: 0.902, AP: 0.898, Completeness: 0.485, Homogeneity: 0.489, NMI: 0.487\n",
      "Epoch: 112, Loss: 3.752, AUC: 0.902, AP: 0.898, Completeness: 0.486, Homogeneity: 0.490, NMI: 0.488\n",
      "Epoch: 113, Loss: 3.803, AUC: 0.902, AP: 0.899, Completeness: 0.487, Homogeneity: 0.492, NMI: 0.490\n",
      "Epoch: 114, Loss: 3.808, AUC: 0.902, AP: 0.899, Completeness: 0.486, Homogeneity: 0.491, NMI: 0.488\n",
      "Epoch: 115, Loss: 3.888, AUC: 0.902, AP: 0.900, Completeness: 0.487, Homogeneity: 0.493, NMI: 0.490\n",
      "Epoch: 116, Loss: 3.777, AUC: 0.903, AP: 0.901, Completeness: 0.489, Homogeneity: 0.495, NMI: 0.492\n",
      "Epoch: 117, Loss: 3.887, AUC: 0.904, AP: 0.902, Completeness: 0.486, Homogeneity: 0.494, NMI: 0.490\n",
      "Epoch: 118, Loss: 3.879, AUC: 0.905, AP: 0.904, Completeness: 0.490, Homogeneity: 0.496, NMI: 0.493\n",
      "Epoch: 119, Loss: 3.847, AUC: 0.907, AP: 0.905, Completeness: 0.487, Homogeneity: 0.494, NMI: 0.491\n",
      "Epoch: 120, Loss: 3.774, AUC: 0.908, AP: 0.906, Completeness: 0.489, Homogeneity: 0.497, NMI: 0.493\n",
      "Epoch: 121, Loss: 3.821, AUC: 0.909, AP: 0.908, Completeness: 0.489, Homogeneity: 0.496, NMI: 0.493\n",
      "Epoch: 122, Loss: 3.764, AUC: 0.910, AP: 0.909, Completeness: 0.490, Homogeneity: 0.498, NMI: 0.494\n",
      "Epoch: 123, Loss: 3.820, AUC: 0.910, AP: 0.910, Completeness: 0.491, Homogeneity: 0.498, NMI: 0.494\n",
      "Epoch: 124, Loss: 3.842, AUC: 0.911, AP: 0.911, Completeness: 0.491, Homogeneity: 0.498, NMI: 0.494\n",
      "Epoch: 125, Loss: 3.864, AUC: 0.911, AP: 0.911, Completeness: 0.489, Homogeneity: 0.497, NMI: 0.493\n",
      "Epoch: 126, Loss: 3.819, AUC: 0.912, AP: 0.912, Completeness: 0.490, Homogeneity: 0.498, NMI: 0.494\n",
      "Epoch: 127, Loss: 3.793, AUC: 0.912, AP: 0.912, Completeness: 0.490, Homogeneity: 0.498, NMI: 0.494\n",
      "Epoch: 128, Loss: 3.811, AUC: 0.913, AP: 0.913, Completeness: 0.490, Homogeneity: 0.498, NMI: 0.494\n",
      "Epoch: 129, Loss: 3.825, AUC: 0.913, AP: 0.913, Completeness: 0.490, Homogeneity: 0.499, NMI: 0.495\n",
      "Epoch: 130, Loss: 3.804, AUC: 0.913, AP: 0.913, Completeness: 0.488, Homogeneity: 0.496, NMI: 0.492\n",
      "Epoch: 131, Loss: 3.792, AUC: 0.914, AP: 0.913, Completeness: 0.489, Homogeneity: 0.497, NMI: 0.493\n",
      "Epoch: 132, Loss: 3.856, AUC: 0.913, AP: 0.912, Completeness: 0.488, Homogeneity: 0.497, NMI: 0.492\n",
      "Epoch: 133, Loss: 3.685, AUC: 0.913, AP: 0.912, Completeness: 0.491, Homogeneity: 0.500, NMI: 0.496\n",
      "Epoch: 134, Loss: 3.787, AUC: 0.913, AP: 0.911, Completeness: 0.494, Homogeneity: 0.503, NMI: 0.498\n",
      "Epoch: 135, Loss: 3.690, AUC: 0.912, AP: 0.910, Completeness: 0.490, Homogeneity: 0.500, NMI: 0.495\n",
      "Epoch: 136, Loss: 3.698, AUC: 0.912, AP: 0.909, Completeness: 0.489, Homogeneity: 0.500, NMI: 0.495\n",
      "Epoch: 137, Loss: 3.740, AUC: 0.912, AP: 0.909, Completeness: 0.491, Homogeneity: 0.502, NMI: 0.496\n",
      "Epoch: 138, Loss: 3.687, AUC: 0.912, AP: 0.909, Completeness: 0.490, Homogeneity: 0.501, NMI: 0.496\n",
      "Epoch: 139, Loss: 3.606, AUC: 0.913, AP: 0.909, Completeness: 0.488, Homogeneity: 0.500, NMI: 0.494\n",
      "Epoch: 140, Loss: 3.617, AUC: 0.913, AP: 0.910, Completeness: 0.490, Homogeneity: 0.502, NMI: 0.496\n",
      "Epoch: 141, Loss: 3.747, AUC: 0.913, AP: 0.910, Completeness: 0.482, Homogeneity: 0.496, NMI: 0.489\n",
      "Epoch: 142, Loss: 3.655, AUC: 0.913, AP: 0.910, Completeness: 0.484, Homogeneity: 0.498, NMI: 0.491\n",
      "Epoch: 143, Loss: 3.676, AUC: 0.913, AP: 0.910, Completeness: 0.483, Homogeneity: 0.497, NMI: 0.490\n",
      "Epoch: 144, Loss: 3.637, AUC: 0.913, AP: 0.909, Completeness: 0.483, Homogeneity: 0.497, NMI: 0.490\n",
      "Epoch: 145, Loss: 3.633, AUC: 0.913, AP: 0.908, Completeness: 0.473, Homogeneity: 0.487, NMI: 0.480\n",
      "Epoch: 146, Loss: 3.606, AUC: 0.913, AP: 0.907, Completeness: 0.470, Homogeneity: 0.486, NMI: 0.478\n",
      "Epoch: 147, Loss: 3.619, AUC: 0.912, AP: 0.906, Completeness: 0.469, Homogeneity: 0.484, NMI: 0.476\n",
      "Epoch: 148, Loss: 3.674, AUC: 0.912, AP: 0.905, Completeness: 0.470, Homogeneity: 0.485, NMI: 0.477\n",
      "Epoch: 149, Loss: 3.658, AUC: 0.911, AP: 0.905, Completeness: 0.470, Homogeneity: 0.485, NMI: 0.478\n",
      "Epoch: 150, Loss: 3.660, AUC: 0.911, AP: 0.904, Completeness: 0.447, Homogeneity: 0.452, NMI: 0.449\n",
      "Epoch: 151, Loss: 3.677, AUC: 0.911, AP: 0.904, Completeness: 0.468, Homogeneity: 0.483, NMI: 0.475\n",
      "Epoch: 152, Loss: 3.590, AUC: 0.911, AP: 0.904, Completeness: 0.466, Homogeneity: 0.482, NMI: 0.474\n",
      "Epoch: 153, Loss: 3.667, AUC: 0.911, AP: 0.905, Completeness: 0.428, Homogeneity: 0.438, NMI: 0.433\n",
      "Epoch: 154, Loss: 3.634, AUC: 0.911, AP: 0.906, Completeness: 0.428, Homogeneity: 0.437, NMI: 0.432\n",
      "Epoch: 155, Loss: 3.643, AUC: 0.911, AP: 0.906, Completeness: 0.426, Homogeneity: 0.436, NMI: 0.431\n",
      "Epoch: 156, Loss: 3.643, AUC: 0.911, AP: 0.906, Completeness: 0.422, Homogeneity: 0.432, NMI: 0.427\n",
      "Epoch: 157, Loss: 3.569, AUC: 0.911, AP: 0.907, Completeness: 0.450, Homogeneity: 0.465, NMI: 0.457\n",
      "Epoch: 158, Loss: 3.614, AUC: 0.911, AP: 0.908, Completeness: 0.443, Homogeneity: 0.457, NMI: 0.450\n",
      "Epoch: 159, Loss: 3.567, AUC: 0.911, AP: 0.908, Completeness: 0.441, Homogeneity: 0.455, NMI: 0.448\n",
      "Epoch: 160, Loss: 3.455, AUC: 0.911, AP: 0.909, Completeness: 0.438, Homogeneity: 0.452, NMI: 0.445\n",
      "Epoch: 161, Loss: 3.485, AUC: 0.912, AP: 0.909, Completeness: 0.436, Homogeneity: 0.449, NMI: 0.442\n",
      "Epoch: 162, Loss: 3.457, AUC: 0.912, AP: 0.909, Completeness: 0.397, Homogeneity: 0.411, NMI: 0.404\n",
      "Epoch: 163, Loss: 3.526, AUC: 0.912, AP: 0.909, Completeness: 0.440, Homogeneity: 0.453, NMI: 0.447\n",
      "Epoch: 164, Loss: 3.501, AUC: 0.911, AP: 0.910, Completeness: 0.441, Homogeneity: 0.454, NMI: 0.447\n"
     ]
    },
    {
     "name": "stdout",
     "output_type": "stream",
     "text": [
      "Epoch: 165, Loss: 3.475, AUC: 0.910, AP: 0.910, Completeness: 0.391, Homogeneity: 0.406, NMI: 0.399\n",
      "Epoch: 166, Loss: 3.490, AUC: 0.909, AP: 0.910, Completeness: 0.383, Homogeneity: 0.398, NMI: 0.391\n",
      "Epoch: 167, Loss: 3.477, AUC: 0.909, AP: 0.910, Completeness: 0.383, Homogeneity: 0.398, NMI: 0.390\n",
      "Epoch: 168, Loss: 3.524, AUC: 0.908, AP: 0.909, Completeness: 0.380, Homogeneity: 0.395, NMI: 0.387\n",
      "Epoch: 169, Loss: 3.537, AUC: 0.907, AP: 0.909, Completeness: 0.376, Homogeneity: 0.391, NMI: 0.384\n",
      "Epoch: 170, Loss: 3.493, AUC: 0.906, AP: 0.908, Completeness: 0.372, Homogeneity: 0.388, NMI: 0.380\n",
      "Epoch: 171, Loss: 3.520, AUC: 0.905, AP: 0.907, Completeness: 0.375, Homogeneity: 0.391, NMI: 0.383\n",
      "Epoch: 172, Loss: 3.581, AUC: 0.904, AP: 0.906, Completeness: 0.372, Homogeneity: 0.389, NMI: 0.380\n",
      "Epoch: 173, Loss: 3.584, AUC: 0.903, AP: 0.905, Completeness: 0.364, Homogeneity: 0.381, NMI: 0.372\n",
      "Epoch: 174, Loss: 3.544, AUC: 0.902, AP: 0.904, Completeness: 0.369, Homogeneity: 0.386, NMI: 0.377\n",
      "Epoch: 175, Loss: 3.546, AUC: 0.901, AP: 0.903, Completeness: 0.370, Homogeneity: 0.386, NMI: 0.378\n",
      "Epoch: 176, Loss: 3.532, AUC: 0.900, AP: 0.902, Completeness: 0.368, Homogeneity: 0.385, NMI: 0.376\n",
      "Epoch: 177, Loss: 3.598, AUC: 0.900, AP: 0.902, Completeness: 0.366, Homogeneity: 0.383, NMI: 0.374\n",
      "Epoch: 178, Loss: 3.514, AUC: 0.899, AP: 0.902, Completeness: 0.362, Homogeneity: 0.379, NMI: 0.370\n",
      "Epoch: 179, Loss: 3.441, AUC: 0.899, AP: 0.902, Completeness: 0.363, Homogeneity: 0.380, NMI: 0.372\n",
      "Epoch: 180, Loss: 3.470, AUC: 0.899, AP: 0.902, Completeness: 0.363, Homogeneity: 0.380, NMI: 0.371\n",
      "Epoch: 181, Loss: 3.479, AUC: 0.900, AP: 0.903, Completeness: 0.364, Homogeneity: 0.381, NMI: 0.372\n",
      "Epoch: 182, Loss: 3.460, AUC: 0.900, AP: 0.903, Completeness: 0.370, Homogeneity: 0.386, NMI: 0.378\n",
      "Epoch: 183, Loss: 3.483, AUC: 0.900, AP: 0.904, Completeness: 0.374, Homogeneity: 0.391, NMI: 0.382\n",
      "Epoch: 184, Loss: 3.435, AUC: 0.901, AP: 0.904, Completeness: 0.372, Homogeneity: 0.388, NMI: 0.380\n",
      "Epoch: 185, Loss: 3.476, AUC: 0.901, AP: 0.904, Completeness: 0.388, Homogeneity: 0.401, NMI: 0.395\n",
      "Epoch: 186, Loss: 3.484, AUC: 0.900, AP: 0.904, Completeness: 0.392, Homogeneity: 0.408, NMI: 0.400\n",
      "Epoch: 187, Loss: 3.519, AUC: 0.900, AP: 0.904, Completeness: 0.385, Homogeneity: 0.402, NMI: 0.393\n",
      "Epoch: 188, Loss: 3.450, AUC: 0.899, AP: 0.903, Completeness: 0.392, Homogeneity: 0.407, NMI: 0.399\n",
      "Epoch: 189, Loss: 3.425, AUC: 0.898, AP: 0.903, Completeness: 0.391, Homogeneity: 0.407, NMI: 0.399\n",
      "Epoch: 190, Loss: 3.461, AUC: 0.897, AP: 0.902, Completeness: 0.394, Homogeneity: 0.410, NMI: 0.402\n",
      "Epoch: 191, Loss: 3.499, AUC: 0.897, AP: 0.902, Completeness: 0.395, Homogeneity: 0.411, NMI: 0.403\n",
      "Epoch: 192, Loss: 3.401, AUC: 0.896, AP: 0.902, Completeness: 0.395, Homogeneity: 0.411, NMI: 0.403\n",
      "Epoch: 193, Loss: 3.523, AUC: 0.896, AP: 0.902, Completeness: 0.396, Homogeneity: 0.411, NMI: 0.403\n",
      "Epoch: 194, Loss: 3.433, AUC: 0.896, AP: 0.903, Completeness: 0.398, Homogeneity: 0.413, NMI: 0.406\n",
      "Epoch: 195, Loss: 3.448, AUC: 0.897, AP: 0.904, Completeness: 0.361, Homogeneity: 0.374, NMI: 0.367\n",
      "Epoch: 196, Loss: 3.404, AUC: 0.897, AP: 0.905, Completeness: 0.414, Homogeneity: 0.429, NMI: 0.422\n",
      "Epoch: 197, Loss: 3.416, AUC: 0.898, AP: 0.906, Completeness: 0.391, Homogeneity: 0.407, NMI: 0.399\n",
      "Epoch: 198, Loss: 3.408, AUC: 0.898, AP: 0.907, Completeness: 0.364, Homogeneity: 0.377, NMI: 0.370\n",
      "Epoch: 199, Loss: 3.487, AUC: 0.899, AP: 0.908, Completeness: 0.452, Homogeneity: 0.473, NMI: 0.462\n",
      "Epoch: 200, Loss: 3.412, AUC: 0.899, AP: 0.908, Completeness: 0.455, Homogeneity: 0.475, NMI: 0.465\n"
     ]
    }
   ],
   "source": [
    "for epoch in range(1, 201):\n",
    "    loss = train()\n",
    "    auc, ap, completeness, hm, nmi = test()\n",
    "    print((f'Epoch: {epoch:03d}, Loss: {loss:.3f}, AUC: {auc:.3f}, '\n",
    "           f'AP: {ap:.3f}, Completeness: {completeness:.3f}, '\n",
    "           f'Homogeneity: {hm:.3f}, NMI: {nmi:.3f}'))"
   ]
  },
  {
   "cell_type": "code",
   "execution_count": 16,
   "metadata": {},
   "outputs": [],
   "source": [
    "@torch.no_grad()\n",
    "def plot_points(colors):\n",
    "    model.eval()\n",
    "    z = model.encode(data.x, data.train_pos_edge_index)\n",
    "    z = TSNE(n_components=2).fit_transform(z.cpu().numpy())\n",
    "    y = data.y.cpu().numpy()\n",
    "\n",
    "    fig = plt.figure(1, figsize=(8, 8))\n",
    "    fig.clf()\n",
    "    for i in range(dataset.num_classes):\n",
    "        plt.scatter(z[y == i, 0], z[y == i, 1], s=20, color=colors[i])\n",
    "    plt.axis('off')\n",
    "    plt.show()"
   ]
  },
  {
   "cell_type": "code",
   "execution_count": 17,
   "metadata": {},
   "outputs": [
    {
     "name": "stderr",
     "output_type": "stream",
     "text": [
      "/home/antonio/anaconda3/envs/geometric_new/lib/python3.9/site-packages/sklearn/manifold/_t_sne.py:780: FutureWarning: The default initialization in TSNE will change from 'random' to 'pca' in 1.2.\n",
      "  warnings.warn(\n",
      "/home/antonio/anaconda3/envs/geometric_new/lib/python3.9/site-packages/sklearn/manifold/_t_sne.py:790: FutureWarning: The default learning rate in TSNE will change from 200.0 to 'auto' in 1.2.\n",
      "  warnings.warn(\n"
     ]
    },
    {
     "data": {
      "image/png": "[encoded data removed]",
      "text/plain": [
       "<Figure size 576x576 with 1 Axes>"
      ]
     },
     "metadata": {
      "needs_background": "light"
     },
     "output_type": "display_data"
    }
   ],
   "source": [
    "#%%\n",
    "colors = [\n",
    "    '#ffc0cb', '#bada55', '#008080', '#420420', '#7fe5f0', '#065535', '#ffd700'\n",
    "]\n",
    "plot_points(colors)"
   ]
  },
  {
   "cell_type": "code",
   "execution_count": null,
   "metadata": {},
   "outputs": [],
   "source": []
  }
 ],
 "metadata": {
  "kernelspec": {
   "display_name": "Python 3",
   "language": "python",
   "name": "python3"
  },
  "language_info": {
   "codemirror_mode": {
    "name": "ipython",
    "version": 3
   },
   "file_extension": ".py",
   "mimetype": "text/x-python",
   "name": "python",
   "nbconvert_exporter": "python",
   "pygments_lexer": "ipython3",
   "version": "3.9.12"
  }
 },
 "nbformat": 4,
 "nbformat_minor": 4
}

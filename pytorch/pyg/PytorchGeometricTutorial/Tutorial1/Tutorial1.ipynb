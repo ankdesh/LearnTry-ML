{
 "cells": [
  {
   "cell_type": "code",
   "execution_count": 1,
   "metadata": {},
   "outputs": [
    {
     "name": "stdout",
     "output_type": "stream",
     "text": [
      "1.13.0+cu117\n"
     ]
    }
   ],
   "source": [
    "import os\n",
    "import torch\n",
    "os.environ['TORCH'] = torch.__version__\n",
    "print(torch.__version__)\n",
    "\n",
    "!pip install -q torch-scatter -f https://data.pyg.org/whl/torch-${TORCH}.html\n",
    "!pip install -q torch-sparse -f https://data.pyg.org/whl/torch-${TORCH}.html\n",
    "!pip install -q git+https://github.com/pyg-team/pytorch_geometric.git"
   ]
  },
  {
   "cell_type": "code",
   "execution_count": 2,
   "metadata": {},
   "outputs": [],
   "source": [
    "import torch_geometric\n",
    "from torch_geometric.datasets import Planetoid"
   ]
  },
  {
   "cell_type": "code",
   "execution_count": 17,
   "metadata": {},
   "outputs": [],
   "source": [
    "use_cuda_if_available = True"
   ]
  },
  {
   "cell_type": "markdown",
   "metadata": {},
   "source": [
    "# Load the dataset"
   ]
  },
  {
   "cell_type": "code",
   "execution_count": 4,
   "metadata": {},
   "outputs": [
    {
     "name": "stderr",
     "output_type": "stream",
     "text": [
      "Downloading https://github.com/kimiyoung/planetoid/raw/master/data/ind.cora.x\n",
      "Downloading https://github.com/kimiyoung/planetoid/raw/master/data/ind.cora.tx\n",
      "Downloading https://github.com/kimiyoung/planetoid/raw/master/data/ind.cora.allx\n",
      "Downloading https://github.com/kimiyoung/planetoid/raw/master/data/ind.cora.y\n",
      "Downloading https://github.com/kimiyoung/planetoid/raw/master/data/ind.cora.ty\n",
      "Downloading https://github.com/kimiyoung/planetoid/raw/master/data/ind.cora.ally\n",
      "Downloading https://github.com/kimiyoung/planetoid/raw/master/data/ind.cora.graph\n",
      "Downloading https://github.com/kimiyoung/planetoid/raw/master/data/ind.cora.test.index\n",
      "Processing...\n",
      "Done!\n"
     ]
    }
   ],
   "source": [
    "dataset = Planetoid(root=\"tutorial1\",name= \"Cora\")"
   ]
  },
  {
   "cell_type": "markdown",
   "metadata": {},
   "source": [
    "##### Dataset properties"
   ]
  },
  {
   "cell_type": "code",
   "execution_count": 5,
   "metadata": {},
   "outputs": [
    {
     "name": "stdout",
     "output_type": "stream",
     "text": [
      "Cora()\n",
      "number of graphs:\t\t 1\n",
      "number of classes:\t\t 7\n",
      "number of node features:\t 1433\n",
      "number of edge features:\t 0\n"
     ]
    }
   ],
   "source": [
    "print(dataset)\n",
    "print(\"number of graphs:\\t\\t\",len(dataset))\n",
    "print(\"number of classes:\\t\\t\",dataset.num_classes)\n",
    "print(\"number of node features:\\t\",dataset.num_node_features)\n",
    "print(\"number of edge features:\\t\",dataset.num_edge_features)"
   ]
  },
  {
   "cell_type": "markdown",
   "metadata": {},
   "source": [
    "##### Dataset shapes"
   ]
  },
  {
   "cell_type": "code",
   "execution_count": 7,
   "metadata": {},
   "outputs": [
    {
     "name": "stdout",
     "output_type": "stream",
     "text": [
      "Data(x=[2708, 1433], edge_index=[2, 10556], y=[2708], train_mask=[2708], val_mask=[2708], test_mask=[2708])\n"
     ]
    }
   ],
   "source": [
    "print(dataset.data)"
   ]
  },
  {
   "cell_type": "code",
   "execution_count": 8,
   "metadata": {},
   "outputs": [
    {
     "name": "stdout",
     "output_type": "stream",
     "text": [
      "edge_index:\t\t torch.Size([2, 10556])\n",
      "tensor([[   0,    0,    0,  ..., 2707, 2707, 2707],\n",
      "        [ 633, 1862, 2582,  ...,  598, 1473, 2706]])\n",
      "\n",
      "\n",
      "train_mask:\t\t torch.Size([2708])\n",
      "tensor([ True,  True,  True,  ..., False, False, False])\n",
      "\n",
      "\n",
      "x:\t\t torch.Size([2708, 1433])\n",
      "tensor([[0., 0., 0.,  ..., 0., 0., 0.],\n",
      "        [0., 0., 0.,  ..., 0., 0., 0.],\n",
      "        [0., 0., 0.,  ..., 0., 0., 0.],\n",
      "        ...,\n",
      "        [0., 0., 0.,  ..., 0., 0., 0.],\n",
      "        [0., 0., 0.,  ..., 0., 0., 0.],\n",
      "        [0., 0., 0.,  ..., 0., 0., 0.]])\n",
      "\n",
      "\n",
      "y:\t\t torch.Size([2708])\n",
      "tensor([3, 4, 4,  ..., 3, 3, 3])\n"
     ]
    }
   ],
   "source": [
    "print(\"edge_index:\\t\\t\",dataset.data.edge_index.shape)\n",
    "print(dataset.data.edge_index)\n",
    "print(\"\\n\")\n",
    "print(\"train_mask:\\t\\t\",dataset.data.train_mask.shape)\n",
    "print(dataset.data.train_mask)\n",
    "print(\"\\n\")\n",
    "print(\"x:\\t\\t\",dataset.data.x.shape)\n",
    "print(dataset.data.x)\n",
    "print(\"\\n\")\n",
    "print(\"y:\\t\\t\",dataset.data.y.shape)\n",
    "print(dataset.data.y)"
   ]
  },
  {
   "cell_type": "code",
   "execution_count": 9,
   "metadata": {},
   "outputs": [],
   "source": [
    "import os.path as osp\n",
    "\n",
    "import torch\n",
    "import torch.nn.functional as F\n",
    "from torch_geometric.nn import SAGEConv\n"
   ]
  },
  {
   "cell_type": "code",
   "execution_count": 10,
   "metadata": {},
   "outputs": [],
   "source": [
    "data = dataset[0]"
   ]
  },
  {
   "cell_type": "code",
   "execution_count": 11,
   "metadata": {},
   "outputs": [],
   "source": [
    "class Net(torch.nn.Module):\n",
    "    def __init__(self):\n",
    "        super(Net, self).__init__()\n",
    "        \n",
    "        self.conv = SAGEConv(dataset.num_features,\n",
    "                             dataset.num_classes,\n",
    "                             aggr=\"max\") # max, mean, add ...)\n",
    "\n",
    "    def forward(self):\n",
    "        x = self.conv(data.x, data.edge_index)\n",
    "        return F.log_softmax(x, dim=1)\n",
    "    "
   ]
  },
  {
   "cell_type": "code",
   "execution_count": 18,
   "metadata": {},
   "outputs": [],
   "source": [
    "device = torch.device('cuda' if torch.cuda.is_available() and use_cuda_if_available else 'cpu')"
   ]
  },
  {
   "cell_type": "code",
   "execution_count": 19,
   "metadata": {},
   "outputs": [
    {
     "name": "stdout",
     "output_type": "stream",
     "text": [
      "cuda\n"
     ]
    }
   ],
   "source": [
    "print (device)"
   ]
  },
  {
   "cell_type": "code",
   "execution_count": 20,
   "metadata": {
    "scrolled": true
   },
   "outputs": [],
   "source": [
    "model, data = Net().to(device), data.to(device)\n",
    "optimizer = torch.optim.Adam(model.parameters(), lr=0.01, weight_decay=5e-4)"
   ]
  },
  {
   "cell_type": "code",
   "execution_count": 21,
   "metadata": {},
   "outputs": [],
   "source": [
    "def train():\n",
    "    model.train()\n",
    "    optimizer.zero_grad()\n",
    "    F.nll_loss(model()[data.train_mask], data.y[data.train_mask]).backward()\n",
    "    optimizer.step()\n",
    "\n",
    "\n",
    "def test():\n",
    "    model.eval()\n",
    "    logits, accs = model(), []\n",
    "    for _, mask in data('train_mask', 'val_mask', 'test_mask'):\n",
    "        pred = logits[mask].max(1)[1]\n",
    "        acc = pred.eq(data.y[mask]).sum().item() / mask.sum().item()\n",
    "        accs.append(acc)\n",
    "    return accs"
   ]
  },
  {
   "cell_type": "code",
   "execution_count": 23,
   "metadata": {},
   "outputs": [
    {
     "name": "stdout",
     "output_type": "stream",
     "text": [
      "Epoch: 010, Val: 0.7120, Test: 0.7240\n",
      "Epoch: 020, Val: 0.7140, Test: 0.7270\n",
      "Epoch: 030, Val: 0.7180, Test: 0.7260\n",
      "Epoch: 040, Val: 0.7180, Test: 0.7260\n",
      "Epoch: 050, Val: 0.7180, Test: 0.7260\n",
      "Epoch: 060, Val: 0.7180, Test: 0.7260\n",
      "Epoch: 070, Val: 0.7200, Test: 0.7320\n",
      "Epoch: 080, Val: 0.7220, Test: 0.7340\n",
      "Epoch: 090, Val: 0.7220, Test: 0.7340\n",
      "Epoch: 100, Val: 0.7220, Test: 0.7340\n",
      "Epoch: 110, Val: 0.7220, Test: 0.7340\n",
      "Epoch: 120, Val: 0.7220, Test: 0.7340\n",
      "Epoch: 130, Val: 0.7220, Test: 0.7340\n",
      "Epoch: 140, Val: 0.7220, Test: 0.7340\n",
      "Epoch: 150, Val: 0.7220, Test: 0.7340\n",
      "Epoch: 160, Val: 0.7220, Test: 0.7340\n",
      "Epoch: 170, Val: 0.7220, Test: 0.7340\n",
      "Epoch: 180, Val: 0.7220, Test: 0.7340\n",
      "Epoch: 190, Val: 0.7220, Test: 0.7340\n",
      "Epoch: 200, Val: 0.7220, Test: 0.7340\n",
      "Epoch: 210, Val: 0.7220, Test: 0.7340\n",
      "Epoch: 220, Val: 0.7220, Test: 0.7340\n",
      "Epoch: 230, Val: 0.7220, Test: 0.7340\n",
      "Epoch: 240, Val: 0.7220, Test: 0.7340\n",
      "Epoch: 250, Val: 0.7220, Test: 0.7340\n",
      "Epoch: 260, Val: 0.7220, Test: 0.7340\n",
      "Epoch: 270, Val: 0.7220, Test: 0.7340\n",
      "Epoch: 280, Val: 0.7220, Test: 0.7340\n",
      "Epoch: 290, Val: 0.7260, Test: 0.7450\n",
      "Epoch: 300, Val: 0.7260, Test: 0.7450\n",
      "Epoch: 310, Val: 0.7260, Test: 0.7450\n",
      "Epoch: 320, Val: 0.7260, Test: 0.7450\n",
      "Epoch: 330, Val: 0.7260, Test: 0.7450\n",
      "Epoch: 340, Val: 0.7260, Test: 0.7450\n",
      "Epoch: 350, Val: 0.7260, Test: 0.7450\n",
      "Epoch: 360, Val: 0.7260, Test: 0.7450\n",
      "Epoch: 370, Val: 0.7280, Test: 0.7500\n",
      "Epoch: 380, Val: 0.7280, Test: 0.7500\n",
      "Epoch: 390, Val: 0.7280, Test: 0.7500\n",
      "Epoch: 400, Val: 0.7300, Test: 0.7530\n",
      "Epoch: 410, Val: 0.7300, Test: 0.7530\n",
      "Epoch: 420, Val: 0.7300, Test: 0.7530\n",
      "Epoch: 430, Val: 0.7320, Test: 0.7520\n",
      "Epoch: 440, Val: 0.7320, Test: 0.7520\n",
      "Epoch: 450, Val: 0.7320, Test: 0.7520\n",
      "Epoch: 460, Val: 0.7320, Test: 0.7520\n",
      "Epoch: 470, Val: 0.7320, Test: 0.7520\n",
      "Epoch: 480, Val: 0.7340, Test: 0.7540\n",
      "Epoch: 490, Val: 0.7340, Test: 0.7540\n",
      "Epoch: 500, Val: 0.7340, Test: 0.7540\n",
      "Epoch: 510, Val: 0.7340, Test: 0.7540\n",
      "Epoch: 520, Val: 0.7340, Test: 0.7540\n",
      "Epoch: 530, Val: 0.7340, Test: 0.7540\n",
      "Epoch: 540, Val: 0.7340, Test: 0.7540\n",
      "Epoch: 550, Val: 0.7340, Test: 0.7540\n",
      "Epoch: 560, Val: 0.7340, Test: 0.7540\n",
      "Epoch: 570, Val: 0.7340, Test: 0.7540\n",
      "Epoch: 580, Val: 0.7340, Test: 0.7540\n",
      "Epoch: 590, Val: 0.7340, Test: 0.7540\n",
      "Epoch: 600, Val: 0.7340, Test: 0.7540\n",
      "Epoch: 610, Val: 0.7380, Test: 0.7590\n",
      "Epoch: 620, Val: 0.7380, Test: 0.7590\n",
      "Epoch: 630, Val: 0.7400, Test: 0.7590\n",
      "Epoch: 640, Val: 0.7400, Test: 0.7590\n",
      "Epoch: 650, Val: 0.7400, Test: 0.7590\n",
      "Epoch: 660, Val: 0.7400, Test: 0.7590\n",
      "Epoch: 670, Val: 0.7400, Test: 0.7590\n",
      "Epoch: 680, Val: 0.7400, Test: 0.7590\n",
      "Epoch: 690, Val: 0.7400, Test: 0.7590\n",
      "Epoch: 700, Val: 0.7420, Test: 0.7580\n",
      "Epoch: 710, Val: 0.7420, Test: 0.7580\n",
      "Epoch: 720, Val: 0.7420, Test: 0.7580\n",
      "Epoch: 730, Val: 0.7420, Test: 0.7580\n",
      "Epoch: 740, Val: 0.7440, Test: 0.7610\n",
      "Epoch: 750, Val: 0.7440, Test: 0.7610\n",
      "Epoch: 760, Val: 0.7440, Test: 0.7610\n",
      "Epoch: 770, Val: 0.7440, Test: 0.7610\n",
      "Epoch: 780, Val: 0.7440, Test: 0.7610\n",
      "Epoch: 790, Val: 0.7440, Test: 0.7610\n",
      "Epoch: 800, Val: 0.7440, Test: 0.7610\n",
      "Epoch: 810, Val: 0.7460, Test: 0.7630\n",
      "Epoch: 820, Val: 0.7460, Test: 0.7630\n",
      "Epoch: 830, Val: 0.7460, Test: 0.7630\n",
      "Epoch: 840, Val: 0.7460, Test: 0.7630\n",
      "Epoch: 850, Val: 0.7460, Test: 0.7630\n",
      "Epoch: 860, Val: 0.7460, Test: 0.7630\n",
      "Epoch: 870, Val: 0.7460, Test: 0.7630\n",
      "Epoch: 880, Val: 0.7460, Test: 0.7630\n",
      "Epoch: 890, Val: 0.7460, Test: 0.7630\n",
      "Epoch: 900, Val: 0.7460, Test: 0.7630\n",
      "Epoch: 910, Val: 0.7460, Test: 0.7630\n",
      "Epoch: 920, Val: 0.7460, Test: 0.7630\n",
      "Epoch: 930, Val: 0.7460, Test: 0.7630\n",
      "Epoch: 940, Val: 0.7460, Test: 0.7630\n",
      "Epoch: 950, Val: 0.7460, Test: 0.7630\n",
      "Epoch: 960, Val: 0.7460, Test: 0.7630\n",
      "Epoch: 970, Val: 0.7460, Test: 0.7630\n",
      "Epoch: 980, Val: 0.7460, Test: 0.7630\n",
      "Epoch: 990, Val: 0.7480, Test: 0.7650\n"
     ]
    }
   ],
   "source": [
    "best_val_acc = test_acc = 0\n",
    "for epoch in range(1,1000):\n",
    "    train()\n",
    "    _, val_acc, tmp_test_acc = test()\n",
    "    if val_acc > best_val_acc:\n",
    "        best_val_acc = val_acc\n",
    "        test_acc = tmp_test_acc\n",
    "    log = 'Epoch: {:03d}, Val: {:.4f}, Test: {:.4f}'\n",
    "    \n",
    "    if epoch % 10 == 0:\n",
    "        print(log.format(epoch, best_val_acc, test_acc))"
   ]
  },
  {
   "cell_type": "code",
   "execution_count": null,
   "metadata": {},
   "outputs": [],
   "source": []
  },
  {
   "cell_type": "code",
   "execution_count": null,
   "metadata": {},
   "outputs": [],
   "source": []
  },
  {
   "cell_type": "code",
   "execution_count": null,
   "metadata": {},
   "outputs": [],
   "source": []
  },
  {
   "cell_type": "code",
   "execution_count": null,
   "metadata": {},
   "outputs": [],
   "source": []
  },
  {
   "cell_type": "code",
   "execution_count": null,
   "metadata": {},
   "outputs": [],
   "source": []
  },
  {
   "cell_type": "code",
   "execution_count": null,
   "metadata": {},
   "outputs": [],
   "source": []
  }
 ],
 "metadata": {
  "kernelspec": {
   "display_name": "Python 3 (ipykernel)",
   "language": "python",
   "name": "python3"
  },
  "language_info": {
   "codemirror_mode": {
    "name": "ipython",
    "version": 3
   },
   "file_extension": ".py",
   "mimetype": "text/x-python",
   "name": "python",
   "nbconvert_exporter": "python",
   "pygments_lexer": "ipython3",
   "version": "3.8.10"
  }
 },
 "nbformat": 4,
 "nbformat_minor": 4
}

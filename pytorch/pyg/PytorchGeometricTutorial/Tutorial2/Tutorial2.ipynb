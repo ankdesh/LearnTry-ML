{
 "cells": [
  {
   "cell_type": "markdown",
   "metadata": {},
   "source": [
    "# Tutorial2: PyTorch basics"
   ]
  },
  {
   "cell_type": "markdown",
   "metadata": {},
   "source": [
    "## Outline"
   ]
  },
  {
   "cell_type": "markdown",
   "metadata": {},
   "source": [
    "- Datasets\n",
    "- Models\n",
    "- Losses\n",
    "- Optimizers"
   ]
  },
  {
   "cell_type": "markdown",
   "metadata": {},
   "source": [
    "Official resources:\n",
    "* [Deep Learning with PyTorch: a 60 Minute Blitz](https://pytorch.org/tutorials/beginner/deep_learning_60min_blitz.html)\n",
    "* [PyTorch documentation](https://pytorch.org/docs/stable/index.html)"
   ]
  },
  {
   "cell_type": "markdown",
   "metadata": {},
   "source": [
    "Here no details, mostly visualization, with linear regression."
   ]
  },
  {
   "cell_type": "markdown",
   "metadata": {},
   "source": [
    "### Imports"
   ]
  },
  {
   "cell_type": "code",
   "execution_count": 1,
   "metadata": {},
   "outputs": [
    {
     "name": "stderr",
     "output_type": "stream",
     "text": [
      "/home/antonio/anaconda3/envs/geometric_new/lib/python3.9/site-packages/tqdm/auto.py:22: TqdmWarning: IProgress not found. Please update jupyter and ipywidgets. See https://ipywidgets.readthedocs.io/en/stable/user_install.html\n",
      "  from .autonotebook import tqdm as notebook_tqdm\n"
     ]
    }
   ],
   "source": [
    "import numpy as np\n",
    "import torch\n",
    "import matplotlib.pyplot as plt\n",
    "from matplotlib import colors\n",
    "plt.rcParams.update({'font.size': 16})"
   ]
  },
  {
   "cell_type": "code",
   "execution_count": 2,
   "metadata": {},
   "outputs": [
    {
     "data": {
      "text/plain": [
       "tensor([0., 0., 0., 0., 0., 0., 0., 0., 0., 0., 0., 0., 0., 0., 0., 0., 0., 0., 0., 0.])"
      ]
     },
     "execution_count": 2,
     "metadata": {},
     "output_type": "execute_result"
    }
   ],
   "source": [
    "x = torch.rand(20, 5)\n",
    "x\n",
    "((x.norm(dim=1) - 1).abs() < 1e-10).float()"
   ]
  },
  {
   "cell_type": "markdown",
   "metadata": {},
   "source": [
    "## Datasets"
   ]
  },
  {
   "cell_type": "markdown",
   "metadata": {},
   "source": [
    "### A raw dataset"
   ]
  },
  {
   "cell_type": "markdown",
   "metadata": {},
   "source": [
    "The data are obtained from the model \n",
    "$$\n",
    "x \\mapsto y:=Ax + b\n",
    "$$\n",
    "with $x\\in\\mathbb R^{input\\_dim}$ and $y\\in\\mathbb R^{output\\_dim}$."
   ]
  },
  {
   "cell_type": "code",
   "execution_count": 3,
   "metadata": {},
   "outputs": [],
   "source": [
    "input_dim = 1\n",
    "output_dim = 1\n",
    "\n",
    "A = 2 * np.random.rand(output_dim, input_dim) - 1\n",
    "b = 2 * np.random.rand(output_dim) - 1\n",
    "\n",
    "true_model = lambda x: A @ x + b"
   ]
  },
  {
   "cell_type": "markdown",
   "metadata": {},
   "source": [
    "We get a training set by randomly sampling and noisy observations\n",
    "\\begin{align*}\n",
    "&x_i \\sim U([-1, 1])\\\\\n",
    "&y_i = A x_i + b + \\nu_i\n",
    "\\end{align*}"
   ]
  },
  {
   "cell_type": "code",
   "execution_count": 4,
   "metadata": {},
   "outputs": [],
   "source": [
    "n_train = 1000\n",
    "noise_level = 0.04\n",
    "\n",
    "# Generate a random set of n_train samples\n",
    "X_train = np.random.rand(n_train, input_dim)\n",
    "y_train = np.array([true_model(x) for x in X_train])\n",
    "\n",
    "# Add some noise\n",
    "y_train += noise_level * np.random.standard_normal(size=y_train.shape)"
   ]
  },
  {
   "cell_type": "code",
   "execution_count": 5,
   "metadata": {},
   "outputs": [
    {
     "data": {
      "image/png": "[encoded data removed]",
      "text/plain": [
       "<Figure size 432x288 with 1 Axes>"
      ]
     },
     "metadata": {
      "needs_background": "light"
     },
     "output_type": "display_data"
    }
   ],
   "source": [
    "if input_dim == output_dim == 1:\n",
    "    fig = plt.figure()\n",
    "    fig.clf()\n",
    "    ax = fig.gca()\n",
    "    ax.plot(X_train, y_train, '.')\n",
    "    ax.grid(True)\n",
    "    ax.set_xlabel('X_train')\n",
    "    ax.set_ylabel('y_train')"
   ]
  },
  {
   "cell_type": "markdown",
   "metadata": {},
   "source": [
    "### PyTorch `Dataset`"
   ]
  },
  {
   "cell_type": "code",
   "execution_count": 6,
   "metadata": {},
   "outputs": [],
   "source": [
    "#%% Dataset to manage vector to vector data\n",
    "class VectorialDataset(torch.utils.data.Dataset):\n",
    "    def __init__(self, input_data, output_data):\n",
    "        super(VectorialDataset, self).__init__()\n",
    "        self.input_data = torch.tensor(input_data.astype('f'))\n",
    "        self.output_data = torch.tensor(output_data.astype('f'))\n",
    "        \n",
    "    def __len__(self):\n",
    "        return self.input_data.shape[0]\n",
    "    \n",
    "    def __getitem__(self, idx):\n",
    "        if torch.is_tensor(idx):\n",
    "            idx = idx.tolist()\n",
    "        sample = (self.input_data[idx, :], \n",
    "                  self.output_data[idx, :])  \n",
    "        return sample "
   ]
  },
  {
   "cell_type": "code",
   "execution_count": 7,
   "metadata": {},
   "outputs": [],
   "source": [
    "training_set = VectorialDataset(input_data=X_train, output_data=y_train)"
   ]
  },
  {
   "cell_type": "code",
   "execution_count": 8,
   "metadata": {},
   "outputs": [
    {
     "data": {
      "text/plain": [
       "1000"
      ]
     },
     "execution_count": 8,
     "metadata": {},
     "output_type": "execute_result"
    }
   ],
   "source": [
    "len(training_set)"
   ]
  },
  {
   "cell_type": "code",
   "execution_count": 9,
   "metadata": {},
   "outputs": [
    {
     "data": {
      "text/plain": [
       "(tensor([[0.2106],\n",
       "         [0.1984]]),\n",
       " tensor([[1.1438],\n",
       "         [1.0491]]))"
      ]
     },
     "execution_count": 9,
     "metadata": {},
     "output_type": "execute_result"
    }
   ],
   "source": [
    "training_set[10:12]"
   ]
  },
  {
   "cell_type": "markdown",
   "metadata": {},
   "source": [
    "Here almost useless, but think about e.g. images."
   ]
  },
  {
   "cell_type": "markdown",
   "metadata": {},
   "source": [
    "### PyTorch `DataLoader`"
   ]
  },
  {
   "cell_type": "code",
   "execution_count": 10,
   "metadata": {},
   "outputs": [],
   "source": [
    "batch_size = 120\n",
    "train_loader = torch.utils.data.DataLoader(training_set, \n",
    "                                           batch_size=batch_size, \n",
    "                                           shuffle=True)"
   ]
  },
  {
   "cell_type": "markdown",
   "metadata": {},
   "source": [
    "The role of `batch_size`:"
   ]
  },
  {
   "cell_type": "code",
   "execution_count": 11,
   "metadata": {},
   "outputs": [
    {
     "name": "stdout",
     "output_type": "stream",
     "text": [
      "Batch n.  1: input size=torch.Size([120, 1]), output size=torch.Size([120, 1])\n",
      "Batch n.  2: input size=torch.Size([120, 1]), output size=torch.Size([120, 1])\n",
      "Batch n.  3: input size=torch.Size([120, 1]), output size=torch.Size([120, 1])\n",
      "Batch n.  4: input size=torch.Size([120, 1]), output size=torch.Size([120, 1])\n",
      "Batch n.  5: input size=torch.Size([120, 1]), output size=torch.Size([120, 1])\n",
      "Batch n.  6: input size=torch.Size([120, 1]), output size=torch.Size([120, 1])\n",
      "Batch n.  7: input size=torch.Size([120, 1]), output size=torch.Size([120, 1])\n",
      "Batch n.  8: input size=torch.Size([120, 1]), output size=torch.Size([120, 1])\n",
      "Batch n.  9: input size=torch.Size([40, 1]), output size=torch.Size([40, 1])\n"
     ]
    }
   ],
   "source": [
    "for idx, batch in enumerate(train_loader):\n",
    "    print('Batch n. %2d: input size=%s, output size=%s' % (idx+1, batch[0].shape, batch[1].shape))"
   ]
  },
  {
   "cell_type": "code",
   "execution_count": 12,
   "metadata": {},
   "outputs": [
    {
     "data": {
      "text/plain": [
       "960"
      ]
     },
     "execution_count": 12,
     "metadata": {},
     "output_type": "execute_result"
    }
   ],
   "source": [
    "8 * 120"
   ]
  },
  {
   "cell_type": "markdown",
   "metadata": {},
   "source": [
    "The role of `shuffle`:"
   ]
  },
  {
   "cell_type": "code",
   "execution_count": 13,
   "metadata": {},
   "outputs": [
    {
     "data": {
      "text/plain": [
       "array([[2.05784788e-01, 4.36037987e-01, 6.01623714e-01],\n",
       "       [7.19817837e-01, 7.86145389e-01, 6.72215939e-01],\n",
       "       [6.09538035e-01, 7.84872293e-01, 7.33218729e-01],\n",
       "       [8.82615981e-01, 3.95612359e-01, 5.57048738e-01],\n",
       "       [3.43085796e-03, 1.70190156e-01, 7.24182546e-01],\n",
       "       [8.30641732e-02, 9.18918371e-01, 9.32161152e-01],\n",
       "       [6.35257739e-01, 4.30486172e-01, 6.49381876e-01],\n",
       "       [1.75627838e-01, 4.74885613e-01, 8.14921916e-01],\n",
       "       [1.82322421e-01, 6.92526758e-01, 8.47791076e-01],\n",
       "       [9.80213257e-01, 8.58902335e-01, 5.85259080e-01],\n",
       "       [2.10579174e-01, 4.70532626e-01, 6.51153088e-01],\n",
       "       [1.98352101e-01, 6.09538019e-01, 3.83458883e-01],\n",
       "       [1.54870878e-01, 6.58187032e-01, 7.16468036e-01],\n",
       "       [9.86925902e-02, 2.18983032e-02, 6.72925487e-02],\n",
       "       [2.76020335e-03, 1.91518009e-01, 9.92547750e-01],\n",
       "       [1.96776921e-01, 1.47700906e-01, 9.34993684e-01],\n",
       "       [8.41014066e-01, 9.04534996e-01, 3.88683110e-01],\n",
       "       [8.38633120e-01, 8.67086947e-01, 5.28809190e-01],\n",
       "       [6.29314369e-01, 2.12898821e-01, 1.59060284e-01],\n",
       "       [2.52780023e-01, 5.77984691e-01, 7.29978681e-01],\n",
       "       [1.62164371e-01, 8.26870143e-01, 4.44590062e-01],\n",
       "       [4.32703586e-01, 7.69994482e-02, 4.19021547e-01],\n",
       "       [3.63981726e-01, 8.00265789e-01, 5.29069543e-01],\n",
       "       [5.20398999e-01, 7.45757818e-01, 4.48726326e-01],\n",
       "       [5.64292038e-01, 3.83413434e-02, 1.10513814e-01],\n",
       "       [4.12084830e-01, 6.41538322e-01, 3.09741110e-01],\n",
       "       [4.52187477e-01, 1.72831982e-01, 8.72428954e-01],\n",
       "       [5.79446327e-01, 6.66961133e-01, 2.28947043e-01],\n",
       "       [7.48672537e-01, 2.41100535e-01, 1.73309043e-01],\n",
       "       [6.56886325e-01, 3.84653270e-01, 1.30731925e-01],\n",
       "       [8.87419519e-01, 6.22831732e-02, 6.90814331e-02],\n",
       "       [7.94419623e-02, 6.66619599e-01, 6.09000087e-01],\n",
       "       [8.79391817e-01, 2.02486947e-01, 3.40404093e-01],\n",
       "       [2.39905220e-01, 5.32373071e-01, 8.16653132e-01],\n",
       "       [3.99606868e-02, 1.81134298e-01, 2.87566751e-01],\n",
       "       [9.82297436e-01, 8.08614910e-01, 2.31507435e-01],\n",
       "       [2.71121600e-01, 2.53645986e-01, 8.52858663e-01],\n",
       "       [8.31505616e-01, 6.34116769e-01, 7.65442848e-01],\n",
       "       [7.67592569e-04, 1.66117594e-01, 5.22993147e-01],\n",
       "       [2.31507434e-01, 9.82297421e-01, 3.16028923e-01],\n",
       "       [6.29763678e-01, 7.58959234e-01, 1.68594755e-02],\n",
       "       [9.64861795e-01, 3.49041700e-01, 8.81203711e-01],\n",
       "       [7.24182547e-01, 6.35257721e-01, 1.25399604e-01],\n",
       "       [6.49381863e-01, 8.34466815e-01, 6.75316304e-02],\n",
       "       [9.35888695e-01, 3.99028420e-01, 1.41035765e-01],\n",
       "       [7.93604663e-01, 1.09440282e-01, 1.89808547e-01],\n",
       "       [3.95613368e-01, 9.68541026e-01, 7.32445776e-01],\n",
       "       [8.85867629e-01, 9.90578055e-01, 8.30862105e-01],\n",
       "       [5.73853698e-01, 4.64295089e-01, 3.59422415e-01],\n",
       "       [3.13236328e-02, 7.97114253e-01, 9.60283399e-01],\n",
       "       [3.10830879e-01, 9.20487463e-01, 9.39369857e-01],\n",
       "       [1.11482070e-01, 1.37699351e-01, 9.12295938e-01],\n",
       "       [2.73659452e-01, 1.32997468e-01, 7.68006444e-01],\n",
       "       [7.07529583e-01, 1.02958798e-01, 8.62336516e-01],\n",
       "       [8.62226101e-01, 5.56138873e-01, 6.88216150e-01],\n",
       "       [4.45852649e-01, 3.49876493e-01, 3.85715723e-01],\n",
       "       [9.68555724e-01, 7.53338993e-01, 6.08188272e-01],\n",
       "       [6.88853317e-01, 8.14921916e-01, 7.99390614e-01],\n",
       "       [1.12160284e-01, 6.75960481e-01, 8.31359029e-01],\n",
       "       [6.22831741e-02, 1.83595896e-01, 5.91238379e-01],\n",
       "       [5.96700919e-01, 6.59580350e-01, 2.21028745e-01],\n",
       "       [9.33903544e-01, 2.28080198e-01, 2.19291985e-01],\n",
       "       [5.69688097e-01, 9.50934470e-01, 6.81150913e-01],\n",
       "       [2.59608630e-01, 3.16301584e-02, 3.96970421e-01],\n",
       "       [2.59069806e-01, 3.85259867e-01, 2.95176774e-01],\n",
       "       [7.63294879e-01, 8.09460282e-01, 5.48462272e-01],\n",
       "       [8.47669795e-01, 8.75294566e-01, 1.98726252e-01],\n",
       "       [6.81150939e-01, 7.85209298e-01, 7.55382419e-01],\n",
       "       [6.13749544e-01, 5.00190854e-01, 1.75627843e-01],\n",
       "       [4.64295086e-01, 4.16484289e-02, 4.63428766e-01],\n",
       "       [6.10422054e-01, 8.06030929e-01, 3.11902650e-02],\n",
       "       [7.96318587e-01, 4.04314458e-01, 6.02500200e-01],\n",
       "       [6.85260665e-01, 6.52654588e-01, 1.50162712e-01],\n",
       "       [2.28080202e-01, 3.39587539e-01, 4.36440408e-01],\n",
       "       [1.44277149e-01, 1.53670251e-01, 5.23263812e-01],\n",
       "       [7.32445751e-01, 7.98668802e-01, 4.45075393e-01],\n",
       "       [8.92851033e-01, 5.77854812e-01, 9.59330201e-01],\n",
       "       [7.75949622e-01, 2.28426456e-01, 7.70105362e-01],\n",
       "       [1.04008467e-01, 6.25191927e-01, 5.10703862e-01],\n",
       "       [4.02108044e-01, 7.54038692e-01, 8.47043812e-01],\n",
       "       [5.10963473e-01, 7.55029798e-01, 6.22831732e-02],\n",
       "       [4.02942642e-01, 7.00312793e-01, 5.67517996e-01],\n",
       "       [4.75905330e-01, 9.59562540e-01, 5.58832943e-01],\n",
       "       [9.90786004e-01, 2.15109810e-01, 1.82513800e-02],\n",
       "       [9.71041751e-01, 9.05523121e-01, 7.34791994e-01],\n",
       "       [9.39509608e-01, 9.35584009e-01, 4.74894792e-01],\n",
       "       [2.55232582e-01, 2.44801685e-01, 3.49876493e-01],\n",
       "       [6.37964235e-01, 8.31505597e-01, 8.67086947e-01],\n",
       "       [6.94758742e-01, 2.39112526e-01, 3.02444398e-01],\n",
       "       [1.62086700e-01, 3.99974108e-01, 6.45111978e-01],\n",
       "       [1.69421155e-01, 1.19983919e-01, 8.77143085e-01],\n",
       "       [7.63798685e-01, 8.06830823e-01, 4.93494809e-01],\n",
       "       [5.33584263e-01, 4.55167532e-01, 4.55194384e-01],\n",
       "       [2.74913274e-01, 4.14311737e-02, 6.06081605e-01],\n",
       "       [1.09440283e-01, 4.31052655e-01, 3.99606861e-02],\n",
       "       [9.72749232e-01, 8.00617695e-01, 4.60310787e-01],\n",
       "       [3.74173857e-01, 6.33515537e-01, 2.05784783e-01],\n",
       "       [2.18983035e-02, 3.70907038e-01, 6.58187032e-01],\n",
       "       [5.88296140e-01, 8.91269684e-01, 5.56256771e-01],\n",
       "       [7.53845556e-02, 2.95267552e-01, 5.37827373e-01],\n",
       "       [3.96970432e-01, 2.14984462e-01, 8.88887763e-01],\n",
       "       [6.60717004e-02, 2.00952530e-01, 3.05443466e-01],\n",
       "       [1.09028044e-03, 5.05650640e-01, 3.83095920e-01],\n",
       "       [2.09302882e-01, 7.33218729e-01, 3.30361784e-01],\n",
       "       [5.05650623e-01, 1.95463330e-01, 1.33806646e-01],\n",
       "       [1.92533750e-01, 1.40976995e-01, 1.69814616e-01],\n",
       "       [7.46385276e-01, 8.90422940e-01, 6.13085449e-01],\n",
       "       [2.85988473e-01, 3.89944538e-02, 3.30432117e-01],\n",
       "       [4.09689428e-01, 8.48835826e-01, 4.83829200e-01],\n",
       "       [5.24490745e-01, 4.00176585e-01, 5.33296764e-01],\n",
       "       [8.08786472e-01, 5.09734452e-01, 9.82680976e-01],\n",
       "       [4.03578427e-02, 1.70896485e-01, 2.41100535e-01],\n",
       "       [8.56026212e-01, 8.27111721e-01, 7.08359659e-01],\n",
       "       [2.80051793e-01, 3.23849410e-01, 9.82295394e-01],\n",
       "       [2.37325941e-01, 3.64030868e-01, 1.54870883e-01],\n",
       "       [4.45075402e-01, 1.80128947e-01, 8.39148641e-01],\n",
       "       [9.16463931e-01, 6.62491739e-01, 9.53192532e-01],\n",
       "       [2.59030881e-01, 7.95456350e-01, 9.36075449e-01],\n",
       "       [3.04007166e-01, 9.71041739e-01, 3.69129658e-01],\n",
       "       [2.27446554e-01, 8.47043812e-01, 4.34195697e-01]])"
      ]
     },
     "execution_count": 13,
     "metadata": {},
     "output_type": "execute_result"
    }
   ],
   "source": [
    "first_batch = []\n",
    "\n",
    "for epoch in range(2):\n",
    "    for idx, batch in enumerate(train_loader):\n",
    "        if idx == 0:\n",
    "            first_batch.append(batch)\n",
    "        \n",
    "np.c_[X_train[:batch_size], first_batch[0][0].numpy(), first_batch[1][0].numpy()]"
   ]
  },
  {
   "cell_type": "markdown",
   "metadata": {},
   "source": [
    "## Models"
   ]
  },
  {
   "cell_type": "markdown",
   "metadata": {},
   "source": [
    "We implement a linear model $$x \\mapsto model(x):=A x + b$$ \n",
    "\n",
    "with $A\\in \\mathbb{R}^{input\\_dim\\times output\\_dim}$, $b\\in\\mathbb{R}^{output\\_dim}$."
   ]
  },
  {
   "cell_type": "code",
   "execution_count": 14,
   "metadata": {},
   "outputs": [],
   "source": [
    "import torch.nn as nn\n",
    "import torch\n",
    "\n",
    "#%% Linear layer\n",
    "class LinearModel(nn.Module):\n",
    "    def __init__(self, input_dim, output_dim):\n",
    "        super(LinearModel, self).__init__()\n",
    "\n",
    "        self.input_dim = input_dim\n",
    "        self.output_dim = output_dim\n",
    "\n",
    "        self.linear = nn.Linear(self.input_dim, self.output_dim, bias=True)\n",
    "\n",
    "    def forward(self, x):\n",
    "        out = self.linear(x)\n",
    "        return out\n",
    "    \n",
    "    def reset(self):\n",
    "        self.linear.reset_parameters()"
   ]
  },
  {
   "cell_type": "code",
   "execution_count": 15,
   "metadata": {},
   "outputs": [],
   "source": [
    "model = LinearModel(input_dim, output_dim)"
   ]
  },
  {
   "cell_type": "markdown",
   "metadata": {},
   "source": [
    "### Model inspection"
   ]
  },
  {
   "cell_type": "code",
   "execution_count": 16,
   "metadata": {},
   "outputs": [
    {
     "name": "stdout",
     "output_type": "stream",
     "text": [
      "LinearModel(\n",
      "  (linear): Linear(in_features=1, out_features=1, bias=True)\n",
      ")\n"
     ]
    }
   ],
   "source": [
    "print(model)"
   ]
  },
  {
   "cell_type": "markdown",
   "metadata": {},
   "source": [
    "See [pytorch.org/docs/stable/nn.html](https://pytorch.org/docs/stable/nn.html) for many other layers."
   ]
  },
  {
   "cell_type": "code",
   "execution_count": 17,
   "metadata": {},
   "outputs": [
    {
     "data": {
      "text/plain": [
       "[Parameter containing:\n",
       " tensor([[0.9098]], requires_grad=True),\n",
       " Parameter containing:\n",
       " tensor([0.9818], requires_grad=True)]"
      ]
     },
     "execution_count": 17,
     "metadata": {},
     "output_type": "execute_result"
    }
   ],
   "source": [
    "list(model.parameters())"
   ]
  },
  {
   "cell_type": "code",
   "execution_count": 18,
   "metadata": {},
   "outputs": [
    {
     "data": {
      "text/plain": [
       "Parameter containing:\n",
       "tensor([[0.9098]], requires_grad=True)"
      ]
     },
     "execution_count": 18,
     "metadata": {},
     "output_type": "execute_result"
    }
   ],
   "source": [
    "model.linear.weight"
   ]
  },
  {
   "cell_type": "code",
   "execution_count": 19,
   "metadata": {},
   "outputs": [
    {
     "data": {
      "text/plain": [
       "Parameter containing:\n",
       "tensor([0.9818], requires_grad=True)"
      ]
     },
     "execution_count": 19,
     "metadata": {},
     "output_type": "execute_result"
    }
   ],
   "source": [
    "model.linear.bias"
   ]
  },
  {
   "cell_type": "markdown",
   "metadata": {},
   "source": [
    "### The `forward` method"
   ]
  },
  {
   "cell_type": "code",
   "execution_count": 20,
   "metadata": {},
   "outputs": [
    {
     "data": {
      "text/plain": [
       "tensor([[-0.8264],\n",
       "        [ 2.1672],\n",
       "        [-0.3973],\n",
       "        [ 1.0977],\n",
       "        [ 1.8477]], grad_fn=<AddmmBackward0>)"
      ]
     },
     "execution_count": 20,
     "metadata": {},
     "output_type": "execute_result"
    }
   ],
   "source": [
    "x = torch.randn(5, input_dim)\n",
    "model.forward(x)"
   ]
  },
  {
   "cell_type": "code",
   "execution_count": 21,
   "metadata": {},
   "outputs": [
    {
     "data": {
      "text/plain": [
       "[tensor([-0.8264], grad_fn=<AddBackward0>),\n",
       " tensor([2.1672], grad_fn=<AddBackward0>),\n",
       " tensor([-0.3973], grad_fn=<AddBackward0>),\n",
       " tensor([1.0977], grad_fn=<AddBackward0>),\n",
       " tensor([1.8477], grad_fn=<AddBackward0>)]"
      ]
     },
     "execution_count": 21,
     "metadata": {},
     "output_type": "execute_result"
    }
   ],
   "source": [
    "[model.linear.weight @ xx + model.linear.bias for xx in x]"
   ]
  },
  {
   "cell_type": "code",
   "execution_count": 22,
   "metadata": {},
   "outputs": [
    {
     "data": {
      "image/png": "[encoded data removed]",
      "text/plain": [
       "<Figure size 432x288 with 1 Axes>"
      ]
     },
     "metadata": {
      "needs_background": "light"
     },
     "output_type": "display_data"
    }
   ],
   "source": [
    "if input_dim == output_dim == 1:\n",
    "    fig = plt.figure()\n",
    "    fig.clf()\n",
    "    ax = fig.gca()\n",
    "    ax.plot(training_set.input_data, training_set.output_data, '.')\n",
    "    ax.plot(training_set.input_data, model.forward(training_set.input_data).detach().numpy(), '.')\n",
    "    ax.grid(True)\n",
    "    ax.set_xlabel('X_train')\n",
    "    ax.legend(['y_train', 'model(X_train)'])    "
   ]
  },
  {
   "cell_type": "markdown",
   "metadata": {},
   "source": [
    "## Losses"
   ]
  },
  {
   "cell_type": "markdown",
   "metadata": {},
   "source": [
    "### The MSE loss"
   ]
  },
  {
   "cell_type": "markdown",
   "metadata": {},
   "source": [
    "The MSE loss is\n",
    "$$\n",
    "L(y, y') = \\|y-y'\\|_2^2\n",
    "$$"
   ]
  },
  {
   "cell_type": "code",
   "execution_count": 23,
   "metadata": {},
   "outputs": [],
   "source": [
    "import torch.nn as nn\n",
    "loss_fun = nn.MSELoss(reduction='mean')"
   ]
  },
  {
   "cell_type": "markdown",
   "metadata": {},
   "source": [
    "More at [pytorch.org/docs/stable/nn.html#loss-functions](https://pytorch.org/docs/stable/nn.html#loss-functions)"
   ]
  },
  {
   "cell_type": "code",
   "execution_count": 24,
   "metadata": {},
   "outputs": [
    {
     "data": {
      "text/plain": [
       "tensor(2.)"
      ]
     },
     "execution_count": 24,
     "metadata": {},
     "output_type": "execute_result"
    }
   ],
   "source": [
    "x = torch.tensor(np.array([1, 2, 1]).astype('f'))\n",
    "z = torch.tensor(np.array([0, 0, 0]).astype('f'))\n",
    "loss_fun(x, z)"
   ]
  },
  {
   "cell_type": "markdown",
   "metadata": {},
   "source": [
    "### Giving a score to the model (parameters) given the training set"
   ]
  },
  {
   "cell_type": "markdown",
   "metadata": {},
   "source": [
    "The loss for one data pair $(x_i, y_i)$ is \n",
    "$$\n",
    "L(model(x_i), y_i)\n",
    "$$\n",
    "\n",
    "The cumulative (average) loss on the training set is \n",
    "$$\n",
    "L(X_{train}, y_{train}):=\\frac{1}{n_{train}} \\sum_{i=1}^{n_{train}} L(model(x_i), y_i)\n",
    "$$"
   ]
  },
  {
   "cell_type": "code",
   "execution_count": 25,
   "metadata": {},
   "outputs": [
    {
     "ename": "IndexError",
     "evalue": "list index out of range",
     "output_type": "error",
     "traceback": [
      "\u001b[0;31m---------------------------------------------------------------------------\u001b[0m",
      "\u001b[0;31mIndexError\u001b[0m                                Traceback (most recent call last)",
      "Input \u001b[0;32mIn [25]\u001b[0m, in \u001b[0;36m<cell line: 1>\u001b[0;34m()\u001b[0m\n\u001b[1;32m     22\u001b[0m ax\u001b[38;5;241m.\u001b[39mset_ylabel(\u001b[38;5;124m'\u001b[39m\u001b[38;5;124mbias\u001b[39m\u001b[38;5;124m'\u001b[39m)\n\u001b[1;32m     23\u001b[0m ax\u001b[38;5;241m.\u001b[39mset_xlabel(\u001b[38;5;124m'\u001b[39m\u001b[38;5;124mweight\u001b[39m\u001b[38;5;124m'\u001b[39m)\n\u001b[0;32m---> 24\u001b[0m \u001b[43max\u001b[49m\u001b[38;5;241;43m.\u001b[39;49m\u001b[43mlegend\u001b[49m\u001b[43m(\u001b[49m\u001b[43m[\u001b[49m\u001b[38;5;124;43m'\u001b[39;49m\u001b[38;5;124;43m(A, b)\u001b[39;49m\u001b[38;5;124;43m'\u001b[39;49m\u001b[43m]\u001b[49m\u001b[43m)\u001b[49m\n\u001b[1;32m     26\u001b[0m ax\u001b[38;5;241m.\u001b[39mgrid(\u001b[38;5;28;01mTrue\u001b[39;00m)\n",
      "File \u001b[0;32m~/anaconda3/envs/geometric_new/lib/python3.9/site-packages/matplotlib/axes/_axes.py:305\u001b[0m, in \u001b[0;36mAxes.legend\u001b[0;34m(self, *args, **kwargs)\u001b[0m\n\u001b[1;32m    303\u001b[0m \u001b[38;5;28;01mif\u001b[39;00m \u001b[38;5;28mlen\u001b[39m(extra_args):\n\u001b[1;32m    304\u001b[0m     \u001b[38;5;28;01mraise\u001b[39;00m \u001b[38;5;167;01mTypeError\u001b[39;00m(\u001b[38;5;124m'\u001b[39m\u001b[38;5;124mlegend only accepts two non-keyword arguments\u001b[39m\u001b[38;5;124m'\u001b[39m)\n\u001b[0;32m--> 305\u001b[0m \u001b[38;5;28mself\u001b[39m\u001b[38;5;241m.\u001b[39mlegend_ \u001b[38;5;241m=\u001b[39m \u001b[43mmlegend\u001b[49m\u001b[38;5;241;43m.\u001b[39;49m\u001b[43mLegend\u001b[49m\u001b[43m(\u001b[49m\u001b[38;5;28;43mself\u001b[39;49m\u001b[43m,\u001b[49m\u001b[43m \u001b[49m\u001b[43mhandles\u001b[49m\u001b[43m,\u001b[49m\u001b[43m \u001b[49m\u001b[43mlabels\u001b[49m\u001b[43m,\u001b[49m\u001b[43m \u001b[49m\u001b[38;5;241;43m*\u001b[39;49m\u001b[38;5;241;43m*\u001b[39;49m\u001b[43mkwargs\u001b[49m\u001b[43m)\u001b[49m\n\u001b[1;32m    306\u001b[0m \u001b[38;5;28mself\u001b[39m\u001b[38;5;241m.\u001b[39mlegend_\u001b[38;5;241m.\u001b[39m_remove_method \u001b[38;5;241m=\u001b[39m \u001b[38;5;28mself\u001b[39m\u001b[38;5;241m.\u001b[39m_remove_legend\n\u001b[1;32m    307\u001b[0m \u001b[38;5;28;01mreturn\u001b[39;00m \u001b[38;5;28mself\u001b[39m\u001b[38;5;241m.\u001b[39mlegend_\n",
      "File \u001b[0;32m~/anaconda3/envs/geometric_new/lib/python3.9/site-packages/matplotlib/legend.py:499\u001b[0m, in \u001b[0;36mLegend.__init__\u001b[0;34m(self, parent, handles, labels, loc, numpoints, markerscale, markerfirst, scatterpoints, scatteryoffsets, prop, fontsize, labelcolor, borderpad, labelspacing, handlelength, handleheight, handletextpad, borderaxespad, columnspacing, ncol, mode, fancybox, shadow, title, title_fontsize, framealpha, edgecolor, facecolor, bbox_to_anchor, bbox_transform, frameon, handler_map, title_fontproperties)\u001b[0m\n\u001b[1;32m    496\u001b[0m \u001b[38;5;28mself\u001b[39m\u001b[38;5;241m.\u001b[39m_set_artist_props(\u001b[38;5;28mself\u001b[39m\u001b[38;5;241m.\u001b[39mlegendPatch)\n\u001b[1;32m    498\u001b[0m \u001b[38;5;66;03m# init with null renderer\u001b[39;00m\n\u001b[0;32m--> 499\u001b[0m \u001b[38;5;28;43mself\u001b[39;49m\u001b[38;5;241;43m.\u001b[39;49m\u001b[43m_init_legend_box\u001b[49m\u001b[43m(\u001b[49m\u001b[43mhandles\u001b[49m\u001b[43m,\u001b[49m\u001b[43m \u001b[49m\u001b[43mlabels\u001b[49m\u001b[43m,\u001b[49m\u001b[43m \u001b[49m\u001b[43mmarkerfirst\u001b[49m\u001b[43m)\u001b[49m\n\u001b[1;32m    501\u001b[0m tmp \u001b[38;5;241m=\u001b[39m \u001b[38;5;28mself\u001b[39m\u001b[38;5;241m.\u001b[39m_loc_used_default\n\u001b[1;32m    502\u001b[0m \u001b[38;5;28mself\u001b[39m\u001b[38;5;241m.\u001b[39m_set_loc(loc)\n",
      "File \u001b[0;32m~/anaconda3/envs/geometric_new/lib/python3.9/site-packages/matplotlib/legend.py:780\u001b[0m, in \u001b[0;36mLegend._init_legend_box\u001b[0;34m(self, handles, labels, markerfirst)\u001b[0m\n\u001b[1;32m    777\u001b[0m         text_list\u001b[38;5;241m.\u001b[39mappend(textbox\u001b[38;5;241m.\u001b[39m_text)\n\u001b[1;32m    778\u001b[0m         \u001b[38;5;66;03m# Create the artist for the legend which represents the\u001b[39;00m\n\u001b[1;32m    779\u001b[0m         \u001b[38;5;66;03m# original artist/handle.\u001b[39;00m\n\u001b[0;32m--> 780\u001b[0m         handle_list\u001b[38;5;241m.\u001b[39mappend(\u001b[43mhandler\u001b[49m\u001b[38;5;241;43m.\u001b[39;49m\u001b[43mlegend_artist\u001b[49m\u001b[43m(\u001b[49m\u001b[38;5;28;43mself\u001b[39;49m\u001b[43m,\u001b[49m\u001b[43m \u001b[49m\u001b[43morig_handle\u001b[49m\u001b[43m,\u001b[49m\n\u001b[1;32m    781\u001b[0m \u001b[43m                                                 \u001b[49m\u001b[43mfontsize\u001b[49m\u001b[43m,\u001b[49m\u001b[43m \u001b[49m\u001b[43mhandlebox\u001b[49m\u001b[43m)\u001b[49m)\n\u001b[1;32m    782\u001b[0m         handles_and_labels\u001b[38;5;241m.\u001b[39mappend((handlebox, textbox))\n\u001b[1;32m    784\u001b[0m \u001b[38;5;28;01mif\u001b[39;00m handles_and_labels:\n\u001b[1;32m    785\u001b[0m     \u001b[38;5;66;03m# We calculate number of rows in each column. The first\u001b[39;00m\n\u001b[1;32m    786\u001b[0m     \u001b[38;5;66;03m# (num_largecol) columns will have (nrows+1) rows, and remaining\u001b[39;00m\n\u001b[1;32m    787\u001b[0m     \u001b[38;5;66;03m# (num_smallcol) columns will have (nrows) rows.\u001b[39;00m\n",
      "File \u001b[0;32m~/anaconda3/envs/geometric_new/lib/python3.9/site-packages/matplotlib/legend_handler.py:119\u001b[0m, in \u001b[0;36mHandlerBase.legend_artist\u001b[0;34m(self, legend, orig_handle, fontsize, handlebox)\u001b[0m\n\u001b[1;32m     95\u001b[0m \u001b[38;5;124;03m\"\"\"\u001b[39;00m\n\u001b[1;32m     96\u001b[0m \u001b[38;5;124;03mReturn the artist that this HandlerBase generates for the given\u001b[39;00m\n\u001b[1;32m     97\u001b[0m \u001b[38;5;124;03moriginal artist/handle.\u001b[39;00m\n\u001b[0;32m   (...)\u001b[0m\n\u001b[1;32m    112\u001b[0m \n\u001b[1;32m    113\u001b[0m \u001b[38;5;124;03m\"\"\"\u001b[39;00m\n\u001b[1;32m    114\u001b[0m xdescent, ydescent, width, height \u001b[38;5;241m=\u001b[39m \u001b[38;5;28mself\u001b[39m\u001b[38;5;241m.\u001b[39madjust_drawing_area(\n\u001b[1;32m    115\u001b[0m          legend, orig_handle,\n\u001b[1;32m    116\u001b[0m          handlebox\u001b[38;5;241m.\u001b[39mxdescent, handlebox\u001b[38;5;241m.\u001b[39mydescent,\n\u001b[1;32m    117\u001b[0m          handlebox\u001b[38;5;241m.\u001b[39mwidth, handlebox\u001b[38;5;241m.\u001b[39mheight,\n\u001b[1;32m    118\u001b[0m          fontsize)\n\u001b[0;32m--> 119\u001b[0m artists \u001b[38;5;241m=\u001b[39m \u001b[38;5;28;43mself\u001b[39;49m\u001b[38;5;241;43m.\u001b[39;49m\u001b[43mcreate_artists\u001b[49m\u001b[43m(\u001b[49m\u001b[43mlegend\u001b[49m\u001b[43m,\u001b[49m\u001b[43m \u001b[49m\u001b[43morig_handle\u001b[49m\u001b[43m,\u001b[49m\n\u001b[1;32m    120\u001b[0m \u001b[43m                              \u001b[49m\u001b[43mxdescent\u001b[49m\u001b[43m,\u001b[49m\u001b[43m \u001b[49m\u001b[43mydescent\u001b[49m\u001b[43m,\u001b[49m\u001b[43m \u001b[49m\u001b[43mwidth\u001b[49m\u001b[43m,\u001b[49m\u001b[43m \u001b[49m\u001b[43mheight\u001b[49m\u001b[43m,\u001b[49m\n\u001b[1;32m    121\u001b[0m \u001b[43m                              \u001b[49m\u001b[43mfontsize\u001b[49m\u001b[43m,\u001b[49m\u001b[43m \u001b[49m\u001b[43mhandlebox\u001b[49m\u001b[38;5;241;43m.\u001b[39;49m\u001b[43mget_transform\u001b[49m\u001b[43m(\u001b[49m\u001b[43m)\u001b[49m\u001b[43m)\u001b[49m\n\u001b[1;32m    123\u001b[0m \u001b[38;5;28;01mif\u001b[39;00m \u001b[38;5;28misinstance\u001b[39m(artists, _Line2DHandleList):\n\u001b[1;32m    124\u001b[0m     artists \u001b[38;5;241m=\u001b[39m [artists[\u001b[38;5;241m0\u001b[39m]]\n",
      "File \u001b[0;32m~/anaconda3/envs/geometric_new/lib/python3.9/site-packages/matplotlib/legend_handler.py:515\u001b[0m, in \u001b[0;36mHandlerRegularPolyCollection.create_artists\u001b[0;34m(self, legend, orig_handle, xdescent, ydescent, width, height, fontsize, trans)\u001b[0m\n\u001b[1;32m    509\u001b[0m ydata \u001b[38;5;241m=\u001b[39m \u001b[38;5;28mself\u001b[39m\u001b[38;5;241m.\u001b[39mget_ydata(legend, xdescent, ydescent,\n\u001b[1;32m    510\u001b[0m                        width, height, fontsize)\n\u001b[1;32m    512\u001b[0m sizes \u001b[38;5;241m=\u001b[39m \u001b[38;5;28mself\u001b[39m\u001b[38;5;241m.\u001b[39mget_sizes(legend, orig_handle, xdescent, ydescent,\n\u001b[1;32m    513\u001b[0m                        width, height, fontsize)\n\u001b[0;32m--> 515\u001b[0m p \u001b[38;5;241m=\u001b[39m \u001b[38;5;28;43mself\u001b[39;49m\u001b[38;5;241;43m.\u001b[39;49m\u001b[43mcreate_collection\u001b[49m\u001b[43m(\u001b[49m\u001b[43morig_handle\u001b[49m\u001b[43m,\u001b[49m\u001b[43m \u001b[49m\u001b[43msizes\u001b[49m\u001b[43m,\u001b[49m\n\u001b[1;32m    516\u001b[0m \u001b[43m                           \u001b[49m\u001b[43moffsets\u001b[49m\u001b[38;5;241;43m=\u001b[39;49m\u001b[38;5;28;43mlist\u001b[39;49m\u001b[43m(\u001b[49m\u001b[38;5;28;43mzip\u001b[39;49m\u001b[43m(\u001b[49m\u001b[43mxdata_marker\u001b[49m\u001b[43m,\u001b[49m\u001b[43m \u001b[49m\u001b[43mydata\u001b[49m\u001b[43m)\u001b[49m\u001b[43m)\u001b[49m\u001b[43m,\u001b[49m\n\u001b[1;32m    517\u001b[0m \u001b[43m                           \u001b[49m\u001b[43mtransOffset\u001b[49m\u001b[38;5;241;43m=\u001b[39;49m\u001b[43mtrans\u001b[49m\u001b[43m)\u001b[49m\n\u001b[1;32m    519\u001b[0m \u001b[38;5;28mself\u001b[39m\u001b[38;5;241m.\u001b[39mupdate_prop(p, orig_handle, legend)\n\u001b[1;32m    520\u001b[0m p\u001b[38;5;241m.\u001b[39m_transOffset \u001b[38;5;241m=\u001b[39m trans\n",
      "File \u001b[0;32m~/anaconda3/envs/geometric_new/lib/python3.9/site-packages/matplotlib/legend_handler.py:527\u001b[0m, in \u001b[0;36mHandlerPathCollection.create_collection\u001b[0;34m(self, orig_handle, sizes, offsets, transOffset)\u001b[0m\n\u001b[1;32m    526\u001b[0m \u001b[38;5;28;01mdef\u001b[39;00m \u001b[38;5;21mcreate_collection\u001b[39m(\u001b[38;5;28mself\u001b[39m, orig_handle, sizes, offsets, transOffset):\n\u001b[0;32m--> 527\u001b[0m     p \u001b[38;5;241m=\u001b[39m \u001b[38;5;28mtype\u001b[39m(orig_handle)([\u001b[43morig_handle\u001b[49m\u001b[38;5;241;43m.\u001b[39;49m\u001b[43mget_paths\u001b[49m\u001b[43m(\u001b[49m\u001b[43m)\u001b[49m\u001b[43m[\u001b[49m\u001b[38;5;241;43m0\u001b[39;49m\u001b[43m]\u001b[49m],\n\u001b[1;32m    528\u001b[0m                           sizes\u001b[38;5;241m=\u001b[39msizes,\n\u001b[1;32m    529\u001b[0m                           offsets\u001b[38;5;241m=\u001b[39moffsets,\n\u001b[1;32m    530\u001b[0m                           transOffset\u001b[38;5;241m=\u001b[39mtransOffset,\n\u001b[1;32m    531\u001b[0m                           )\n\u001b[1;32m    532\u001b[0m     \u001b[38;5;28;01mreturn\u001b[39;00m p\n",
      "\u001b[0;31mIndexError\u001b[0m: list index out of range"
     ]
    },
    {
     "data": {
      "image/png": "[encoded data removed]",
      "text/plain": [
       "<Figure size 720x576 with 2 Axes>"
      ]
     },
     "metadata": {
      "needs_background": "light"
     },
     "output_type": "display_data"
    }
   ],
   "source": [
    "if input_dim == output_dim == 1:\n",
    "\n",
    "    state_dict = model.state_dict()\n",
    "\n",
    "    ww, bb = np.meshgrid(np.linspace(-2, 2, 30), np.linspace(-2, 2, 30))\n",
    "\n",
    "    loss_values = 0 * ww\n",
    "    for i in range(ww.shape[0]):\n",
    "        for j in range(ww.shape[1]):\n",
    "            state_dict['linear.weight'] = torch.tensor([[ww[i, j]]])\n",
    "            state_dict['linear.bias'] = torch.tensor([bb[i, j]])\n",
    "            model.load_state_dict(state_dict)\n",
    "            loss_values[i, j] = loss_fun(model.forward(training_set.input_data),  training_set.output_data)\n",
    "\n",
    "    fig = plt.figure(figsize=(10, 8))\n",
    "    fig.clf()\n",
    "    ax = fig.gca()\n",
    "    levels = np.logspace(np.log(np.min(loss_values)), np.log(np.max(loss_values)), 20)\n",
    "    c=ax.contourf(ww, bb, loss_values, levels=levels, norm=colors.LogNorm())\n",
    "    plt.colorbar(c)\n",
    "    ax.plot(A[0], b, 'r*', markersize=10)\n",
    "    ax.set_ylabel('bias')\n",
    "    ax.set_xlabel('weight')\n",
    "    ax.legend(['(A, b)'])\n",
    "    \n",
    "    ax.grid(True)    "
   ]
  },
  {
   "cell_type": "markdown",
   "metadata": {},
   "source": [
    "## Optimization"
   ]
  },
  {
   "cell_type": "markdown",
   "metadata": {},
   "source": [
    "Goal: minimize the loss given the data:\n",
    "$$\n",
    "\\min\\limits_{par \\in model} L(X_{train}, y_{train})\n",
    "=\\min\\limits_{par \\in model} \\frac{1}{n_{train}} \\sum_{i=1}^{n_{train}} L(x_i, model(x_i))\n",
    "$$\n",
    "\n",
    "In this case $par =\\{A, b\\}$."
   ]
  },
  {
   "cell_type": "markdown",
   "metadata": {},
   "source": [
    "Iterative gradient based optimization:\n",
    "\\begin{align*}\n",
    "par^{(0)} &= par_0\\\\\n",
    "par^{(k+1)} &=  par^{(k)} - \\eta^{(k)} \\nabla_{par} L(X_{train}, y_{train})\n",
    "\\end{align*}    \n",
    "with learning rate $\\eta^{(k)}$."
   ]
  },
  {
   "cell_type": "markdown",
   "metadata": {},
   "source": [
    "### Gradients"
   ]
  },
  {
   "cell_type": "markdown",
   "metadata": {},
   "source": [
    "The model is \n",
    "$$\n",
    "model(x) = A x + b\n",
    "$$\n",
    "\n",
    "With $input\\_dim = output\\_dim = 1$ we have $A:=a\\in\\mathbb{R},\\ b\\in\\mathbb{R}$. \n",
    "\n",
    "For a data pair $(x, y)$ the loss is\n",
    "\\begin{align*}\n",
    "L(x, y) \n",
    "&= \\|model(x)-y\\|_2^2\\\\ \n",
    "&= (model(x)-y)^2\\\\\n",
    "&= (a x + b - y)^2\\\\\n",
    "&= a^2 x^2 + 2 a b x - 2 a xy + b^2 -2 b y + y^2.\n",
    "\\end{align*}\n",
    "\n",
    "We can compute\n",
    "\\begin{align*}\n",
    "\\nabla_a L(x, y) \n",
    "&= 2 a x^2 + 2 b x - 2 xy\n",
    "=2 x (a x + b - y)\\\\\n",
    "\\nabla_b L(x, y)\n",
    "&= 2 a x + 2 b - 2 y\n",
    "= 2 (ax + b - y).\n",
    "\\end{align*}\n"
   ]
  },
  {
   "cell_type": "code",
   "execution_count": 27,
   "metadata": {},
   "outputs": [],
   "source": [
    "x = torch.randn(1, input_dim)\n",
    "y =  torch.randn(1, output_dim)\n",
    "\n",
    "model.zero_grad()\n",
    "loss = loss_fun(model.forward(x),  y)\n",
    "loss.backward()"
   ]
  },
  {
   "cell_type": "code",
   "execution_count": 28,
   "metadata": {},
   "outputs": [
    {
     "name": "stdout",
     "output_type": "stream",
     "text": [
      "tensor([[3.2567]])\n",
      "tensor([[3.2567]], grad_fn=<MulBackward0>)\n",
      "tensor([7.3100])\n",
      "tensor([[7.3100]], grad_fn=<MulBackward0>)\n"
     ]
    }
   ],
   "source": [
    "if input_dim == output_dim == 1:\n",
    "    print(model.linear.weight.grad)\n",
    "    print(2 * x * (model.linear.weight * x + model.linear.bias - y))\n",
    "    \n",
    "    print(model.linear.bias.grad)\n",
    "    print(2 * (model.linear.weight * x + model.linear.bias - y))"
   ]
  },
  {
   "cell_type": "markdown",
   "metadata": {},
   "source": [
    "### Handmade optimization"
   ]
  },
  {
   "cell_type": "code",
   "execution_count": 31,
   "metadata": {},
   "outputs": [],
   "source": [
    "if input_dim == output_dim == 1:\n",
    "\n",
    "    num_iter = 200\n",
    "    lr = 0.5 # 0.01\n",
    "\n",
    "    train_hist = {}\n",
    "    train_hist['weight'] = []\n",
    "    train_hist['bias'] = []\n",
    "\n",
    "    model.reset()\n",
    "    state_dict = model.state_dict()\n",
    "\n",
    "    for _ in range(num_iter):\n",
    "\n",
    "        model.zero_grad()\n",
    "        loss = loss_fun(model.forward(training_set.input_data), training_set.output_data)\n",
    "        loss.backward()\n",
    "\n",
    "        w = model.linear.weight.item()\n",
    "        b = model.linear.bias.item()\n",
    "\n",
    "        dw = model.linear.weight.grad.item()\n",
    "        db = model.linear.bias.grad.item()\n",
    "\n",
    "        state_dict['linear.weight'] += torch.tensor([-lr * dw])\n",
    "        state_dict['linear.bias'] += torch.tensor([-lr * db])\n",
    "        model.load_state_dict(state_dict)\n",
    "\n",
    "        train_hist['weight'].append(w)\n",
    "        train_hist['bias'].append(b)\n",
    "\n",
    "    for label in train_hist:\n",
    "        train_hist[label] = np.array(train_hist[label])"
   ]
  },
  {
   "cell_type": "code",
   "execution_count": 38,
   "metadata": {},
   "outputs": [
    {
     "data": {
      "image/png": "[encoded data removed]",
      "text/plain": [
       "<Figure size 576x576 with 1 Axes>"
      ]
     },
     "metadata": {
      "needs_background": "light"
     },
     "output_type": "display_data"
    }
   ],
   "source": [
    "if input_dim == output_dim == 1:\n",
    "    fig = plt.figure(figsize=(8, 8))\n",
    "    fig.clf()\n",
    "    ax = fig.gca()\n",
    "    levels = np.logspace(np.log(np.min(loss_values)), np.log(np.max(loss_values)), 20)\n",
    "    ax.contourf(ww, bb, loss_values, levels=levels, norm=colors.LogNorm())\n",
    "    ax.set_xlabel('weight')\n",
    "    ax.set_ylabel('bias')\n",
    "    ax.grid(True)\n",
    "    ax.set_xlim(-2, 2) \n",
    "    ax.set_ylim(-2, 2) \n",
    "    \n",
    "    ax.plot(train_hist['weight'], train_hist['bias'], '.-b')\n",
    "    ax.plot(A[0], b, 'r*', markersize=10)\n",
    "\n",
    "    #ax.legend(['optim', '(A, b)'])"
   ]
  },
  {
   "cell_type": "markdown",
   "metadata": {},
   "source": [
    "### Stochastic GD"
   ]
  },
  {
   "cell_type": "markdown",
   "metadata": {},
   "source": [
    "* Avoid loading the full training set\n",
    "* Avoid evaluating the model on the full training set"
   ]
  },
  {
   "cell_type": "markdown",
   "metadata": {},
   "source": [
    "At every step, compute the loss on a batch of data $(X^{(k)}, y^{(k)})\\sim (X_{train}, y_{train})$: \n",
    "\n",
    "\\begin{align*}\n",
    "L(X^{(k)}, y^{(k)}) := \\sum_{(x, y) \\in (X^{(k)}, y^{(k)})} L(x, model(x)).\n",
    "\\end{align*}    \n",
    "\n",
    "and then update with this approximated gradient:\n",
    "\\begin{align*}\n",
    "par^{(k+1)} &=  par^{(k)} - \\eta^{(k)} \\nabla_{par} L(X^{(k)}, y^{(k)}). \n",
    "\\end{align*}    "
   ]
  },
  {
   "cell_type": "markdown",
   "metadata": {},
   "source": [
    "### PyTorch `optim`"
   ]
  },
  {
   "cell_type": "code",
   "execution_count": 33,
   "metadata": {},
   "outputs": [],
   "source": [
    "lr = 0.1\n",
    "weight_decay = 5e-4\n",
    "optimizer = torch.optim.Adam(model.parameters(), lr=lr, weight_decay=weight_decay)"
   ]
  },
  {
   "cell_type": "markdown",
   "metadata": {},
   "source": [
    "More at [pytorch.org/docs/stable/optim.html](https://pytorch.org/docs/stable/optim.html)."
   ]
  },
  {
   "cell_type": "code",
   "execution_count": 34,
   "metadata": {},
   "outputs": [],
   "source": [
    "n_epochs = 100"
   ]
  },
  {
   "cell_type": "code",
   "execution_count": 35,
   "metadata": {},
   "outputs": [
    {
     "name": "stdout",
     "output_type": "stream",
     "text": [
      "[Epoch    1/ 100] [Batch    1/   9] Loss:  2.39e+00\n",
      "[Epoch    1/ 100] [Batch    2/   9] Loss:  1.86e+00\n",
      "[Epoch    1/ 100] [Batch    3/   9] Loss:  1.57e+00\n",
      "[Epoch    1/ 100] [Batch    4/   9] Loss:  1.14e+00\n",
      "[Epoch    1/ 100] [Batch    5/   9] Loss:  8.70e-01\n",
      "[Epoch    1/ 100] [Batch    6/   9] Loss:  6.05e-01\n",
      "[Epoch    1/ 100] [Batch    7/   9] Loss:  4.03e-01\n",
      "[Epoch    1/ 100] [Batch    8/   9] Loss:  2.51e-01\n",
      "[Epoch    1/ 100] [Batch    9/   9] Loss:  1.35e-01\n",
      "[Epoch    2/ 100] [Batch    1/   9] Loss:  6.43e-02\n",
      "[Epoch    2/ 100] [Batch    2/   9] Loss:  2.48e-02\n",
      "[Epoch    2/ 100] [Batch    3/   9] Loss:  1.06e-02\n",
      "[Epoch    2/ 100] [Batch    4/   9] Loss:  2.35e-02\n",
      "[Epoch    2/ 100] [Batch    5/   9] Loss:  4.01e-02\n",
      "[Epoch    2/ 100] [Batch    6/   9] Loss:  6.55e-02\n",
      "[Epoch    2/ 100] [Batch    7/   9] Loss:  1.14e-01\n",
      "[Epoch    2/ 100] [Batch    8/   9] Loss:  1.69e-01\n",
      "[Epoch    2/ 100] [Batch    9/   9] Loss:  1.72e-01\n",
      "[Epoch    3/ 100] [Batch    1/   9] Loss:  1.80e-01\n",
      "[Epoch    3/ 100] [Batch    2/   9] Loss:  1.87e-01\n",
      "[Epoch    3/ 100] [Batch    3/   9] Loss:  1.64e-01\n",
      "[Epoch    3/ 100] [Batch    4/   9] Loss:  1.58e-01\n",
      "[Epoch    3/ 100] [Batch    5/   9] Loss:  1.50e-01\n",
      "[Epoch    3/ 100] [Batch    6/   9] Loss:  1.26e-01\n",
      "[Epoch    3/ 100] [Batch    7/   9] Loss:  1.18e-01\n",
      "[Epoch    3/ 100] [Batch    8/   9] Loss:  8.33e-02\n",
      "[Epoch    3/ 100] [Batch    9/   9] Loss:  4.59e-02\n",
      "[Epoch    4/ 100] [Batch    1/   9] Loss:  3.73e-02\n",
      "[Epoch    4/ 100] [Batch    2/   9] Loss:  2.62e-02\n",
      "[Epoch    4/ 100] [Batch    3/   9] Loss:  1.59e-02\n",
      "[Epoch    4/ 100] [Batch    4/   9] Loss:  9.40e-03\n",
      "[Epoch    4/ 100] [Batch    5/   9] Loss:  6.52e-03\n",
      "[Epoch    4/ 100] [Batch    6/   9] Loss:  6.98e-03\n",
      "[Epoch    4/ 100] [Batch    7/   9] Loss:  1.11e-02\n",
      "[Epoch    4/ 100] [Batch    8/   9] Loss:  1.69e-02\n",
      "[Epoch    4/ 100] [Batch    9/   9] Loss:  2.47e-02\n",
      "[Epoch    5/ 100] [Batch    1/   9] Loss:  2.65e-02\n",
      "[Epoch    5/ 100] [Batch    2/   9] Loss:  2.71e-02\n",
      "[Epoch    5/ 100] [Batch    3/   9] Loss:  3.22e-02\n",
      "[Epoch    5/ 100] [Batch    4/   9] Loss:  3.03e-02\n",
      "[Epoch    5/ 100] [Batch    5/   9] Loss:  2.63e-02\n",
      "[Epoch    5/ 100] [Batch    6/   9] Loss:  2.26e-02\n",
      "[Epoch    5/ 100] [Batch    7/   9] Loss:  2.28e-02\n",
      "[Epoch    5/ 100] [Batch    8/   9] Loss:  1.83e-02\n",
      "[Epoch    5/ 100] [Batch    9/   9] Loss:  9.92e-03\n",
      "[Epoch    6/ 100] [Batch    1/   9] Loss:  1.10e-02\n",
      "[Epoch    6/ 100] [Batch    2/   9] Loss:  8.98e-03\n",
      "[Epoch    6/ 100] [Batch    3/   9] Loss:  6.16e-03\n",
      "[Epoch    6/ 100] [Batch    4/   9] Loss:  3.55e-03\n",
      "[Epoch    6/ 100] [Batch    5/   9] Loss:  4.18e-03\n",
      "[Epoch    6/ 100] [Batch    6/   9] Loss:  3.67e-03\n",
      "[Epoch    6/ 100] [Batch    7/   9] Loss:  5.02e-03\n",
      "[Epoch    6/ 100] [Batch    8/   9] Loss:  5.63e-03\n",
      "[Epoch    6/ 100] [Batch    9/   9] Loss:  7.92e-03\n",
      "[Epoch    7/ 100] [Batch    1/   9] Loss:  5.56e-03\n",
      "[Epoch    7/ 100] [Batch    2/   9] Loss:  7.07e-03\n",
      "[Epoch    7/ 100] [Batch    3/   9] Loss:  7.07e-03\n",
      "[Epoch    7/ 100] [Batch    4/   9] Loss:  7.28e-03\n",
      "[Epoch    7/ 100] [Batch    5/   9] Loss:  6.75e-03\n",
      "[Epoch    7/ 100] [Batch    6/   9] Loss:  5.65e-03\n",
      "[Epoch    7/ 100] [Batch    7/   9] Loss:  4.06e-03\n",
      "[Epoch    7/ 100] [Batch    8/   9] Loss:  3.97e-03\n",
      "[Epoch    7/ 100] [Batch    9/   9] Loss:  4.30e-03\n",
      "[Epoch    8/ 100] [Batch    1/   9] Loss:  2.66e-03\n",
      "[Epoch    8/ 100] [Batch    2/   9] Loss:  2.56e-03\n",
      "[Epoch    8/ 100] [Batch    3/   9] Loss:  2.44e-03\n",
      "[Epoch    8/ 100] [Batch    4/   9] Loss:  2.98e-03\n",
      "[Epoch    8/ 100] [Batch    5/   9] Loss:  2.64e-03\n",
      "[Epoch    8/ 100] [Batch    6/   9] Loss:  2.41e-03\n",
      "[Epoch    8/ 100] [Batch    7/   9] Loss:  2.83e-03\n",
      "[Epoch    8/ 100] [Batch    8/   9] Loss:  2.79e-03\n",
      "[Epoch    8/ 100] [Batch    9/   9] Loss:  3.04e-03\n",
      "[Epoch    9/ 100] [Batch    1/   9] Loss:  2.83e-03\n",
      "[Epoch    9/ 100] [Batch    2/   9] Loss:  2.98e-03\n",
      "[Epoch    9/ 100] [Batch    3/   9] Loss:  2.41e-03\n",
      "[Epoch    9/ 100] [Batch    4/   9] Loss:  2.59e-03\n",
      "[Epoch    9/ 100] [Batch    5/   9] Loss:  2.55e-03\n",
      "[Epoch    9/ 100] [Batch    6/   9] Loss:  2.23e-03\n",
      "[Epoch    9/ 100] [Batch    7/   9] Loss:  2.29e-03\n",
      "[Epoch    9/ 100] [Batch    8/   9] Loss:  2.16e-03\n",
      "[Epoch    9/ 100] [Batch    9/   9] Loss:  1.66e-03\n",
      "[Epoch   10/ 100] [Batch    1/   9] Loss:  1.84e-03\n",
      "[Epoch   10/ 100] [Batch    2/   9] Loss:  2.29e-03\n",
      "[Epoch   10/ 100] [Batch    3/   9] Loss:  2.05e-03\n",
      "[Epoch   10/ 100] [Batch    4/   9] Loss:  1.72e-03\n",
      "[Epoch   10/ 100] [Batch    5/   9] Loss:  1.93e-03\n",
      "[Epoch   10/ 100] [Batch    6/   9] Loss:  2.31e-03\n",
      "[Epoch   10/ 100] [Batch    7/   9] Loss:  2.26e-03\n",
      "[Epoch   10/ 100] [Batch    8/   9] Loss:  1.47e-03\n",
      "[Epoch   10/ 100] [Batch    9/   9] Loss:  1.65e-03\n",
      "[Epoch   11/ 100] [Batch    1/   9] Loss:  1.90e-03\n",
      "[Epoch   11/ 100] [Batch    2/   9] Loss:  1.89e-03\n",
      "[Epoch   11/ 100] [Batch    3/   9] Loss:  1.73e-03\n",
      "[Epoch   11/ 100] [Batch    4/   9] Loss:  1.40e-03\n",
      "[Epoch   11/ 100] [Batch    5/   9] Loss:  1.63e-03\n",
      "[Epoch   11/ 100] [Batch    6/   9] Loss:  2.00e-03\n",
      "[Epoch   11/ 100] [Batch    7/   9] Loss:  1.75e-03\n",
      "[Epoch   11/ 100] [Batch    8/   9] Loss:  1.64e-03\n",
      "[Epoch   11/ 100] [Batch    9/   9] Loss:  1.98e-03\n",
      "[Epoch   12/ 100] [Batch    1/   9] Loss:  1.76e-03\n",
      "[Epoch   12/ 100] [Batch    2/   9] Loss:  2.07e-03\n",
      "[Epoch   12/ 100] [Batch    3/   9] Loss:  1.82e-03\n",
      "[Epoch   12/ 100] [Batch    4/   9] Loss:  1.73e-03\n",
      "[Epoch   12/ 100] [Batch    5/   9] Loss:  1.65e-03\n",
      "[Epoch   12/ 100] [Batch    6/   9] Loss:  1.68e-03\n",
      "[Epoch   12/ 100] [Batch    7/   9] Loss:  1.65e-03\n",
      "[Epoch   12/ 100] [Batch    8/   9] Loss:  1.67e-03\n",
      "[Epoch   12/ 100] [Batch    9/   9] Loss:  1.31e-03\n",
      "[Epoch   13/ 100] [Batch    1/   9] Loss:  1.67e-03\n",
      "[Epoch   13/ 100] [Batch    2/   9] Loss:  1.71e-03\n",
      "[Epoch   13/ 100] [Batch    3/   9] Loss:  1.43e-03\n",
      "[Epoch   13/ 100] [Batch    4/   9] Loss:  1.69e-03\n",
      "[Epoch   13/ 100] [Batch    5/   9] Loss:  1.67e-03\n",
      "[Epoch   13/ 100] [Batch    6/   9] Loss:  1.90e-03\n",
      "[Epoch   13/ 100] [Batch    7/   9] Loss:  1.64e-03\n",
      "[Epoch   13/ 100] [Batch    8/   9] Loss:  1.81e-03\n",
      "[Epoch   13/ 100] [Batch    9/   9] Loss:  1.66e-03\n",
      "[Epoch   14/ 100] [Batch    1/   9] Loss:  1.70e-03\n",
      "[Epoch   14/ 100] [Batch    2/   9] Loss:  1.46e-03\n",
      "[Epoch   14/ 100] [Batch    3/   9] Loss:  1.64e-03\n",
      "[Epoch   14/ 100] [Batch    4/   9] Loss:  1.65e-03\n",
      "[Epoch   14/ 100] [Batch    5/   9] Loss:  1.50e-03\n",
      "[Epoch   14/ 100] [Batch    6/   9] Loss:  1.79e-03\n",
      "[Epoch   14/ 100] [Batch    7/   9] Loss:  1.84e-03\n",
      "[Epoch   14/ 100] [Batch    8/   9] Loss:  1.82e-03\n",
      "[Epoch   14/ 100] [Batch    9/   9] Loss:  1.27e-03\n",
      "[Epoch   15/ 100] [Batch    1/   9] Loss:  1.32e-03\n",
      "[Epoch   15/ 100] [Batch    2/   9] Loss:  1.86e-03\n",
      "[Epoch   15/ 100] [Batch    3/   9] Loss:  2.11e-03\n",
      "[Epoch   15/ 100] [Batch    4/   9] Loss:  1.51e-03\n",
      "[Epoch   15/ 100] [Batch    5/   9] Loss:  1.48e-03\n",
      "[Epoch   15/ 100] [Batch    6/   9] Loss:  1.51e-03\n",
      "[Epoch   15/ 100] [Batch    7/   9] Loss:  1.95e-03\n",
      "[Epoch   15/ 100] [Batch    8/   9] Loss:  1.64e-03\n",
      "[Epoch   15/ 100] [Batch    9/   9] Loss:  1.83e-03\n",
      "[Epoch   16/ 100] [Batch    1/   9] Loss:  1.93e-03\n",
      "[Epoch   16/ 100] [Batch    2/   9] Loss:  1.86e-03\n",
      "[Epoch   16/ 100] [Batch    3/   9] Loss:  1.43e-03\n",
      "[Epoch   16/ 100] [Batch    4/   9] Loss:  1.37e-03\n",
      "[Epoch   16/ 100] [Batch    5/   9] Loss:  1.72e-03\n",
      "[Epoch   16/ 100] [Batch    6/   9] Loss:  1.49e-03\n",
      "[Epoch   16/ 100] [Batch    7/   9] Loss:  1.58e-03\n",
      "[Epoch   16/ 100] [Batch    8/   9] Loss:  1.77e-03\n",
      "[Epoch   16/ 100] [Batch    9/   9] Loss:  2.05e-03\n",
      "[Epoch   17/ 100] [Batch    1/   9] Loss:  1.70e-03\n",
      "[Epoch   17/ 100] [Batch    2/   9] Loss:  1.65e-03\n",
      "[Epoch   17/ 100] [Batch    3/   9] Loss:  1.54e-03\n",
      "[Epoch   17/ 100] [Batch    4/   9] Loss:  1.77e-03\n",
      "[Epoch   17/ 100] [Batch    5/   9] Loss:  1.51e-03\n",
      "[Epoch   17/ 100] [Batch    6/   9] Loss:  1.91e-03\n",
      "[Epoch   17/ 100] [Batch    7/   9] Loss:  1.80e-03\n",
      "[Epoch   17/ 100] [Batch    8/   9] Loss:  1.49e-03\n",
      "[Epoch   17/ 100] [Batch    9/   9] Loss:  1.44e-03\n",
      "[Epoch   18/ 100] [Batch    1/   9] Loss:  1.69e-03\n",
      "[Epoch   18/ 100] [Batch    2/   9] Loss:  1.57e-03\n",
      "[Epoch   18/ 100] [Batch    3/   9] Loss:  1.69e-03\n",
      "[Epoch   18/ 100] [Batch    4/   9] Loss:  1.78e-03\n",
      "[Epoch   18/ 100] [Batch    5/   9] Loss:  1.72e-03\n",
      "[Epoch   18/ 100] [Batch    6/   9] Loss:  1.66e-03\n",
      "[Epoch   18/ 100] [Batch    7/   9] Loss:  1.52e-03\n",
      "[Epoch   18/ 100] [Batch    8/   9] Loss:  1.51e-03\n",
      "[Epoch   18/ 100] [Batch    9/   9] Loss:  2.22e-03\n",
      "[Epoch   19/ 100] [Batch    1/   9] Loss:  1.71e-03\n",
      "[Epoch   19/ 100] [Batch    2/   9] Loss:  1.55e-03\n",
      "[Epoch   19/ 100] [Batch    3/   9] Loss:  1.77e-03\n",
      "[Epoch   19/ 100] [Batch    4/   9] Loss:  1.49e-03\n",
      "[Epoch   19/ 100] [Batch    5/   9] Loss:  1.49e-03\n",
      "[Epoch   19/ 100] [Batch    6/   9] Loss:  1.68e-03\n",
      "[Epoch   19/ 100] [Batch    7/   9] Loss:  1.63e-03\n",
      "[Epoch   19/ 100] [Batch    8/   9] Loss:  1.82e-03\n",
      "[Epoch   19/ 100] [Batch    9/   9] Loss:  2.13e-03\n",
      "[Epoch   20/ 100] [Batch    1/   9] Loss:  1.42e-03\n",
      "[Epoch   20/ 100] [Batch    2/   9] Loss:  1.60e-03\n",
      "[Epoch   20/ 100] [Batch    3/   9] Loss:  2.00e-03\n",
      "[Epoch   20/ 100] [Batch    4/   9] Loss:  1.69e-03\n",
      "[Epoch   20/ 100] [Batch    5/   9] Loss:  1.59e-03\n",
      "[Epoch   20/ 100] [Batch    6/   9] Loss:  1.49e-03\n",
      "[Epoch   20/ 100] [Batch    7/   9] Loss:  1.72e-03\n",
      "[Epoch   20/ 100] [Batch    8/   9] Loss:  1.52e-03\n",
      "[Epoch   20/ 100] [Batch    9/   9] Loss:  2.44e-03\n",
      "[Epoch   21/ 100] [Batch    1/   9] Loss:  1.32e-03\n",
      "[Epoch   21/ 100] [Batch    2/   9] Loss:  1.65e-03\n",
      "[Epoch   21/ 100] [Batch    3/   9] Loss:  1.65e-03\n",
      "[Epoch   21/ 100] [Batch    4/   9] Loss:  1.80e-03\n",
      "[Epoch   21/ 100] [Batch    5/   9] Loss:  1.51e-03\n",
      "[Epoch   21/ 100] [Batch    6/   9] Loss:  1.92e-03\n",
      "[Epoch   21/ 100] [Batch    7/   9] Loss:  1.61e-03\n",
      "[Epoch   21/ 100] [Batch    8/   9] Loss:  1.81e-03\n",
      "[Epoch   21/ 100] [Batch    9/   9] Loss:  1.64e-03\n",
      "[Epoch   22/ 100] [Batch    1/   9] Loss:  1.82e-03\n",
      "[Epoch   22/ 100] [Batch    2/   9] Loss:  1.68e-03\n",
      "[Epoch   22/ 100] [Batch    3/   9] Loss:  1.44e-03\n",
      "[Epoch   22/ 100] [Batch    4/   9] Loss:  1.55e-03\n",
      "[Epoch   22/ 100] [Batch    5/   9] Loss:  1.67e-03\n",
      "[Epoch   22/ 100] [Batch    6/   9] Loss:  1.35e-03\n",
      "[Epoch   22/ 100] [Batch    7/   9] Loss:  1.94e-03\n",
      "[Epoch   22/ 100] [Batch    8/   9] Loss:  1.99e-03\n",
      "[Epoch   22/ 100] [Batch    9/   9] Loss:  1.14e-03\n",
      "[Epoch   23/ 100] [Batch    1/   9] Loss:  1.41e-03\n",
      "[Epoch   23/ 100] [Batch    2/   9] Loss:  1.92e-03\n",
      "[Epoch   23/ 100] [Batch    3/   9] Loss:  1.44e-03\n",
      "[Epoch   23/ 100] [Batch    4/   9] Loss:  1.69e-03\n",
      "[Epoch   23/ 100] [Batch    5/   9] Loss:  1.93e-03\n",
      "[Epoch   23/ 100] [Batch    6/   9] Loss:  1.39e-03\n",
      "[Epoch   23/ 100] [Batch    7/   9] Loss:  1.77e-03\n",
      "[Epoch   23/ 100] [Batch    8/   9] Loss:  1.79e-03\n",
      "[Epoch   23/ 100] [Batch    9/   9] Loss:  1.55e-03\n",
      "[Epoch   24/ 100] [Batch    1/   9] Loss:  1.87e-03\n",
      "[Epoch   24/ 100] [Batch    2/   9] Loss:  1.60e-03\n",
      "[Epoch   24/ 100] [Batch    3/   9] Loss:  1.70e-03\n",
      "[Epoch   24/ 100] [Batch    4/   9] Loss:  1.88e-03\n",
      "[Epoch   24/ 100] [Batch    5/   9] Loss:  1.61e-03\n",
      "[Epoch   24/ 100] [Batch    6/   9] Loss:  1.26e-03\n",
      "[Epoch   24/ 100] [Batch    7/   9] Loss:  1.69e-03\n",
      "[Epoch   24/ 100] [Batch    8/   9] Loss:  1.57e-03\n",
      "[Epoch   24/ 100] [Batch    9/   9] Loss:  1.84e-03\n",
      "[Epoch   25/ 100] [Batch    1/   9] Loss:  1.54e-03\n",
      "[Epoch   25/ 100] [Batch    2/   9] Loss:  1.59e-03\n",
      "[Epoch   25/ 100] [Batch    3/   9] Loss:  1.46e-03\n",
      "[Epoch   25/ 100] [Batch    4/   9] Loss:  1.55e-03\n",
      "[Epoch   25/ 100] [Batch    5/   9] Loss:  1.76e-03\n",
      "[Epoch   25/ 100] [Batch    6/   9] Loss:  1.73e-03\n",
      "[Epoch   25/ 100] [Batch    7/   9] Loss:  1.78e-03\n",
      "[Epoch   25/ 100] [Batch    8/   9] Loss:  1.93e-03\n",
      "[Epoch   25/ 100] [Batch    9/   9] Loss:  1.45e-03\n",
      "[Epoch   26/ 100] [Batch    1/   9] Loss:  1.61e-03\n",
      "[Epoch   26/ 100] [Batch    2/   9] Loss:  1.69e-03\n",
      "[Epoch   26/ 100] [Batch    3/   9] Loss:  1.73e-03\n",
      "[Epoch   26/ 100] [Batch    4/   9] Loss:  1.64e-03\n",
      "[Epoch   26/ 100] [Batch    5/   9] Loss:  1.75e-03\n",
      "[Epoch   26/ 100] [Batch    6/   9] Loss:  1.80e-03\n",
      "[Epoch   26/ 100] [Batch    7/   9] Loss:  1.19e-03\n",
      "[Epoch   26/ 100] [Batch    8/   9] Loss:  2.10e-03\n",
      "[Epoch   26/ 100] [Batch    9/   9] Loss:  1.08e-03\n",
      "[Epoch   27/ 100] [Batch    1/   9] Loss:  1.51e-03\n",
      "[Epoch   27/ 100] [Batch    2/   9] Loss:  1.61e-03\n",
      "[Epoch   27/ 100] [Batch    3/   9] Loss:  1.93e-03\n",
      "[Epoch   27/ 100] [Batch    4/   9] Loss:  1.72e-03\n",
      "[Epoch   27/ 100] [Batch    5/   9] Loss:  1.42e-03\n",
      "[Epoch   27/ 100] [Batch    6/   9] Loss:  1.54e-03\n",
      "[Epoch   27/ 100] [Batch    7/   9] Loss:  1.73e-03\n",
      "[Epoch   27/ 100] [Batch    8/   9] Loss:  1.93e-03\n",
      "[Epoch   27/ 100] [Batch    9/   9] Loss:  1.61e-03\n",
      "[Epoch   28/ 100] [Batch    1/   9] Loss:  1.58e-03\n",
      "[Epoch   28/ 100] [Batch    2/   9] Loss:  1.30e-03\n",
      "[Epoch   28/ 100] [Batch    3/   9] Loss:  2.15e-03\n",
      "[Epoch   28/ 100] [Batch    4/   9] Loss:  1.47e-03\n",
      "[Epoch   28/ 100] [Batch    5/   9] Loss:  1.96e-03\n",
      "[Epoch   28/ 100] [Batch    6/   9] Loss:  1.62e-03\n",
      "[Epoch   28/ 100] [Batch    7/   9] Loss:  1.84e-03\n",
      "[Epoch   28/ 100] [Batch    8/   9] Loss:  1.60e-03\n",
      "[Epoch   28/ 100] [Batch    9/   9] Loss:  1.58e-03\n",
      "[Epoch   29/ 100] [Batch    1/   9] Loss:  1.51e-03\n",
      "[Epoch   29/ 100] [Batch    2/   9] Loss:  1.69e-03\n",
      "[Epoch   29/ 100] [Batch    3/   9] Loss:  1.62e-03\n",
      "[Epoch   29/ 100] [Batch    4/   9] Loss:  1.80e-03\n",
      "[Epoch   29/ 100] [Batch    5/   9] Loss:  1.37e-03\n",
      "[Epoch   29/ 100] [Batch    6/   9] Loss:  1.49e-03\n",
      "[Epoch   29/ 100] [Batch    7/   9] Loss:  1.85e-03\n",
      "[Epoch   29/ 100] [Batch    8/   9] Loss:  1.89e-03\n",
      "[Epoch   29/ 100] [Batch    9/   9] Loss:  1.90e-03\n",
      "[Epoch   30/ 100] [Batch    1/   9] Loss:  1.42e-03\n",
      "[Epoch   30/ 100] [Batch    2/   9] Loss:  1.51e-03\n",
      "[Epoch   30/ 100] [Batch    3/   9] Loss:  1.86e-03\n",
      "[Epoch   30/ 100] [Batch    4/   9] Loss:  1.92e-03\n",
      "[Epoch   30/ 100] [Batch    5/   9] Loss:  1.71e-03\n",
      "[Epoch   30/ 100] [Batch    6/   9] Loss:  1.76e-03\n",
      "[Epoch   30/ 100] [Batch    7/   9] Loss:  1.60e-03\n",
      "[Epoch   30/ 100] [Batch    8/   9] Loss:  1.69e-03\n",
      "[Epoch   30/ 100] [Batch    9/   9] Loss:  1.33e-03\n",
      "[Epoch   31/ 100] [Batch    1/   9] Loss:  1.21e-03\n",
      "[Epoch   31/ 100] [Batch    2/   9] Loss:  1.66e-03\n",
      "[Epoch   31/ 100] [Batch    3/   9] Loss:  1.70e-03\n",
      "[Epoch   31/ 100] [Batch    4/   9] Loss:  1.55e-03\n",
      "[Epoch   31/ 100] [Batch    5/   9] Loss:  1.97e-03\n",
      "[Epoch   31/ 100] [Batch    6/   9] Loss:  2.09e-03\n",
      "[Epoch   31/ 100] [Batch    7/   9] Loss:  1.86e-03\n",
      "[Epoch   31/ 100] [Batch    8/   9] Loss:  1.51e-03\n",
      "[Epoch   31/ 100] [Batch    9/   9] Loss:  1.20e-03\n",
      "[Epoch   32/ 100] [Batch    1/   9] Loss:  1.81e-03\n"
     ]
    },
    {
     "name": "stdout",
     "output_type": "stream",
     "text": [
      "[Epoch   32/ 100] [Batch    2/   9] Loss:  1.57e-03\n",
      "[Epoch   32/ 100] [Batch    3/   9] Loss:  1.48e-03\n",
      "[Epoch   32/ 100] [Batch    4/   9] Loss:  1.93e-03\n",
      "[Epoch   32/ 100] [Batch    5/   9] Loss:  1.42e-03\n",
      "[Epoch   32/ 100] [Batch    6/   9] Loss:  1.59e-03\n",
      "[Epoch   32/ 100] [Batch    7/   9] Loss:  1.68e-03\n",
      "[Epoch   32/ 100] [Batch    8/   9] Loss:  1.84e-03\n",
      "[Epoch   32/ 100] [Batch    9/   9] Loss:  1.80e-03\n",
      "[Epoch   33/ 100] [Batch    1/   9] Loss:  1.96e-03\n",
      "[Epoch   33/ 100] [Batch    2/   9] Loss:  1.25e-03\n",
      "[Epoch   33/ 100] [Batch    3/   9] Loss:  1.51e-03\n",
      "[Epoch   33/ 100] [Batch    4/   9] Loss:  1.89e-03\n",
      "[Epoch   33/ 100] [Batch    5/   9] Loss:  1.40e-03\n",
      "[Epoch   33/ 100] [Batch    6/   9] Loss:  1.73e-03\n",
      "[Epoch   33/ 100] [Batch    7/   9] Loss:  1.56e-03\n",
      "[Epoch   33/ 100] [Batch    8/   9] Loss:  1.70e-03\n",
      "[Epoch   33/ 100] [Batch    9/   9] Loss:  2.64e-03\n",
      "[Epoch   34/ 100] [Batch    1/   9] Loss:  1.67e-03\n",
      "[Epoch   34/ 100] [Batch    2/   9] Loss:  1.37e-03\n",
      "[Epoch   34/ 100] [Batch    3/   9] Loss:  1.73e-03\n",
      "[Epoch   34/ 100] [Batch    4/   9] Loss:  1.99e-03\n",
      "[Epoch   34/ 100] [Batch    5/   9] Loss:  1.68e-03\n",
      "[Epoch   34/ 100] [Batch    6/   9] Loss:  1.95e-03\n",
      "[Epoch   34/ 100] [Batch    7/   9] Loss:  1.69e-03\n",
      "[Epoch   34/ 100] [Batch    8/   9] Loss:  1.51e-03\n",
      "[Epoch   34/ 100] [Batch    9/   9] Loss:  1.05e-03\n",
      "[Epoch   35/ 100] [Batch    1/   9] Loss:  2.25e-03\n",
      "[Epoch   35/ 100] [Batch    2/   9] Loss:  1.54e-03\n",
      "[Epoch   35/ 100] [Batch    3/   9] Loss:  1.72e-03\n",
      "[Epoch   35/ 100] [Batch    4/   9] Loss:  1.58e-03\n",
      "[Epoch   35/ 100] [Batch    5/   9] Loss:  1.57e-03\n",
      "[Epoch   35/ 100] [Batch    6/   9] Loss:  1.55e-03\n",
      "[Epoch   35/ 100] [Batch    7/   9] Loss:  1.54e-03\n",
      "[Epoch   35/ 100] [Batch    8/   9] Loss:  1.54e-03\n",
      "[Epoch   35/ 100] [Batch    9/   9] Loss:  1.70e-03\n",
      "[Epoch   36/ 100] [Batch    1/   9] Loss:  1.74e-03\n",
      "[Epoch   36/ 100] [Batch    2/   9] Loss:  1.34e-03\n",
      "[Epoch   36/ 100] [Batch    3/   9] Loss:  1.64e-03\n",
      "[Epoch   36/ 100] [Batch    4/   9] Loss:  2.01e-03\n",
      "[Epoch   36/ 100] [Batch    5/   9] Loss:  1.57e-03\n",
      "[Epoch   36/ 100] [Batch    6/   9] Loss:  1.60e-03\n",
      "[Epoch   36/ 100] [Batch    7/   9] Loss:  1.77e-03\n",
      "[Epoch   36/ 100] [Batch    8/   9] Loss:  1.56e-03\n",
      "[Epoch   36/ 100] [Batch    9/   9] Loss:  1.83e-03\n",
      "[Epoch   37/ 100] [Batch    1/   9] Loss:  1.90e-03\n",
      "[Epoch   37/ 100] [Batch    2/   9] Loss:  1.62e-03\n",
      "[Epoch   37/ 100] [Batch    3/   9] Loss:  1.75e-03\n",
      "[Epoch   37/ 100] [Batch    4/   9] Loss:  1.46e-03\n",
      "[Epoch   37/ 100] [Batch    5/   9] Loss:  1.71e-03\n",
      "[Epoch   37/ 100] [Batch    6/   9] Loss:  1.22e-03\n",
      "[Epoch   37/ 100] [Batch    7/   9] Loss:  1.85e-03\n",
      "[Epoch   37/ 100] [Batch    8/   9] Loss:  1.88e-03\n",
      "[Epoch   37/ 100] [Batch    9/   9] Loss:  1.31e-03\n",
      "[Epoch   38/ 100] [Batch    1/   9] Loss:  1.65e-03\n",
      "[Epoch   38/ 100] [Batch    2/   9] Loss:  1.55e-03\n",
      "[Epoch   38/ 100] [Batch    3/   9] Loss:  1.53e-03\n",
      "[Epoch   38/ 100] [Batch    4/   9] Loss:  1.88e-03\n",
      "[Epoch   38/ 100] [Batch    5/   9] Loss:  1.47e-03\n",
      "[Epoch   38/ 100] [Batch    6/   9] Loss:  1.53e-03\n",
      "[Epoch   38/ 100] [Batch    7/   9] Loss:  2.05e-03\n",
      "[Epoch   38/ 100] [Batch    8/   9] Loss:  1.82e-03\n",
      "[Epoch   38/ 100] [Batch    9/   9] Loss:  1.07e-03\n",
      "[Epoch   39/ 100] [Batch    1/   9] Loss:  1.62e-03\n",
      "[Epoch   39/ 100] [Batch    2/   9] Loss:  1.29e-03\n",
      "[Epoch   39/ 100] [Batch    3/   9] Loss:  1.63e-03\n",
      "[Epoch   39/ 100] [Batch    4/   9] Loss:  1.70e-03\n",
      "[Epoch   39/ 100] [Batch    5/   9] Loss:  1.97e-03\n",
      "[Epoch   39/ 100] [Batch    6/   9] Loss:  1.85e-03\n",
      "[Epoch   39/ 100] [Batch    7/   9] Loss:  1.39e-03\n",
      "[Epoch   39/ 100] [Batch    8/   9] Loss:  1.94e-03\n",
      "[Epoch   39/ 100] [Batch    9/   9] Loss:  1.26e-03\n",
      "[Epoch   40/ 100] [Batch    1/   9] Loss:  1.59e-03\n",
      "[Epoch   40/ 100] [Batch    2/   9] Loss:  1.40e-03\n",
      "[Epoch   40/ 100] [Batch    3/   9] Loss:  1.56e-03\n",
      "[Epoch   40/ 100] [Batch    4/   9] Loss:  1.60e-03\n",
      "[Epoch   40/ 100] [Batch    5/   9] Loss:  1.82e-03\n",
      "[Epoch   40/ 100] [Batch    6/   9] Loss:  1.98e-03\n",
      "[Epoch   40/ 100] [Batch    7/   9] Loss:  1.57e-03\n",
      "[Epoch   40/ 100] [Batch    8/   9] Loss:  1.33e-03\n",
      "[Epoch   40/ 100] [Batch    9/   9] Loss:  2.96e-03\n",
      "[Epoch   41/ 100] [Batch    1/   9] Loss:  1.62e-03\n",
      "[Epoch   41/ 100] [Batch    2/   9] Loss:  1.56e-03\n",
      "[Epoch   41/ 100] [Batch    3/   9] Loss:  1.83e-03\n",
      "[Epoch   41/ 100] [Batch    4/   9] Loss:  1.80e-03\n",
      "[Epoch   41/ 100] [Batch    5/   9] Loss:  1.60e-03\n",
      "[Epoch   41/ 100] [Batch    6/   9] Loss:  1.67e-03\n",
      "[Epoch   41/ 100] [Batch    7/   9] Loss:  1.61e-03\n",
      "[Epoch   41/ 100] [Batch    8/   9] Loss:  1.79e-03\n",
      "[Epoch   41/ 100] [Batch    9/   9] Loss:  1.14e-03\n",
      "[Epoch   42/ 100] [Batch    1/   9] Loss:  1.53e-03\n",
      "[Epoch   42/ 100] [Batch    2/   9] Loss:  1.67e-03\n",
      "[Epoch   42/ 100] [Batch    3/   9] Loss:  1.54e-03\n",
      "[Epoch   42/ 100] [Batch    4/   9] Loss:  1.69e-03\n",
      "[Epoch   42/ 100] [Batch    5/   9] Loss:  1.77e-03\n",
      "[Epoch   42/ 100] [Batch    6/   9] Loss:  1.80e-03\n",
      "[Epoch   42/ 100] [Batch    7/   9] Loss:  1.80e-03\n",
      "[Epoch   42/ 100] [Batch    8/   9] Loss:  1.54e-03\n",
      "[Epoch   42/ 100] [Batch    9/   9] Loss:  1.43e-03\n",
      "[Epoch   43/ 100] [Batch    1/   9] Loss:  1.43e-03\n",
      "[Epoch   43/ 100] [Batch    2/   9] Loss:  1.94e-03\n",
      "[Epoch   43/ 100] [Batch    3/   9] Loss:  1.85e-03\n",
      "[Epoch   43/ 100] [Batch    4/   9] Loss:  2.04e-03\n",
      "[Epoch   43/ 100] [Batch    5/   9] Loss:  1.47e-03\n",
      "[Epoch   43/ 100] [Batch    6/   9] Loss:  1.51e-03\n",
      "[Epoch   43/ 100] [Batch    7/   9] Loss:  1.25e-03\n",
      "[Epoch   43/ 100] [Batch    8/   9] Loss:  1.88e-03\n",
      "[Epoch   43/ 100] [Batch    9/   9] Loss:  1.47e-03\n",
      "[Epoch   44/ 100] [Batch    1/   9] Loss:  1.65e-03\n",
      "[Epoch   44/ 100] [Batch    2/   9] Loss:  1.74e-03\n",
      "[Epoch   44/ 100] [Batch    3/   9] Loss:  1.50e-03\n",
      "[Epoch   44/ 100] [Batch    4/   9] Loss:  1.69e-03\n",
      "[Epoch   44/ 100] [Batch    5/   9] Loss:  1.53e-03\n",
      "[Epoch   44/ 100] [Batch    6/   9] Loss:  1.79e-03\n",
      "[Epoch   44/ 100] [Batch    7/   9] Loss:  1.70e-03\n",
      "[Epoch   44/ 100] [Batch    8/   9] Loss:  1.64e-03\n",
      "[Epoch   44/ 100] [Batch    9/   9] Loss:  1.73e-03\n",
      "[Epoch   45/ 100] [Batch    1/   9] Loss:  2.04e-03\n",
      "[Epoch   45/ 100] [Batch    2/   9] Loss:  1.45e-03\n",
      "[Epoch   45/ 100] [Batch    3/   9] Loss:  1.67e-03\n",
      "[Epoch   45/ 100] [Batch    4/   9] Loss:  1.26e-03\n",
      "[Epoch   45/ 100] [Batch    5/   9] Loss:  1.81e-03\n",
      "[Epoch   45/ 100] [Batch    6/   9] Loss:  1.54e-03\n",
      "[Epoch   45/ 100] [Batch    7/   9] Loss:  1.80e-03\n",
      "[Epoch   45/ 100] [Batch    8/   9] Loss:  1.63e-03\n",
      "[Epoch   45/ 100] [Batch    9/   9] Loss:  1.90e-03\n",
      "[Epoch   46/ 100] [Batch    1/   9] Loss:  1.64e-03\n",
      "[Epoch   46/ 100] [Batch    2/   9] Loss:  1.76e-03\n",
      "[Epoch   46/ 100] [Batch    3/   9] Loss:  1.70e-03\n",
      "[Epoch   46/ 100] [Batch    4/   9] Loss:  1.51e-03\n",
      "[Epoch   46/ 100] [Batch    5/   9] Loss:  1.72e-03\n",
      "[Epoch   46/ 100] [Batch    6/   9] Loss:  1.48e-03\n",
      "[Epoch   46/ 100] [Batch    7/   9] Loss:  1.66e-03\n",
      "[Epoch   46/ 100] [Batch    8/   9] Loss:  1.84e-03\n",
      "[Epoch   46/ 100] [Batch    9/   9] Loss:  1.62e-03\n",
      "[Epoch   47/ 100] [Batch    1/   9] Loss:  1.98e-03\n",
      "[Epoch   47/ 100] [Batch    2/   9] Loss:  1.54e-03\n",
      "[Epoch   47/ 100] [Batch    3/   9] Loss:  1.53e-03\n",
      "[Epoch   47/ 100] [Batch    4/   9] Loss:  1.42e-03\n",
      "[Epoch   47/ 100] [Batch    5/   9] Loss:  2.22e-03\n",
      "[Epoch   47/ 100] [Batch    6/   9] Loss:  1.43e-03\n",
      "[Epoch   47/ 100] [Batch    7/   9] Loss:  1.57e-03\n",
      "[Epoch   47/ 100] [Batch    8/   9] Loss:  1.76e-03\n",
      "[Epoch   47/ 100] [Batch    9/   9] Loss:  1.55e-03\n",
      "[Epoch   48/ 100] [Batch    1/   9] Loss:  1.26e-03\n",
      "[Epoch   48/ 100] [Batch    2/   9] Loss:  1.61e-03\n",
      "[Epoch   48/ 100] [Batch    3/   9] Loss:  1.67e-03\n",
      "[Epoch   48/ 100] [Batch    4/   9] Loss:  2.07e-03\n",
      "[Epoch   48/ 100] [Batch    5/   9] Loss:  1.67e-03\n",
      "[Epoch   48/ 100] [Batch    6/   9] Loss:  1.68e-03\n",
      "[Epoch   48/ 100] [Batch    7/   9] Loss:  1.82e-03\n",
      "[Epoch   48/ 100] [Batch    8/   9] Loss:  1.67e-03\n",
      "[Epoch   48/ 100] [Batch    9/   9] Loss:  1.22e-03\n",
      "[Epoch   49/ 100] [Batch    1/   9] Loss:  1.57e-03\n",
      "[Epoch   49/ 100] [Batch    2/   9] Loss:  1.53e-03\n",
      "[Epoch   49/ 100] [Batch    3/   9] Loss:  1.29e-03\n",
      "[Epoch   49/ 100] [Batch    4/   9] Loss:  1.87e-03\n",
      "[Epoch   49/ 100] [Batch    5/   9] Loss:  1.78e-03\n",
      "[Epoch   49/ 100] [Batch    6/   9] Loss:  2.03e-03\n",
      "[Epoch   49/ 100] [Batch    7/   9] Loss:  1.50e-03\n",
      "[Epoch   49/ 100] [Batch    8/   9] Loss:  1.74e-03\n",
      "[Epoch   49/ 100] [Batch    9/   9] Loss:  1.72e-03\n",
      "[Epoch   50/ 100] [Batch    1/   9] Loss:  1.96e-03\n",
      "[Epoch   50/ 100] [Batch    2/   9] Loss:  1.54e-03\n",
      "[Epoch   50/ 100] [Batch    3/   9] Loss:  1.39e-03\n",
      "[Epoch   50/ 100] [Batch    4/   9] Loss:  1.43e-03\n",
      "[Epoch   50/ 100] [Batch    5/   9] Loss:  1.51e-03\n",
      "[Epoch   50/ 100] [Batch    6/   9] Loss:  1.85e-03\n",
      "[Epoch   50/ 100] [Batch    7/   9] Loss:  1.68e-03\n",
      "[Epoch   50/ 100] [Batch    8/   9] Loss:  1.66e-03\n",
      "[Epoch   50/ 100] [Batch    9/   9] Loss:  2.44e-03\n",
      "[Epoch   51/ 100] [Batch    1/   9] Loss:  1.86e-03\n",
      "[Epoch   51/ 100] [Batch    2/   9] Loss:  1.78e-03\n",
      "[Epoch   51/ 100] [Batch    3/   9] Loss:  1.85e-03\n",
      "[Epoch   51/ 100] [Batch    4/   9] Loss:  1.44e-03\n",
      "[Epoch   51/ 100] [Batch    5/   9] Loss:  1.57e-03\n",
      "[Epoch   51/ 100] [Batch    6/   9] Loss:  1.38e-03\n",
      "[Epoch   51/ 100] [Batch    7/   9] Loss:  1.62e-03\n",
      "[Epoch   51/ 100] [Batch    8/   9] Loss:  1.53e-03\n",
      "[Epoch   51/ 100] [Batch    9/   9] Loss:  2.39e-03\n",
      "[Epoch   52/ 100] [Batch    1/   9] Loss:  1.49e-03\n",
      "[Epoch   52/ 100] [Batch    2/   9] Loss:  1.40e-03\n",
      "[Epoch   52/ 100] [Batch    3/   9] Loss:  2.06e-03\n",
      "[Epoch   52/ 100] [Batch    4/   9] Loss:  1.48e-03\n",
      "[Epoch   52/ 100] [Batch    5/   9] Loss:  1.69e-03\n",
      "[Epoch   52/ 100] [Batch    6/   9] Loss:  1.69e-03\n",
      "[Epoch   52/ 100] [Batch    7/   9] Loss:  1.83e-03\n",
      "[Epoch   52/ 100] [Batch    8/   9] Loss:  1.72e-03\n",
      "[Epoch   52/ 100] [Batch    9/   9] Loss:  1.62e-03\n",
      "[Epoch   53/ 100] [Batch    1/   9] Loss:  1.75e-03\n",
      "[Epoch   53/ 100] [Batch    2/   9] Loss:  1.86e-03\n",
      "[Epoch   53/ 100] [Batch    3/   9] Loss:  1.94e-03\n",
      "[Epoch   53/ 100] [Batch    4/   9] Loss:  1.63e-03\n",
      "[Epoch   53/ 100] [Batch    5/   9] Loss:  1.44e-03\n",
      "[Epoch   53/ 100] [Batch    6/   9] Loss:  1.91e-03\n",
      "[Epoch   53/ 100] [Batch    7/   9] Loss:  1.40e-03\n",
      "[Epoch   53/ 100] [Batch    8/   9] Loss:  1.47e-03\n",
      "[Epoch   53/ 100] [Batch    9/   9] Loss:  1.46e-03\n",
      "[Epoch   54/ 100] [Batch    1/   9] Loss:  1.42e-03\n",
      "[Epoch   54/ 100] [Batch    2/   9] Loss:  1.88e-03\n",
      "[Epoch   54/ 100] [Batch    3/   9] Loss:  1.68e-03\n",
      "[Epoch   54/ 100] [Batch    4/   9] Loss:  1.65e-03\n",
      "[Epoch   54/ 100] [Batch    5/   9] Loss:  1.93e-03\n",
      "[Epoch   54/ 100] [Batch    6/   9] Loss:  1.44e-03\n",
      "[Epoch   54/ 100] [Batch    7/   9] Loss:  1.52e-03\n",
      "[Epoch   54/ 100] [Batch    8/   9] Loss:  1.75e-03\n",
      "[Epoch   54/ 100] [Batch    9/   9] Loss:  1.75e-03\n",
      "[Epoch   55/ 100] [Batch    1/   9] Loss:  1.73e-03\n",
      "[Epoch   55/ 100] [Batch    2/   9] Loss:  1.79e-03\n",
      "[Epoch   55/ 100] [Batch    3/   9] Loss:  1.59e-03\n",
      "[Epoch   55/ 100] [Batch    4/   9] Loss:  1.58e-03\n",
      "[Epoch   55/ 100] [Batch    5/   9] Loss:  1.94e-03\n",
      "[Epoch   55/ 100] [Batch    6/   9] Loss:  1.52e-03\n",
      "[Epoch   55/ 100] [Batch    7/   9] Loss:  1.57e-03\n",
      "[Epoch   55/ 100] [Batch    8/   9] Loss:  1.64e-03\n",
      "[Epoch   55/ 100] [Batch    9/   9] Loss:  1.60e-03\n",
      "[Epoch   56/ 100] [Batch    1/   9] Loss:  2.04e-03\n",
      "[Epoch   56/ 100] [Batch    2/   9] Loss:  1.65e-03\n",
      "[Epoch   56/ 100] [Batch    3/   9] Loss:  1.36e-03\n",
      "[Epoch   56/ 100] [Batch    4/   9] Loss:  1.32e-03\n",
      "[Epoch   56/ 100] [Batch    5/   9] Loss:  1.71e-03\n",
      "[Epoch   56/ 100] [Batch    6/   9] Loss:  1.50e-03\n",
      "[Epoch   56/ 100] [Batch    7/   9] Loss:  1.68e-03\n",
      "[Epoch   56/ 100] [Batch    8/   9] Loss:  1.63e-03\n",
      "[Epoch   56/ 100] [Batch    9/   9] Loss:  2.90e-03\n",
      "[Epoch   57/ 100] [Batch    1/   9] Loss:  1.60e-03\n",
      "[Epoch   57/ 100] [Batch    2/   9] Loss:  1.55e-03\n",
      "[Epoch   57/ 100] [Batch    3/   9] Loss:  1.72e-03\n",
      "[Epoch   57/ 100] [Batch    4/   9] Loss:  1.51e-03\n",
      "[Epoch   57/ 100] [Batch    5/   9] Loss:  2.06e-03\n",
      "[Epoch   57/ 100] [Batch    6/   9] Loss:  1.83e-03\n",
      "[Epoch   57/ 100] [Batch    7/   9] Loss:  1.24e-03\n",
      "[Epoch   57/ 100] [Batch    8/   9] Loss:  1.75e-03\n",
      "[Epoch   57/ 100] [Batch    9/   9] Loss:  1.86e-03\n",
      "[Epoch   58/ 100] [Batch    1/   9] Loss:  1.40e-03\n",
      "[Epoch   58/ 100] [Batch    2/   9] Loss:  1.70e-03\n",
      "[Epoch   58/ 100] [Batch    3/   9] Loss:  1.70e-03\n",
      "[Epoch   58/ 100] [Batch    4/   9] Loss:  1.79e-03\n",
      "[Epoch   58/ 100] [Batch    5/   9] Loss:  1.70e-03\n",
      "[Epoch   58/ 100] [Batch    6/   9] Loss:  1.65e-03\n",
      "[Epoch   58/ 100] [Batch    7/   9] Loss:  1.44e-03\n",
      "[Epoch   58/ 100] [Batch    8/   9] Loss:  1.76e-03\n",
      "[Epoch   58/ 100] [Batch    9/   9] Loss:  2.08e-03\n",
      "[Epoch   59/ 100] [Batch    1/   9] Loss:  1.67e-03\n",
      "[Epoch   59/ 100] [Batch    2/   9] Loss:  1.85e-03\n",
      "[Epoch   59/ 100] [Batch    3/   9] Loss:  1.79e-03\n",
      "[Epoch   59/ 100] [Batch    4/   9] Loss:  1.78e-03\n",
      "[Epoch   59/ 100] [Batch    5/   9] Loss:  1.44e-03\n",
      "[Epoch   59/ 100] [Batch    6/   9] Loss:  1.19e-03\n",
      "[Epoch   59/ 100] [Batch    7/   9] Loss:  1.73e-03\n",
      "[Epoch   59/ 100] [Batch    8/   9] Loss:  1.70e-03\n",
      "[Epoch   59/ 100] [Batch    9/   9] Loss:  1.99e-03\n",
      "[Epoch   60/ 100] [Batch    1/   9] Loss:  1.56e-03\n",
      "[Epoch   60/ 100] [Batch    2/   9] Loss:  1.48e-03\n",
      "[Epoch   60/ 100] [Batch    3/   9] Loss:  1.54e-03\n",
      "[Epoch   60/ 100] [Batch    4/   9] Loss:  1.87e-03\n",
      "[Epoch   60/ 100] [Batch    5/   9] Loss:  1.50e-03\n",
      "[Epoch   60/ 100] [Batch    6/   9] Loss:  1.65e-03\n",
      "[Epoch   60/ 100] [Batch    7/   9] Loss:  1.83e-03\n",
      "[Epoch   60/ 100] [Batch    8/   9] Loss:  2.16e-03\n",
      "[Epoch   60/ 100] [Batch    9/   9] Loss:  8.76e-04\n",
      "[Epoch   61/ 100] [Batch    1/   9] Loss:  1.27e-03\n",
      "[Epoch   61/ 100] [Batch    2/   9] Loss:  1.86e-03\n",
      "[Epoch   61/ 100] [Batch    3/   9] Loss:  1.39e-03\n",
      "[Epoch   61/ 100] [Batch    4/   9] Loss:  1.78e-03\n",
      "[Epoch   61/ 100] [Batch    5/   9] Loss:  1.81e-03\n",
      "[Epoch   61/ 100] [Batch    6/   9] Loss:  1.75e-03\n",
      "[Epoch   61/ 100] [Batch    7/   9] Loss:  1.78e-03\n",
      "[Epoch   61/ 100] [Batch    8/   9] Loss:  1.65e-03\n",
      "[Epoch   61/ 100] [Batch    9/   9] Loss:  2.19e-03\n",
      "[Epoch   62/ 100] [Batch    1/   9] Loss:  1.62e-03\n",
      "[Epoch   62/ 100] [Batch    2/   9] Loss:  1.99e-03\n",
      "[Epoch   62/ 100] [Batch    3/   9] Loss:  1.44e-03\n",
      "[Epoch   62/ 100] [Batch    4/   9] Loss:  1.47e-03\n",
      "[Epoch   62/ 100] [Batch    5/   9] Loss:  1.80e-03\n",
      "[Epoch   62/ 100] [Batch    6/   9] Loss:  1.59e-03\n",
      "[Epoch   62/ 100] [Batch    7/   9] Loss:  1.72e-03\n",
      "[Epoch   62/ 100] [Batch    8/   9] Loss:  1.62e-03\n",
      "[Epoch   62/ 100] [Batch    9/   9] Loss:  2.02e-03\n",
      "[Epoch   63/ 100] [Batch    1/   9] Loss:  1.83e-03\n",
      "[Epoch   63/ 100] [Batch    2/   9] Loss:  1.74e-03\n",
      "[Epoch   63/ 100] [Batch    3/   9] Loss:  1.86e-03\n",
      "[Epoch   63/ 100] [Batch    4/   9] Loss:  1.22e-03\n",
      "[Epoch   63/ 100] [Batch    5/   9] Loss:  1.50e-03\n",
      "[Epoch   63/ 100] [Batch    6/   9] Loss:  1.40e-03\n",
      "[Epoch   63/ 100] [Batch    7/   9] Loss:  1.86e-03\n",
      "[Epoch   63/ 100] [Batch    8/   9] Loss:  1.86e-03\n",
      "[Epoch   63/ 100] [Batch    9/   9] Loss:  2.11e-03\n",
      "[Epoch   64/ 100] [Batch    1/   9] Loss:  1.23e-03\n",
      "[Epoch   64/ 100] [Batch    2/   9] Loss:  1.67e-03\n",
      "[Epoch   64/ 100] [Batch    3/   9] Loss:  1.49e-03\n",
      "[Epoch   64/ 100] [Batch    4/   9] Loss:  1.97e-03\n",
      "[Epoch   64/ 100] [Batch    5/   9] Loss:  1.92e-03\n",
      "[Epoch   64/ 100] [Batch    6/   9] Loss:  1.79e-03\n",
      "[Epoch   64/ 100] [Batch    7/   9] Loss:  1.91e-03\n",
      "[Epoch   64/ 100] [Batch    8/   9] Loss:  1.37e-03\n"
     ]
    },
    {
     "name": "stdout",
     "output_type": "stream",
     "text": [
      "[Epoch   64/ 100] [Batch    9/   9] Loss:  1.94e-03\n",
      "[Epoch   65/ 100] [Batch    1/   9] Loss:  2.02e-03\n",
      "[Epoch   65/ 100] [Batch    2/   9] Loss:  1.98e-03\n",
      "[Epoch   65/ 100] [Batch    3/   9] Loss:  1.82e-03\n",
      "[Epoch   65/ 100] [Batch    4/   9] Loss:  1.69e-03\n",
      "[Epoch   65/ 100] [Batch    5/   9] Loss:  1.39e-03\n",
      "[Epoch   65/ 100] [Batch    6/   9] Loss:  1.26e-03\n",
      "[Epoch   65/ 100] [Batch    7/   9] Loss:  1.46e-03\n",
      "[Epoch   65/ 100] [Batch    8/   9] Loss:  1.89e-03\n",
      "[Epoch   65/ 100] [Batch    9/   9] Loss:  1.19e-03\n",
      "[Epoch   66/ 100] [Batch    1/   9] Loss:  1.83e-03\n",
      "[Epoch   66/ 100] [Batch    2/   9] Loss:  1.63e-03\n",
      "[Epoch   66/ 100] [Batch    3/   9] Loss:  1.49e-03\n",
      "[Epoch   66/ 100] [Batch    4/   9] Loss:  1.57e-03\n",
      "[Epoch   66/ 100] [Batch    5/   9] Loss:  1.83e-03\n",
      "[Epoch   66/ 100] [Batch    6/   9] Loss:  1.92e-03\n",
      "[Epoch   66/ 100] [Batch    7/   9] Loss:  1.63e-03\n",
      "[Epoch   66/ 100] [Batch    8/   9] Loss:  1.49e-03\n",
      "[Epoch   66/ 100] [Batch    9/   9] Loss:  1.33e-03\n",
      "[Epoch   67/ 100] [Batch    1/   9] Loss:  1.84e-03\n",
      "[Epoch   67/ 100] [Batch    2/   9] Loss:  1.80e-03\n",
      "[Epoch   67/ 100] [Batch    3/   9] Loss:  1.42e-03\n",
      "[Epoch   67/ 100] [Batch    4/   9] Loss:  1.59e-03\n",
      "[Epoch   67/ 100] [Batch    5/   9] Loss:  1.82e-03\n",
      "[Epoch   67/ 100] [Batch    6/   9] Loss:  1.64e-03\n",
      "[Epoch   67/ 100] [Batch    7/   9] Loss:  1.82e-03\n",
      "[Epoch   67/ 100] [Batch    8/   9] Loss:  1.59e-03\n",
      "[Epoch   67/ 100] [Batch    9/   9] Loss:  9.50e-04\n",
      "[Epoch   68/ 100] [Batch    1/   9] Loss:  1.58e-03\n",
      "[Epoch   68/ 100] [Batch    2/   9] Loss:  1.47e-03\n",
      "[Epoch   68/ 100] [Batch    3/   9] Loss:  1.72e-03\n",
      "[Epoch   68/ 100] [Batch    4/   9] Loss:  1.79e-03\n",
      "[Epoch   68/ 100] [Batch    5/   9] Loss:  1.89e-03\n",
      "[Epoch   68/ 100] [Batch    6/   9] Loss:  1.72e-03\n",
      "[Epoch   68/ 100] [Batch    7/   9] Loss:  1.89e-03\n",
      "[Epoch   68/ 100] [Batch    8/   9] Loss:  1.55e-03\n",
      "[Epoch   68/ 100] [Batch    9/   9] Loss:  1.34e-03\n",
      "[Epoch   69/ 100] [Batch    1/   9] Loss:  1.65e-03\n",
      "[Epoch   69/ 100] [Batch    2/   9] Loss:  2.10e-03\n",
      "[Epoch   69/ 100] [Batch    3/   9] Loss:  1.46e-03\n",
      "[Epoch   69/ 100] [Batch    4/   9] Loss:  1.53e-03\n",
      "[Epoch   69/ 100] [Batch    5/   9] Loss:  1.83e-03\n",
      "[Epoch   69/ 100] [Batch    6/   9] Loss:  1.59e-03\n",
      "[Epoch   69/ 100] [Batch    7/   9] Loss:  1.66e-03\n",
      "[Epoch   69/ 100] [Batch    8/   9] Loss:  1.68e-03\n",
      "[Epoch   69/ 100] [Batch    9/   9] Loss:  1.40e-03\n",
      "[Epoch   70/ 100] [Batch    1/   9] Loss:  1.84e-03\n",
      "[Epoch   70/ 100] [Batch    2/   9] Loss:  1.30e-03\n",
      "[Epoch   70/ 100] [Batch    3/   9] Loss:  1.50e-03\n",
      "[Epoch   70/ 100] [Batch    4/   9] Loss:  1.27e-03\n",
      "[Epoch   70/ 100] [Batch    5/   9] Loss:  1.88e-03\n",
      "[Epoch   70/ 100] [Batch    6/   9] Loss:  2.04e-03\n",
      "[Epoch   70/ 100] [Batch    7/   9] Loss:  1.61e-03\n",
      "[Epoch   70/ 100] [Batch    8/   9] Loss:  1.82e-03\n",
      "[Epoch   70/ 100] [Batch    9/   9] Loss:  1.74e-03\n",
      "[Epoch   71/ 100] [Batch    1/   9] Loss:  1.63e-03\n",
      "[Epoch   71/ 100] [Batch    2/   9] Loss:  1.85e-03\n",
      "[Epoch   71/ 100] [Batch    3/   9] Loss:  1.68e-03\n",
      "[Epoch   71/ 100] [Batch    4/   9] Loss:  1.64e-03\n",
      "[Epoch   71/ 100] [Batch    5/   9] Loss:  1.78e-03\n",
      "[Epoch   71/ 100] [Batch    6/   9] Loss:  1.36e-03\n",
      "[Epoch   71/ 100] [Batch    7/   9] Loss:  1.89e-03\n",
      "[Epoch   71/ 100] [Batch    8/   9] Loss:  1.48e-03\n",
      "[Epoch   71/ 100] [Batch    9/   9] Loss:  1.85e-03\n",
      "[Epoch   72/ 100] [Batch    1/   9] Loss:  1.80e-03\n",
      "[Epoch   72/ 100] [Batch    2/   9] Loss:  1.30e-03\n",
      "[Epoch   72/ 100] [Batch    3/   9] Loss:  1.43e-03\n",
      "[Epoch   72/ 100] [Batch    4/   9] Loss:  2.07e-03\n",
      "[Epoch   72/ 100] [Batch    5/   9] Loss:  1.70e-03\n",
      "[Epoch   72/ 100] [Batch    6/   9] Loss:  1.62e-03\n",
      "[Epoch   72/ 100] [Batch    7/   9] Loss:  1.69e-03\n",
      "[Epoch   72/ 100] [Batch    8/   9] Loss:  1.53e-03\n",
      "[Epoch   72/ 100] [Batch    9/   9] Loss:  2.19e-03\n",
      "[Epoch   73/ 100] [Batch    1/   9] Loss:  1.89e-03\n",
      "[Epoch   73/ 100] [Batch    2/   9] Loss:  1.74e-03\n",
      "[Epoch   73/ 100] [Batch    3/   9] Loss:  1.26e-03\n",
      "[Epoch   73/ 100] [Batch    4/   9] Loss:  1.54e-03\n",
      "[Epoch   73/ 100] [Batch    5/   9] Loss:  1.53e-03\n",
      "[Epoch   73/ 100] [Batch    6/   9] Loss:  2.11e-03\n",
      "[Epoch   73/ 100] [Batch    7/   9] Loss:  1.57e-03\n",
      "[Epoch   73/ 100] [Batch    8/   9] Loss:  1.71e-03\n",
      "[Epoch   73/ 100] [Batch    9/   9] Loss:  1.43e-03\n",
      "[Epoch   74/ 100] [Batch    1/   9] Loss:  1.56e-03\n",
      "[Epoch   74/ 100] [Batch    2/   9] Loss:  1.56e-03\n",
      "[Epoch   74/ 100] [Batch    3/   9] Loss:  1.87e-03\n",
      "[Epoch   74/ 100] [Batch    4/   9] Loss:  1.48e-03\n",
      "[Epoch   74/ 100] [Batch    5/   9] Loss:  1.80e-03\n",
      "[Epoch   74/ 100] [Batch    6/   9] Loss:  1.64e-03\n",
      "[Epoch   74/ 100] [Batch    7/   9] Loss:  1.52e-03\n",
      "[Epoch   74/ 100] [Batch    8/   9] Loss:  1.79e-03\n",
      "[Epoch   74/ 100] [Batch    9/   9] Loss:  1.88e-03\n",
      "[Epoch   75/ 100] [Batch    1/   9] Loss:  1.91e-03\n",
      "[Epoch   75/ 100] [Batch    2/   9] Loss:  1.68e-03\n",
      "[Epoch   75/ 100] [Batch    3/   9] Loss:  1.60e-03\n",
      "[Epoch   75/ 100] [Batch    4/   9] Loss:  1.42e-03\n",
      "[Epoch   75/ 100] [Batch    5/   9] Loss:  1.87e-03\n",
      "[Epoch   75/ 100] [Batch    6/   9] Loss:  1.71e-03\n",
      "[Epoch   75/ 100] [Batch    7/   9] Loss:  1.68e-03\n",
      "[Epoch   75/ 100] [Batch    8/   9] Loss:  1.35e-03\n",
      "[Epoch   75/ 100] [Batch    9/   9] Loss:  1.84e-03\n",
      "[Epoch   76/ 100] [Batch    1/   9] Loss:  1.63e-03\n",
      "[Epoch   76/ 100] [Batch    2/   9] Loss:  1.53e-03\n",
      "[Epoch   76/ 100] [Batch    3/   9] Loss:  1.89e-03\n",
      "[Epoch   76/ 100] [Batch    4/   9] Loss:  1.76e-03\n",
      "[Epoch   76/ 100] [Batch    5/   9] Loss:  1.58e-03\n",
      "[Epoch   76/ 100] [Batch    6/   9] Loss:  1.59e-03\n",
      "[Epoch   76/ 100] [Batch    7/   9] Loss:  1.43e-03\n",
      "[Epoch   76/ 100] [Batch    8/   9] Loss:  1.66e-03\n",
      "[Epoch   76/ 100] [Batch    9/   9] Loss:  2.38e-03\n",
      "[Epoch   77/ 100] [Batch    1/   9] Loss:  1.80e-03\n",
      "[Epoch   77/ 100] [Batch    2/   9] Loss:  1.40e-03\n",
      "[Epoch   77/ 100] [Batch    3/   9] Loss:  1.86e-03\n",
      "[Epoch   77/ 100] [Batch    4/   9] Loss:  1.58e-03\n",
      "[Epoch   77/ 100] [Batch    5/   9] Loss:  2.04e-03\n",
      "[Epoch   77/ 100] [Batch    6/   9] Loss:  1.55e-03\n",
      "[Epoch   77/ 100] [Batch    7/   9] Loss:  1.67e-03\n",
      "[Epoch   77/ 100] [Batch    8/   9] Loss:  1.53e-03\n",
      "[Epoch   77/ 100] [Batch    9/   9] Loss:  1.52e-03\n",
      "[Epoch   78/ 100] [Batch    1/   9] Loss:  1.96e-03\n",
      "[Epoch   78/ 100] [Batch    2/   9] Loss:  1.52e-03\n",
      "[Epoch   78/ 100] [Batch    3/   9] Loss:  1.55e-03\n",
      "[Epoch   78/ 100] [Batch    4/   9] Loss:  1.52e-03\n",
      "[Epoch   78/ 100] [Batch    5/   9] Loss:  1.88e-03\n",
      "[Epoch   78/ 100] [Batch    6/   9] Loss:  1.58e-03\n",
      "[Epoch   78/ 100] [Batch    7/   9] Loss:  1.60e-03\n",
      "[Epoch   78/ 100] [Batch    8/   9] Loss:  1.82e-03\n",
      "[Epoch   78/ 100] [Batch    9/   9] Loss:  1.50e-03\n",
      "[Epoch   79/ 100] [Batch    1/   9] Loss:  1.47e-03\n",
      "[Epoch   79/ 100] [Batch    2/   9] Loss:  1.34e-03\n",
      "[Epoch   79/ 100] [Batch    3/   9] Loss:  1.73e-03\n",
      "[Epoch   79/ 100] [Batch    4/   9] Loss:  1.80e-03\n",
      "[Epoch   79/ 100] [Batch    5/   9] Loss:  1.33e-03\n",
      "[Epoch   79/ 100] [Batch    6/   9] Loss:  1.79e-03\n",
      "[Epoch   79/ 100] [Batch    7/   9] Loss:  2.21e-03\n",
      "[Epoch   79/ 100] [Batch    8/   9] Loss:  1.76e-03\n",
      "[Epoch   79/ 100] [Batch    9/   9] Loss:  1.32e-03\n",
      "[Epoch   80/ 100] [Batch    1/   9] Loss:  1.42e-03\n",
      "[Epoch   80/ 100] [Batch    2/   9] Loss:  1.94e-03\n",
      "[Epoch   80/ 100] [Batch    3/   9] Loss:  1.50e-03\n",
      "[Epoch   80/ 100] [Batch    4/   9] Loss:  1.30e-03\n",
      "[Epoch   80/ 100] [Batch    5/   9] Loss:  1.44e-03\n",
      "[Epoch   80/ 100] [Batch    6/   9] Loss:  1.81e-03\n",
      "[Epoch   80/ 100] [Batch    7/   9] Loss:  2.04e-03\n",
      "[Epoch   80/ 100] [Batch    8/   9] Loss:  1.76e-03\n",
      "[Epoch   80/ 100] [Batch    9/   9] Loss:  1.94e-03\n",
      "[Epoch   81/ 100] [Batch    1/   9] Loss:  1.60e-03\n",
      "[Epoch   81/ 100] [Batch    2/   9] Loss:  1.67e-03\n",
      "[Epoch   81/ 100] [Batch    3/   9] Loss:  1.95e-03\n",
      "[Epoch   81/ 100] [Batch    4/   9] Loss:  1.90e-03\n",
      "[Epoch   81/ 100] [Batch    5/   9] Loss:  1.85e-03\n",
      "[Epoch   81/ 100] [Batch    6/   9] Loss:  1.38e-03\n",
      "[Epoch   81/ 100] [Batch    7/   9] Loss:  1.47e-03\n",
      "[Epoch   81/ 100] [Batch    8/   9] Loss:  1.47e-03\n",
      "[Epoch   81/ 100] [Batch    9/   9] Loss:  2.40e-03\n",
      "[Epoch   82/ 100] [Batch    1/   9] Loss:  1.89e-03\n",
      "[Epoch   82/ 100] [Batch    2/   9] Loss:  1.85e-03\n",
      "[Epoch   82/ 100] [Batch    3/   9] Loss:  1.87e-03\n",
      "[Epoch   82/ 100] [Batch    4/   9] Loss:  1.62e-03\n",
      "[Epoch   82/ 100] [Batch    5/   9] Loss:  1.58e-03\n",
      "[Epoch   82/ 100] [Batch    6/   9] Loss:  1.38e-03\n",
      "[Epoch   82/ 100] [Batch    7/   9] Loss:  1.72e-03\n",
      "[Epoch   82/ 100] [Batch    8/   9] Loss:  1.44e-03\n",
      "[Epoch   82/ 100] [Batch    9/   9] Loss:  1.80e-03\n",
      "[Epoch   83/ 100] [Batch    1/   9] Loss:  1.65e-03\n",
      "[Epoch   83/ 100] [Batch    2/   9] Loss:  1.53e-03\n",
      "[Epoch   83/ 100] [Batch    3/   9] Loss:  1.48e-03\n",
      "[Epoch   83/ 100] [Batch    4/   9] Loss:  1.70e-03\n",
      "[Epoch   83/ 100] [Batch    5/   9] Loss:  2.07e-03\n",
      "[Epoch   83/ 100] [Batch    6/   9] Loss:  1.88e-03\n",
      "[Epoch   83/ 100] [Batch    7/   9] Loss:  1.47e-03\n",
      "[Epoch   83/ 100] [Batch    8/   9] Loss:  1.62e-03\n",
      "[Epoch   83/ 100] [Batch    9/   9] Loss:  1.58e-03\n",
      "[Epoch   84/ 100] [Batch    1/   9] Loss:  1.90e-03\n",
      "[Epoch   84/ 100] [Batch    2/   9] Loss:  2.06e-03\n",
      "[Epoch   84/ 100] [Batch    3/   9] Loss:  1.30e-03\n",
      "[Epoch   84/ 100] [Batch    4/   9] Loss:  1.35e-03\n",
      "[Epoch   84/ 100] [Batch    5/   9] Loss:  1.69e-03\n",
      "[Epoch   84/ 100] [Batch    6/   9] Loss:  1.82e-03\n",
      "[Epoch   84/ 100] [Batch    7/   9] Loss:  1.70e-03\n",
      "[Epoch   84/ 100] [Batch    8/   9] Loss:  1.51e-03\n",
      "[Epoch   84/ 100] [Batch    9/   9] Loss:  1.84e-03\n",
      "[Epoch   85/ 100] [Batch    1/   9] Loss:  1.81e-03\n",
      "[Epoch   85/ 100] [Batch    2/   9] Loss:  1.46e-03\n",
      "[Epoch   85/ 100] [Batch    3/   9] Loss:  2.10e-03\n",
      "[Epoch   85/ 100] [Batch    4/   9] Loss:  1.20e-03\n",
      "[Epoch   85/ 100] [Batch    5/   9] Loss:  1.84e-03\n",
      "[Epoch   85/ 100] [Batch    6/   9] Loss:  1.91e-03\n",
      "[Epoch   85/ 100] [Batch    7/   9] Loss:  1.50e-03\n",
      "[Epoch   85/ 100] [Batch    8/   9] Loss:  1.75e-03\n",
      "[Epoch   85/ 100] [Batch    9/   9] Loss:  1.27e-03\n",
      "[Epoch   86/ 100] [Batch    1/   9] Loss:  1.42e-03\n",
      "[Epoch   86/ 100] [Batch    2/   9] Loss:  1.33e-03\n",
      "[Epoch   86/ 100] [Batch    3/   9] Loss:  1.64e-03\n",
      "[Epoch   86/ 100] [Batch    4/   9] Loss:  1.54e-03\n",
      "[Epoch   86/ 100] [Batch    5/   9] Loss:  1.59e-03\n",
      "[Epoch   86/ 100] [Batch    6/   9] Loss:  1.93e-03\n",
      "[Epoch   86/ 100] [Batch    7/   9] Loss:  1.88e-03\n",
      "[Epoch   86/ 100] [Batch    8/   9] Loss:  1.64e-03\n",
      "[Epoch   86/ 100] [Batch    9/   9] Loss:  2.68e-03\n",
      "[Epoch   87/ 100] [Batch    1/   9] Loss:  1.61e-03\n",
      "[Epoch   87/ 100] [Batch    2/   9] Loss:  1.79e-03\n",
      "[Epoch   87/ 100] [Batch    3/   9] Loss:  1.76e-03\n",
      "[Epoch   87/ 100] [Batch    4/   9] Loss:  1.83e-03\n",
      "[Epoch   87/ 100] [Batch    5/   9] Loss:  1.61e-03\n",
      "[Epoch   87/ 100] [Batch    6/   9] Loss:  1.61e-03\n",
      "[Epoch   87/ 100] [Batch    7/   9] Loss:  1.46e-03\n",
      "[Epoch   87/ 100] [Batch    8/   9] Loss:  1.80e-03\n",
      "[Epoch   87/ 100] [Batch    9/   9] Loss:  2.24e-03\n",
      "[Epoch   88/ 100] [Batch    1/   9] Loss:  1.83e-03\n",
      "[Epoch   88/ 100] [Batch    2/   9] Loss:  1.58e-03\n",
      "[Epoch   88/ 100] [Batch    3/   9] Loss:  1.70e-03\n",
      "[Epoch   88/ 100] [Batch    4/   9] Loss:  1.81e-03\n",
      "[Epoch   88/ 100] [Batch    5/   9] Loss:  1.47e-03\n",
      "[Epoch   88/ 100] [Batch    6/   9] Loss:  1.80e-03\n",
      "[Epoch   88/ 100] [Batch    7/   9] Loss:  1.73e-03\n",
      "[Epoch   88/ 100] [Batch    8/   9] Loss:  1.71e-03\n",
      "[Epoch   88/ 100] [Batch    9/   9] Loss:  1.42e-03\n",
      "[Epoch   89/ 100] [Batch    1/   9] Loss:  1.82e-03\n",
      "[Epoch   89/ 100] [Batch    2/   9] Loss:  1.23e-03\n",
      "[Epoch   89/ 100] [Batch    3/   9] Loss:  1.90e-03\n",
      "[Epoch   89/ 100] [Batch    4/   9] Loss:  1.53e-03\n",
      "[Epoch   89/ 100] [Batch    5/   9] Loss:  1.43e-03\n",
      "[Epoch   89/ 100] [Batch    6/   9] Loss:  1.76e-03\n",
      "[Epoch   89/ 100] [Batch    7/   9] Loss:  1.66e-03\n",
      "[Epoch   89/ 100] [Batch    8/   9] Loss:  1.98e-03\n",
      "[Epoch   89/ 100] [Batch    9/   9] Loss:  1.68e-03\n",
      "[Epoch   90/ 100] [Batch    1/   9] Loss:  1.80e-03\n",
      "[Epoch   90/ 100] [Batch    2/   9] Loss:  1.28e-03\n",
      "[Epoch   90/ 100] [Batch    3/   9] Loss:  2.20e-03\n",
      "[Epoch   90/ 100] [Batch    4/   9] Loss:  1.64e-03\n",
      "[Epoch   90/ 100] [Batch    5/   9] Loss:  1.63e-03\n",
      "[Epoch   90/ 100] [Batch    6/   9] Loss:  1.71e-03\n",
      "[Epoch   90/ 100] [Batch    7/   9] Loss:  1.43e-03\n",
      "[Epoch   90/ 100] [Batch    8/   9] Loss:  1.61e-03\n",
      "[Epoch   90/ 100] [Batch    9/   9] Loss:  1.73e-03\n",
      "[Epoch   91/ 100] [Batch    1/   9] Loss:  1.56e-03\n",
      "[Epoch   91/ 100] [Batch    2/   9] Loss:  1.73e-03\n",
      "[Epoch   91/ 100] [Batch    3/   9] Loss:  1.54e-03\n",
      "[Epoch   91/ 100] [Batch    4/   9] Loss:  1.52e-03\n",
      "[Epoch   91/ 100] [Batch    5/   9] Loss:  1.92e-03\n",
      "[Epoch   91/ 100] [Batch    6/   9] Loss:  1.89e-03\n",
      "[Epoch   91/ 100] [Batch    7/   9] Loss:  1.60e-03\n",
      "[Epoch   91/ 100] [Batch    8/   9] Loss:  1.58e-03\n",
      "[Epoch   91/ 100] [Batch    9/   9] Loss:  1.60e-03\n",
      "[Epoch   92/ 100] [Batch    1/   9] Loss:  1.50e-03\n",
      "[Epoch   92/ 100] [Batch    2/   9] Loss:  1.60e-03\n",
      "[Epoch   92/ 100] [Batch    3/   9] Loss:  1.72e-03\n",
      "[Epoch   92/ 100] [Batch    4/   9] Loss:  1.59e-03\n",
      "[Epoch   92/ 100] [Batch    5/   9] Loss:  1.93e-03\n",
      "[Epoch   92/ 100] [Batch    6/   9] Loss:  1.71e-03\n",
      "[Epoch   92/ 100] [Batch    7/   9] Loss:  1.78e-03\n",
      "[Epoch   92/ 100] [Batch    8/   9] Loss:  1.22e-03\n",
      "[Epoch   92/ 100] [Batch    9/   9] Loss:  2.42e-03\n",
      "[Epoch   93/ 100] [Batch    1/   9] Loss:  1.53e-03\n",
      "[Epoch   93/ 100] [Batch    2/   9] Loss:  1.79e-03\n",
      "[Epoch   93/ 100] [Batch    3/   9] Loss:  1.92e-03\n",
      "[Epoch   93/ 100] [Batch    4/   9] Loss:  1.57e-03\n",
      "[Epoch   93/ 100] [Batch    5/   9] Loss:  1.83e-03\n",
      "[Epoch   93/ 100] [Batch    6/   9] Loss:  1.48e-03\n",
      "[Epoch   93/ 100] [Batch    7/   9] Loss:  1.25e-03\n",
      "[Epoch   93/ 100] [Batch    8/   9] Loss:  1.99e-03\n",
      "[Epoch   93/ 100] [Batch    9/   9] Loss:  1.77e-03\n",
      "[Epoch   94/ 100] [Batch    1/   9] Loss:  1.63e-03\n",
      "[Epoch   94/ 100] [Batch    2/   9] Loss:  1.72e-03\n",
      "[Epoch   94/ 100] [Batch    3/   9] Loss:  1.84e-03\n",
      "[Epoch   94/ 100] [Batch    4/   9] Loss:  1.70e-03\n",
      "[Epoch   94/ 100] [Batch    5/   9] Loss:  1.46e-03\n",
      "[Epoch   94/ 100] [Batch    6/   9] Loss:  1.45e-03\n",
      "[Epoch   94/ 100] [Batch    7/   9] Loss:  1.78e-03\n",
      "[Epoch   94/ 100] [Batch    8/   9] Loss:  1.73e-03\n",
      "[Epoch   94/ 100] [Batch    9/   9] Loss:  1.85e-03\n",
      "[Epoch   95/ 100] [Batch    1/   9] Loss:  1.99e-03\n",
      "[Epoch   95/ 100] [Batch    2/   9] Loss:  1.87e-03\n",
      "[Epoch   95/ 100] [Batch    3/   9] Loss:  1.48e-03\n",
      "[Epoch   95/ 100] [Batch    4/   9] Loss:  1.86e-03\n",
      "[Epoch   95/ 100] [Batch    5/   9] Loss:  1.62e-03\n",
      "[Epoch   95/ 100] [Batch    6/   9] Loss:  1.41e-03\n",
      "[Epoch   95/ 100] [Batch    7/   9] Loss:  1.50e-03\n",
      "[Epoch   95/ 100] [Batch    8/   9] Loss:  1.55e-03\n",
      "[Epoch   95/ 100] [Batch    9/   9] Loss:  1.77e-03\n",
      "[Epoch   96/ 100] [Batch    1/   9] Loss:  1.86e-03\n",
      "[Epoch   96/ 100] [Batch    2/   9] Loss:  1.69e-03\n",
      "[Epoch   96/ 100] [Batch    3/   9] Loss:  1.76e-03\n",
      "[Epoch   96/ 100] [Batch    4/   9] Loss:  1.51e-03\n",
      "[Epoch   96/ 100] [Batch    5/   9] Loss:  1.51e-03\n",
      "[Epoch   96/ 100] [Batch    6/   9] Loss:  1.70e-03\n"
     ]
    },
    {
     "name": "stdout",
     "output_type": "stream",
     "text": [
      "[Epoch   96/ 100] [Batch    7/   9] Loss:  1.85e-03\n",
      "[Epoch   96/ 100] [Batch    8/   9] Loss:  1.46e-03\n",
      "[Epoch   96/ 100] [Batch    9/   9] Loss:  1.52e-03\n",
      "[Epoch   97/ 100] [Batch    1/   9] Loss:  1.70e-03\n",
      "[Epoch   97/ 100] [Batch    2/   9] Loss:  1.87e-03\n",
      "[Epoch   97/ 100] [Batch    3/   9] Loss:  1.80e-03\n",
      "[Epoch   97/ 100] [Batch    4/   9] Loss:  1.77e-03\n",
      "[Epoch   97/ 100] [Batch    5/   9] Loss:  1.39e-03\n",
      "[Epoch   97/ 100] [Batch    6/   9] Loss:  1.46e-03\n",
      "[Epoch   97/ 100] [Batch    7/   9] Loss:  1.61e-03\n",
      "[Epoch   97/ 100] [Batch    8/   9] Loss:  1.74e-03\n",
      "[Epoch   97/ 100] [Batch    9/   9] Loss:  1.53e-03\n",
      "[Epoch   98/ 100] [Batch    1/   9] Loss:  1.70e-03\n",
      "[Epoch   98/ 100] [Batch    2/   9] Loss:  1.53e-03\n",
      "[Epoch   98/ 100] [Batch    3/   9] Loss:  1.54e-03\n",
      "[Epoch   98/ 100] [Batch    4/   9] Loss:  1.51e-03\n",
      "[Epoch   98/ 100] [Batch    5/   9] Loss:  1.69e-03\n",
      "[Epoch   98/ 100] [Batch    6/   9] Loss:  1.74e-03\n",
      "[Epoch   98/ 100] [Batch    7/   9] Loss:  2.08e-03\n",
      "[Epoch   98/ 100] [Batch    8/   9] Loss:  1.67e-03\n",
      "[Epoch   98/ 100] [Batch    9/   9] Loss:  1.33e-03\n",
      "[Epoch   99/ 100] [Batch    1/   9] Loss:  1.49e-03\n",
      "[Epoch   99/ 100] [Batch    2/   9] Loss:  1.58e-03\n",
      "[Epoch   99/ 100] [Batch    3/   9] Loss:  1.67e-03\n",
      "[Epoch   99/ 100] [Batch    4/   9] Loss:  1.79e-03\n",
      "[Epoch   99/ 100] [Batch    5/   9] Loss:  1.62e-03\n",
      "[Epoch   99/ 100] [Batch    6/   9] Loss:  1.82e-03\n",
      "[Epoch   99/ 100] [Batch    7/   9] Loss:  1.80e-03\n",
      "[Epoch   99/ 100] [Batch    8/   9] Loss:  1.50e-03\n",
      "[Epoch   99/ 100] [Batch    9/   9] Loss:  1.79e-03\n",
      "[Epoch  100/ 100] [Batch    1/   9] Loss:  1.71e-03\n",
      "[Epoch  100/ 100] [Batch    2/   9] Loss:  1.50e-03\n",
      "[Epoch  100/ 100] [Batch    3/   9] Loss:  1.63e-03\n",
      "[Epoch  100/ 100] [Batch    4/   9] Loss:  2.00e-03\n",
      "[Epoch  100/ 100] [Batch    5/   9] Loss:  1.66e-03\n",
      "[Epoch  100/ 100] [Batch    6/   9] Loss:  1.50e-03\n",
      "[Epoch  100/ 100] [Batch    7/   9] Loss:  1.90e-03\n",
      "[Epoch  100/ 100] [Batch    8/   9] Loss:  1.45e-03\n",
      "[Epoch  100/ 100] [Batch    9/   9] Loss:  1.67e-03\n"
     ]
    },
    {
     "data": {
      "text/plain": [
       "LinearModel(\n",
       "  (linear): Linear(in_features=1, out_features=1, bias=True)\n",
       ")"
      ]
     },
     "execution_count": 35,
     "metadata": {},
     "output_type": "execute_result"
    }
   ],
   "source": [
    "train_hist = {}\n",
    "train_hist['loss'] = []\n",
    "\n",
    "if input_dim == output_dim == 1:\n",
    "    train_hist['weight'] = []\n",
    "    train_hist['bias'] = []\n",
    "\n",
    "# Initialize training\n",
    "model.reset()\n",
    "model.train()\n",
    "\n",
    "for epoch in range(n_epochs):\n",
    "    for idx, batch in enumerate(train_loader):\n",
    "        optimizer.zero_grad()\n",
    "        loss = loss_fun(model.forward(batch[0]),  batch[1])\n",
    "        loss.backward()\n",
    "        optimizer.step()\n",
    "\n",
    "        train_hist['loss'].append(loss.item())\n",
    "        if input_dim == output_dim == 1:\n",
    "            train_hist['weight'].append(model.linear.weight.item())\n",
    "            train_hist['bias'].append(model.linear.bias.item())\n",
    "        \n",
    "        print('[Epoch %4d/%4d] [Batch %4d/%4d] Loss: % 2.2e' % (epoch + 1, n_epochs, \n",
    "                                                                idx + 1, len(train_loader), \n",
    "                                                                loss.item()))\n",
    "        \n",
    "model.eval()"
   ]
  },
  {
   "cell_type": "code",
   "execution_count": 36,
   "metadata": {},
   "outputs": [],
   "source": [
    "if input_dim == output_dim == 1:\n",
    "    n_test = 500\n",
    "    X_test = np.random.rand(n_test, input_dim)\n",
    "    y_pred = []\n",
    "\n",
    "    state_dict = model.state_dict()\n",
    "\n",
    "    for idx in range(len(train_hist['weight'])):\n",
    "        state_dict['linear.weight'] = torch.tensor([[train_hist['weight'][idx]]])\n",
    "        state_dict['linear.bias'] = torch.tensor([train_hist['bias'][idx]])\n",
    "        model.load_state_dict(state_dict)\n",
    "\n",
    "        y_pred.append(model.forward(torch.tensor(X_test.astype('f'))).detach().numpy())    "
   ]
  },
  {
   "cell_type": "code",
   "execution_count": 39,
   "metadata": {},
   "outputs": [
    {
     "data": {
      "image/png": "[encoded data removed]",
      "text/plain": [
       "<Figure size 1080x360 with 3 Axes>"
      ]
     },
     "metadata": {
      "needs_background": "light"
     },
     "output_type": "display_data"
    }
   ],
   "source": [
    "if input_dim == output_dim == 1:\n",
    "    fig = plt.figure(figsize=(15, 5))\n",
    "    fig.clf()\n",
    "    \n",
    "    ax = fig.add_subplot(1, 3, 1)\n",
    "    levels = np.logspace(np.log(np.min(loss_values)), np.log(np.max(loss_values)), 20)\n",
    "    ax.contourf(ww, bb, loss_values, levels=levels, norm=colors.LogNorm())\n",
    "    ax.plot(train_hist['weight'], train_hist['bias'], '.-b')\n",
    "    ax.plot(A[0], b, 'r*', markersize=10)\n",
    "    ax.set_xlabel('weight')\n",
    "    ax.set_ylabel('bias')\n",
    "    #ax.legend(['optim', '(A, b)'])\n",
    "    ax.grid(True)\n",
    "    ax.set_xlim(-2, 2) \n",
    "    ax.set_ylim(-2, 2) \n",
    "    \n",
    "    ax = fig.add_subplot(1, 3, 2)\n",
    "    ax.loglog(np.abs(train_hist['loss']))\n",
    "    ax.set_xlabel('Iter')\n",
    "    ax.set_ylabel('Loss')\n",
    "    ax.grid(True)\n",
    "    \n",
    "    ax = fig.add_subplot(1, 3, 3)\n",
    "    ax.plot(X_train, y_train, '.')\n",
    "    a=ax.plot(X_test, y_pred[0], '-', alpha=0.1)\n",
    "    for y in y_pred[1:]:\n",
    "        ax.plot(X_test, y, '-', alpha=0.1, color=a[0].get_color())\n",
    "    ax.plot(X_test, y_pred[-1], 'k')\n",
    "    ax.grid(True)   \n",
    "\n",
    "    fig.tight_layout()\n",
    "\n",
    "else:\n",
    "    fig = plt.figure()\n",
    "    fig.clf()\n",
    "    ax = fig.gca()\n",
    "    ax.loglog(np.abs(train_hist['loss']))\n",
    "    ax.set_xlabel('Iter')\n",
    "    ax.set_ylabel('Loss')\n",
    "    ax.grid(True)"
   ]
  },
  {
   "cell_type": "code",
   "execution_count": null,
   "metadata": {},
   "outputs": [],
   "source": []
  }
 ],
 "metadata": {
  "kernelspec": {
   "display_name": "Python 3",
   "language": "python",
   "name": "python3"
  },
  "language_info": {
   "codemirror_mode": {
    "name": "ipython",
    "version": 3
   },
   "file_extension": ".py",
   "mimetype": "text/x-python",
   "name": "python",
   "nbconvert_exporter": "python",
   "pygments_lexer": "ipython3",
   "version": "3.9.12"
  }
 },
 "nbformat": 4,
 "nbformat_minor": 4
}

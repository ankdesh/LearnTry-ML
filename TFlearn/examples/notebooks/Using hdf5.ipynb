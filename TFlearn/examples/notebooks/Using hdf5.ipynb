{
 "cells": [
  {
   "cell_type": "code",
   "execution_count": 1,
   "metadata": {
    "collapsed": false
   },
   "outputs": [
    {
     "name": "stdout",
     "output_type": "stream",
     "text": [
      "Scipy not supported!\n"
     ]
    }
   ],
   "source": [
    "\"\"\"\n",
    "Example on how to use HDF5 dataset with TFLearn. HDF5 is a data model,\n",
    "library, and file format for storing and managing data. It can handle large\n",
    "dataset that could not fit totally in ram memory. Note that this example\n",
    "just give a quick compatibility demonstration. In practice, there is no so\n",
    "real need to use HDF5 for small dataset such as CIFAR-10.\n",
    "\"\"\"\n",
    "\n",
    "from __future__ import division, print_function, absolute_import\n",
    "\n",
    "import tflearn\n",
    "from tflearn.layers.core import *\n",
    "from tflearn.layers.conv import *\n",
    "from tflearn.data_utils import *\n",
    "from tflearn.layers.normalization import *\n",
    "from tflearn.layers.estimator import regression\n",
    "\n",
    "import h5py"
   ]
  },
  {
   "cell_type": "code",
   "execution_count": 2,
   "metadata": {
    "collapsed": false
   },
   "outputs": [],
   "source": [
    "# CIFAR-10 Dataset\n",
    "from tflearn.datasets import cifar10\n",
    "(X, Y), (X_test, Y_test) = cifar10.load_data()\n",
    "Y = to_categorical(Y, 10)\n",
    "Y_test = to_categorical(Y_test, 10)\n",
    "\n",
    "# Create a hdf5 dataset from CIFAR-10 numpy array\n",
    "import h5py\n",
    "h5f = h5py.File('data.h5', 'w')\n",
    "h5f.create_dataset('cifar10_X', data=X)\n",
    "h5f.create_dataset('cifar10_Y', data=Y)\n",
    "h5f.create_dataset('cifar10_X_test', data=X_test)\n",
    "h5f.create_dataset('cifar10_Y_test', data=Y_test)\n",
    "h5f.close()"
   ]
  },
  {
   "cell_type": "code",
   "execution_count": 3,
   "metadata": {
    "collapsed": false
   },
   "outputs": [],
   "source": [
    "# Load hdf5 dataset\n",
    "h5f = h5py.File('data.h5', 'r')\n",
    "X_h = h5f['cifar10_X']\n",
    "Y_h = h5f['cifar10_Y']\n",
    "X_test_h = h5f['cifar10_X_test']\n",
    "Y_test_h = h5f['cifar10_Y_test']"
   ]
  },
  {
   "cell_type": "code",
   "execution_count": 4,
   "metadata": {
    "collapsed": true
   },
   "outputs": [],
   "source": [
    "# Build network\n",
    "network = input_data(shape=[None, 32, 32, 3], dtype=tf.float32)\n",
    "network = conv_2d(network, 32, 3, activation='relu')\n",
    "network = max_pool_2d(network, 2)\n",
    "network = conv_2d(network, 64, 3, activation='relu')\n",
    "network = conv_2d(network, 64, 3, activation='relu')\n",
    "network = max_pool_2d(network, 2)\n",
    "network = fully_connected(network, 512, activation='relu')\n",
    "network = dropout(network, 0.5)\n",
    "network = fully_connected(network, 10, activation='softmax')\n",
    "network = regression(network, optimizer='adam',\n",
    "                     loss='categorical_crossentropy',\n",
    "                     learning_rate=0.001)"
   ]
  },
  {
   "cell_type": "code",
   "execution_count": 12,
   "metadata": {
    "collapsed": false
   },
   "outputs": [],
   "source": [
    "import time\n",
    "\n",
    "class Timer(object):\n",
    "    def __init__(self, verbose=False):\n",
    "        self.verbose = verbose\n",
    "\n",
    "    def __enter__(self):\n",
    "        self.start = time.time()\n",
    "        return self\n",
    "\n",
    "    def __exit__(self, *args):\n",
    "        self.end = time.time()\n",
    "        self.secs = self.end - self.start\n",
    "        self.msecs = self.secs * 1000  # millisecs\n",
    "        if self.verbose:\n",
    "            print ('elapsed time: %f ms'%self.msecs)"
   ]
  },
  {
   "cell_type": "code",
   "execution_count": 17,
   "metadata": {
    "collapsed": false
   },
   "outputs": [
    {
     "name": "stdout",
     "output_type": "stream",
     "text": [
      "Training Step: 1042  | total loss: \u001b[1m\u001b[32m0.99687\u001b[0m\u001b[0m\n",
      "| Adam | epoch: 002 | loss: 0.99687 - acc: 0.6543 | val_loss: 0.96694 - val_acc: 0.6569 -- iter: 50000/50000\n",
      "Training Step: 1042  | total loss: \u001b[1m\u001b[32m0.99687\u001b[0m\u001b[0m\n",
      "| Adam | epoch: 002 | loss: 0.99687 - acc: 0.6543 | val_loss: 0.96694 - val_acc: 0.6569 -- iter: 50000/50000\n",
      "--\n",
      "=> elasped lpush: 212.398781061 s\n"
     ]
    }
   ],
   "source": [
    "# Training using H5py Data\n",
    "with Timer() as t:\n",
    "    model = tflearn.DNN(network, tensorboard_verbose=0)\n",
    "    model.fit(X_h, Y_h, n_epoch=2, shuffle=True, validation_set=(X_test_h, Y_test_h),\n",
    "              show_metric=True, batch_size=96, run_id='cifar10_cnn_h5')\n",
    "\n",
    "    h5f.close()\n",
    "print (\"=> elasped lpush: %s s\" % t.secs)"
   ]
  },
  {
   "cell_type": "code",
   "execution_count": 14,
   "metadata": {
    "collapsed": false
   },
   "outputs": [
    {
     "name": "stdout",
     "output_type": "stream",
     "text": [
      "Training Step: 1042  | total loss: \u001b[1m\u001b[32m0.95795\u001b[0m\u001b[0m\n",
      "| Adam | epoch: 002 | loss: 0.95795 - acc: 0.6690 | val_loss: 0.98746 - val_acc: 0.6522 -- iter: 50000/50000\n",
      "Training Step: 1042  | total loss: \u001b[1m\u001b[32m0.95795\u001b[0m\u001b[0m\n",
      "| Adam | epoch: 002 | loss: 0.95795 - acc: 0.6690 | val_loss: 0.98746 - val_acc: 0.6522 -- iter: 50000/50000\n",
      "--\n",
      "=> elasped lpush: 159.402976036 s\n"
     ]
    }
   ],
   "source": [
    "# Training using loaded data\n",
    "with Timer() as t:\n",
    "    model = tflearn.DNN(network, tensorboard_verbose=0)\n",
    "    model.fit(X, Y, n_epoch=2, shuffle=True, validation_set=(X_test, Y_test),\n",
    "              show_metric=True, batch_size=96, run_id='cifar10_cnn')\n",
    "print (\"=> elasped lpush: %s s\" % t.secs)"
   ]
  },
  {
   "cell_type": "code",
   "execution_count": null,
   "metadata": {
    "collapsed": true
   },
   "outputs": [],
   "source": []
  }
 ],
 "metadata": {
  "kernelspec": {
   "display_name": "Python 2",
   "language": "python",
   "name": "python2"
  },
  "language_info": {
   "codemirror_mode": {
    "name": "ipython",
    "version": 2
   },
   "file_extension": ".py",
   "mimetype": "text/x-python",
   "name": "python",
   "nbconvert_exporter": "python",
   "pygments_lexer": "ipython2",
   "version": "2.7.12"
  }
 },
 "nbformat": 4,
 "nbformat_minor": 0
}

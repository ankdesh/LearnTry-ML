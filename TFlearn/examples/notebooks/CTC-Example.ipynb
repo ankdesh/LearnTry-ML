{
 "cells": [
  {
   "cell_type": "code",
   "execution_count": 43,
   "metadata": {
    "collapsed": true
   },
   "outputs": [],
   "source": [
    "# Copyright 2016 The TensorFlow Authors. All Rights Reserved.\n",
    "#\n",
    "# Licensed under the Apache License, Version 2.0 (the \"License\");\n",
    "# you may not use this file except in compliance with the License.\n",
    "# You may obtain a copy of the License at\n",
    "#\n",
    "#     http://www.apache.org/licenses/LICENSE-2.0\n",
    "#\n",
    "# Unless required by applicable law or agreed to in writing, software\n",
    "# distributed under the License is distributed on an \"AS IS\" BASIS,\n",
    "# WITHOUT WARRANTIES OR CONDITIONS OF ANY KIND, either express or implied.\n",
    "# See the License for the specific language governing permissions and\n",
    "# limitations under the License.\n",
    "# =============================================================================="
   ]
  },
  {
   "cell_type": "code",
   "execution_count": 44,
   "metadata": {
    "collapsed": true
   },
   "outputs": [],
   "source": [
    "\"\"\"Tests for tensorflow.ctc_ops.ctc_decoder_ops.\"\"\"\n",
    "from __future__ import absolute_import\n",
    "from __future__ import division\n",
    "from __future__ import print_function\n",
    "\n",
    "import numpy as np\n",
    "import tensorflow as tf\n",
    "import random"
   ]
  },
  {
   "cell_type": "code",
   "execution_count": 45,
   "metadata": {
    "collapsed": true
   },
   "outputs": [],
   "source": [
    "def SimpleSparseTensorFrom(x):\n",
    "  \"\"\"Create a very simple SparseTensor with dimensions (batch, time).\n",
    "  Args:\n",
    "    x: a list of lists of type int\n",
    "  Returns:\n",
    "    x_ix and x_val, the indices and values of the SparseTensor<2>.\n",
    "  \"\"\"\n",
    "  x_ix = []\n",
    "  x_val = []\n",
    "  for batch_i, batch in enumerate(x):\n",
    "    for time, val in enumerate(batch):\n",
    "      x_ix.append([batch_i, time])\n",
    "      x_val.append(val)\n",
    "  x_shape = [len(x), np.asarray(x_ix).max(0)[1]+1]\n",
    "  x_ix = tf.constant(x_ix, tf.int64)\n",
    "  x_val = tf.constant(x_val, tf.int32)\n",
    "  x_shape = tf.constant(x_shape, tf.int64)\n",
    "\n",
    "  return tf.SparseTensor(x_ix, x_val, x_shape)"
   ]
  },
  {
   "cell_type": "code",
   "execution_count": 46,
   "metadata": {
    "collapsed": false
   },
   "outputs": [
    {
     "name": "stdout",
     "output_type": "stream",
     "text": [
      "int64\n",
      "(100, 10)\n"
     ]
    }
   ],
   "source": [
    "# Createa a random sparse matrix of size 100X10\n",
    "x = np.random.random(size=(100,10))\n",
    "x[x > 0.90] = 1\n",
    "x[x != 1] = 0\n",
    "x = x.astype('int')\n",
    "print (x.dtype)\n",
    "print (x.shape)"
   ]
  },
  {
   "cell_type": "code",
   "execution_count": 37,
   "metadata": {
    "collapsed": false
   },
   "outputs": [
    {
     "name": "stdout",
     "output_type": "stream",
     "text": [
      "SparseTensor(indices=Tensor(\"Const_4:0\", shape=(1000, 2), dtype=int64), values=Tensor(\"Const_5:0\", shape=(1000,), dtype=int32), shape=Tensor(\"Const_6:0\", shape=(2,), dtype=int64))\n"
     ]
    }
   ],
   "source": [
    "print (SimpleSparseTensorFrom(x))"
   ]
  },
  {
   "cell_type": "code",
   "execution_count": null,
   "metadata": {
    "collapsed": true
   },
   "outputs": [],
   "source": []
  }
 ],
 "metadata": {
  "kernelspec": {
   "display_name": "Python 2",
   "language": "python",
   "name": "python2"
  },
  "language_info": {
   "codemirror_mode": {
    "name": "ipython",
    "version": 2
   },
   "file_extension": ".py",
   "mimetype": "text/x-python",
   "name": "python",
   "nbconvert_exporter": "python",
   "pygments_lexer": "ipython2",
   "version": "2.7.12"
  }
 },
 "nbformat": 4,
 "nbformat_minor": 1
}

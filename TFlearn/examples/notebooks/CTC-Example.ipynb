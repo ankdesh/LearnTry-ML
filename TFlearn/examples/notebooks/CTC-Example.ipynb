{
 "cells": [
  {
   "cell_type": "code",
   "execution_count": 1,
   "metadata": {
    "collapsed": true
   },
   "outputs": [],
   "source": [
    "# Copyright 2016 The TensorFlow Authors. All Rights Reserved.\n",
    "#\n",
    "# Licensed under the Apache License, Version 2.0 (the \"License\");\n",
    "# you may not use this file except in compliance with the License.\n",
    "# You may obtain a copy of the License at\n",
    "#\n",
    "#     http://www.apache.org/licenses/LICENSE-2.0\n",
    "#\n",
    "# Unless required by applicable law or agreed to in writing, software\n",
    "# distributed under the License is distributed on an \"AS IS\" BASIS,\n",
    "# WITHOUT WARRANTIES OR CONDITIONS OF ANY KIND, either express or implied.\n",
    "# See the License for the specific language governing permissions and\n",
    "# limitations under the License.\n",
    "# =============================================================================="
   ]
  },
  {
   "cell_type": "code",
   "execution_count": 2,
   "metadata": {
    "collapsed": true
   },
   "outputs": [],
   "source": [
    "\"\"\"Tests for tensorflow.ctc_ops.ctc_decoder_ops.\"\"\"\n",
    "from __future__ import absolute_import\n",
    "from __future__ import division\n",
    "from __future__ import print_function\n",
    "\n",
    "import numpy as np\n",
    "import tensorflow as tf\n",
    "import random"
   ]
  },
  {
   "cell_type": "code",
   "execution_count": 3,
   "metadata": {
    "collapsed": true
   },
   "outputs": [],
   "source": [
    "def SimpleSparseTensorFrom(x):\n",
    "  \"\"\"Create a very simple SparseTensor with dimensions (batch, time).\n",
    "  Args:\n",
    "    x: a list of lists of type int\n",
    "  Returns:\n",
    "    x_ix and x_val, the indices and values of the SparseTensor<2>.\n",
    "  \"\"\"\n",
    "  x_ix = []\n",
    "  x_val = []\n",
    "  for batch_i, batch in enumerate(x):\n",
    "    for time, val in enumerate(batch):\n",
    "      x_ix.append([batch_i, time])\n",
    "      x_val.append(val)\n",
    "  x_shape = [len(x), np.asarray(x_ix).max(0)[1]+1]\n",
    "  x_ix = tf.constant(x_ix, tf.int64)\n",
    "  x_val = tf.constant(x_val, tf.int32)\n",
    "  x_shape = tf.constant(x_shape, tf.int64)\n",
    "\n",
    "  return tf.SparseTensor(x_ix, x_val, x_shape)"
   ]
  },
  {
   "cell_type": "code",
   "execution_count": 4,
   "metadata": {
    "collapsed": false
   },
   "outputs": [
    {
     "name": "stdout",
     "output_type": "stream",
     "text": [
      "int64\n",
      "(100, 10)\n"
     ]
    }
   ],
   "source": [
    "# Createa a random sparse matrix of size 100X10\n",
    "x = np.random.random(size=(100,10))\n",
    "x[x > 0.90] = 1\n",
    "x[x != 1] = 0\n",
    "x = x.astype('int')\n",
    "print (x.dtype)\n",
    "print (x.shape)"
   ]
  },
  {
   "cell_type": "code",
   "execution_count": 5,
   "metadata": {
    "collapsed": false
   },
   "outputs": [
    {
     "name": "stdout",
     "output_type": "stream",
     "text": [
      "SparseTensor(indices=Tensor(\"Const:0\", shape=(1000, 2), dtype=int64), values=Tensor(\"Const_1:0\", shape=(1000,), dtype=int32), shape=Tensor(\"Const_2:0\", shape=(2,), dtype=int64))\n"
     ]
    }
   ],
   "source": [
    "print (SimpleSparseTensorFrom(x))\n",
    "sess = tf.InteractiveSession()\n",
    "#print (SimpleSparseTensorFrom(x).eval())\n",
    "sess.close()"
   ]
  },
  {
   "cell_type": "code",
   "execution_count": 6,
   "metadata": {
    "collapsed": false
   },
   "outputs": [
    {
     "name": "stdout",
     "output_type": "stream",
     "text": [
      "3.0\n"
     ]
    }
   ],
   "source": [
    "session = tf.Session()\n",
    "\n",
    "# Graph definition\n",
    "x = tf.sparse_placeholder(tf.float32)\n",
    "y = tf.sparse_reduce_sum(x)\n",
    "\n",
    "# Values to feed the sparse placeholder\n",
    "indices = np.array([[3, 2, 0], [4, 5, 1]], dtype=np.int64)\n",
    "values = np.array([1.0, 2.0], dtype=np.float32)\n",
    "shape = np.array([7, 9, 2], dtype=np.int64)\n",
    "print(sess.run(y, feed_dict={ x: tf.SparseTensorValue(indices, values, shape)}))  \n",
    "session.close()"
   ]
  },
  {
   "cell_type": "code",
   "execution_count": 7,
   "metadata": {
    "collapsed": false
   },
   "outputs": [],
   "source": [
    "num_features = 13\n",
    "num_hidden = 5\n",
    "num_layers = 6\n",
    "\n",
    "\n",
    "# e.g: log filter bank or MFCC features\n",
    "# Has size [batch_size, max_stepsize, num_features], but the\n",
    "# batch_size and max_stepsize can vary along each step\n",
    "inputs  = tf.placeholder(tf.float32, [None, None, num_features])\n",
    "\n",
    "# Here we use sparse_placeholder that will generate a\n",
    "# SparseTensor required by ctc_loss op.\n",
    "targets = tf.sparse_placeholder(tf.int32)\n",
    "\n",
    "# 1d array of size [batch_size]\n",
    "seq_len = tf.placeholder(tf.int32, [None])"
   ]
  },
  {
   "cell_type": "code",
   "execution_count": 8,
   "metadata": {
    "collapsed": false,
    "scrolled": false
   },
   "outputs": [],
   "source": [
    "cell = tf.nn.rnn_cell.LSTMCell(num_hidden, state_is_tuple=True)\n",
    "\n",
    "# Stacking rnn cells\n",
    "stack = tf.nn.rnn_cell.MultiRNNCell([cell] * num_layers,\n",
    "                                    state_is_tuple=True)\n",
    "\n",
    "# The second output is the last state and we will no use that\n",
    "outputs, _ = tf.nn.dynamic_rnn(stack, inputs, seq_len, dtype=tf.float32)"
   ]
  },
  {
   "cell_type": "code",
   "execution_count": 9,
   "metadata": {
    "collapsed": false
   },
   "outputs": [
    {
     "ename": "TypeError",
     "evalue": "'Tensor' object is not iterable.",
     "output_type": "error",
     "traceback": [
      "\u001b[0;31m---------------------------------------------------------------------------\u001b[0m",
      "\u001b[0;31mTypeError\u001b[0m                                 Traceback (most recent call last)",
      "\u001b[0;32m<ipython-input-9-4a5dc5e953a0>\u001b[0m in \u001b[0;36m<module>\u001b[0;34m()\u001b[0m\n\u001b[0;32m----> 1\u001b[0;31m \u001b[0mbatch_size\u001b[0m\u001b[0;34m,\u001b[0m \u001b[0mmax_timesteps\u001b[0m \u001b[0;34m=\u001b[0m \u001b[0mtf\u001b[0m\u001b[0;34m.\u001b[0m\u001b[0mshape\u001b[0m\u001b[0;34m(\u001b[0m\u001b[0minputs\u001b[0m\u001b[0;34m)\u001b[0m\u001b[0;34m[\u001b[0m\u001b[0;34m:\u001b[0m\u001b[0;36m2\u001b[0m\u001b[0;34m]\u001b[0m\u001b[0;34m\u001b[0m\u001b[0m\n\u001b[0m\u001b[1;32m      2\u001b[0m \u001b[0moutputs\u001b[0m \u001b[0;34m=\u001b[0m \u001b[0mtf\u001b[0m\u001b[0;34m.\u001b[0m\u001b[0mreshape\u001b[0m\u001b[0;34m(\u001b[0m\u001b[0moutputs\u001b[0m\u001b[0;34m,\u001b[0m \u001b[0;34m[\u001b[0m\u001b[0;34m-\u001b[0m\u001b[0;36m1\u001b[0m\u001b[0;34m,\u001b[0m \u001b[0mnum_hidden\u001b[0m\u001b[0;34m]\u001b[0m\u001b[0;34m)\u001b[0m\u001b[0;34m\u001b[0m\u001b[0m\n",
      "\u001b[0;32m/home/ankdesh/installed/anaconda2/envs/tf0.11/lib/python2.7/site-packages/tensorflow/python/framework/ops.pyc\u001b[0m in \u001b[0;36m__iter__\u001b[0;34m(self)\u001b[0m\n\u001b[1;32m    497\u001b[0m       \u001b[0mTypeError\u001b[0m\u001b[0;34m:\u001b[0m \u001b[0mwhen\u001b[0m \u001b[0minvoked\u001b[0m\u001b[0;34m.\u001b[0m\u001b[0;34m\u001b[0m\u001b[0m\n\u001b[1;32m    498\u001b[0m     \"\"\"\n\u001b[0;32m--> 499\u001b[0;31m     \u001b[0;32mraise\u001b[0m \u001b[0mTypeError\u001b[0m\u001b[0;34m(\u001b[0m\u001b[0;34m\"'Tensor' object is not iterable.\"\u001b[0m\u001b[0;34m)\u001b[0m\u001b[0;34m\u001b[0m\u001b[0m\n\u001b[0m\u001b[1;32m    500\u001b[0m \u001b[0;34m\u001b[0m\u001b[0m\n\u001b[1;32m    501\u001b[0m   \u001b[0;32mdef\u001b[0m \u001b[0m__bool__\u001b[0m\u001b[0;34m(\u001b[0m\u001b[0mself\u001b[0m\u001b[0;34m)\u001b[0m\u001b[0;34m:\u001b[0m\u001b[0;34m\u001b[0m\u001b[0m\n",
      "\u001b[0;31mTypeError\u001b[0m: 'Tensor' object is not iterable."
     ]
    }
   ],
   "source": [
    "batch_size, max_timesteps = tf.shape(inputs)[:2]\n",
    "outputs = tf.reshape(outputs, [-1, num_hidden])"
   ]
  },
  {
   "cell_type": "code",
   "execution_count": null,
   "metadata": {
    "collapsed": true
   },
   "outputs": [],
   "source": []
  }
 ],
 "metadata": {
  "kernelspec": {
   "display_name": "Python 2",
   "language": "python",
   "name": "python2"
  },
  "language_info": {
   "codemirror_mode": {
    "name": "ipython",
    "version": 2
   },
   "file_extension": ".py",
   "mimetype": "text/x-python",
   "name": "python",
   "nbconvert_exporter": "python",
   "pygments_lexer": "ipython2",
   "version": "2.7.12"
  }
 },
 "nbformat": 4,
 "nbformat_minor": 1
}

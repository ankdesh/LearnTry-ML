{
 "cells": [
  {
   "cell_type": "markdown",
   "metadata": {
    "colab_type": "text",
    "id": "view-in-github"
   },
   "source": [
    "<a href=\"https://colab.research.google.com/github/rll/deepul/blob/master/demos/lecture1_autoregressive_models_demos.ipynb\" target=\"_parent\"><img src=\"https://colab.research.google.com/assets/colab-badge.svg\" alt=\"Open In Colab\"/></a>"
   ]
  },
  {
   "cell_type": "markdown",
   "metadata": {
    "colab_type": "text",
    "id": "q0xBRuDLXD-N"
   },
   "source": [
    "# Getting Started\n",
    "Go to **Runtime -> Change runtime type** and make sure **Hardward accelerator** is set to **GPU**"
   ]
  },
  {
   "cell_type": "code",
   "execution_count": null,
   "metadata": {
    "colab": {
     "base_uri": "https://localhost:8080/",
     "height": 613
    },
    "colab_type": "code",
    "id": "fKZWtWnbit7Y",
    "outputId": "06218bdf-c09f-4c44-9ced-fc252b719db8"
   },
   "outputs": [],
   "source": [
    "!if [ -d cs294-158-autoreg-master ]; then rm -Rf cs294-158-autoreg-master; fi\n",
    "!wget --load-cookies /tmp/cookies.txt \"https://docs.google.com/uc?export=download&confirm=$(wget --quiet --save-cookies /tmp/cookies.txt --keep-session-cookies --no-check-certificate 'https://docs.google.com/uc?export=download&id=17npUPcK1eXV9YtMMODwQEIvLkUgq8m2m' -O- | sed -rn 's/.*confirm=([0-9A-Za-z_]+).*/\\1\\n/p')&id=17npUPcK1eXV9YtMMODwQEIvLkUgq8m2m\" -O cs294-158-autoreg-master.zip && rm -rf /tmp/cookies.txt\n",
    "!unzip -qq cs294-158-autoreg-master.zip\n",
    "!rm cs294-158-autoreg-master.zip\n",
    "!pip install cs294-158-autoreg-master/"
   ]
  },
  {
   "cell_type": "code",
   "execution_count": null,
   "metadata": {
    "colab": {
     "base_uri": "https://localhost:8080/",
     "height": 469
    },
    "colab_type": "code",
    "id": "NpU4EX1PCFZR",
    "outputId": "9d813970-a785-497e-80d7-7669673e7541"
   },
   "outputs": [],
   "source": [
    "!if [ -d pretrained_models ]; then rm -Rf pretrained_models; fi\n",
    "!wget --load-cookies /tmp/cookies.txt \"https://docs.google.com/uc?export=download&confirm=$(wget --quiet --save-cookies /tmp/cookies.txt --keep-session-cookies --no-check-certificate 'https://docs.google.com/uc?export=download&id=1CuFbTWshUfmU3F4bc2SODxzMm1vFU4hC' -O- | sed -rn 's/.*confirm=([0-9A-Za-z_]+).*/\\1\\n/p')&id=1CuFbTWshUfmU3F4bc2SODxzMm1vFU4hC\" -O pretrained_models.zip && rm -rf /tmp/cookies.txt\n",
    "!unzip -qq pretrained_models.zip\n",
    "!rm pretrained_models.zip"
   ]
  },
  {
   "cell_type": "code",
   "execution_count": 1,
   "metadata": {
    "colab": {
     "base_uri": "https://localhost:8080/",
     "height": 415,
     "referenced_widgets": [
      "f7b57e3a38794e7bb5204c813941871e",
      "4f5206f39de2473fb57bf73759e876a1",
      "760c809a700f41d0858e21db309026ad",
      "7ba4bf546a0f4ddcaee4d1cd4a1afab8",
      "b3f952ddd65a41c89dcf172de4ae682e",
      "07ff604bbe6347eebe971aa9ac64bcbf",
      "058c6550a5a54d7b904802cc2c5c6c39",
      "1153ae6a9cf64f35809dbfdf5c4ead55",
      "3b492ba331684509a3ad5cd39a30a78c",
      "d7db5a0fe2b94b82ab2bc6b106fb64f1",
      "f746d532385144579fe9477cd259c031",
      "4d0f01930a154177975ba70089e0ae25",
      "5904813ca80b450c8b977f6000dd652a",
      "1fa44d3e496c40e38d08d2a4444e6f16",
      "487d3d2ddb3e4bb39ec241913d818e43",
      "a50eabe20d6249d780d91efe5839f513",
      "b595714c249146c5bcaf12483a31163f",
      "c544851321074c51862868d957ee5da3",
      "1cd28f9ce5474cc8bd5c14ffc2974176",
      "7a4bc2b872c54abba71bbdbcc079d635",
      "ca9183bc83ac403a9873e0cac9c20684",
      "01d6b6c3a4f949f38620249b2c9a7163",
      "32f787b74fd8471e97ac6050edc6db87",
      "b85c66e88b5d480189cd6d5f86b2b62e",
      "327bd292ec5648178c48e54b67d7d054",
      "4b6cdadcd6a64f5193f10e2b782c3fb3",
      "2d5efc0561f648e58c3dd576685e342a",
      "ee14baa43cc24bd6abad14e5ec5768bd",
      "c4411aa728e6499e96eac306daf53ea7",
      "2e7ef29132fc4f77b8c2fd86a2a8941f",
      "2a51f5a97e7440b89526e6d2dbffe6c8",
      "0fc94c9d31f742a296dd2dac2ad76b50"
     ]
    },
    "colab_type": "code",
    "id": "cEtE86BNyDyK",
    "outputId": "75870910-ecaf-4602-a5c6-e5fa6ffa785f"
   },
   "outputs": [
    {
     "name": "stdout",
     "output_type": "stream",
     "text": [
      "Pre-downloaded dataset\n"
     ]
    }
   ],
   "source": [
    "def load_data():\n",
    "    from torchvision import transforms\n",
    "    from torchvision.datasets import MNIST\n",
    "    import torch.utils.data as data\n",
    "\n",
    "    transform = transforms.Compose([\n",
    "        transforms.ToTensor(),\n",
    "        lambda x: (x > 0.5).float()\n",
    "    ])\n",
    "    train_dset = MNIST('data', transform=transform, train=True, download=True)\n",
    "    test_dset = MNIST('data', transform=transform, train=False, download=True)\n",
    "\n",
    "    train_loader = data.DataLoader(train_dset, batch_size=128, shuffle=True,\n",
    "                                   pin_memory=True, num_workers=2)\n",
    "    test_loader = data.DataLoader(test_dset, batch_size=128, shuffle=True,\n",
    "                                  pin_memory=True, num_workers=2)\n",
    "\n",
    "    return train_loader, test_loader\n",
    "load_data()\n",
    "print('Pre-downloaded dataset')\n",
    "\n",
    "import warnings\n",
    "warnings.filterwarnings('ignore')"
   ]
  },
  {
   "cell_type": "markdown",
   "metadata": {
    "colab_type": "text",
    "id": "aokGLLmfMTLS"
   },
   "source": [
    "#Demo 1: Fitting a Simple 1D Discrete Distribution\n",
    "In this demo, we design a 1D dataset with intentially missing data for certain values, and compare the performance of simple histogram fitting versus parameterizing our distribution as a mixture of logistics. "
   ]
  },
  {
   "cell_type": "code",
   "execution_count": 48,
   "metadata": {
    "colab": {},
    "colab_type": "code",
    "id": "bVlnkWCSjU7R"
   },
   "outputs": [],
   "source": [
    "import numpy as np\n",
    "import matplotlib.pyplot as plt\n",
    "import torch\n",
    "import torch.nn as nn\n",
    "import torch.nn.functional as F\n",
    "import torch.optim as optim\n",
    "from torch.utils.data import TensorDataset, DataLoader\n",
    "\n",
    "from deepul_helper.data import load_demo_1\n",
    "from deepul_helper.visualize import plot_hist, plot_train_curves"
   ]
  },
  {
   "cell_type": "markdown",
   "metadata": {
    "colab_type": "text",
    "id": "z_uG-GZTMfXj"
   },
   "source": [
    "## Initializing Hyperparameters and Visualizing Dataset"
   ]
  },
  {
   "cell_type": "code",
   "execution_count": 3,
   "metadata": {
    "colab": {
     "base_uri": "https://localhost:8080/",
     "height": 295
    },
    "colab_type": "code",
    "id": "WvRe-m-Ip-nO",
    "outputId": "04f586f4-23a9-4657-8fbf-ee7251151e7f"
   },
   "outputs": [
    {
     "data": {
      "image/png": "[encoded data removed]",
      "text/plain": [
       "<Figure size 432x288 with 1 Axes>"
      ]
     },
     "metadata": {
      "needs_background": "light"
     },
     "output_type": "display_data"
    }
   ],
   "source": [
    "SEED = 1\n",
    "np.random.seed(SEED)\n",
    "torch.manual_seed(SEED)\n",
    "\n",
    "n_train, d = 1000, 100\n",
    "loader_args = dict(batch_size=128, shuffle=True)\n",
    "train_loader = load_demo_1(n_train, 1, d, loader_args, visualize=True, train_only=True)"
   ]
  },
  {
   "cell_type": "markdown",
   "metadata": {},
   "source": [
    "## ASD: 1D Data\n",
    "Here the data-set is a series of numbers. Each number is a scalar value in [0,d]. Hence the histogram is a 1D plot upto d value. p(x) here is the normalized frequecy of occurance of the values."
   ]
  },
  {
   "cell_type": "markdown",
   "metadata": {
    "colab_type": "text",
    "id": "Km8rEqcsMluV"
   },
   "source": [
    "## Training Code\n",
    "We optimize our models using gradient descent and minimize negative log-likelihood."
   ]
  },
  {
   "cell_type": "code",
   "execution_count": 4,
   "metadata": {
    "colab": {},
    "colab_type": "code",
    "id": "-xVOdCP4jXjE"
   },
   "outputs": [],
   "source": [
    "def train(model, train_loader, optimizer):\n",
    "    model.train()\n",
    "    for x in train_loader:\n",
    "        loss = model.nll(x)\n",
    "        optimizer.zero_grad()\n",
    "        loss.backward()\n",
    "        optimizer.step()\n",
    "\n",
    "\n",
    "def eval_loss(model, data_loader):\n",
    "    model.eval()\n",
    "    total_loss = 0\n",
    "    with torch.no_grad():\n",
    "        for x in data_loader:\n",
    "            loss = model.nll(x)\n",
    "            total_loss += loss * x.shape[0]\n",
    "        avg_loss = total_loss / len(data_loader.dataset)\n",
    "    return avg_loss.item()\n",
    "\n",
    "\n",
    "def train_epochs(model, train_loader, test_loader, train_args):\n",
    "    epochs, lr = train_args['epochs'], train_args['lr']\n",
    "    optimizer = optim.Adam(model.parameters(), lr=lr)\n",
    "\n",
    "    train_losses, test_losses = [], []\n",
    "    for epoch in range(epochs):\n",
    "        model.train()\n",
    "\n",
    "        train(model, train_loader, optimizer)\n",
    "        train_loss = eval_loss(model, train_loader)\n",
    "        train_losses.append(train_loss)\n",
    "\n",
    "        if test_loader is not None:\n",
    "            test_loss = eval_loss(model, test_loader)\n",
    "            test_losses.append(test_loss)\n",
    "\n",
    "        if epoch in [0, 2, 10, 50, 99]:\n",
    "            plot_hist(train_loader.dataset.array, bins=d,\n",
    "                      title=f'Epoch {epoch}', density=model.get_density())\n",
    "    if test_loader is not None:\n",
    "      print('Test Loss', test_loss)\n",
    "\n",
    "    plot_train_curves(epochs, train_losses, test_losses, title='Training Curve')"
   ]
  },
  {
   "cell_type": "markdown",
   "metadata": {
    "colab_type": "text",
    "id": "hunsl7OYMvnx"
   },
   "source": [
    "## Model 1: Histogram"
   ]
  },
  {
   "cell_type": "code",
   "execution_count": 10,
   "metadata": {
    "colab": {
     "base_uri": "https://localhost:8080/",
     "height": 1000
    },
    "colab_type": "code",
    "id": "VuPKxbPtoHeU",
    "outputId": "e2ad0ac9-c72f-421d-aae0-c9939fbe445b",
    "scrolled": false
   },
   "outputs": [
    {
     "data": {
      "image/png": "[encoded data removed]",
      "text/plain": [
       "<Figure size 432x288 with 1 Axes>"
      ]
     },
     "metadata": {
      "needs_background": "light"
     },
     "output_type": "display_data"
    },
    {
     "data": {
      "image/png": "[encoded data removed]",
      "text/plain": [
       "<Figure size 432x288 with 1 Axes>"
      ]
     },
     "metadata": {
      "needs_background": "light"
     },
     "output_type": "display_data"
    },
    {
     "data": {
      "image/png": "[encoded data removed]",
      "text/plain": [
       "<Figure size 432x288 with 1 Axes>"
      ]
     },
     "metadata": {
      "needs_background": "light"
     },
     "output_type": "display_data"
    },
    {
     "data": {
      "image/png": "[encoded data removed]",
      "text/plain": [
       "<Figure size 432x288 with 1 Axes>"
      ]
     },
     "metadata": {
      "needs_background": "light"
     },
     "output_type": "display_data"
    },
    {
     "data": {
      "image/png": "[encoded data removed]",
      "text/plain": [
       "<Figure size 432x288 with 1 Axes>"
      ]
     },
     "metadata": {
      "needs_background": "light"
     },
     "output_type": "display_data"
    },
    {
     "data": {
      "image/png": "[encoded data removed]",
      "text/plain": [
       "<Figure size 432x288 with 1 Axes>"
      ]
     },
     "metadata": {
      "needs_background": "light"
     },
     "output_type": "display_data"
    }
   ],
   "source": [
    "class Histogram(nn.Module):\n",
    "    def __init__(self, d):\n",
    "        super().__init__()\n",
    "        self.d = d\n",
    "        self.logits = nn.Parameter(torch.zeros(d), requires_grad=True)\n",
    "\n",
    "    # Compute loss as negative log-likelihood\n",
    "    def nll(self, x):\n",
    "        nll = nn.NLLLoss()\n",
    "        logsoftmax = nn.LogSoftmax()\n",
    "        logits = logsoftmax(self.logits.unsqueeze(0).repeat(x.shape[0], 1))\n",
    "        return nll(logits,x.long()) \n",
    "        #return F.cross_entropy(logits, x.long())\n",
    "\n",
    "    def get_density(self):\n",
    "        x = np.linspace(-0.5, self.d - 0.5, 1000)\n",
    "        with torch.no_grad():\n",
    "            y = F.softmax(self.logits, dim=0).unsqueeze(1).repeat(1, 1000 // self.d).view(-1).numpy()\n",
    "        #print (x.shape,y.shape)\n",
    "        return x, y\n",
    "\n",
    "hist = Histogram(d)\n",
    "train_epochs(hist, train_loader, None, dict(epochs=100, lr=2.5e-2))"
   ]
  },
  {
   "cell_type": "markdown",
   "metadata": {
    "colab_type": "text",
    "id": "BGRVFnH-MzNt"
   },
   "source": [
    "## Model 2: Discretized Mixture of Logistics"
   ]
  },
  {
   "cell_type": "markdown",
   "metadata": {},
   "source": [
    "## ASD: Read more about Logistics fucntion and its use here\n",
    "Here logistics is used to model the probablity density function. Read more about it at https://arxiv.org/pdf/1701.05517.pdf , http://bjlkeng.github.io/posts/pixelcnn/\""
   ]
  },
  {
   "cell_type": "code",
   "execution_count": 11,
   "metadata": {
    "colab": {
     "base_uri": "https://localhost:8080/",
     "height": 1000
    },
    "colab_type": "code",
    "id": "QcAq5-oCHKuc",
    "outputId": "b421d6e0-ed2c-4ead-c1bf-b3eeaaee6d11"
   },
   "outputs": [
    {
     "data": {
      "image/png": "[encoded data removed]",
      "text/plain": [
       "<Figure size 432x288 with 1 Axes>"
      ]
     },
     "metadata": {
      "needs_background": "light"
     },
     "output_type": "display_data"
    },
    {
     "data": {
      "image/png": "[encoded data removed]",
      "text/plain": [
       "<Figure size 432x288 with 1 Axes>"
      ]
     },
     "metadata": {
      "needs_background": "light"
     },
     "output_type": "display_data"
    },
    {
     "data": {
      "image/png": "[encoded data removed]",
      "text/plain": [
       "<Figure size 432x288 with 1 Axes>"
      ]
     },
     "metadata": {
      "needs_background": "light"
     },
     "output_type": "display_data"
    },
    {
     "data": {
      "image/png": "[encoded data removed]",
      "text/plain": [
       "<Figure size 432x288 with 1 Axes>"
      ]
     },
     "metadata": {
      "needs_background": "light"
     },
     "output_type": "display_data"
    },
    {
     "data": {
      "image/png": "[encoded data removed]",
      "text/plain": [
       "<Figure size 432x288 with 1 Axes>"
      ]
     },
     "metadata": {
      "needs_background": "light"
     },
     "output_type": "display_data"
    },
    {
     "data": {
      "image/png": "[encoded data removed]",
      "text/plain": [
       "<Figure size 432x288 with 1 Axes>"
      ]
     },
     "metadata": {
      "needs_background": "light"
     },
     "output_type": "display_data"
    }
   ],
   "source": [
    "class MixtureOfLogistics(nn.Module):\n",
    "    def __init__(self, d, n_mix=4):\n",
    "        super().__init__()\n",
    "        self.d = d\n",
    "        self.n_mix = n_mix\n",
    "\n",
    "        self.logits = nn.Parameter(torch.zeros(n_mix), requires_grad=True)\n",
    "        self.means = nn.Parameter(torch.arange(n_mix).float() / (n_mix - 1) * d, requires_grad=True)\n",
    "        self.log_scales = nn.Parameter(torch.randn(n_mix), requires_grad=True)\n",
    "\n",
    "    def nll(self, x):\n",
    "        x = x.unsqueeze(1).repeat(1, self.n_mix) # b x n_mix\n",
    "        means, log_scales = self.means.unsqueeze(0), self.log_scales.unsqueeze(0) # 1 x n_mix\n",
    "        inv_scales = torch.exp(-log_scales)\n",
    "\n",
    "        plus_in = inv_scales * (x + 0.5 - means)\n",
    "        min_in = inv_scales * (x - 0.5 - means)\n",
    "\n",
    "        cdf_plus = torch.sigmoid(plus_in) # CDF of logistics at x + 0.5\n",
    "        cdf_min = torch.sigmoid(min_in) # CDF of logistics at x - 0.5\n",
    "\n",
    "        cdf_delta = cdf_plus - cdf_min # probability of x in bin [x - 0.5, x + 0.5]\n",
    "        log_cdf_delta = torch.log(torch.clamp(cdf_delta, min=1e-12))\n",
    "        log_cdf_plus = torch.sigmoid(inv_scales * (0.5 - means))\n",
    "        log_cdf_min = torch.sigmoid(inv_scales * (d - 1.5 - means))\n",
    "\n",
    "        x_log_probs = torch.where(x < 0.001, log_cdf_plus,\n",
    "                                  torch.where(x > d - 1 - 1e-3,\n",
    "                                              log_cdf_min, log_cdf_delta))\n",
    "        pi_log_probs = F.log_softmax(self.logits, dim=0).unsqueeze(0)\n",
    "        log_probs = x_log_probs + pi_log_probs\n",
    "        return -torch.mean(torch.logsumexp(log_probs, dim=1))\n",
    "\n",
    "    def get_density(self):\n",
    "        x = np.linspace(-0.5, self.d - 1 + 0.5, 1000)\n",
    "\n",
    "        with torch.no_grad():\n",
    "            x_pt = torch.FloatTensor(x).unsqueeze(1)\n",
    "            means, log_scales = self.means.unsqueeze(0), self.log_scales.unsqueeze(0)\n",
    "            pi_log_probs = F.log_softmax(self.logits, dim=0).unsqueeze(0)\n",
    "\n",
    "            # Calculate pdf of logistic distributions and weight them\n",
    "            # according to learned mixture probabilities\n",
    "            x_in = (x_pt - means) * torch.exp(-log_scales)\n",
    "            log_pdf = x_in - log_scales - 2 * F.softplus(x_in)\n",
    "            log_pdf = log_pdf + pi_log_probs\n",
    "            log_pdf = torch.logsumexp(log_pdf, dim=1)\n",
    "            pdf = log_pdf.exp()\n",
    "\n",
    "        return x, pdf.numpy()\n",
    "\n",
    "discretized = MixtureOfLogistics(d, n_mix=4)\n",
    "train_epochs(discretized, train_loader, None, dict(epochs=100, lr=1e-1))"
   ]
  },
  {
   "cell_type": "markdown",
   "metadata": {
    "colab_type": "text",
    "id": "oWXZk3KCmWTt"
   },
   "source": [
    "## Comparing with Test Data (with missing data)\n"
   ]
  },
  {
   "cell_type": "code",
   "execution_count": 12,
   "metadata": {
    "colab": {
     "base_uri": "https://localhost:8080/",
     "height": 573
    },
    "colab_type": "code",
    "id": "vixhjwuwmVp0",
    "outputId": "cf5de442-ad2b-4a30-93bf-02ea00755307"
   },
   "outputs": [
    {
     "data": {
      "image/png": "[encoded data removed]",
      "text/plain": [
       "<Figure size 432x288 with 1 Axes>"
      ]
     },
     "metadata": {
      "needs_background": "light"
     },
     "output_type": "display_data"
    },
    {
     "data": {
      "image/png": "[encoded data removed]",
      "text/plain": [
       "<Figure size 432x288 with 1 Axes>"
      ]
     },
     "metadata": {
      "needs_background": "light"
     },
     "output_type": "display_data"
    }
   ],
   "source": [
    "n_train, n_test, d = 1000, 500, 100\n",
    "loader_args = dict(batch_size=128, shuffle=True)\n",
    "train_loader, test_loader = load_demo_1(n_train, n_test, d, loader_args, visualize=True)"
   ]
  },
  {
   "cell_type": "code",
   "execution_count": 13,
   "metadata": {
    "colab": {
     "base_uri": "https://localhost:8080/",
     "height": 1000
    },
    "colab_type": "code",
    "id": "zIn8c7T7mzPr",
    "outputId": "82e55b33-7f47-4ad4-8c78-3313cb83535f",
    "scrolled": false
   },
   "outputs": [
    {
     "data": {
      "image/png": "[encoded data removed]",
      "text/plain": [
       "<Figure size 432x288 with 1 Axes>"
      ]
     },
     "metadata": {
      "needs_background": "light"
     },
     "output_type": "display_data"
    },
    {
     "data": {
      "image/png": "[encoded data removed]",
      "text/plain": [
       "<Figure size 432x288 with 1 Axes>"
      ]
     },
     "metadata": {
      "needs_background": "light"
     },
     "output_type": "display_data"
    },
    {
     "data": {
      "image/png": "[encoded data removed]",
      "text/plain": [
       "<Figure size 432x288 with 1 Axes>"
      ]
     },
     "metadata": {
      "needs_background": "light"
     },
     "output_type": "display_data"
    },
    {
     "data": {
      "image/png": "[encoded data removed]",
      "text/plain": [
       "<Figure size 432x288 with 1 Axes>"
      ]
     },
     "metadata": {
      "needs_background": "light"
     },
     "output_type": "display_data"
    },
    {
     "data": {
      "image/png": "[encoded data removed]",
      "text/plain": [
       "<Figure size 432x288 with 1 Axes>"
      ]
     },
     "metadata": {
      "needs_background": "light"
     },
     "output_type": "display_data"
    },
    {
     "name": "stdout",
     "output_type": "stream",
     "text": [
      "Test Loss 4.0615386962890625\n"
     ]
    },
    {
     "data": {
      "image/png": "[encoded data removed]",
      "text/plain": [
       "<Figure size 432x288 with 1 Axes>"
      ]
     },
     "metadata": {
      "needs_background": "light"
     },
     "output_type": "display_data"
    }
   ],
   "source": [
    "hist = Histogram(d)\n",
    "train_epochs(hist, train_loader, test_loader, dict(epochs=100, lr=2.5e-2))"
   ]
  },
  {
   "cell_type": "code",
   "execution_count": 14,
   "metadata": {
    "colab": {
     "base_uri": "https://localhost:8080/",
     "height": 1000
    },
    "colab_type": "code",
    "id": "EWcQxqJlm3Ar",
    "outputId": "5060d38d-9a75-4ccd-fc1a-b37ffff1f1a3"
   },
   "outputs": [
    {
     "data": {
      "image/png": "[encoded data removed]",
      "text/plain": [
       "<Figure size 432x288 with 1 Axes>"
      ]
     },
     "metadata": {
      "needs_background": "light"
     },
     "output_type": "display_data"
    },
    {
     "data": {
      "image/png": "[encoded data removed]",
      "text/plain": [
       "<Figure size 432x288 with 1 Axes>"
      ]
     },
     "metadata": {
      "needs_background": "light"
     },
     "output_type": "display_data"
    },
    {
     "data": {
      "image/png": "[encoded data removed]",
      "text/plain": [
       "<Figure size 432x288 with 1 Axes>"
      ]
     },
     "metadata": {
      "needs_background": "light"
     },
     "output_type": "display_data"
    },
    {
     "data": {
      "image/png": "[encoded data removed]",
      "text/plain": [
       "<Figure size 432x288 with 1 Axes>"
      ]
     },
     "metadata": {
      "needs_background": "light"
     },
     "output_type": "display_data"
    },
    {
     "data": {
      "image/png": "[encoded data removed]",
      "text/plain": [
       "<Figure size 432x288 with 1 Axes>"
      ]
     },
     "metadata": {
      "needs_background": "light"
     },
     "output_type": "display_data"
    },
    {
     "name": "stdout",
     "output_type": "stream",
     "text": [
      "Test Loss 4.033889293670654\n"
     ]
    },
    {
     "data": {
      "image/png": "[encoded data removed]",
      "text/plain": [
       "<Figure size 432x288 with 1 Axes>"
      ]
     },
     "metadata": {
      "needs_background": "light"
     },
     "output_type": "display_data"
    }
   ],
   "source": [
    "discretized = MixtureOfLogistics(d, n_mix=4)\n",
    "train_epochs(discretized, train_loader, test_loader, dict(epochs=100, lr=1e-1))"
   ]
  },
  {
   "cell_type": "markdown",
   "metadata": {
    "colab_type": "text",
    "id": "RrIexW-LVNiW"
   },
   "source": [
    "# Demo 2: A Simple Autoregressive Model on 2D Data"
   ]
  },
  {
   "cell_type": "code",
   "execution_count": 15,
   "metadata": {
    "colab": {},
    "colab_type": "code",
    "id": "2XEkD7wP1I4E"
   },
   "outputs": [],
   "source": [
    "from tqdm import tqdm\n",
    "import numpy as np\n",
    "import torch\n",
    "import torch.nn as nn\n",
    "import torch.nn.functional as F\n",
    "import torch.optim as optim\n",
    "\n",
    "from deepul_helper.data import load_demo_2\n",
    "from deepul_helper.utils import to_one_hot\n",
    "from deepul_helper.visualize import plot_2d_dist, plot_train_curves"
   ]
  },
  {
   "cell_type": "markdown",
   "metadata": {},
   "source": [
    "## ASD: 2D Data\n",
    "Here 2D data is a series of 2-ary tuple (x0,x1). x0 represents the row and x1 represents the column. The images below are just 2D histograms. Do not confuse them as pixels. d defines the dimentionality of the data. Histogram needs to be of size (d,d). x0,x1 can both take values between [0,d] only.  "
   ]
  },
  {
   "cell_type": "code",
   "execution_count": 43,
   "metadata": {
    "colab": {
     "base_uri": "https://localhost:8080/",
     "height": 523
    },
    "colab_type": "code",
    "id": "3HHciogAVRBZ",
    "outputId": "df148a76-460f-48f9-a4f7-bcac9043ea3a"
   },
   "outputs": [
    {
     "data": {
      "image/png": "[encoded data removed]",
      "text/plain": [
       "<Figure size 432x288 with 2 Axes>"
      ]
     },
     "metadata": {
      "needs_background": "light"
     },
     "output_type": "display_data"
    },
    {
     "data": {
      "image/png": "[encoded data removed]",
      "text/plain": [
       "<Figure size 432x288 with 2 Axes>"
      ]
     },
     "metadata": {
      "needs_background": "light"
     },
     "output_type": "display_data"
    }
   ],
   "source": [
    "SEED = 1\n",
    "np.random.seed(SEED)\n",
    "torch.manual_seed(SEED)\n",
    "\n",
    "device = torch.device('cuda')\n",
    "n_train, n_test, d = 10000, 2500, 25\n",
    "loader_args = dict(batch_size=128, shuffle=True)\n",
    "train_loader, test_loader = load_demo_2(n_train, n_test, d, loader_args, visualize=True)"
   ]
  },
  {
   "cell_type": "code",
   "execution_count": 44,
   "metadata": {},
   "outputs": [
    {
     "name": "stdout",
     "output_type": "stream",
     "text": [
      "torch.Size([128, 2])\n"
     ]
    }
   ],
   "source": [
    "print (next(iter(train_loader)).shape)"
   ]
  },
  {
   "cell_type": "code",
   "execution_count": 45,
   "metadata": {},
   "outputs": [
    {
     "name": "stdout",
     "output_type": "stream",
     "text": [
      "torch.Size([128, 2])\n",
      "tensor([[ 9.,  1.],\n",
      "        [15., 17.],\n",
      "        [17.,  1.],\n",
      "        [ 3., 22.],\n",
      "        [ 4., 13.]])\n"
     ]
    }
   ],
   "source": [
    "btch = next(iter(train_loader))\n",
    "print (btch.shape)\n",
    "print (btch[:5])"
   ]
  },
  {
   "cell_type": "code",
   "execution_count": 46,
   "metadata": {
    "colab": {},
    "colab_type": "code",
    "id": "onJl5ww31Je4"
   },
   "outputs": [],
   "source": [
    "def train(model, train_loader, optimizer):\n",
    "    model.train()\n",
    "    train_losses = []\n",
    "    for x in train_loader:\n",
    "        x = x.to(device)\n",
    "        loss = model.nll(x)\n",
    "        optimizer.zero_grad()\n",
    "        loss.backward()\n",
    "        optimizer.step()\n",
    "\n",
    "        train_losses.append(loss.item())\n",
    "\n",
    "    return np.mean(train_losses[-50:])\n",
    "\n",
    "def eval_loss(model, data_loader):\n",
    "    model.eval()\n",
    "    total_loss = 0\n",
    "    with torch.no_grad():\n",
    "        for x in data_loader:\n",
    "            x = x.to(device)\n",
    "            loss = model.nll(x)\n",
    "            total_loss += loss * x.shape[0]\n",
    "        avg_loss = total_loss / len(data_loader.dataset)\n",
    "    return avg_loss.item()\n",
    "\n",
    "def train_epochs(model, train_loader, test_loader, train_args):\n",
    "    epochs, lr = train_args['epochs'], train_args['lr']\n",
    "    optimizer = optim.Adam(model.parameters(), lr=lr)\n",
    "\n",
    "    train_losses, test_losses = [], []\n",
    "    for epoch in range(epochs):\n",
    "        train_loss = train(model, train_loader, optimizer)\n",
    "        test_loss = eval_loss(model, test_loader)\n",
    "\n",
    "        train_losses.append(train_loss)\n",
    "        test_losses.append(test_loss)\n",
    "\n",
    "        if epoch in [0, 2, 19, 49, 200]:\n",
    "            plot_2d_dist(model.get_dist(), title=f'Epoch {epoch}, Learned Distribution')\n",
    "\n",
    "    plot_2d_dist(model.get_dist())\n",
    "    plot_train_curves(epochs, train_losses, test_losses, title='Training Curve')"
   ]
  },
  {
   "cell_type": "markdown",
   "metadata": {},
   "source": [
    "## ASD: Autoregressive model\n",
    "Here the distribution has been modeled as p(x0)*p(x1|x0). It could have been modeled direcly as histogram p(x0,x1). "
   ]
  },
  {
   "cell_type": "code",
   "execution_count": 47,
   "metadata": {
    "colab": {
     "base_uri": "https://localhost:8080/",
     "height": 1000
    },
    "colab_type": "code",
    "id": "oKQ2Y8Pb1OSs",
    "outputId": "7bc3a262-198d-4b37-84d7-831fd5d372dd"
   },
   "outputs": [
    {
     "data": {
      "image/png": "[encoded data removed]",
      "text/plain": [
       "<Figure size 432x288 with 1 Axes>"
      ]
     },
     "metadata": {
      "needs_background": "light"
     },
     "output_type": "display_data"
    },
    {
     "data": {
      "image/png": "[encoded data removed]",
      "text/plain": [
       "<Figure size 432x288 with 1 Axes>"
      ]
     },
     "metadata": {
      "needs_background": "light"
     },
     "output_type": "display_data"
    },
    {
     "data": {
      "image/png": "[encoded data removed]",
      "text/plain": [
       "<Figure size 432x288 with 1 Axes>"
      ]
     },
     "metadata": {
      "needs_background": "light"
     },
     "output_type": "display_data"
    },
    {
     "data": {
      "image/png": "[encoded data removed]",
      "text/plain": [
       "<Figure size 432x288 with 1 Axes>"
      ]
     },
     "metadata": {
      "needs_background": "light"
     },
     "output_type": "display_data"
    },
    {
     "data": {
      "image/png": "[encoded data removed]",
      "text/plain": [
       "<Figure size 432x288 with 1 Axes>"
      ]
     },
     "metadata": {
      "needs_background": "light"
     },
     "output_type": "display_data"
    },
    {
     "data": {
      "image/png": "[encoded data removed]",
      "text/plain": [
       "<Figure size 432x288 with 1 Axes>"
      ]
     },
     "metadata": {
      "needs_background": "light"
     },
     "output_type": "display_data"
    }
   ],
   "source": [
    "class SimpleAutoregModel(nn.Module):\n",
    "    # Model p(x0)p(x1|x0), p(x0) as a histogram, p(x1|x0) as an MLP\n",
    "    def __init__(self):\n",
    "        super().__init__()\n",
    "        self.logits_x0 = nn.Parameter(torch.zeros(d), requires_grad=True)\n",
    "        self.cond_x1 = nn.Sequential(\n",
    "            nn.Linear(d, 50),\n",
    "            nn.ReLU(),\n",
    "            nn.Linear(50, 50),\n",
    "            nn.ReLU(),\n",
    "            nn.Linear(50, d)\n",
    "        )\n",
    "\n",
    "    def nll(self, x):\n",
    "        batch_size = x.shape[0]\n",
    "        x0, x1 = x[:, 0], x[:, 1],\n",
    "\n",
    "        # Loss for x0\n",
    "        logits_x0 = self.logits_x0.unsqueeze(0).repeat(batch_size, 1)\n",
    "        nll_x0 = F.cross_entropy(logits_x0, x0.long())\n",
    "\n",
    "        # Loss for x1 | x0\n",
    "        x0_onehot = to_one_hot(x0.long(), d, device) # use onehot as input\n",
    "        logits_x1 = self.cond_x1(x0_onehot)\n",
    "        nll_x1 = F.cross_entropy(logits_x1, x1.long())\n",
    "\n",
    "        return nll_x0 + nll_x1\n",
    "        #return nll_x0\n",
    "\n",
    "    def get_dist(self):\n",
    "        with torch.no_grad():\n",
    "            x0 = torch.arange(d).to(device)\n",
    "            x0 = to_one_hot(x0, d, device)\n",
    "\n",
    "            prob_x0 = F.softmax(self.logits_x0, dim=0).unsqueeze(1)\n",
    "            prob_x1 = F.softmax(self.cond_x1(x0), dim=1)\n",
    "            prob = prob_x0 * prob_x1\n",
    "            return prob.cpu().numpy()\n",
    "\n",
    "\n",
    "model = SimpleAutoregModel().to(device)\n",
    "train_epochs(model, train_loader, test_loader, dict(epochs=50, lr=1e-3))"
   ]
  },
  {
   "cell_type": "markdown",
   "metadata": {
    "colab_type": "text",
    "id": "JANPDly84Vm_"
   },
   "source": [
    "# Demo 3 Different Autoregressive Model Architectures"
   ]
  },
  {
   "cell_type": "code",
   "execution_count": null,
   "metadata": {
    "colab": {},
    "colab_type": "code",
    "id": "XTUdxMHSB2UU"
   },
   "outputs": [],
   "source": [
    "import numpy as np\n",
    "import torch\n",
    "import torch.nn as nn\n",
    "from os.path import join\n",
    "from deepul_helper.models import RNN, MADE, PixelCNN, WaveNet\n",
    "from deepul_helper.visualize import visualize_batch\n",
    "\n",
    "device = torch.device('cuda')\n",
    "seed = 0\n",
    "torch.manual_seed(seed)\n",
    "torch.cuda.manual_seed(seed)"
   ]
  },
  {
   "cell_type": "markdown",
   "metadata": {
    "colab_type": "text",
    "id": "U8AUs9KS4Xjb"
   },
   "source": [
    "## RNN"
   ]
  },
  {
   "cell_type": "code",
   "execution_count": null,
   "metadata": {
    "colab": {},
    "colab_type": "code",
    "id": "LCNqhKvIG2_I"
   },
   "outputs": [],
   "source": [
    "class RNN_Example(nn.Module):\n",
    "\n",
    "    def __init__(self, device, append_loc=False, input_shape=(1, 28, 28), hidden_size=256):\n",
    "        super().__init__()\n",
    "        self.device = device\n",
    "        self.append_loc = append_loc\n",
    "        self.input_channels = input_shape[0] + 2 if append_loc else input_shape[0]\n",
    "        self.hidden_size = hidden_size\n",
    "        self.input_shape = input_shape\n",
    "        self.canvas_size = input_shape[1] * input_shape[2]\n",
    "\n",
    "        self.lstm = nn.LSTM(self.input_channels, self.hidden_size, num_layers=1, batch_first=True)\n",
    "        self.fc = nn.Linear(self.hidden_size, input_shape[0])\n",
    "\n",
    "    def nll(self, x):\n",
    "        batch_size = x.shape[0]\n",
    "        x_inp = append_location(x, self.device) if self.append_loc else x\n",
    "\n",
    "        # Shift input by one to the right\n",
    "        x_inp = x_inp.permute(0, 2, 3, 1).contiguous().view(batch_size, self.canvas_size, self.input_channels)\n",
    "        x_inp = torch.cat((torch.zeros(batch_size, 1, self.input_channels).to(self.device), x_inp[:, :-1]), dim=1)\n",
    "\n",
    "        h0 = torch.zeros(1, x_inp.size(0), self.hidden_size).to(self.device)\n",
    "        c0 = torch.zeros(1, x_inp.size(0), self.hidden_size).to(self.device)\n",
    "\n",
    "        # Forward propagate LSTM\n",
    "        out, _ = self.lstm(x_inp, (h0, c0))  # out: tensor of shape (batch_size, seq_length, hidden_size)\n",
    "\n",
    "        # Decode the hidden state of the last time step\n",
    "        out = self.fc(out).squeeze(-1) # b x 784\n",
    "\n",
    "        return F.binary_cross_entropy_with_logits(out, x.view(batch_size, -1))\n",
    "\n",
    "\n",
    "    def sample(self, n):\n",
    "        with torch.no_grad():\n",
    "            samples = torch.zeros(n, 1, self.input_channels).to(self.device)\n",
    "            h = torch.zeros(1, n, self.hidden_size).to(self.device)\n",
    "            c = torch.zeros(1, n, self.hidden_size).to(self.device)\n",
    "\n",
    "            for i in range(self.canvas_size):\n",
    "                x_inp = samples[:, [i]]\n",
    "                out, (h, c) = self.lstm(x_inp, (h, c))\n",
    "                out = self.fc(out[:, 0, :])\n",
    "                prob = torch.sigmoid(out)\n",
    "                sample_pixel = torch.bernoulli(prob).unsqueeze(-1) # n x 1 x 1\n",
    "                if self.append_loc:\n",
    "                    loc = np.array([i // 28, i % 28]) / 27\n",
    "                    loc = torch.FloatTensor(loc).to(self.device)\n",
    "                    loc = loc.view(1, 1, 2).repeat(n, 1, 1)\n",
    "                    sample_pixel = torch.cat((sample_pixel, loc), dim=-1)\n",
    "                samples = torch.cat((samples, sample_pixel), dim=1)\n",
    "\n",
    "            if self.append_loc:\n",
    "                samples = samples[:, 1:, 0] # only get sampled pixels, ignore location\n",
    "            else:\n",
    "                samples = samples[:, 1:].squeeze(-1) # n x 784\n",
    "            samples = samples.view(n, *self.input_shape)\n",
    "            return samples.cpu()\n"
   ]
  },
  {
   "cell_type": "code",
   "execution_count": null,
   "metadata": {
    "colab": {
     "base_uri": "https://localhost:8080/",
     "height": 1000
    },
    "colab_type": "code",
    "id": "2nz-643k4Y7J",
    "outputId": "93bd1d5a-d165-4aa7-e2de-ea7f0efbb49a"
   },
   "outputs": [],
   "source": [
    "model = RNN(device, append_loc=False).to(device)\n",
    "test_losses = np.load(join('pretrained_models', 'rnn', 'test_losses.npy'))\n",
    "for epoch in [-1, 0, 1, 2, 8, 19]:\n",
    "    model.load_state_dict(torch.load(join('pretrained_models', 'rnn', 'checkpoints', f'epoch{epoch}_state_dict')))\n",
    "    samples = model.sample(64)\n",
    "    if epoch == -1:\n",
    "        visualize_batch(samples, title=f'Intialization')\n",
    "    else:  \n",
    "        print(f'Epoch {epoch} Test Loss: {test_losses[epoch] / np.log(2):.4f} bits/dim')\n",
    "        visualize_batch(samples, title=f'Epoch {epoch}')"
   ]
  },
  {
   "cell_type": "markdown",
   "metadata": {
    "colab_type": "text",
    "id": "lIfKdokaWbga"
   },
   "source": [
    "## RNN with Pixel Location Appended as Features"
   ]
  },
  {
   "cell_type": "code",
   "execution_count": null,
   "metadata": {
    "colab": {
     "base_uri": "https://localhost:8080/",
     "height": 1000
    },
    "colab_type": "code",
    "id": "v-PJCU8FWf89",
    "outputId": "94d7180b-597d-4d09-8fa9-4691175d2ae7"
   },
   "outputs": [],
   "source": [
    "model = RNN(device, append_loc=True).to(device)\n",
    "test_losses = np.load(join('pretrained_models', 'rnn_loc', 'test_losses.npy'))\n",
    "for epoch in [-1, 0, 1, 2, 8, 19]:\n",
    "    model.load_state_dict(torch.load(join('pretrained_models', 'rnn_loc', 'checkpoints', f'epoch{epoch}_state_dict')))\n",
    "    samples = model.sample(64)\n",
    "    if epoch == -1:\n",
    "        visualize_batch(samples, title=f'Intialization')\n",
    "    else:  \n",
    "        print(f'Epoch {epoch} Test Loss: {test_losses[epoch] / np.log(2):.4f} bits/dim')\n",
    "        visualize_batch(samples, title=f'Epoch {epoch}')"
   ]
  },
  {
   "cell_type": "markdown",
   "metadata": {
    "colab_type": "text",
    "id": "oRqv1ysl4acW"
   },
   "source": [
    "## MADE"
   ]
  },
  {
   "cell_type": "code",
   "execution_count": null,
   "metadata": {
    "colab": {},
    "colab_type": "code",
    "id": "FmgABg7uHHKO"
   },
   "outputs": [],
   "source": [
    "class MaskedLinear(nn.Linear):\n",
    "    \"\"\" same as Linear except has a configurable mask on the weights \"\"\"\n",
    "\n",
    "    def __init__(self, in_features, out_features, bias=True):\n",
    "        super().__init__(in_features, out_features, bias)\n",
    "        self.register_buffer('mask', torch.ones(out_features, in_features))\n",
    "\n",
    "    def set_mask(self, mask):\n",
    "        self.mask.data.copy_(torch.from_numpy(mask.astype(np.uint8).T))\n",
    "\n",
    "    def forward(self, input):\n",
    "        return F.linear(input, self.mask * self.weight, self.bias)\n",
    "\n",
    "\n",
    "class MADE_Example(nn.Module):\n",
    "    def __init__(self, device):\n",
    "        super().__init__()\n",
    "        self.nin = 784\n",
    "        self.nout = 784\n",
    "        self.hidden_sizes = [512, 512, 512]\n",
    "        self.device = device\n",
    "\n",
    "        # define a simple MLP neural net\n",
    "        self.net = []\n",
    "        hs = [self.nin] + self.hidden_sizes + [self.nout]\n",
    "        for h0, h1 in zip(hs, hs[1:]):\n",
    "            self.net.extend([\n",
    "                MaskedLinear(h0, h1),\n",
    "                nn.ReLU(),\n",
    "            ])\n",
    "        self.net.pop()  # pop the last ReLU for the output layer\n",
    "        self.net = nn.Sequential(*self.net)\n",
    "\n",
    "        self.m = {}\n",
    "        self.create_mask()  # builds the initial self.m connectivity\n",
    "\n",
    "    def create_mask(self):\n",
    "        L = len(self.hidden_sizes)\n",
    "\n",
    "        # sample the order of the inputs and the connectivity of all neurons\n",
    "        self.m[-1] = np.arange(self.nin)\n",
    "        for l in range(L):\n",
    "            self.m[l] = np.random.randint(self.m[l - 1].min(), self.nin - 1, size=self.hidden_sizes[l])\n",
    "\n",
    "        # construct the mask matrices\n",
    "        masks = [self.m[l - 1][:, None] <= self.m[l][None, :] for l in range(L)]\n",
    "        masks.append(self.m[L - 1][:, None] < self.m[-1][None, :])\n",
    "\n",
    "        # set the masks in all MaskedLinear layers\n",
    "        layers = [l for l in self.net.modules() if isinstance(l, MaskedLinear)]\n",
    "        for l, m in zip(layers, masks):\n",
    "            l.set_mask(m)\n",
    "\n",
    "    def nll(self, x):\n",
    "        x = x.view(-1, 784) # Flatten image\n",
    "        logits = self.net(x)\n",
    "        return F.binary_cross_entropy_with_logits(logits, x)\n",
    "\n",
    "    def sample(self, n):\n",
    "        samples = torch.zeros(n, 784).to(self.device)\n",
    "        with torch.no_grad():\n",
    "            for i in range(784):\n",
    "                logits = self.net(samples)[:, i]\n",
    "                probs = torch.sigmoid(logits)\n",
    "                samples[:, i] = torch.bernoulli(probs)\n",
    "            samples = samples.view(n, 1, 28, 28)\n",
    "        return samples.cpu()"
   ]
  },
  {
   "cell_type": "code",
   "execution_count": null,
   "metadata": {
    "colab": {
     "base_uri": "https://localhost:8080/",
     "height": 1000
    },
    "colab_type": "code",
    "id": "lKYpH3BT4dUq",
    "outputId": "c94bfe2b-42a9-4a11-fb41-227199f44c36"
   },
   "outputs": [],
   "source": [
    "model = MADE(device).to(device)\n",
    "test_losses = np.load(join('pretrained_models', 'made_0', 'test_losses.npy'))\n",
    "for epoch in [-1, 0, 1, 2, 8, 19]:\n",
    "    model.load_state_dict(torch.load(join('pretrained_models', 'made_0', 'checkpoints', f'epoch{epoch}_state_dict')))\n",
    "    samples = model.sample(64)\n",
    "    if epoch == -1:\n",
    "        visualize_batch(samples, title=f'Intialization')\n",
    "    else:  \n",
    "        print(f'Epoch {epoch} Test Loss: {test_losses[epoch] / np.log(2):.4f} bits/dim')\n",
    "        visualize_batch(samples, title=f'Epoch {epoch}')"
   ]
  },
  {
   "cell_type": "markdown",
   "metadata": {
    "colab_type": "text",
    "id": "tQXAi7RZ4d0K"
   },
   "source": [
    "## WaveNet"
   ]
  },
  {
   "cell_type": "code",
   "execution_count": null,
   "metadata": {
    "colab": {},
    "colab_type": "code",
    "id": "t3J5JSZn4eoB"
   },
   "outputs": [],
   "source": [
    "# Implementation pulled from https://github.com/ryujaehun/wavenet\n",
    "# Type 'B' Conv\n",
    "class DilatedCausalConv1d(nn.Module):\n",
    "    \"\"\"Dilated Causal Convolution for WaveNet\"\"\"\n",
    "    def __init__(self, mask_type, in_channels, out_channels, dilation=1):\n",
    "        super(DilatedCausalConv1d, self).__init__()\n",
    "        self.conv = nn.Conv1d(in_channels, out_channels,\n",
    "                              kernel_size=2, dilation=dilation, padding=0)\n",
    "        self.dilation = dilation\n",
    "        self.mask_type = mask_type\n",
    "        assert mask_type in ['A', 'B']\n",
    "\n",
    "    def forward(self, x):\n",
    "        if self.mask_type == 'A':\n",
    "            return self.conv(F.pad(x, [2, 0]))[:, :, :-1]\n",
    "        else:\n",
    "            return self.conv(F.pad(x, [self.dilation, 0]))\n",
    "\n",
    "\n",
    "class ResidualBlock(nn.Module):\n",
    "    def __init__(self, res_channels, dilation):\n",
    "        super(ResidualBlock, self).__init__()\n",
    "\n",
    "        self.dilated = DilatedCausalConv1d('B', res_channels, 2 * res_channels, dilation=dilation)\n",
    "        self.conv_res = nn.Conv1d(res_channels, res_channels, 1)\n",
    "\n",
    "    def forward(self, x):\n",
    "        output = self.dilated(x)\n",
    "\n",
    "        # PixelCNN gate\n",
    "        o1, o2 = output.chunk(2, dim=1)\n",
    "        output = torch.tanh(o1) * torch.sigmoid(o2)\n",
    "        output = x + self.conv_res(output) # Residual network\n",
    "\n",
    "        return output\n",
    "\n",
    "\n",
    "class WaveNet_Example(nn.Module):\n",
    "    def __init__(self, device):\n",
    "        super(WaveNet, self).__init__()\n",
    "\n",
    "        in_channels = 3\n",
    "        out_channels = 1\n",
    "        res_channels = 64\n",
    "        layer_size = 9 # Largest dilation is 512\n",
    "        stack_size = 1\n",
    "\n",
    "        self.causal = DilatedCausalConv1d('A', in_channels, res_channels, dilation=1)\n",
    "        self.res_stack = nn.Sequential(*[ResidualBlock(res_channels, 2 ** i)\n",
    "                                         for i in range(layer_size)])\n",
    "        self.out_conv = nn.Conv1d(res_channels, out_channels, 1)\n",
    "        self.device = device\n",
    "\n",
    "    def forward(self, x):\n",
    "        batch_size = x.shape[0]\n",
    "        x = append_location(x, self.device)\n",
    "        output = x.view(batch_size, -1, 784)\n",
    "        output = self.causal(output)\n",
    "        output = self.res_stack(output)\n",
    "        output = self.out_conv(output)\n",
    "        return output.view(batch_size, 1, 28, 28)\n",
    "\n",
    "    def nll(self, x):\n",
    "        logits = self(x)\n",
    "        return F.binary_cross_entropy_with_logits(logits, x)\n",
    "\n",
    "    def sample(self, n):\n",
    "        with torch.no_grad():\n",
    "            samples = torch.zeros(n, 1, 28, 28).to(self.device)\n",
    "            for r in range(28):\n",
    "                for c in range(28):\n",
    "                    logits = self(samples)[:, :, r, c]\n",
    "                    probs = torch.sigmoid(logits)\n",
    "                    samples[:, :, r, c] = torch.bernoulli(probs)\n",
    "        return samples.cpu()"
   ]
  },
  {
   "cell_type": "code",
   "execution_count": null,
   "metadata": {
    "colab": {
     "base_uri": "https://localhost:8080/",
     "height": 1000
    },
    "colab_type": "code",
    "id": "h_vsdKQLYWfg",
    "outputId": "7102bd39-0295-4a75-b3eb-4c5cb9ca9d64"
   },
   "outputs": [],
   "source": [
    "model = WaveNet(device, append_loc=False).to(device)\n",
    "test_losses = np.load(join('pretrained_models', 'wavenet', 'test_losses.npy'))\n",
    "for epoch in [-1, 0, 1, 2, 8, 19]:\n",
    "    model.load_state_dict(torch.load(join('pretrained_models', 'wavenet', 'checkpoints', f'epoch{epoch}_state_dict')))\n",
    "    samples = model.sample(64)\n",
    "    if epoch == -1:\n",
    "        visualize_batch(samples, title=f'Intialization')\n",
    "    else:  \n",
    "        print(f'Epoch {epoch} Test Loss: {test_losses[epoch] / np.log(2):.4f} bits/dim')\n",
    "        visualize_batch(samples, title=f'Epoch {epoch}')"
   ]
  },
  {
   "cell_type": "markdown",
   "metadata": {
    "colab_type": "text",
    "id": "5l2teX3hWpcj"
   },
   "source": [
    "## WaveNet with Pixel Location Appended as Features"
   ]
  },
  {
   "cell_type": "code",
   "execution_count": null,
   "metadata": {
    "colab": {
     "base_uri": "https://localhost:8080/",
     "height": 1000
    },
    "colab_type": "code",
    "id": "rqtZutoCWsHI",
    "outputId": "99c62cc1-0daa-41c6-86a6-ae4cb7d68679"
   },
   "outputs": [],
   "source": [
    "model = WaveNet(device, append_loc=True).to(device)\n",
    "test_losses = np.load(join('pretrained_models', 'wavenet_loc', 'test_losses.npy'))\n",
    "for epoch in [-1, 0, 1, 2, 8, 19]:\n",
    "    model.load_state_dict(torch.load(join('pretrained_models', 'wavenet_loc', 'checkpoints', f'epoch{epoch}_state_dict')))\n",
    "    samples = model.sample(64)\n",
    "    if epoch == -1:\n",
    "        visualize_batch(samples, title=f'Intialization')\n",
    "    else:  \n",
    "        print(f'Epoch {epoch} Test Loss: {test_losses[epoch] / np.log(2):.4f} bits/dim')\n",
    "        visualize_batch(samples, title=f'Epoch {epoch}')"
   ]
  },
  {
   "cell_type": "markdown",
   "metadata": {
    "colab_type": "text",
    "id": "FBkUTk934fP-"
   },
   "source": [
    "## PixelCNN"
   ]
  },
  {
   "cell_type": "code",
   "execution_count": null,
   "metadata": {
    "colab": {},
    "colab_type": "code",
    "id": "kvEvbEfgHOf-"
   },
   "outputs": [],
   "source": [
    "class MaskConv2d(nn.Conv2d):\n",
    "    def __init__(self, mask_type, *args, **kwargs):\n",
    "        assert mask_type == 'A' or mask_type == 'B'\n",
    "        super().__init__(*args, **kwargs)\n",
    "        self.register_buffer('mask', torch.zeros_like(self.weight))\n",
    "        self.create_mask(mask_type)\n",
    "\n",
    "    def forward(self, input):\n",
    "        return F.conv2d(input, self.weight * self.mask, self.bias, self.stride,\n",
    "                        self.padding, self.dilation, self.groups)\n",
    "\n",
    "    def create_mask(self, mask_type):\n",
    "        k = self.kernel_size[0]\n",
    "        self.mask[:, :, :k // 2] = 1\n",
    "        self.mask[:, :, k // 2, :k // 2] = 1\n",
    "        if mask_type == 'B':\n",
    "            self.mask[:, :, k // 2, k // 2] = 1\n",
    "\n",
    "\n",
    "class PixelCNN_Example(nn.Module):\n",
    "    def __init__(self, device):\n",
    "        super().__init__()\n",
    "        model = [MaskConv2d('A', 1, 64, 7, padding=3), nn.ReLU()]\n",
    "        for _ in range(3):\n",
    "            model.extend([MaskConv2d('B', 64, 64, 7, padding=3), nn.ReLU()])\n",
    "        model.append(MaskConv2d('B', 64, 1, 7,padding=3))\n",
    "        self.net = nn.Sequential(*model)\n",
    "        self.device = device\n",
    "\n",
    "    def nll(self, x):\n",
    "        logits = self.net(x)\n",
    "        return F.binary_cross_entropy_with_logits(logits, x)\n",
    "\n",
    "    def sample(self, n):\n",
    "        samples = torch.zeros(n, 1, 28, 28).to(self.device)\n",
    "        with torch.no_grad():\n",
    "            for r in range(28):\n",
    "                for c in range(28):\n",
    "                    logits = self.net(samples)[:, :, r, c]\n",
    "                    probs = torch.sigmoid(logits)\n",
    "                    samples[:, :, r, c] = torch.bernoulli(probs)\n",
    "        return samples.cpu()"
   ]
  },
  {
   "cell_type": "code",
   "execution_count": null,
   "metadata": {
    "colab": {
     "base_uri": "https://localhost:8080/",
     "height": 1000
    },
    "colab_type": "code",
    "id": "t4l_d8HD4gNR",
    "outputId": "1507eedb-7cfd-47be-a199-3c6412f303f9"
   },
   "outputs": [],
   "source": [
    "model = PixelCNN(device).to(device)\n",
    "test_losses = np.load(join('pretrained_models', 'pixelcnn', 'test_losses.npy'))\n",
    "for epoch in [-1, 0, 1, 2, 8, 19]:\n",
    "    model.load_state_dict(torch.load(join('pretrained_models', 'pixelcnn', 'checkpoints', f'epoch{epoch}_state_dict')))\n",
    "    samples = model.sample(64)\n",
    "    if epoch == -1:\n",
    "        visualize_batch(samples, title=f'Intialization')\n",
    "    else:  \n",
    "        print(f'Epoch {epoch} Test Loss: {test_losses[epoch] / np.log(2):.4f} bits/dim')\n",
    "        visualize_batch(samples, title=f'Epoch {epoch}')"
   ]
  },
  {
   "cell_type": "markdown",
   "metadata": {
    "colab_type": "text",
    "id": "Wu0HuYIHiDdY"
   },
   "source": [
    "# Demo 4: Comparing Receptive Fields of PixelCNN and GatedPixelCNN (Blindspot)"
   ]
  },
  {
   "cell_type": "code",
   "execution_count": null,
   "metadata": {
    "colab": {},
    "colab_type": "code",
    "id": "3Usu9LchiFXc"
   },
   "outputs": [],
   "source": [
    "import matplotlib.pyplot as plt\n",
    "import numpy as np\n",
    "import torch\n",
    "import torch.nn as nn\n",
    "\n",
    "from deepul_helper.models import MaskConv2d\n",
    "\n",
    "seed = 0\n",
    "np.random.seed(seed)\n",
    "torch.manual_seed(seed)\n",
    "torch.cuda.manual_seed(seed)"
   ]
  },
  {
   "cell_type": "code",
   "execution_count": null,
   "metadata": {
    "colab": {},
    "colab_type": "code",
    "id": "CvRGtA3JiGBb"
   },
   "outputs": [],
   "source": [
    "class PixelCNN(nn.Module):\n",
    "    name = 'PixelCNN'\n",
    "    def __init__(self, n_layers):\n",
    "        super().__init__()\n",
    "        model = [MaskConv2d('A', 1, 1, 3, padding=1)]\n",
    "        for _ in range(n_layers - 2):\n",
    "            model.extend([MaskConv2d('B', 1, 1, 3, padding=1)])\n",
    "        model.append(MaskConv2d('B', 1, 1, 3,padding=1))\n",
    "        self.net = nn.Sequential(*model)\n",
    "\n",
    "    def forward(self, x):\n",
    "        return self.net(x)"
   ]
  },
  {
   "cell_type": "code",
   "execution_count": null,
   "metadata": {
    "colab": {},
    "colab_type": "code",
    "id": "3uBXIgOQiMvc"
   },
   "outputs": [],
   "source": [
    "class HoriVertStackConv2d(nn.Module):\n",
    "    def __init__(self, mask_type, in_channels, out_channels, k=3, padding=1):\n",
    "        super().__init__()\n",
    "        self.vertical = nn.Conv2d(in_channels, out_channels, kernel_size=k,\n",
    "                                  padding=padding, bias=False)\n",
    "        self.horizontal = nn.Conv2d(in_channels, out_channels, kernel_size=(1, k),\n",
    "                                    padding=(0, padding), bias=False)\n",
    "        self.vtohori = nn.Conv2d(out_channels, out_channels, kernel_size=1, bias=False)\n",
    "\n",
    "        self.register_buffer('vmask', self.vertical.weight.data.clone())\n",
    "        self.register_buffer('hmask', self.horizontal.weight.data.clone())\n",
    "\n",
    "        self.vmask.fill_(1)\n",
    "        self.hmask.fill_(1)\n",
    "\n",
    "        # zero the bottom half rows of the vmask\n",
    "        self.vmask[:, :, k // 2 + 1:, :] = 0\n",
    "\n",
    "        # zero the right half of the hmask\n",
    "        self.hmask[:, :, :, k // 2 + 1:] = 0\n",
    "        if mask_type == 'A':\n",
    "            self.hmask[:, :, :, k // 2] = 0\n",
    "\n",
    "    def down_shift(self, x):\n",
    "        x = x[:, :, :-1, :]\n",
    "        pad = nn.ZeroPad2d((0, 0, 1, 0))\n",
    "        return pad(x)\n",
    "\n",
    "    def forward(self, x):\n",
    "        vx, hx = x.chunk(2, dim=1)\n",
    "\n",
    "        self.vertical.weight.data *= self.vmask\n",
    "        self.horizontal.weight.data *= self.hmask\n",
    "\n",
    "        vx = self.vertical(vx)\n",
    "        hx = self.horizontal(hx)\n",
    "        # Allow horizontal stack to see information from vertical stack\n",
    "        hx = hx + self.vtohori(self.down_shift(vx))\n",
    "\n",
    "        return torch.cat((vx, hx), dim=1)\n",
    "\n",
    "# PixelCNN using horizontal and vertical stacks to fix blind-spot\n",
    "class HoriVertStackPixelCNN(nn.Module):\n",
    "    name = 'HoriVertStackPixelCNN'\n",
    "    def __init__(self, n_layers):\n",
    "        super().__init__()\n",
    "        model = [HoriVertStackConv2d('A', 1, 1, 3, padding=1)]\n",
    "        for _ in range(n_layers - 2):\n",
    "            model.extend([HoriVertStackConv2d('B', 1, 1, 3, padding=1)])\n",
    "        model.append(HoriVertStackConv2d('B', 1, 1, 3, padding=1))\n",
    "        self.net = nn.Sequential(*model)\n",
    "\n",
    "    def forward(self, x):\n",
    "        return self.net(torch.cat((x, x), dim=1)).chunk(2, dim=1)[1]"
   ]
  },
  {
   "cell_type": "code",
   "execution_count": null,
   "metadata": {
    "colab": {},
    "colab_type": "code",
    "id": "TfzDTBqpiPq0"
   },
   "outputs": [],
   "source": [
    "def plot_receptive_field(model, data):\n",
    "    out = model(data)\n",
    "    out[0, 0, 5, 5].backward()\n",
    "    grad = data.grad.detach().cpu().numpy()[0, 0]\n",
    "    grad = np.abs(grad)\n",
    "    grad = (grad > 1e-8).astype('float32')\n",
    "    grad[5, 5] = 0.5\n",
    "\n",
    "    plt.figure()\n",
    "    plt.imshow(grad)\n",
    "    plt.title(f'Receptive field from pixel (5, 5), {model.name} {n_layers} layers')\n",
    "    plt.show()"
   ]
  },
  {
   "cell_type": "code",
   "execution_count": null,
   "metadata": {
    "colab": {},
    "colab_type": "code",
    "id": "4F6m7u78iUOB"
   },
   "outputs": [],
   "source": [
    "x = torch.randn(1, 1, 10, 10).cuda()\n",
    "x.requires_grad = True"
   ]
  },
  {
   "cell_type": "markdown",
   "metadata": {
    "colab_type": "text",
    "id": "m0at_bWsap_G"
   },
   "source": [
    "## PixelCNN Blindspot"
   ]
  },
  {
   "cell_type": "code",
   "execution_count": null,
   "metadata": {
    "colab": {
     "base_uri": "https://localhost:8080/",
     "height": 809
    },
    "colab_type": "code",
    "id": "TLiXAEMaiRL7",
    "outputId": "64625a02-1963-45f5-d658-1e1d98e31396"
   },
   "outputs": [],
   "source": [
    "for i, n_layers in enumerate([2, 3, 5]):\n",
    "    pixelcnn = PixelCNN(n_layers=n_layers).cuda()\n",
    "    plot_receptive_field(pixelcnn, x)\n",
    "    x.grad.zero_()"
   ]
  },
  {
   "cell_type": "markdown",
   "metadata": {
    "colab_type": "text",
    "id": "szFD2XUTas2q"
   },
   "source": [
    "## PixelCNN with Horizontal and Vertical Stacked Convolutions (No Blindspot)"
   ]
  },
  {
   "cell_type": "code",
   "execution_count": null,
   "metadata": {
    "colab": {
     "base_uri": "https://localhost:8080/",
     "height": 809
    },
    "colab_type": "code",
    "id": "usnHmfs2iSyN",
    "outputId": "0a6e3cef-f673-4acc-9019-fb5fcf50d0ed"
   },
   "outputs": [],
   "source": [
    "for i, n_layers in enumerate([2,3, 5]):\n",
    "    gated_pixelcnn = HoriVertStackPixelCNN(n_layers=n_layers).cuda()\n",
    "    plot_receptive_field(gated_pixelcnn, x)\n",
    "    x.grad.zero_()"
   ]
  },
  {
   "cell_type": "markdown",
   "metadata": {
    "colab_type": "text",
    "id": "g_rBgCcCitQM"
   },
   "source": [
    "# Demo 5: Self-Attention Autoregressive Model"
   ]
  },
  {
   "cell_type": "code",
   "execution_count": null,
   "metadata": {
    "colab": {},
    "colab_type": "code",
    "id": "lkDC8tgT1JBE"
   },
   "outputs": [],
   "source": [
    "import torch.nn as nn\n",
    "import torch\n",
    "from os.path import join\n",
    "import numpy as np\n",
    "from deepul_helper.models import Transformer\n",
    "from deepul_helper.visualize import visualize_batch"
   ]
  },
  {
   "cell_type": "markdown",
   "metadata": {
    "colab_type": "text",
    "id": "9aTB0Ihla9JJ"
   },
   "source": [
    "## Multi-Head Attention Module (Key Component in Self-Attention)\n",
    "Only learns well with pixel locations appended as features (as opposed to no appended features and positional encodings)"
   ]
  },
  {
   "cell_type": "code",
   "execution_count": null,
   "metadata": {
    "colab": {},
    "colab_type": "code",
    "id": "gP7I27bYivst"
   },
   "outputs": [],
   "source": [
    "class MultiHeadAttention(nn.Module):\n",
    "    ''' Multi-Head Attention module '''\n",
    "\n",
    "    def __init__(self, n_head, d_model, d_k, d_v, dropout=0.1):\n",
    "        super().__init__()\n",
    "\n",
    "        self.n_head = n_head\n",
    "        self.d_k = d_k\n",
    "        self.d_v = d_v\n",
    "\n",
    "        self.w_qs = nn.Linear(d_model, n_head * d_k, bias=False)\n",
    "        self.w_ks = nn.Linear(d_model, n_head * d_k, bias=False)\n",
    "        self.w_vs = nn.Linear(d_model, n_head * d_v, bias=False)\n",
    "        self.fc = nn.Linear(n_head * d_v, d_model, bias=False)\n",
    "\n",
    "        self.attention = ScaledDotProductAttention(temperature=d_k ** 0.5)\n",
    "\n",
    "        self.dropout = nn.Dropout(dropout)\n",
    "        self.layer_norm = nn.LayerNorm(d_model, eps=1e-6)\n",
    "\n",
    "    def forward(self, q, k, v, mask=None):\n",
    "        d_k, d_v, n_head = self.d_k, self.d_v, self.n_head\n",
    "        sz_b, len_q, len_k, len_v = q.size(0), q.size(1), k.size(1), v.size(1)\n",
    "\n",
    "        residual = q\n",
    "        q = self.layer_norm(q)\n",
    "\n",
    "        # Pass through the pre-attention projection: b x lq x (n*dv)\n",
    "        # Separate different heads: b x lq x n x dv\n",
    "        q = self.w_qs(q).view(sz_b, len_q, n_head, d_k)\n",
    "        k = self.w_ks(k).view(sz_b, len_k, n_head, d_k)\n",
    "        v = self.w_vs(v).view(sz_b, len_v, n_head, d_v)\n",
    "\n",
    "        # Transpose for attention dot product: b x n x lq x dv\n",
    "        q, k, v = q.transpose(1, 2), k.transpose(1, 2), v.transpose(1, 2)\n",
    "\n",
    "        if mask is not None:\n",
    "            mask = mask.unsqueeze(0).unsqueeze(0)  # For head axis broadcasting.\n",
    "\n",
    "        q, attn = self.attention(q, k, v, mask=mask)\n",
    "\n",
    "        # Transpose to move the head dimension back: b x lq x n x dv\n",
    "        # Combine the last two dimensions to concatenate all the heads together: b x lq x (n*dv)\n",
    "        q = q.transpose(1, 2).contiguous().view(sz_b, len_q, -1)\n",
    "        q = self.dropout(self.fc(q))\n",
    "        q += residual\n",
    "\n",
    "        return q"
   ]
  },
  {
   "cell_type": "code",
   "execution_count": null,
   "metadata": {
    "colab": {
     "base_uri": "https://localhost:8080/",
     "height": 1000
    },
    "colab_type": "code",
    "id": "hj8mgTUj1GOv",
    "outputId": "2ba23bf7-0fac-438f-e2c2-aa3702471a20"
   },
   "outputs": [],
   "source": [
    "device = torch.device('cuda')\n",
    "model = Transformer(device, mode='pixel_location').to(device)\n",
    "test_losses = np.load(join('pretrained_models', 'transformer_loc', 'test_losses.npy'))\n",
    "for epoch in [-1, 0, 1, 2, 8, 19]:\n",
    "    model.load_state_dict(torch.load(join('pretrained_models', 'transformer_loc', 'checkpoints', f'epoch{epoch}_state_dict')))\n",
    "    samples = model.sample(64)\n",
    "    if epoch == -1:\n",
    "        visualize_batch(samples, title=f'Intialization')\n",
    "    else:  \n",
    "        print(f'Epoch {epoch} Test Loss: {test_losses[epoch] / np.log(2):.4f} bits/dim')\n",
    "        visualize_batch(samples, title=f'Epoch {epoch}')"
   ]
  },
  {
   "cell_type": "markdown",
   "metadata": {
    "colab_type": "text",
    "id": "PEXDIX451vih"
   },
   "source": [
    "# Demo 6: Different Autoregressive Orderings"
   ]
  },
  {
   "cell_type": "markdown",
   "metadata": {
    "colab_type": "text",
    "id": "UeZuBiT_o7_M"
   },
   "source": [
    "Here, we experiment with different autoregressive ordering with MADE on MNIST"
   ]
  },
  {
   "cell_type": "code",
   "execution_count": null,
   "metadata": {
    "colab": {},
    "colab_type": "code",
    "id": "jlsGkXQdtUrU"
   },
   "outputs": [],
   "source": [
    "from os.path import join\n",
    "import numpy as np\n",
    "import torch\n",
    "\n",
    "from deepul_helper.models import MADE\n",
    "from deepul_helper.visualize import visualize_batch\n",
    "\n",
    "device = torch.device('cuda')"
   ]
  },
  {
   "cell_type": "code",
   "execution_count": null,
   "metadata": {
    "colab": {},
    "colab_type": "code",
    "id": "NA_sbjVapTb0"
   },
   "outputs": [],
   "source": [
    "def run_demo(ordering, order_id):\n",
    "    model = MADE(device, ordering=ordering).to(device)\n",
    "    model.load_state_dict(torch.load(join('pretrained_models', f'made_{order_id}', 'checkpoints', f'epoch19_state_dict')))\n",
    "    test_losses = np.load(join('pretrained_models', f'made_{order_id}', 'test_losses.npy'))\n",
    "    samples = model.sample(64)\n",
    "    print('Test Loss', test_losses[-1])\n",
    "    visualize_batch(samples, title=f'Samples')"
   ]
  },
  {
   "cell_type": "markdown",
   "metadata": {
    "colab_type": "text",
    "id": "rQSYqGbFo6TW"
   },
   "source": [
    "## Order 1: Random Permutation"
   ]
  },
  {
   "cell_type": "code",
   "execution_count": null,
   "metadata": {
    "colab": {
     "base_uri": "https://localhost:8080/",
     "height": 281
    },
    "colab_type": "code",
    "id": "d7dz3E9k1wgP",
    "outputId": "0c6d5d2e-3d37-4663-9c9e-fa6548ebb022"
   },
   "outputs": [],
   "source": [
    "ordering = np.random.permutation(784)\n",
    "run_demo(ordering, order_id=1)"
   ]
  },
  {
   "cell_type": "markdown",
   "metadata": {
    "colab_type": "text",
    "id": "1QolrYCtt_fH"
   },
   "source": [
    "## Order 2: Even Indices Then Odd Indices"
   ]
  },
  {
   "cell_type": "code",
   "execution_count": null,
   "metadata": {
    "colab": {
     "base_uri": "https://localhost:8080/",
     "height": 281
    },
    "colab_type": "code",
    "id": "3Pwy742St-iJ",
    "outputId": "ebd1893e-3214-422e-e327-44d521543400"
   },
   "outputs": [],
   "source": [
    "ordering = np.concatenate((np.arange(0, 784, 2), np.arange(1, 784, 2)))\n",
    "run_demo(ordering, order_id=2)"
   ]
  },
  {
   "cell_type": "markdown",
   "metadata": {
    "colab_type": "text",
    "id": "sw-4p219uNcu"
   },
   "source": [
    "## Order 3: Rows (Raster Scan)"
   ]
  },
  {
   "cell_type": "code",
   "execution_count": null,
   "metadata": {
    "colab": {
     "base_uri": "https://localhost:8080/",
     "height": 281
    },
    "colab_type": "code",
    "id": "QhMOXR7Dub8L",
    "outputId": "5272724b-7656-4547-f8f3-c0cd4655f9c9"
   },
   "outputs": [],
   "source": [
    "ordering = np.arange(784)\n",
    "run_demo(ordering, order_id=0)"
   ]
  },
  {
   "cell_type": "markdown",
   "metadata": {
    "colab_type": "text",
    "id": "5bvau1Rdedg6"
   },
   "source": [
    "## Order 4: Columns"
   ]
  },
  {
   "cell_type": "code",
   "execution_count": null,
   "metadata": {
    "colab": {
     "base_uri": "https://localhost:8080/",
     "height": 281
    },
    "colab_type": "code",
    "id": "q6fu67-Cecnb",
    "outputId": "61b4f926-44bc-452e-c1fd-b0afc1a813b1"
   },
   "outputs": [],
   "source": [
    "ordering = np.arange(784).reshape(28, 28).T.reshape(-1)\n",
    "run_demo(ordering, order_id=3)"
   ]
  },
  {
   "cell_type": "markdown",
   "metadata": {
    "colab_type": "text",
    "id": "USqU27wVvVJ4"
   },
   "source": [
    "## Order 4: Top to Middle then Bottom to Middle"
   ]
  },
  {
   "cell_type": "code",
   "execution_count": null,
   "metadata": {
    "colab": {
     "base_uri": "https://localhost:8080/",
     "height": 281
    },
    "colab_type": "code",
    "id": "CeZ5XujfvXsX",
    "outputId": "4bad3b27-fc7e-4d3e-c3f2-1ee2b0eab76d"
   },
   "outputs": [],
   "source": [
    "ordering = np.concatenate((np.arange(784 // 2), np.arange(784 // 2, 784)[::-1]))\n",
    "run_demo(ordering, order_id=4)"
   ]
  },
  {
   "cell_type": "markdown",
   "metadata": {
    "colab_type": "text",
    "id": "xO91t6NxjBLq"
   },
   "source": [
    "# Demo 7: Conditional Autoregressive Models"
   ]
  },
  {
   "cell_type": "code",
   "execution_count": null,
   "metadata": {
    "colab": {},
    "colab_type": "code",
    "id": "6SqcSs3wwMVs"
   },
   "outputs": [],
   "source": [
    "from os.path import join\n",
    "import torch\n",
    "import torch.nn as nn\n",
    "import torch.nn.functional as F\n",
    "from deepul_helper.visualize import visualize_batch\n",
    "from deepul_helper.utils import to_one_hot\n",
    "from deepul_helper.models import PixelCNN\n",
    "\n",
    "device = torch.device('cuda')"
   ]
  },
  {
   "cell_type": "code",
   "execution_count": null,
   "metadata": {
    "colab": {},
    "colab_type": "code",
    "id": "5UevSzQCwG8G"
   },
   "outputs": [],
   "source": [
    "class MaskConv2d(nn.Conv2d):\n",
    "    def __init__(self, mask_type, *args, conditional_size=None, **kwargs):\n",
    "        assert mask_type == 'A' or mask_type == 'B'\n",
    "        super().__init__(*args, **kwargs)\n",
    "        self.register_buffer('mask', torch.zeros_like(self.weight))\n",
    "        self.create_mask(mask_type)\n",
    "        self.conditional_size = conditional_size\n",
    "        if self.conditional_size:\n",
    "            if len(conditional_size) == 1:\n",
    "                self.cond_op = nn.Linear(conditional_size[0], self.out_channels)\n",
    "            elif len(conditional_size) == 3:\n",
    "                self.cond_op = nn.Conv2d(conditional_size[0], self.out_channels,\n",
    "                                         kernel_size=3, padding=1)\n",
    "            else:\n",
    "                raise Exception('Invalid conditional_size', conditional_size)\n",
    "\n",
    "    def forward(self, input, cond=None):\n",
    "        batch_size = input.shape[0]\n",
    "        out = F.conv2d(input, self.weight * self.mask, self.bias, self.stride,\n",
    "                       self.padding, self.dilation, self.groups)\n",
    "        if self.conditional_size:\n",
    "            if len(self.conditional_size) == 1:\n",
    "                # Broadcast across height and width of image and add as conditional bias\n",
    "                out = out + self.cond_op(cond).view(batch_size, -1, 1, 1)\n",
    "            elif len(self.conditional_size) == 3:\n",
    "                out = out + self.cond_op(cond)\n",
    "            else:\n",
    "                raise Exception()\n",
    "        return out\n",
    "\n",
    "    def create_mask(self, mask_type):\n",
    "        k = self.kernel_size[0]\n",
    "        self.mask[:, :, :k // 2] = 1\n",
    "        self.mask[:, :, k // 2, :k // 2] = 1\n",
    "        if mask_type == 'B':\n",
    "            self.mask[:, :, k // 2, k // 2] = 1\n",
    "\n",
    "class ConditionalPixelCNN_Example(nn.Module):\n",
    "    # If conditional_size is None, then the model is not conditional\n",
    "    def __init__(self, device, conditional_size=None):\n",
    "        super().__init__()\n",
    "        assert conditional_size is None or isinstance(conditional_size, tuple)\n",
    "        if conditional_size is not None:\n",
    "            # 1D conditional (e.g. one-hot vectors for class-conditional)\n",
    "            if len(conditional_size) == 1:\n",
    "                self.cond_op = lambda x: x # Identity\n",
    "            # 3D conditional (e.g. subsampled image when performing super-resolution)\n",
    "            elif len(conditional_size) == 3:\n",
    "                # First upsample the image we are conditioning on to fit the MNIST image size\n",
    "                # We assume we are conditioning on 1 x 7 x 7 MNIST images\n",
    "                self.cond_op = nn.Sequential(\n",
    "                    nn.Conv2d(conditional_size[0], 64, 3, padding=1),\n",
    "                    nn.ReLU(),\n",
    "                    nn.Upsample(scale_factor=2),\n",
    "                    nn.Conv2d(64, 64, 3, padding=1),\n",
    "                    nn.ReLU(),\n",
    "                    nn.Upsample(scale_factor=2),\n",
    "                    nn.Conv2d(64, 64, 3, padding=1),\n",
    "                    nn.ReLU()\n",
    "                )\n",
    "                conditional_size = (64, 28, 28)\n",
    "\n",
    "        model = nn.ModuleList([MaskConv2d('A', 1, 64, 7, padding=3, conditional_size=conditional_size), nn.ReLU()])\n",
    "        for _ in range(3):\n",
    "            model.extend([MaskConv2d('B', 64, 64, 7, padding=3, conditional_size=conditional_size), nn.ReLU()])\n",
    "        model.append(MaskConv2d('B', 64, 1, 7,padding=3, conditional_size=conditional_size))\n",
    "        self.net = model\n",
    "        self.device = device\n",
    "\n",
    "    def forward(self, x, cond=None):\n",
    "        if cond is not None:\n",
    "            cond = self.cond_op(cond)\n",
    "        out = x\n",
    "        for layer in self.net:\n",
    "            if isinstance(layer, MaskConv2d):\n",
    "                out = layer(out, cond=cond)\n",
    "            else:\n",
    "                out = layer(out)\n",
    "        return out\n",
    "\n",
    "    def nll(self, x, cond=None):\n",
    "        return F.binary_cross_entropy_with_logits(self(x, cond=cond), x)\n",
    "\n",
    "    def sample(self, n, cond=None):\n",
    "        samples = torch.zeros(n, 1, 28, 28).to(self.device)\n",
    "        with torch.no_grad():\n",
    "            for r in range(28):\n",
    "                for c in range(28):\n",
    "                    logits = self(samples, cond=cond)[:, :, r, c]\n",
    "                    probs = torch.sigmoid(logits)\n",
    "                    samples[:, :, r, c] = torch.bernoulli(probs)\n",
    "        return samples.cpu()"
   ]
  },
  {
   "cell_type": "markdown",
   "metadata": {
    "colab_type": "text",
    "id": "cVkhcKLyvlIw"
   },
   "source": [
    "## Class-Conditional PixelCNN\n",
    "We condition on one-hot label of MNIST classes\n"
   ]
  },
  {
   "cell_type": "code",
   "execution_count": null,
   "metadata": {
    "colab": {
     "base_uri": "https://localhost:8080/",
     "height": 575
    },
    "colab_type": "code",
    "id": "H7U_27eNjC_j",
    "outputId": "d2d047a8-7a52-4773-f24b-8172b6ffea25"
   },
   "outputs": [],
   "source": [
    "model = PixelCNN(device, conditional_size=(10,), n_layers=5).to(device)\n",
    "model.load_state_dict(torch.load(join('pretrained_models', 'pixelcnn_class', 'checkpoints', 'epoch9_state_dict')))\n",
    "\n",
    "cond = torch.arange(10).unsqueeze(1).repeat(1, 10).view(-1).to(device)\n",
    "cond = to_one_hot(cond, 10, device)\n",
    "samples = model.sample(100, cond=cond)\n",
    "visualize_batch(samples, nrow=10, figsize=(10, 10))"
   ]
  },
  {
   "cell_type": "markdown",
   "metadata": {
    "colab_type": "text",
    "id": "r4DCjk6LvooJ"
   },
   "source": [
    "## Image Super-Resolution with a PixelCNN\n",
    "We condition on subsampled-version of MNIST images. Note that we show the subsampled image in an enlarged form for easier viewing."
   ]
  },
  {
   "cell_type": "code",
   "execution_count": null,
   "metadata": {
    "colab": {
     "base_uri": "https://localhost:8080/",
     "height": 575
    },
    "colab_type": "code",
    "id": "UnofmcHFv8df",
    "outputId": "dd7d26ee-9e7e-4682-e85e-0b07e35b408e"
   },
   "outputs": [],
   "source": [
    "model = PixelCNN(device, conditional_size=(1, 7, 7), n_layers=5).to(device)\n",
    "model.load_state_dict(torch.load(join('pretrained_models', 'pixelcnn_image', 'checkpoints', 'epoch9_state_dict')))\n",
    "\n",
    "_, test_loader = load_data()\n",
    "x = next(iter(test_loader))[0][:32]\n",
    "cond = F.interpolate(x, scale_factor=0.25, mode='bilinear').to(device)\n",
    "samples = model.sample(32, cond=cond)\n",
    "cond = F.interpolate(cond, scale_factor=4).cpu()\n",
    "images = torch.stack((cond, samples), dim=1)\n",
    "images = images.view(-1, *images.shape[2:])\n",
    "visualize_batch(images, nrow=8, figsize=(10, 10))"
   ]
  },
  {
   "cell_type": "markdown",
   "metadata": {
    "colab_type": "text",
    "id": "80XzQyYtyd93"
   },
   "source": [
    "# Demo 8: Hierarchy (Grayscale PixelCNNs)"
   ]
  },
  {
   "cell_type": "code",
   "execution_count": null,
   "metadata": {
    "colab": {},
    "colab_type": "code",
    "id": "wZuSt7iRzOGi"
   },
   "outputs": [],
   "source": [
    "from os.path import join\n",
    "import torch\n",
    "from deepul_helper.models import GrayscalePixelCNN\n",
    "from deepul_helper.visualize import visualize_batch\n",
    "\n",
    "\n",
    "class GrayscalePixelCNN_Example(nn.Module):\n",
    "\n",
    "    def __init__(self, device):\n",
    "        super().__init__()\n",
    "        self.input_size = (3, 28, 28) # Colored MNIST\n",
    "        self.device = device\n",
    "\n",
    "        self.grayscale_prior = PixelCNN(device, n_layers=8, n_channels=1,\n",
    "                                        n_color_bits=2, conditional=False)\n",
    "        self.color_conditional = PixelCNN(device, n_layers=8, n_channels=3,\n",
    "                                          n_color_bits=2, conditional=True)\n",
    "\n",
    "    def nll(self, x):\n",
    "        x_gray = quantize(to_grayscale(x), 1) # convert to grayscale and quantize to 1 bits\n",
    "        x_color = quantize(x, 2) # quantize to 2 bits\n",
    "\n",
    "        nll_gray = self.grayscale_prior.nll(x_gray)\n",
    "        nll_color = self.color_conditional.nll(x_color, cond=x_gray)\n",
    "\n",
    "        return nll_gray + nll_color\n",
    "\n",
    "    def sample(self, n):\n",
    "        gray_samples = self.grayscale_prior.sample(n)\n",
    "        color_samples = self.color_conditional.sample(n, cond=gray_samples.to(self.device))\n",
    "        return gray_samples, color_samples"
   ]
  },
  {
   "cell_type": "code",
   "execution_count": null,
   "metadata": {
    "colab": {
     "base_uri": "https://localhost:8080/",
     "height": 575
    },
    "colab_type": "code",
    "id": "ym1UVwIgmXQp",
    "outputId": "e5923cd4-249c-4a6e-cbdf-71d18d0005a9"
   },
   "outputs": [],
   "source": [
    "device = torch.device('cuda')\n",
    "model = GrayscalePixelCNN(device).cuda()\n",
    "model.load_state_dict(torch.load(join('pretrained_models', 'grayscale_pixelcnn', 'checkpoints', 'epoch17_state_dict')))\n",
    "\n",
    "gray_samples, color_samples = model.sample(32)\n",
    "gray_samples = gray_samples.repeat(1, 3, 1, 1)\n",
    "samples = torch.stack((gray_samples, color_samples), dim=1).view(-1, 3, 28, 28)\n",
    "visualize_batch(samples, figsize=(10, 10))"
   ]
  },
  {
   "cell_type": "markdown",
   "metadata": {
    "colab_type": "text",
    "id": "h2b53fYy2lEs"
   },
   "source": [
    "# Demo 9: Fast Sampling (Parallel PixelCNNs)\n",
    "In this demo we model 224 x 224 MNIST images. A standard PixelCNN would need 224 * 224 = 50176 network evaluations, but a Parallel PixelCNN upscaling with a base size of 7 x 7 to 224 x 224 would only need 7 * 7 + 3 + 3 + 3 + 3 + 3 = 64 network evaluations"
   ]
  },
  {
   "cell_type": "code",
   "execution_count": null,
   "metadata": {
    "colab": {},
    "colab_type": "code",
    "id": "0VG6lINg2nSU"
   },
   "outputs": [],
   "source": [
    "from os.path import join\n",
    "import torch\n",
    "import torch.nn as nn\n",
    "import torch.nn.functional as F\n",
    "from deepul_helper.models import ParallelPixelCNN\n",
    "from deepul_helper.visualize import visualize_batch\n",
    "\n",
    "class CNN(nn.Module):\n",
    "\n",
    "    def __init__(self, in_channels, out_channels, n_layers, filter_size=64, kernel_size=3):\n",
    "        super().__init__()\n",
    "        model = []\n",
    "        h_prev = in_channels\n",
    "        for h in [filter_size] * (n_layers - 1) + [out_channels]:\n",
    "            model.append(nn.Conv2d(h_prev, h, kernel_size=kernel_size, padding=kernel_size // 2))\n",
    "            model.append(nn.ReLU())\n",
    "            h_prev = h\n",
    "        model.pop()\n",
    "        self.net = nn.Sequential(*model)\n",
    "\n",
    "    def forward(self, x):\n",
    "        return self.net(x)\n",
    "\n",
    "\n",
    "\n",
    "class ParallelPixelCNN_Example(nn.Module):\n",
    "\n",
    "    def __init__(self, device):\n",
    "        super().__init__()\n",
    "        self.device = device\n",
    "        self.base_pixelcnn = PixelCNN(device, input_shape=(1, 7, 7), kernel_size=3, n_layers=7)\n",
    "        self.group_nets = nn.ModuleList([CNN(1, 1, 4, kernel_size=7),\n",
    "                                         CNN(2, 1, 4, kernel_size=7),\n",
    "                                         CNN(3, 1, 4, kernel_size=7)])\n",
    "\n",
    "        self.base_size = 7\n",
    "        self.input_shape = (1, 224, 224)\n",
    "\n",
    "    def nll(self, x):\n",
    "        nll = 0\n",
    "        n_scale_iter = int(np.log2(x.shape[2] // self.base_size))\n",
    "        for i in range(n_scale_iter):\n",
    "            stride = 2 ** (n_scale_iter - i)\n",
    "            offset = stride // 2\n",
    "            current_x = x[:, :, ::stride, ::stride] # Top-left group 1\n",
    "            if i == 0:\n",
    "                nll = nll + self.base_pixelcnn.nll(current_x)\n",
    "\n",
    "            for j in range(3):\n",
    "                if j == 0:\n",
    "                    target = x[:, :, ::stride, offset::stride] # Top-right group 2\n",
    "                elif j == 1:\n",
    "                    target = x[:, :, offset::stride, ::stride] # Bottom-left group 3\n",
    "                else:\n",
    "                    target = x[:, :, offset::stride, offset::stride] # Bottom-right group 4\n",
    "                logits = self.group_nets[j](current_x)\n",
    "                nll = nll + F.binary_cross_entropy_with_logits(logits, target)\n",
    "                current_x = torch.cat((current_x, target), dim=1)\n",
    "        return nll\n",
    "\n",
    "\n",
    "    def sample(self, n):\n",
    "        with torch.no_grad():\n",
    "            samples = torch.zeros(n, *self.input_shape).to(self.device)\n",
    "            n_scale_iter = int(np.log2(samples.shape[2] // self.base_size))\n",
    "            for i in range(n_scale_iter):\n",
    "                stride = 2 ** (n_scale_iter - i)\n",
    "                offset = stride // 2\n",
    "                if i == 0:\n",
    "                    samples[:, :, ::stride, ::stride] = self.base_pixelcnn.sample(n)\n",
    "\n",
    "                current_input = samples[:, :, ::stride, ::stride]\n",
    "                for j in range(3):\n",
    "                    logits = self.group_nets[j](current_input)\n",
    "                    probs = torch.sigmoid(logits)\n",
    "                    s = torch.bernoulli(probs)\n",
    "                    current_input = torch.cat((current_input, s), dim=1)\n",
    "\n",
    "                    if j == 0:\n",
    "                        samples[:, :, ::stride, offset::stride] = s\n",
    "                    elif j == 1:\n",
    "                        samples[:, :, offset::stride, ::stride] = s\n",
    "                    else:\n",
    "                        samples[:, :, offset::stride, offset::stride] = s\n",
    "            return samples.cpu()"
   ]
  },
  {
   "cell_type": "code",
   "execution_count": null,
   "metadata": {
    "colab": {
     "base_uri": "https://localhost:8080/",
     "height": 575
    },
    "colab_type": "code",
    "id": "hSvGHV2Jmw0K",
    "outputId": "95ec8cd7-7603-49f4-b473-f9af203bd510"
   },
   "outputs": [],
   "source": [
    "def expand_subsampled(samples):\n",
    "    images = []\n",
    "    for i in range(5):\n",
    "        stride = 2 ** (5 - i)\n",
    "        img = samples[:, :, ::stride, ::stride]\n",
    "        img = F.interpolate(img, size=(224, 224))\n",
    "        images.append(img)\n",
    "    images.append(samples)\n",
    "    images = torch.stack(images, dim=1).view(-1, 1, 224, 224)\n",
    "    return images\n",
    "\n",
    "device = torch.device('cuda')\n",
    "model = ParallelPixelCNN(device).to(device)\n",
    "model.load_state_dict(torch.load(join('pretrained_models', 'parallel_pixelcnn', 'checkpoints', 'epoch15_state_dict')))\n",
    "samples = model.sample(10)\n",
    "images = expand_subsampled(samples)\n",
    "visualize_batch(images, nrow=6, figsize=(10, 10))"
   ]
  },
  {
   "cell_type": "code",
   "execution_count": null,
   "metadata": {
    "colab": {},
    "colab_type": "code",
    "id": "ltJfUfWJndFl"
   },
   "outputs": [],
   "source": []
  }
 ],
 "metadata": {
  "accelerator": "GPU",
  "colab": {
   "collapsed_sections": [],
   "include_colab_link": true,
   "name": "Autoregressive Model Demos.ipynb",
   "provenance": [],
   "toc_visible": true
  },
  "kernelspec": {
   "display_name": "Python 3",
   "language": "python",
   "name": "python3"
  },
  "language_info": {
   "codemirror_mode": {
    "name": "ipython",
    "version": 3
   },
   "file_extension": ".py",
   "mimetype": "text/x-python",
   "name": "python",
   "nbconvert_exporter": "python",
   "pygments_lexer": "ipython3",
   "version": "3.6.9"
  },
  "widgets": {
   "application/vnd.jupyter.widget-state+json": {
    "01d6b6c3a4f949f38620249b2c9a7163": {
     "model_module": "@jupyter-widgets/base",
     "model_name": "LayoutModel",
     "state": {
      "_model_module": "@jupyter-widgets/base",
      "_model_module_version": "1.2.0",
      "_model_name": "LayoutModel",
      "_view_count": null,
      "_view_module": "@jupyter-widgets/base",
      "_view_module_version": "1.2.0",
      "_view_name": "LayoutView",
      "align_content": null,
      "align_items": null,
      "align_self": null,
      "border": null,
      "bottom": null,
      "display": null,
      "flex": null,
      "flex_flow": null,
      "grid_area": null,
      "grid_auto_columns": null,
      "grid_auto_flow": null,
      "grid_auto_rows": null,
      "grid_column": null,
      "grid_gap": null,
      "grid_row": null,
      "grid_template_areas": null,
      "grid_template_columns": null,
      "grid_template_rows": null,
      "height": null,
      "justify_content": null,
      "justify_items": null,
      "left": null,
      "margin": null,
      "max_height": null,
      "max_width": null,
      "min_height": null,
      "min_width": null,
      "object_fit": null,
      "object_position": null,
      "order": null,
      "overflow": null,
      "overflow_x": null,
      "overflow_y": null,
      "padding": null,
      "right": null,
      "top": null,
      "visibility": null,
      "width": null
     }
    },
    "058c6550a5a54d7b904802cc2c5c6c39": {
     "model_module": "@jupyter-widgets/controls",
     "model_name": "DescriptionStyleModel",
     "state": {
      "_model_module": "@jupyter-widgets/controls",
      "_model_module_version": "1.5.0",
      "_model_name": "DescriptionStyleModel",
      "_view_count": null,
      "_view_module": "@jupyter-widgets/base",
      "_view_module_version": "1.2.0",
      "_view_name": "StyleView",
      "description_width": ""
     }
    },
    "07ff604bbe6347eebe971aa9ac64bcbf": {
     "model_module": "@jupyter-widgets/base",
     "model_name": "LayoutModel",
     "state": {
      "_model_module": "@jupyter-widgets/base",
      "_model_module_version": "1.2.0",
      "_model_name": "LayoutModel",
      "_view_count": null,
      "_view_module": "@jupyter-widgets/base",
      "_view_module_version": "1.2.0",
      "_view_name": "LayoutView",
      "align_content": null,
      "align_items": null,
      "align_self": null,
      "border": null,
      "bottom": null,
      "display": null,
      "flex": null,
      "flex_flow": null,
      "grid_area": null,
      "grid_auto_columns": null,
      "grid_auto_flow": null,
      "grid_auto_rows": null,
      "grid_column": null,
      "grid_gap": null,
      "grid_row": null,
      "grid_template_areas": null,
      "grid_template_columns": null,
      "grid_template_rows": null,
      "height": null,
      "justify_content": null,
      "justify_items": null,
      "left": null,
      "margin": null,
      "max_height": null,
      "max_width": null,
      "min_height": null,
      "min_width": null,
      "object_fit": null,
      "object_position": null,
      "order": null,
      "overflow": null,
      "overflow_x": null,
      "overflow_y": null,
      "padding": null,
      "right": null,
      "top": null,
      "visibility": null,
      "width": null
     }
    },
    "0fc94c9d31f742a296dd2dac2ad76b50": {
     "model_module": "@jupyter-widgets/base",
     "model_name": "LayoutModel",
     "state": {
      "_model_module": "@jupyter-widgets/base",
      "_model_module_version": "1.2.0",
      "_model_name": "LayoutModel",
      "_view_count": null,
      "_view_module": "@jupyter-widgets/base",
      "_view_module_version": "1.2.0",
      "_view_name": "LayoutView",
      "align_content": null,
      "align_items": null,
      "align_self": null,
      "border": null,
      "bottom": null,
      "display": null,
      "flex": null,
      "flex_flow": null,
      "grid_area": null,
      "grid_auto_columns": null,
      "grid_auto_flow": null,
      "grid_auto_rows": null,
      "grid_column": null,
      "grid_gap": null,
      "grid_row": null,
      "grid_template_areas": null,
      "grid_template_columns": null,
      "grid_template_rows": null,
      "height": null,
      "justify_content": null,
      "justify_items": null,
      "left": null,
      "margin": null,
      "max_height": null,
      "max_width": null,
      "min_height": null,
      "min_width": null,
      "object_fit": null,
      "object_position": null,
      "order": null,
      "overflow": null,
      "overflow_x": null,
      "overflow_y": null,
      "padding": null,
      "right": null,
      "top": null,
      "visibility": null,
      "width": null
     }
    },
    "1153ae6a9cf64f35809dbfdf5c4ead55": {
     "model_module": "@jupyter-widgets/base",
     "model_name": "LayoutModel",
     "state": {
      "_model_module": "@jupyter-widgets/base",
      "_model_module_version": "1.2.0",
      "_model_name": "LayoutModel",
      "_view_count": null,
      "_view_module": "@jupyter-widgets/base",
      "_view_module_version": "1.2.0",
      "_view_name": "LayoutView",
      "align_content": null,
      "align_items": null,
      "align_self": null,
      "border": null,
      "bottom": null,
      "display": null,
      "flex": null,
      "flex_flow": null,
      "grid_area": null,
      "grid_auto_columns": null,
      "grid_auto_flow": null,
      "grid_auto_rows": null,
      "grid_column": null,
      "grid_gap": null,
      "grid_row": null,
      "grid_template_areas": null,
      "grid_template_columns": null,
      "grid_template_rows": null,
      "height": null,
      "justify_content": null,
      "justify_items": null,
      "left": null,
      "margin": null,
      "max_height": null,
      "max_width": null,
      "min_height": null,
      "min_width": null,
      "object_fit": null,
      "object_position": null,
      "order": null,
      "overflow": null,
      "overflow_x": null,
      "overflow_y": null,
      "padding": null,
      "right": null,
      "top": null,
      "visibility": null,
      "width": null
     }
    },
    "1cd28f9ce5474cc8bd5c14ffc2974176": {
     "model_module": "@jupyter-widgets/controls",
     "model_name": "IntProgressModel",
     "state": {
      "_dom_classes": [],
      "_model_module": "@jupyter-widgets/controls",
      "_model_module_version": "1.5.0",
      "_model_name": "IntProgressModel",
      "_view_count": null,
      "_view_module": "@jupyter-widgets/controls",
      "_view_module_version": "1.5.0",
      "_view_name": "ProgressView",
      "bar_style": "success",
      "description": "",
      "description_tooltip": null,
      "layout": "IPY_MODEL_01d6b6c3a4f949f38620249b2c9a7163",
      "max": 1,
      "min": 0,
      "orientation": "horizontal",
      "style": "IPY_MODEL_ca9183bc83ac403a9873e0cac9c20684",
      "value": 1
     }
    },
    "1fa44d3e496c40e38d08d2a4444e6f16": {
     "model_module": "@jupyter-widgets/base",
     "model_name": "LayoutModel",
     "state": {
      "_model_module": "@jupyter-widgets/base",
      "_model_module_version": "1.2.0",
      "_model_name": "LayoutModel",
      "_view_count": null,
      "_view_module": "@jupyter-widgets/base",
      "_view_module_version": "1.2.0",
      "_view_name": "LayoutView",
      "align_content": null,
      "align_items": null,
      "align_self": null,
      "border": null,
      "bottom": null,
      "display": null,
      "flex": null,
      "flex_flow": null,
      "grid_area": null,
      "grid_auto_columns": null,
      "grid_auto_flow": null,
      "grid_auto_rows": null,
      "grid_column": null,
      "grid_gap": null,
      "grid_row": null,
      "grid_template_areas": null,
      "grid_template_columns": null,
      "grid_template_rows": null,
      "height": null,
      "justify_content": null,
      "justify_items": null,
      "left": null,
      "margin": null,
      "max_height": null,
      "max_width": null,
      "min_height": null,
      "min_width": null,
      "object_fit": null,
      "object_position": null,
      "order": null,
      "overflow": null,
      "overflow_x": null,
      "overflow_y": null,
      "padding": null,
      "right": null,
      "top": null,
      "visibility": null,
      "width": null
     }
    },
    "2a51f5a97e7440b89526e6d2dbffe6c8": {
     "model_module": "@jupyter-widgets/controls",
     "model_name": "DescriptionStyleModel",
     "state": {
      "_model_module": "@jupyter-widgets/controls",
      "_model_module_version": "1.5.0",
      "_model_name": "DescriptionStyleModel",
      "_view_count": null,
      "_view_module": "@jupyter-widgets/base",
      "_view_module_version": "1.2.0",
      "_view_name": "StyleView",
      "description_width": ""
     }
    },
    "2d5efc0561f648e58c3dd576685e342a": {
     "model_module": "@jupyter-widgets/controls",
     "model_name": "IntProgressModel",
     "state": {
      "_dom_classes": [],
      "_model_module": "@jupyter-widgets/controls",
      "_model_module_version": "1.5.0",
      "_model_name": "IntProgressModel",
      "_view_count": null,
      "_view_module": "@jupyter-widgets/controls",
      "_view_module_version": "1.5.0",
      "_view_name": "ProgressView",
      "bar_style": "success",
      "description": "",
      "description_tooltip": null,
      "layout": "IPY_MODEL_2e7ef29132fc4f77b8c2fd86a2a8941f",
      "max": 1,
      "min": 0,
      "orientation": "horizontal",
      "style": "IPY_MODEL_c4411aa728e6499e96eac306daf53ea7",
      "value": 1
     }
    },
    "2e7ef29132fc4f77b8c2fd86a2a8941f": {
     "model_module": "@jupyter-widgets/base",
     "model_name": "LayoutModel",
     "state": {
      "_model_module": "@jupyter-widgets/base",
      "_model_module_version": "1.2.0",
      "_model_name": "LayoutModel",
      "_view_count": null,
      "_view_module": "@jupyter-widgets/base",
      "_view_module_version": "1.2.0",
      "_view_name": "LayoutView",
      "align_content": null,
      "align_items": null,
      "align_self": null,
      "border": null,
      "bottom": null,
      "display": null,
      "flex": null,
      "flex_flow": null,
      "grid_area": null,
      "grid_auto_columns": null,
      "grid_auto_flow": null,
      "grid_auto_rows": null,
      "grid_column": null,
      "grid_gap": null,
      "grid_row": null,
      "grid_template_areas": null,
      "grid_template_columns": null,
      "grid_template_rows": null,
      "height": null,
      "justify_content": null,
      "justify_items": null,
      "left": null,
      "margin": null,
      "max_height": null,
      "max_width": null,
      "min_height": null,
      "min_width": null,
      "object_fit": null,
      "object_position": null,
      "order": null,
      "overflow": null,
      "overflow_x": null,
      "overflow_y": null,
      "padding": null,
      "right": null,
      "top": null,
      "visibility": null,
      "width": null
     }
    },
    "327bd292ec5648178c48e54b67d7d054": {
     "model_module": "@jupyter-widgets/controls",
     "model_name": "HBoxModel",
     "state": {
      "_dom_classes": [],
      "_model_module": "@jupyter-widgets/controls",
      "_model_module_version": "1.5.0",
      "_model_name": "HBoxModel",
      "_view_count": null,
      "_view_module": "@jupyter-widgets/controls",
      "_view_module_version": "1.5.0",
      "_view_name": "HBoxView",
      "box_style": "",
      "children": [
       "IPY_MODEL_2d5efc0561f648e58c3dd576685e342a",
       "IPY_MODEL_ee14baa43cc24bd6abad14e5ec5768bd"
      ],
      "layout": "IPY_MODEL_4b6cdadcd6a64f5193f10e2b782c3fb3"
     }
    },
    "32f787b74fd8471e97ac6050edc6db87": {
     "model_module": "@jupyter-widgets/controls",
     "model_name": "DescriptionStyleModel",
     "state": {
      "_model_module": "@jupyter-widgets/controls",
      "_model_module_version": "1.5.0",
      "_model_name": "DescriptionStyleModel",
      "_view_count": null,
      "_view_module": "@jupyter-widgets/base",
      "_view_module_version": "1.2.0",
      "_view_name": "StyleView",
      "description_width": ""
     }
    },
    "3b492ba331684509a3ad5cd39a30a78c": {
     "model_module": "@jupyter-widgets/controls",
     "model_name": "HBoxModel",
     "state": {
      "_dom_classes": [],
      "_model_module": "@jupyter-widgets/controls",
      "_model_module_version": "1.5.0",
      "_model_name": "HBoxModel",
      "_view_count": null,
      "_view_module": "@jupyter-widgets/controls",
      "_view_module_version": "1.5.0",
      "_view_name": "HBoxView",
      "box_style": "",
      "children": [
       "IPY_MODEL_f746d532385144579fe9477cd259c031",
       "IPY_MODEL_4d0f01930a154177975ba70089e0ae25"
      ],
      "layout": "IPY_MODEL_d7db5a0fe2b94b82ab2bc6b106fb64f1"
     }
    },
    "487d3d2ddb3e4bb39ec241913d818e43": {
     "model_module": "@jupyter-widgets/controls",
     "model_name": "DescriptionStyleModel",
     "state": {
      "_model_module": "@jupyter-widgets/controls",
      "_model_module_version": "1.5.0",
      "_model_name": "DescriptionStyleModel",
      "_view_count": null,
      "_view_module": "@jupyter-widgets/base",
      "_view_module_version": "1.2.0",
      "_view_name": "StyleView",
      "description_width": ""
     }
    },
    "4b6cdadcd6a64f5193f10e2b782c3fb3": {
     "model_module": "@jupyter-widgets/base",
     "model_name": "LayoutModel",
     "state": {
      "_model_module": "@jupyter-widgets/base",
      "_model_module_version": "1.2.0",
      "_model_name": "LayoutModel",
      "_view_count": null,
      "_view_module": "@jupyter-widgets/base",
      "_view_module_version": "1.2.0",
      "_view_name": "LayoutView",
      "align_content": null,
      "align_items": null,
      "align_self": null,
      "border": null,
      "bottom": null,
      "display": null,
      "flex": null,
      "flex_flow": null,
      "grid_area": null,
      "grid_auto_columns": null,
      "grid_auto_flow": null,
      "grid_auto_rows": null,
      "grid_column": null,
      "grid_gap": null,
      "grid_row": null,
      "grid_template_areas": null,
      "grid_template_columns": null,
      "grid_template_rows": null,
      "height": null,
      "justify_content": null,
      "justify_items": null,
      "left": null,
      "margin": null,
      "max_height": null,
      "max_width": null,
      "min_height": null,
      "min_width": null,
      "object_fit": null,
      "object_position": null,
      "order": null,
      "overflow": null,
      "overflow_x": null,
      "overflow_y": null,
      "padding": null,
      "right": null,
      "top": null,
      "visibility": null,
      "width": null
     }
    },
    "4d0f01930a154177975ba70089e0ae25": {
     "model_module": "@jupyter-widgets/controls",
     "model_name": "HTMLModel",
     "state": {
      "_dom_classes": [],
      "_model_module": "@jupyter-widgets/controls",
      "_model_module_version": "1.5.0",
      "_model_name": "HTMLModel",
      "_view_count": null,
      "_view_module": "@jupyter-widgets/controls",
      "_view_module_version": "1.5.0",
      "_view_name": "HTMLView",
      "description": "",
      "description_tooltip": null,
      "layout": "IPY_MODEL_a50eabe20d6249d780d91efe5839f513",
      "placeholder": "​",
      "style": "IPY_MODEL_487d3d2ddb3e4bb39ec241913d818e43",
      "value": "32768it [00:00, 123671.14it/s]"
     }
    },
    "4f5206f39de2473fb57bf73759e876a1": {
     "model_module": "@jupyter-widgets/base",
     "model_name": "LayoutModel",
     "state": {
      "_model_module": "@jupyter-widgets/base",
      "_model_module_version": "1.2.0",
      "_model_name": "LayoutModel",
      "_view_count": null,
      "_view_module": "@jupyter-widgets/base",
      "_view_module_version": "1.2.0",
      "_view_name": "LayoutView",
      "align_content": null,
      "align_items": null,
      "align_self": null,
      "border": null,
      "bottom": null,
      "display": null,
      "flex": null,
      "flex_flow": null,
      "grid_area": null,
      "grid_auto_columns": null,
      "grid_auto_flow": null,
      "grid_auto_rows": null,
      "grid_column": null,
      "grid_gap": null,
      "grid_row": null,
      "grid_template_areas": null,
      "grid_template_columns": null,
      "grid_template_rows": null,
      "height": null,
      "justify_content": null,
      "justify_items": null,
      "left": null,
      "margin": null,
      "max_height": null,
      "max_width": null,
      "min_height": null,
      "min_width": null,
      "object_fit": null,
      "object_position": null,
      "order": null,
      "overflow": null,
      "overflow_x": null,
      "overflow_y": null,
      "padding": null,
      "right": null,
      "top": null,
      "visibility": null,
      "width": null
     }
    },
    "5904813ca80b450c8b977f6000dd652a": {
     "model_module": "@jupyter-widgets/controls",
     "model_name": "ProgressStyleModel",
     "state": {
      "_model_module": "@jupyter-widgets/controls",
      "_model_module_version": "1.5.0",
      "_model_name": "ProgressStyleModel",
      "_view_count": null,
      "_view_module": "@jupyter-widgets/base",
      "_view_module_version": "1.2.0",
      "_view_name": "StyleView",
      "bar_color": null,
      "description_width": ""
     }
    },
    "760c809a700f41d0858e21db309026ad": {
     "model_module": "@jupyter-widgets/controls",
     "model_name": "IntProgressModel",
     "state": {
      "_dom_classes": [],
      "_model_module": "@jupyter-widgets/controls",
      "_model_module_version": "1.5.0",
      "_model_name": "IntProgressModel",
      "_view_count": null,
      "_view_module": "@jupyter-widgets/controls",
      "_view_module_version": "1.5.0",
      "_view_name": "ProgressView",
      "bar_style": "success",
      "description": "",
      "description_tooltip": null,
      "layout": "IPY_MODEL_07ff604bbe6347eebe971aa9ac64bcbf",
      "max": 1,
      "min": 0,
      "orientation": "horizontal",
      "style": "IPY_MODEL_b3f952ddd65a41c89dcf172de4ae682e",
      "value": 1
     }
    },
    "7a4bc2b872c54abba71bbdbcc079d635": {
     "model_module": "@jupyter-widgets/controls",
     "model_name": "HTMLModel",
     "state": {
      "_dom_classes": [],
      "_model_module": "@jupyter-widgets/controls",
      "_model_module_version": "1.5.0",
      "_model_name": "HTMLModel",
      "_view_count": null,
      "_view_module": "@jupyter-widgets/controls",
      "_view_module_version": "1.5.0",
      "_view_name": "HTMLView",
      "description": "",
      "description_tooltip": null,
      "layout": "IPY_MODEL_b85c66e88b5d480189cd6d5f86b2b62e",
      "placeholder": "​",
      "style": "IPY_MODEL_32f787b74fd8471e97ac6050edc6db87",
      "value": "1654784it [00:00, 2158283.75it/s]"
     }
    },
    "7ba4bf546a0f4ddcaee4d1cd4a1afab8": {
     "model_module": "@jupyter-widgets/controls",
     "model_name": "HTMLModel",
     "state": {
      "_dom_classes": [],
      "_model_module": "@jupyter-widgets/controls",
      "_model_module_version": "1.5.0",
      "_model_name": "HTMLModel",
      "_view_count": null,
      "_view_module": "@jupyter-widgets/controls",
      "_view_module_version": "1.5.0",
      "_view_name": "HTMLView",
      "description": "",
      "description_tooltip": null,
      "layout": "IPY_MODEL_1153ae6a9cf64f35809dbfdf5c4ead55",
      "placeholder": "​",
      "style": "IPY_MODEL_058c6550a5a54d7b904802cc2c5c6c39",
      "value": "9920512it [00:01, 8191310.00it/s]"
     }
    },
    "a50eabe20d6249d780d91efe5839f513": {
     "model_module": "@jupyter-widgets/base",
     "model_name": "LayoutModel",
     "state": {
      "_model_module": "@jupyter-widgets/base",
      "_model_module_version": "1.2.0",
      "_model_name": "LayoutModel",
      "_view_count": null,
      "_view_module": "@jupyter-widgets/base",
      "_view_module_version": "1.2.0",
      "_view_name": "LayoutView",
      "align_content": null,
      "align_items": null,
      "align_self": null,
      "border": null,
      "bottom": null,
      "display": null,
      "flex": null,
      "flex_flow": null,
      "grid_area": null,
      "grid_auto_columns": null,
      "grid_auto_flow": null,
      "grid_auto_rows": null,
      "grid_column": null,
      "grid_gap": null,
      "grid_row": null,
      "grid_template_areas": null,
      "grid_template_columns": null,
      "grid_template_rows": null,
      "height": null,
      "justify_content": null,
      "justify_items": null,
      "left": null,
      "margin": null,
      "max_height": null,
      "max_width": null,
      "min_height": null,
      "min_width": null,
      "object_fit": null,
      "object_position": null,
      "order": null,
      "overflow": null,
      "overflow_x": null,
      "overflow_y": null,
      "padding": null,
      "right": null,
      "top": null,
      "visibility": null,
      "width": null
     }
    },
    "b3f952ddd65a41c89dcf172de4ae682e": {
     "model_module": "@jupyter-widgets/controls",
     "model_name": "ProgressStyleModel",
     "state": {
      "_model_module": "@jupyter-widgets/controls",
      "_model_module_version": "1.5.0",
      "_model_name": "ProgressStyleModel",
      "_view_count": null,
      "_view_module": "@jupyter-widgets/base",
      "_view_module_version": "1.2.0",
      "_view_name": "StyleView",
      "bar_color": null,
      "description_width": ""
     }
    },
    "b595714c249146c5bcaf12483a31163f": {
     "model_module": "@jupyter-widgets/controls",
     "model_name": "HBoxModel",
     "state": {
      "_dom_classes": [],
      "_model_module": "@jupyter-widgets/controls",
      "_model_module_version": "1.5.0",
      "_model_name": "HBoxModel",
      "_view_count": null,
      "_view_module": "@jupyter-widgets/controls",
      "_view_module_version": "1.5.0",
      "_view_name": "HBoxView",
      "box_style": "",
      "children": [
       "IPY_MODEL_1cd28f9ce5474cc8bd5c14ffc2974176",
       "IPY_MODEL_7a4bc2b872c54abba71bbdbcc079d635"
      ],
      "layout": "IPY_MODEL_c544851321074c51862868d957ee5da3"
     }
    },
    "b85c66e88b5d480189cd6d5f86b2b62e": {
     "model_module": "@jupyter-widgets/base",
     "model_name": "LayoutModel",
     "state": {
      "_model_module": "@jupyter-widgets/base",
      "_model_module_version": "1.2.0",
      "_model_name": "LayoutModel",
      "_view_count": null,
      "_view_module": "@jupyter-widgets/base",
      "_view_module_version": "1.2.0",
      "_view_name": "LayoutView",
      "align_content": null,
      "align_items": null,
      "align_self": null,
      "border": null,
      "bottom": null,
      "display": null,
      "flex": null,
      "flex_flow": null,
      "grid_area": null,
      "grid_auto_columns": null,
      "grid_auto_flow": null,
      "grid_auto_rows": null,
      "grid_column": null,
      "grid_gap": null,
      "grid_row": null,
      "grid_template_areas": null,
      "grid_template_columns": null,
      "grid_template_rows": null,
      "height": null,
      "justify_content": null,
      "justify_items": null,
      "left": null,
      "margin": null,
      "max_height": null,
      "max_width": null,
      "min_height": null,
      "min_width": null,
      "object_fit": null,
      "object_position": null,
      "order": null,
      "overflow": null,
      "overflow_x": null,
      "overflow_y": null,
      "padding": null,
      "right": null,
      "top": null,
      "visibility": null,
      "width": null
     }
    },
    "c4411aa728e6499e96eac306daf53ea7": {
     "model_module": "@jupyter-widgets/controls",
     "model_name": "ProgressStyleModel",
     "state": {
      "_model_module": "@jupyter-widgets/controls",
      "_model_module_version": "1.5.0",
      "_model_name": "ProgressStyleModel",
      "_view_count": null,
      "_view_module": "@jupyter-widgets/base",
      "_view_module_version": "1.2.0",
      "_view_name": "StyleView",
      "bar_color": null,
      "description_width": ""
     }
    },
    "c544851321074c51862868d957ee5da3": {
     "model_module": "@jupyter-widgets/base",
     "model_name": "LayoutModel",
     "state": {
      "_model_module": "@jupyter-widgets/base",
      "_model_module_version": "1.2.0",
      "_model_name": "LayoutModel",
      "_view_count": null,
      "_view_module": "@jupyter-widgets/base",
      "_view_module_version": "1.2.0",
      "_view_name": "LayoutView",
      "align_content": null,
      "align_items": null,
      "align_self": null,
      "border": null,
      "bottom": null,
      "display": null,
      "flex": null,
      "flex_flow": null,
      "grid_area": null,
      "grid_auto_columns": null,
      "grid_auto_flow": null,
      "grid_auto_rows": null,
      "grid_column": null,
      "grid_gap": null,
      "grid_row": null,
      "grid_template_areas": null,
      "grid_template_columns": null,
      "grid_template_rows": null,
      "height": null,
      "justify_content": null,
      "justify_items": null,
      "left": null,
      "margin": null,
      "max_height": null,
      "max_width": null,
      "min_height": null,
      "min_width": null,
      "object_fit": null,
      "object_position": null,
      "order": null,
      "overflow": null,
      "overflow_x": null,
      "overflow_y": null,
      "padding": null,
      "right": null,
      "top": null,
      "visibility": null,
      "width": null
     }
    },
    "ca9183bc83ac403a9873e0cac9c20684": {
     "model_module": "@jupyter-widgets/controls",
     "model_name": "ProgressStyleModel",
     "state": {
      "_model_module": "@jupyter-widgets/controls",
      "_model_module_version": "1.5.0",
      "_model_name": "ProgressStyleModel",
      "_view_count": null,
      "_view_module": "@jupyter-widgets/base",
      "_view_module_version": "1.2.0",
      "_view_name": "StyleView",
      "bar_color": null,
      "description_width": ""
     }
    },
    "d7db5a0fe2b94b82ab2bc6b106fb64f1": {
     "model_module": "@jupyter-widgets/base",
     "model_name": "LayoutModel",
     "state": {
      "_model_module": "@jupyter-widgets/base",
      "_model_module_version": "1.2.0",
      "_model_name": "LayoutModel",
      "_view_count": null,
      "_view_module": "@jupyter-widgets/base",
      "_view_module_version": "1.2.0",
      "_view_name": "LayoutView",
      "align_content": null,
      "align_items": null,
      "align_self": null,
      "border": null,
      "bottom": null,
      "display": null,
      "flex": null,
      "flex_flow": null,
      "grid_area": null,
      "grid_auto_columns": null,
      "grid_auto_flow": null,
      "grid_auto_rows": null,
      "grid_column": null,
      "grid_gap": null,
      "grid_row": null,
      "grid_template_areas": null,
      "grid_template_columns": null,
      "grid_template_rows": null,
      "height": null,
      "justify_content": null,
      "justify_items": null,
      "left": null,
      "margin": null,
      "max_height": null,
      "max_width": null,
      "min_height": null,
      "min_width": null,
      "object_fit": null,
      "object_position": null,
      "order": null,
      "overflow": null,
      "overflow_x": null,
      "overflow_y": null,
      "padding": null,
      "right": null,
      "top": null,
      "visibility": null,
      "width": null
     }
    },
    "ee14baa43cc24bd6abad14e5ec5768bd": {
     "model_module": "@jupyter-widgets/controls",
     "model_name": "HTMLModel",
     "state": {
      "_dom_classes": [],
      "_model_module": "@jupyter-widgets/controls",
      "_model_module_version": "1.5.0",
      "_model_name": "HTMLModel",
      "_view_count": null,
      "_view_module": "@jupyter-widgets/controls",
      "_view_module_version": "1.5.0",
      "_view_name": "HTMLView",
      "description": "",
      "description_tooltip": null,
      "layout": "IPY_MODEL_0fc94c9d31f742a296dd2dac2ad76b50",
      "placeholder": "​",
      "style": "IPY_MODEL_2a51f5a97e7440b89526e6d2dbffe6c8",
      "value": "8192it [00:00, 41348.75it/s]"
     }
    },
    "f746d532385144579fe9477cd259c031": {
     "model_module": "@jupyter-widgets/controls",
     "model_name": "IntProgressModel",
     "state": {
      "_dom_classes": [],
      "_model_module": "@jupyter-widgets/controls",
      "_model_module_version": "1.5.0",
      "_model_name": "IntProgressModel",
      "_view_count": null,
      "_view_module": "@jupyter-widgets/controls",
      "_view_module_version": "1.5.0",
      "_view_name": "ProgressView",
      "bar_style": "success",
      "description": "",
      "description_tooltip": null,
      "layout": "IPY_MODEL_1fa44d3e496c40e38d08d2a4444e6f16",
      "max": 1,
      "min": 0,
      "orientation": "horizontal",
      "style": "IPY_MODEL_5904813ca80b450c8b977f6000dd652a",
      "value": 1
     }
    },
    "f7b57e3a38794e7bb5204c813941871e": {
     "model_module": "@jupyter-widgets/controls",
     "model_name": "HBoxModel",
     "state": {
      "_dom_classes": [],
      "_model_module": "@jupyter-widgets/controls",
      "_model_module_version": "1.5.0",
      "_model_name": "HBoxModel",
      "_view_count": null,
      "_view_module": "@jupyter-widgets/controls",
      "_view_module_version": "1.5.0",
      "_view_name": "HBoxView",
      "box_style": "",
      "children": [
       "IPY_MODEL_760c809a700f41d0858e21db309026ad",
       "IPY_MODEL_7ba4bf546a0f4ddcaee4d1cd4a1afab8"
      ],
      "layout": "IPY_MODEL_4f5206f39de2473fb57bf73759e876a1"
     }
    }
   }
  }
 },
 "nbformat": 4,
 "nbformat_minor": 1
}

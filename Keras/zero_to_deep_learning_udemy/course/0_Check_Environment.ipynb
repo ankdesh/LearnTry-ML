{
 "cells": [
  {
   "cell_type": "markdown",
   "metadata": {},
   "source": [
    "# Check Environment\n",
    "This notebook checks that you have correctly created the environment and that all packages needed are installed."
   ]
  },
  {
   "cell_type": "markdown",
   "metadata": {},
   "source": [
    "## Environment\n",
    "\n",
    "The next command should return a line like (Mac/Linux):\n",
    "\n",
    "    /<YOUR-HOME-FOLDER>/anaconda/envs/ztdl/bin/python\n",
    "\n",
    "or like (Windows 10):\n",
    "\n",
    "    C:\\\\<YOUR-HOME-FOLDER>\\\\Anaconda3\\\\envs\\\\ztdl\\\\python.exe\n",
    "\n",
    "In particular you should make sure that you are using the python executable from within the course environment.\n",
    "\n",
    "If that's not the case do this:\n",
    "\n",
    "1. close this notebook\n",
    "2. go to the terminal and stop jupyer notebook\n",
    "3. make sure that you have activated the environment, you should see a prompt like:\n",
    "\n",
    "        (ztdl) $\n",
    "4. (optional) if you don't see that prompt activate the environment:\n",
    "    - mac/linux:\n",
    "    \n",
    "            source activate ztdl\n",
    "\n",
    "    - windows:\n",
    "\n",
    "            activate ztdl\n",
    "5. restart jupyter notebook"
   ]
  },
  {
   "cell_type": "code",
   "execution_count": null,
   "metadata": {},
   "outputs": [],
   "source": [
    "import os\n",
    "import sys\n",
    "sys.executable"
   ]
  },
  {
   "cell_type": "markdown",
   "metadata": {},
   "source": [
    "## Python 3.5\n",
    "\n",
    "The next line should say that you're using Python 3.5.x from Continuum Analytics. At the time of publication it looks like this (Mac/Linux):\n",
    "\n",
    "    3.5.3 |Continuum Analytics, Inc.| (default, Mar  6 2017, 12:15:08) \\n[GCC 4.2.1 Compatible Apple LLVM 6.0 (clang-600.0.57)\n",
    "    \n",
    "or like this (Windows 10):\n",
    "\n",
    "    3.5.3 |Continuum Analytics, Inc.| (default, May 11 2017, 13:52:01) [MSC v.1900 64 bit (AMD64)]\n",
    "\n",
    "but date and exact version of GCC may change in the future.\n",
    "\n",
    "If you see a different version of python, go back to the previous step and make sure you created and activated the environment correctly."
   ]
  },
  {
   "cell_type": "code",
   "execution_count": null,
   "metadata": {},
   "outputs": [],
   "source": [
    "import sys\n",
    "sys.version"
   ]
  },
  {
   "cell_type": "markdown",
   "metadata": {},
   "source": [
    "## Jupyter\n",
    "\n",
    "Check that Jupyter is running from within the environment. The next line should look like (Mac/Linux):\n",
    "\n",
    "    /<YOUR-HOME-FOLDER>/anaconda/envs/ztdl/lib/python3.5/site-packages/jupyter.py'\n",
    "\n",
    "or like this (Windows 10):\n",
    "\n",
    "    C:\\\\Users\\\\paperspace\\\\Anaconda3\\\\envs\\\\ztdl\\\\lib\\\\site-packages\\\\jupyter.py"
   ]
  },
  {
   "cell_type": "code",
   "execution_count": null,
   "metadata": {},
   "outputs": [],
   "source": [
    "import jupyter\n",
    "jupyter.__file__"
   ]
  },
  {
   "cell_type": "markdown",
   "metadata": {},
   "source": [
    "## Other packages\n",
    "\n",
    "Here we will check that all the packages are installed and have the correct versions. If everything is ok you should see:\n",
    "    \n",
    "    Using TensorFlow backend.\n",
    "    \n",
    "    Houston we are go!\n",
    "\n",
    "If there's any issue here please make sure you have checked the previous steps and if it's all good please send us a question in the Q&A forum."
   ]
  },
  {
   "cell_type": "code",
   "execution_count": null,
   "metadata": {},
   "outputs": [],
   "source": [
    "import pip\n",
    "import numpy\n",
    "import jupyter\n",
    "import matplotlib\n",
    "import sklearn\n",
    "import scipy\n",
    "import pandas\n",
    "import PIL\n",
    "import seaborn\n",
    "import h5py\n",
    "import tensorflow\n",
    "import keras\n",
    "\n",
    "assert(pip.__version__ == '9.0.1')\n",
    "assert(numpy.__version__ == '1.12.0')\n",
    "assert(matplotlib.__version__ == '2.0.0')\n",
    "assert(sklearn.__version__ == '0.18.1')\n",
    "assert(scipy.__version__ == '0.19.0')\n",
    "assert(pandas.__version__ == '0.19.2')\n",
    "assert(PIL.__version__ == '4.0.0')\n",
    "assert(seaborn.__version__ == '0.7.1')\n",
    "assert(h5py.__version__ == '2.7.0')\n",
    "assert(tensorflow.__version__ == '1.1.0')\n",
    "assert(keras.__version__ == '2.0.4')\n",
    "\n",
    "print(\"Houston we are go!\")"
   ]
  },
  {
   "cell_type": "code",
   "execution_count": null,
   "metadata": {
    "collapsed": true
   },
   "outputs": [],
   "source": []
  }
 ],
 "metadata": {
  "kernelspec": {
   "display_name": "Python 3",
   "language": "python",
   "name": "python3"
  },
  "language_info": {
   "codemirror_mode": {
    "name": "ipython",
    "version": 3
   },
   "file_extension": ".py",
   "mimetype": "text/x-python",
   "name": "python",
   "nbconvert_exporter": "python",
   "pygments_lexer": "ipython3",
   "version": "3.5.3"
  }
 },
 "nbformat": 4,
 "nbformat_minor": 2
}

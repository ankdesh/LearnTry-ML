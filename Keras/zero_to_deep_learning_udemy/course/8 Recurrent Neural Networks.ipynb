{
 "cells": [
  {
   "cell_type": "markdown",
   "metadata": {},
   "source": [
    "# Recurrent Neural Networks"
   ]
  },
  {
   "cell_type": "code",
   "execution_count": 66,
   "metadata": {},
   "outputs": [],
   "source": [
    "import pandas as pd\n",
    "import numpy as np\n",
    "%matplotlib inline\n",
    "import matplotlib.pyplot as plt\n",
    "from sklearn.metrics import mean_squared_error as mse\n",
    "from tensorflow.keras.callbacks import TensorBoard"
   ]
  },
  {
   "cell_type": "markdown",
   "metadata": {},
   "source": [
    "## Time series forecasting"
   ]
  },
  {
   "cell_type": "code",
   "execution_count": 2,
   "metadata": {},
   "outputs": [
    {
     "data": {
      "text/html": [
       "<div>\n",
       "<style scoped>\n",
       "    .dataframe tbody tr th:only-of-type {\n",
       "        vertical-align: middle;\n",
       "    }\n",
       "\n",
       "    .dataframe tbody tr th {\n",
       "        vertical-align: top;\n",
       "    }\n",
       "\n",
       "    .dataframe thead th {\n",
       "        text-align: right;\n",
       "    }\n",
       "</style>\n",
       "<table border=\"1\" class=\"dataframe\">\n",
       "  <thead>\n",
       "    <tr style=\"text-align: right;\">\n",
       "      <th></th>\n",
       "      <th>Adjustments</th>\n",
       "      <th>Unadjusted</th>\n",
       "      <th>Seasonally adjusted</th>\n",
       "    </tr>\n",
       "  </thead>\n",
       "  <tbody>\n",
       "    <tr>\n",
       "      <th>0</th>\n",
       "      <td>Jan-1991</td>\n",
       "      <td>12588862</td>\n",
       "      <td>15026890</td>\n",
       "    </tr>\n",
       "    <tr>\n",
       "      <th>1</th>\n",
       "      <td>Feb-1991</td>\n",
       "      <td>12154321</td>\n",
       "      <td>15304585</td>\n",
       "    </tr>\n",
       "    <tr>\n",
       "      <th>2</th>\n",
       "      <td>Mar-1991</td>\n",
       "      <td>14337072</td>\n",
       "      <td>15413591</td>\n",
       "    </tr>\n",
       "    <tr>\n",
       "      <th>3</th>\n",
       "      <td>Apr-1991</td>\n",
       "      <td>15108570</td>\n",
       "      <td>15293409</td>\n",
       "    </tr>\n",
       "    <tr>\n",
       "      <th>4</th>\n",
       "      <td>May-1991</td>\n",
       "      <td>17225734</td>\n",
       "      <td>15676083</td>\n",
       "    </tr>\n",
       "  </tbody>\n",
       "</table>\n",
       "</div>"
      ],
      "text/plain": [
       "  Adjustments  Unadjusted  Seasonally adjusted\n",
       "0    Jan-1991    12588862             15026890\n",
       "1    Feb-1991    12154321             15304585\n",
       "2    Mar-1991    14337072             15413591\n",
       "3    Apr-1991    15108570             15293409\n",
       "4    May-1991    17225734             15676083"
      ]
     },
     "execution_count": 2,
     "metadata": {},
     "output_type": "execute_result"
    }
   ],
   "source": [
    "df = pd.read_csv('../data/cansim-0800020-eng-6674700030567901031.csv',\n",
    "                 skiprows=6, skipfooter=9,\n",
    "                 engine='python')\n",
    "df.head()"
   ]
  },
  {
   "cell_type": "code",
   "execution_count": 3,
   "metadata": {},
   "outputs": [],
   "source": [
    "from pandas.tseries.offsets import MonthEnd"
   ]
  },
  {
   "cell_type": "code",
   "execution_count": 4,
   "metadata": {},
   "outputs": [
    {
     "data": {
      "text/html": [
       "<div>\n",
       "<style scoped>\n",
       "    .dataframe tbody tr th:only-of-type {\n",
       "        vertical-align: middle;\n",
       "    }\n",
       "\n",
       "    .dataframe tbody tr th {\n",
       "        vertical-align: top;\n",
       "    }\n",
       "\n",
       "    .dataframe thead th {\n",
       "        text-align: right;\n",
       "    }\n",
       "</style>\n",
       "<table border=\"1\" class=\"dataframe\">\n",
       "  <thead>\n",
       "    <tr style=\"text-align: right;\">\n",
       "      <th></th>\n",
       "      <th>Unadjusted</th>\n",
       "      <th>Seasonally adjusted</th>\n",
       "    </tr>\n",
       "    <tr>\n",
       "      <th>Adjustments</th>\n",
       "      <th></th>\n",
       "      <th></th>\n",
       "    </tr>\n",
       "  </thead>\n",
       "  <tbody>\n",
       "    <tr>\n",
       "      <th>1991-01-31</th>\n",
       "      <td>12588862</td>\n",
       "      <td>15026890</td>\n",
       "    </tr>\n",
       "    <tr>\n",
       "      <th>1991-02-28</th>\n",
       "      <td>12154321</td>\n",
       "      <td>15304585</td>\n",
       "    </tr>\n",
       "    <tr>\n",
       "      <th>1991-03-31</th>\n",
       "      <td>14337072</td>\n",
       "      <td>15413591</td>\n",
       "    </tr>\n",
       "    <tr>\n",
       "      <th>1991-04-30</th>\n",
       "      <td>15108570</td>\n",
       "      <td>15293409</td>\n",
       "    </tr>\n",
       "    <tr>\n",
       "      <th>1991-05-31</th>\n",
       "      <td>17225734</td>\n",
       "      <td>15676083</td>\n",
       "    </tr>\n",
       "  </tbody>\n",
       "</table>\n",
       "</div>"
      ],
      "text/plain": [
       "             Unadjusted  Seasonally adjusted\n",
       "Adjustments                                 \n",
       "1991-01-31     12588862             15026890\n",
       "1991-02-28     12154321             15304585\n",
       "1991-03-31     14337072             15413591\n",
       "1991-04-30     15108570             15293409\n",
       "1991-05-31     17225734             15676083"
      ]
     },
     "execution_count": 4,
     "metadata": {},
     "output_type": "execute_result"
    }
   ],
   "source": [
    "df['Adjustments'] = pd.to_datetime(df['Adjustments']) + MonthEnd(1)\n",
    "df = df.set_index('Adjustments')\n",
    "df.head()"
   ]
  },
  {
   "cell_type": "code",
   "execution_count": 5,
   "metadata": {},
   "outputs": [
    {
     "data": {
      "text/plain": [
       "<matplotlib.axes._subplots.AxesSubplot at 0x7f17957c6710>"
      ]
     },
     "execution_count": 5,
     "metadata": {},
     "output_type": "execute_result"
    },
    {
     "data": {
      "image/png": "[encoded data removed]",
      "text/plain": [
       "<Figure size 432x288 with 1 Axes>"
      ]
     },
     "metadata": {
      "needs_background": "light"
     },
     "output_type": "display_data"
    }
   ],
   "source": [
    "df.plot()"
   ]
  },
  {
   "cell_type": "code",
   "execution_count": 6,
   "metadata": {},
   "outputs": [],
   "source": [
    "split_date = pd.Timestamp('01-01-2011')"
   ]
  },
  {
   "cell_type": "code",
   "execution_count": 7,
   "metadata": {},
   "outputs": [],
   "source": [
    "train = df.loc[:split_date, ['Unadjusted']]\n",
    "test = df.loc[split_date:, ['Unadjusted']]"
   ]
  },
  {
   "cell_type": "code",
   "execution_count": 8,
   "metadata": {},
   "outputs": [
    {
     "name": "stdout",
     "output_type": "stream",
     "text": [
      "             Unadjusted\n",
      "Adjustments            \n",
      "1991-01-31     12588862\n",
      "1991-02-28     12154321\n",
      "1991-03-31     14337072\n",
      "1991-04-30     15108570\n",
      "1991-05-31     17225734\n",
      "             Unadjusted\n",
      "Adjustments            \n",
      "2011-01-31     31191594\n",
      "2011-02-28     29797949\n",
      "2011-03-31     36099866\n",
      "2011-04-30     38035760\n",
      "2011-05-31     40046516\n"
     ]
    }
   ],
   "source": [
    "print (train.head())\n",
    "print (test.head())"
   ]
  },
  {
   "cell_type": "code",
   "execution_count": 9,
   "metadata": {},
   "outputs": [
    {
     "data": {
      "text/plain": [
       "<matplotlib.legend.Legend at 0x7f17930188d0>"
      ]
     },
     "execution_count": 9,
     "metadata": {},
     "output_type": "execute_result"
    },
    {
     "data": {
      "image/png": "[encoded data removed]",
      "text/plain": [
       "<Figure size 432x288 with 1 Axes>"
      ]
     },
     "metadata": {
      "needs_background": "light"
     },
     "output_type": "display_data"
    }
   ],
   "source": [
    "ax = train.plot()\n",
    "test.plot(ax=ax)\n",
    "plt.legend(['train', 'test'])"
   ]
  },
  {
   "cell_type": "code",
   "execution_count": 10,
   "metadata": {},
   "outputs": [
    {
     "name": "stderr",
     "output_type": "stream",
     "text": [
      "/home/ankdesh/virtualenvs/kaggle-google-doodle/lib/python3.5/site-packages/sklearn/preprocessing/data.py:323: DataConversionWarning: Data with input dtype int64 were all converted to float64 by MinMaxScaler.\n",
      "  return self.partial_fit(X, y)\n"
     ]
    }
   ],
   "source": [
    "from sklearn.preprocessing import MinMaxScaler\n",
    "\n",
    "sc = MinMaxScaler()\n",
    "\n",
    "train_sc = sc.fit_transform(train)\n",
    "test_sc = sc.transform(test)"
   ]
  },
  {
   "cell_type": "code",
   "execution_count": 11,
   "metadata": {},
   "outputs": [
    {
     "data": {
      "text/plain": [
       "array([[0.01402033],\n",
       "       [0.        ],\n",
       "       [0.0704258 ],\n",
       "       [0.09531795]])"
      ]
     },
     "execution_count": 11,
     "metadata": {},
     "output_type": "execute_result"
    }
   ],
   "source": [
    "train_sc[:4]"
   ]
  },
  {
   "cell_type": "code",
   "execution_count": 12,
   "metadata": {},
   "outputs": [],
   "source": [
    "X_train = train_sc[:-1]\n",
    "y_train = train_sc[1:]\n",
    "\n",
    "X_test = test_sc[:-1]\n",
    "y_test = test_sc[1:]"
   ]
  },
  {
   "cell_type": "code",
   "execution_count": 13,
   "metadata": {},
   "outputs": [
    {
     "name": "stdout",
     "output_type": "stream",
     "text": [
      "(239, 1) (239, 1) (72, 1) (72, 1)\n"
     ]
    }
   ],
   "source": [
    "print (X_train.shape, y_train.shape, X_test.shape, y_test.shape)"
   ]
  },
  {
   "cell_type": "code",
   "execution_count": 14,
   "metadata": {},
   "outputs": [
    {
     "name": "stdout",
     "output_type": "stream",
     "text": [
      "[[0.01402033 0.        ]\n",
      " [0.         0.0704258 ]\n",
      " [0.0704258  0.09531795]\n",
      " [0.09531795 0.16362761]\n",
      " [0.16362761 0.13514108]]\n"
     ]
    }
   ],
   "source": [
    "print (np.hstack((X_train[:5], y_train[:5])))"
   ]
  },
  {
   "cell_type": "markdown",
   "metadata": {},
   "source": [
    "### Fully connected predictor"
   ]
  },
  {
   "cell_type": "code",
   "execution_count": 15,
   "metadata": {},
   "outputs": [],
   "source": [
    "from tensorflow.keras.models import Sequential\n",
    "from tensorflow.keras.layers import Dense\n",
    "import tensorflow.keras.backend as K\n",
    "from tensorflow.keras.callbacks import EarlyStopping"
   ]
  },
  {
   "cell_type": "code",
   "execution_count": 16,
   "metadata": {},
   "outputs": [
    {
     "name": "stdout",
     "output_type": "stream",
     "text": [
      "_________________________________________________________________\n",
      "Layer (type)                 Output Shape              Param #   \n",
      "=================================================================\n",
      "dense (Dense)                (None, 12)                24        \n",
      "_________________________________________________________________\n",
      "dense_1 (Dense)              (None, 1)                 13        \n",
      "=================================================================\n",
      "Total params: 37\n",
      "Trainable params: 37\n",
      "Non-trainable params: 0\n",
      "_________________________________________________________________\n"
     ]
    }
   ],
   "source": [
    "K.clear_session()\n",
    "\n",
    "model = Sequential()\n",
    "model.add(Dense(12, input_dim=1, activation='relu'))\n",
    "model.add(Dense(1))\n",
    "model.compile(loss='mean_squared_error', optimizer='adam')\n",
    "model.summary()"
   ]
  },
  {
   "cell_type": "code",
   "execution_count": 17,
   "metadata": {},
   "outputs": [],
   "source": [
    "early_stop = EarlyStopping(monitor='loss', patience=1, verbose=0)"
   ]
  },
  {
   "cell_type": "code",
   "execution_count": 18,
   "metadata": {},
   "outputs": [
    {
     "data": {
      "text/plain": [
       "<tensorflow.python.keras.callbacks.History at 0x7f17397f7208>"
      ]
     },
     "execution_count": 18,
     "metadata": {},
     "output_type": "execute_result"
    }
   ],
   "source": [
    "model.fit(X_train, y_train, epochs=200,\n",
    "          batch_size=2, verbose=0,\n",
    "          callbacks=[early_stop])"
   ]
  },
  {
   "cell_type": "code",
   "execution_count": 19,
   "metadata": {},
   "outputs": [],
   "source": [
    "y_pred = model.predict(X_test)"
   ]
  },
  {
   "cell_type": "code",
   "execution_count": 20,
   "metadata": {},
   "outputs": [
    {
     "name": "stdout",
     "output_type": "stream",
     "text": [
      "[[0.56926634 0.60516173]\n",
      " [0.77259579 0.56453431]\n",
      " [0.83505683 0.74319726]\n",
      " [0.89993326 0.78982466]\n",
      " [0.92552046 0.83825505]]\n"
     ]
    }
   ],
   "source": [
    "print (np.hstack((y_test[:5], y_pred[:5])))"
   ]
  },
  {
   "cell_type": "code",
   "execution_count": 21,
   "metadata": {},
   "outputs": [
    {
     "data": {
      "image/png": "[encoded data removed]",
      "text/plain": [
       "<Figure size 432x288 with 1 Axes>"
      ]
     },
     "metadata": {
      "needs_background": "light"
     },
     "output_type": "display_data"
    }
   ],
   "source": [
    "plot = plt.plot()\n",
    "plt.plot(y_test[:] - y_pred[:])\n",
    "plt.plot(y_test)\n",
    "plt.plot(y_pred)\n",
    "plt.show()"
   ]
  },
  {
   "cell_type": "code",
   "execution_count": 22,
   "metadata": {},
   "outputs": [
    {
     "data": {
      "text/plain": [
       "[<matplotlib.lines.Line2D at 0x7f1792fddd30>]"
      ]
     },
     "execution_count": 22,
     "metadata": {},
     "output_type": "execute_result"
    },
    {
     "data": {
      "image/png": "[encoded data removed]",
      "text/plain": [
       "<Figure size 432x288 with 1 Axes>"
      ]
     },
     "metadata": {
      "needs_background": "light"
     },
     "output_type": "display_data"
    }
   ],
   "source": [
    "plt.plot(y_test)\n",
    "plt.plot(y_pred)"
   ]
  },
  {
   "cell_type": "code",
   "execution_count": 23,
   "metadata": {},
   "outputs": [
    {
     "name": "stdout",
     "output_type": "stream",
     "text": [
      "0.021061096295750734\n"
     ]
    }
   ],
   "source": [
    "print (mse(y_pred,y_test))"
   ]
  },
  {
   "cell_type": "markdown",
   "metadata": {},
   "source": [
    "### Recurrent predictor"
   ]
  },
  {
   "cell_type": "code",
   "execution_count": 24,
   "metadata": {},
   "outputs": [],
   "source": [
    "from tensorflow.keras.layers import LSTM"
   ]
  },
  {
   "cell_type": "code",
   "execution_count": 25,
   "metadata": {},
   "outputs": [
    {
     "data": {
      "text/plain": [
       "(239, 1)"
      ]
     },
     "execution_count": 25,
     "metadata": {},
     "output_type": "execute_result"
    }
   ],
   "source": [
    "X_train.shape"
   ]
  },
  {
   "cell_type": "code",
   "execution_count": 26,
   "metadata": {},
   "outputs": [
    {
     "data": {
      "text/plain": [
       "(239, 1, 1)"
      ]
     },
     "execution_count": 26,
     "metadata": {},
     "output_type": "execute_result"
    }
   ],
   "source": [
    "#3D tensor with shape (batch_size, timesteps, input_dim)\n",
    "X_train[:, None].shape"
   ]
  },
  {
   "cell_type": "code",
   "execution_count": 27,
   "metadata": {},
   "outputs": [],
   "source": [
    "X_train_t = X_train[:, None]\n",
    "X_test_t = X_test[:, None]"
   ]
  },
  {
   "cell_type": "code",
   "execution_count": 28,
   "metadata": {},
   "outputs": [],
   "source": [
    "K.clear_session()\n",
    "model = Sequential()\n",
    "\n",
    "model.add(LSTM(6, input_shape=(1, 1)))\n",
    "\n",
    "model.add(Dense(1))\n",
    "\n",
    "model.compile(loss='mean_squared_error', optimizer='adam')"
   ]
  },
  {
   "cell_type": "code",
   "execution_count": 29,
   "metadata": {},
   "outputs": [
    {
     "name": "stdout",
     "output_type": "stream",
     "text": [
      "_________________________________________________________________\n",
      "Layer (type)                 Output Shape              Param #   \n",
      "=================================================================\n",
      "lstm (LSTM)                  (None, 6)                 192       \n",
      "_________________________________________________________________\n",
      "dense (Dense)                (None, 1)                 7         \n",
      "=================================================================\n",
      "Total params: 199\n",
      "Trainable params: 199\n",
      "Non-trainable params: 0\n",
      "_________________________________________________________________\n"
     ]
    }
   ],
   "source": [
    "model.summary()"
   ]
  },
  {
   "cell_type": "code",
   "execution_count": 30,
   "metadata": {},
   "outputs": [
    {
     "data": {
      "text/plain": [
       "<tensorflow.python.keras.callbacks.History at 0x7f1792f7e198>"
      ]
     },
     "execution_count": 30,
     "metadata": {},
     "output_type": "execute_result"
    }
   ],
   "source": [
    "model.fit(X_train_t, y_train,\n",
    "          epochs=100, batch_size=1, verbose=0,\n",
    "          callbacks=[early_stop])"
   ]
  },
  {
   "cell_type": "code",
   "execution_count": 31,
   "metadata": {},
   "outputs": [
    {
     "data": {
      "text/plain": [
       "[<matplotlib.lines.Line2D at 0x7f16cc441b38>]"
      ]
     },
     "execution_count": 31,
     "metadata": {},
     "output_type": "execute_result"
    },
    {
     "data": {
      "image/png": "[encoded data removed]",
      "text/plain": [
       "<Figure size 432x288 with 1 Axes>"
      ]
     },
     "metadata": {
      "needs_background": "light"
     },
     "output_type": "display_data"
    }
   ],
   "source": [
    "y_pred = model.predict(X_test_t)\n",
    "plt.plot(y_test)\n",
    "plt.plot(y_pred)\n",
    "plt.plot(y_test - y_pred)"
   ]
  },
  {
   "cell_type": "code",
   "execution_count": 32,
   "metadata": {},
   "outputs": [
    {
     "name": "stdout",
     "output_type": "stream",
     "text": [
      "0.0196947390630087\n"
     ]
    }
   ],
   "source": [
    "print (mse(y_pred,y_test))"
   ]
  },
  {
   "cell_type": "markdown",
   "metadata": {},
   "source": [
    "## Windows"
   ]
  },
  {
   "cell_type": "code",
   "execution_count": 33,
   "metadata": {},
   "outputs": [
    {
     "data": {
      "text/plain": [
       "(240, 1)"
      ]
     },
     "execution_count": 33,
     "metadata": {},
     "output_type": "execute_result"
    }
   ],
   "source": [
    "train_sc.shape"
   ]
  },
  {
   "cell_type": "code",
   "execution_count": 34,
   "metadata": {},
   "outputs": [
    {
     "data": {
      "text/html": [
       "<div>\n",
       "<style scoped>\n",
       "    .dataframe tbody tr th:only-of-type {\n",
       "        vertical-align: middle;\n",
       "    }\n",
       "\n",
       "    .dataframe tbody tr th {\n",
       "        vertical-align: top;\n",
       "    }\n",
       "\n",
       "    .dataframe thead th {\n",
       "        text-align: right;\n",
       "    }\n",
       "</style>\n",
       "<table border=\"1\" class=\"dataframe\">\n",
       "  <thead>\n",
       "    <tr style=\"text-align: right;\">\n",
       "      <th></th>\n",
       "      <th>Scaled</th>\n",
       "    </tr>\n",
       "    <tr>\n",
       "      <th>Adjustments</th>\n",
       "      <th></th>\n",
       "    </tr>\n",
       "  </thead>\n",
       "  <tbody>\n",
       "    <tr>\n",
       "      <th>1991-01-31</th>\n",
       "      <td>0.014020</td>\n",
       "    </tr>\n",
       "    <tr>\n",
       "      <th>1991-02-28</th>\n",
       "      <td>0.000000</td>\n",
       "    </tr>\n",
       "    <tr>\n",
       "      <th>1991-03-31</th>\n",
       "      <td>0.070426</td>\n",
       "    </tr>\n",
       "    <tr>\n",
       "      <th>1991-04-30</th>\n",
       "      <td>0.095318</td>\n",
       "    </tr>\n",
       "    <tr>\n",
       "      <th>1991-05-31</th>\n",
       "      <td>0.163628</td>\n",
       "    </tr>\n",
       "  </tbody>\n",
       "</table>\n",
       "</div>"
      ],
      "text/plain": [
       "               Scaled\n",
       "Adjustments          \n",
       "1991-01-31   0.014020\n",
       "1991-02-28   0.000000\n",
       "1991-03-31   0.070426\n",
       "1991-04-30   0.095318\n",
       "1991-05-31   0.163628"
      ]
     },
     "execution_count": 34,
     "metadata": {},
     "output_type": "execute_result"
    }
   ],
   "source": [
    "train_sc_df = pd.DataFrame(train_sc, columns=['Scaled'], index=train.index)\n",
    "test_sc_df = pd.DataFrame(test_sc, columns=['Scaled'], index=test.index)\n",
    "train_sc_df.head()"
   ]
  },
  {
   "cell_type": "code",
   "execution_count": 35,
   "metadata": {},
   "outputs": [],
   "source": [
    "for s in range(1, 13):\n",
    "    train_sc_df['shift_{}'.format(s)] = train_sc_df['Scaled'].shift(s)\n",
    "    test_sc_df['shift_{}'.format(s)] = test_sc_df['Scaled'].shift(s)"
   ]
  },
  {
   "cell_type": "code",
   "execution_count": 36,
   "metadata": {},
   "outputs": [
    {
     "data": {
      "text/html": [
       "<div>\n",
       "<style scoped>\n",
       "    .dataframe tbody tr th:only-of-type {\n",
       "        vertical-align: middle;\n",
       "    }\n",
       "\n",
       "    .dataframe tbody tr th {\n",
       "        vertical-align: top;\n",
       "    }\n",
       "\n",
       "    .dataframe thead th {\n",
       "        text-align: right;\n",
       "    }\n",
       "</style>\n",
       "<table border=\"1\" class=\"dataframe\">\n",
       "  <thead>\n",
       "    <tr style=\"text-align: right;\">\n",
       "      <th></th>\n",
       "      <th>Scaled</th>\n",
       "      <th>shift_1</th>\n",
       "      <th>shift_2</th>\n",
       "      <th>shift_3</th>\n",
       "      <th>shift_4</th>\n",
       "      <th>shift_5</th>\n",
       "      <th>shift_6</th>\n",
       "      <th>shift_7</th>\n",
       "      <th>shift_8</th>\n",
       "      <th>shift_9</th>\n",
       "      <th>shift_10</th>\n",
       "      <th>shift_11</th>\n",
       "      <th>shift_12</th>\n",
       "    </tr>\n",
       "    <tr>\n",
       "      <th>Adjustments</th>\n",
       "      <th></th>\n",
       "      <th></th>\n",
       "      <th></th>\n",
       "      <th></th>\n",
       "      <th></th>\n",
       "      <th></th>\n",
       "      <th></th>\n",
       "      <th></th>\n",
       "      <th></th>\n",
       "      <th></th>\n",
       "      <th></th>\n",
       "      <th></th>\n",
       "      <th></th>\n",
       "    </tr>\n",
       "  </thead>\n",
       "  <tbody>\n",
       "    <tr>\n",
       "      <th>1991-01-31</th>\n",
       "      <td>0.014020</td>\n",
       "      <td>NaN</td>\n",
       "      <td>NaN</td>\n",
       "      <td>NaN</td>\n",
       "      <td>NaN</td>\n",
       "      <td>NaN</td>\n",
       "      <td>NaN</td>\n",
       "      <td>NaN</td>\n",
       "      <td>NaN</td>\n",
       "      <td>NaN</td>\n",
       "      <td>NaN</td>\n",
       "      <td>NaN</td>\n",
       "      <td>NaN</td>\n",
       "    </tr>\n",
       "    <tr>\n",
       "      <th>1991-02-28</th>\n",
       "      <td>0.000000</td>\n",
       "      <td>0.014020</td>\n",
       "      <td>NaN</td>\n",
       "      <td>NaN</td>\n",
       "      <td>NaN</td>\n",
       "      <td>NaN</td>\n",
       "      <td>NaN</td>\n",
       "      <td>NaN</td>\n",
       "      <td>NaN</td>\n",
       "      <td>NaN</td>\n",
       "      <td>NaN</td>\n",
       "      <td>NaN</td>\n",
       "      <td>NaN</td>\n",
       "    </tr>\n",
       "    <tr>\n",
       "      <th>1991-03-31</th>\n",
       "      <td>0.070426</td>\n",
       "      <td>0.000000</td>\n",
       "      <td>0.014020</td>\n",
       "      <td>NaN</td>\n",
       "      <td>NaN</td>\n",
       "      <td>NaN</td>\n",
       "      <td>NaN</td>\n",
       "      <td>NaN</td>\n",
       "      <td>NaN</td>\n",
       "      <td>NaN</td>\n",
       "      <td>NaN</td>\n",
       "      <td>NaN</td>\n",
       "      <td>NaN</td>\n",
       "    </tr>\n",
       "    <tr>\n",
       "      <th>1991-04-30</th>\n",
       "      <td>0.095318</td>\n",
       "      <td>0.070426</td>\n",
       "      <td>0.000000</td>\n",
       "      <td>0.014020</td>\n",
       "      <td>NaN</td>\n",
       "      <td>NaN</td>\n",
       "      <td>NaN</td>\n",
       "      <td>NaN</td>\n",
       "      <td>NaN</td>\n",
       "      <td>NaN</td>\n",
       "      <td>NaN</td>\n",
       "      <td>NaN</td>\n",
       "      <td>NaN</td>\n",
       "    </tr>\n",
       "    <tr>\n",
       "      <th>1991-05-31</th>\n",
       "      <td>0.163628</td>\n",
       "      <td>0.095318</td>\n",
       "      <td>0.070426</td>\n",
       "      <td>0.000000</td>\n",
       "      <td>0.014020</td>\n",
       "      <td>NaN</td>\n",
       "      <td>NaN</td>\n",
       "      <td>NaN</td>\n",
       "      <td>NaN</td>\n",
       "      <td>NaN</td>\n",
       "      <td>NaN</td>\n",
       "      <td>NaN</td>\n",
       "      <td>NaN</td>\n",
       "    </tr>\n",
       "    <tr>\n",
       "      <th>1991-06-30</th>\n",
       "      <td>0.135141</td>\n",
       "      <td>0.163628</td>\n",
       "      <td>0.095318</td>\n",
       "      <td>0.070426</td>\n",
       "      <td>0.000000</td>\n",
       "      <td>0.014020</td>\n",
       "      <td>NaN</td>\n",
       "      <td>NaN</td>\n",
       "      <td>NaN</td>\n",
       "      <td>NaN</td>\n",
       "      <td>NaN</td>\n",
       "      <td>NaN</td>\n",
       "      <td>NaN</td>\n",
       "    </tr>\n",
       "    <tr>\n",
       "      <th>1991-07-31</th>\n",
       "      <td>0.123958</td>\n",
       "      <td>0.135141</td>\n",
       "      <td>0.163628</td>\n",
       "      <td>0.095318</td>\n",
       "      <td>0.070426</td>\n",
       "      <td>0.000000</td>\n",
       "      <td>0.014020</td>\n",
       "      <td>NaN</td>\n",
       "      <td>NaN</td>\n",
       "      <td>NaN</td>\n",
       "      <td>NaN</td>\n",
       "      <td>NaN</td>\n",
       "      <td>NaN</td>\n",
       "    </tr>\n",
       "    <tr>\n",
       "      <th>1991-08-31</th>\n",
       "      <td>0.126174</td>\n",
       "      <td>0.123958</td>\n",
       "      <td>0.135141</td>\n",
       "      <td>0.163628</td>\n",
       "      <td>0.095318</td>\n",
       "      <td>0.070426</td>\n",
       "      <td>0.000000</td>\n",
       "      <td>0.014020</td>\n",
       "      <td>NaN</td>\n",
       "      <td>NaN</td>\n",
       "      <td>NaN</td>\n",
       "      <td>NaN</td>\n",
       "      <td>NaN</td>\n",
       "    </tr>\n",
       "    <tr>\n",
       "      <th>1991-09-30</th>\n",
       "      <td>0.092309</td>\n",
       "      <td>0.126174</td>\n",
       "      <td>0.123958</td>\n",
       "      <td>0.135141</td>\n",
       "      <td>0.163628</td>\n",
       "      <td>0.095318</td>\n",
       "      <td>0.070426</td>\n",
       "      <td>0.000000</td>\n",
       "      <td>0.014020</td>\n",
       "      <td>NaN</td>\n",
       "      <td>NaN</td>\n",
       "      <td>NaN</td>\n",
       "      <td>NaN</td>\n",
       "    </tr>\n",
       "    <tr>\n",
       "      <th>1991-10-31</th>\n",
       "      <td>0.111395</td>\n",
       "      <td>0.092309</td>\n",
       "      <td>0.126174</td>\n",
       "      <td>0.123958</td>\n",
       "      <td>0.135141</td>\n",
       "      <td>0.163628</td>\n",
       "      <td>0.095318</td>\n",
       "      <td>0.070426</td>\n",
       "      <td>0.000000</td>\n",
       "      <td>0.014020</td>\n",
       "      <td>NaN</td>\n",
       "      <td>NaN</td>\n",
       "      <td>NaN</td>\n",
       "    </tr>\n",
       "    <tr>\n",
       "      <th>1991-11-30</th>\n",
       "      <td>0.131738</td>\n",
       "      <td>0.111395</td>\n",
       "      <td>0.092309</td>\n",
       "      <td>0.126174</td>\n",
       "      <td>0.123958</td>\n",
       "      <td>0.135141</td>\n",
       "      <td>0.163628</td>\n",
       "      <td>0.095318</td>\n",
       "      <td>0.070426</td>\n",
       "      <td>0.000000</td>\n",
       "      <td>0.014020</td>\n",
       "      <td>NaN</td>\n",
       "      <td>NaN</td>\n",
       "    </tr>\n",
       "    <tr>\n",
       "      <th>1991-12-31</th>\n",
       "      <td>0.200913</td>\n",
       "      <td>0.131738</td>\n",
       "      <td>0.111395</td>\n",
       "      <td>0.092309</td>\n",
       "      <td>0.126174</td>\n",
       "      <td>0.123958</td>\n",
       "      <td>0.135141</td>\n",
       "      <td>0.163628</td>\n",
       "      <td>0.095318</td>\n",
       "      <td>0.070426</td>\n",
       "      <td>0.000000</td>\n",
       "      <td>0.014020</td>\n",
       "      <td>NaN</td>\n",
       "    </tr>\n",
       "    <tr>\n",
       "      <th>1992-01-31</th>\n",
       "      <td>0.030027</td>\n",
       "      <td>0.200913</td>\n",
       "      <td>0.131738</td>\n",
       "      <td>0.111395</td>\n",
       "      <td>0.092309</td>\n",
       "      <td>0.126174</td>\n",
       "      <td>0.123958</td>\n",
       "      <td>0.135141</td>\n",
       "      <td>0.163628</td>\n",
       "      <td>0.095318</td>\n",
       "      <td>0.070426</td>\n",
       "      <td>0.000000</td>\n",
       "      <td>0.014020</td>\n",
       "    </tr>\n",
       "    <tr>\n",
       "      <th>1992-02-29</th>\n",
       "      <td>0.019993</td>\n",
       "      <td>0.030027</td>\n",
       "      <td>0.200913</td>\n",
       "      <td>0.131738</td>\n",
       "      <td>0.111395</td>\n",
       "      <td>0.092309</td>\n",
       "      <td>0.126174</td>\n",
       "      <td>0.123958</td>\n",
       "      <td>0.135141</td>\n",
       "      <td>0.163628</td>\n",
       "      <td>0.095318</td>\n",
       "      <td>0.070426</td>\n",
       "      <td>0.000000</td>\n",
       "    </tr>\n",
       "    <tr>\n",
       "      <th>1992-03-31</th>\n",
       "      <td>0.065964</td>\n",
       "      <td>0.019993</td>\n",
       "      <td>0.030027</td>\n",
       "      <td>0.200913</td>\n",
       "      <td>0.131738</td>\n",
       "      <td>0.111395</td>\n",
       "      <td>0.092309</td>\n",
       "      <td>0.126174</td>\n",
       "      <td>0.123958</td>\n",
       "      <td>0.135141</td>\n",
       "      <td>0.163628</td>\n",
       "      <td>0.095318</td>\n",
       "      <td>0.070426</td>\n",
       "    </tr>\n",
       "  </tbody>\n",
       "</table>\n",
       "</div>"
      ],
      "text/plain": [
       "               Scaled   shift_1   shift_2   shift_3   shift_4   shift_5  \\\n",
       "Adjustments                                                               \n",
       "1991-01-31   0.014020       NaN       NaN       NaN       NaN       NaN   \n",
       "1991-02-28   0.000000  0.014020       NaN       NaN       NaN       NaN   \n",
       "1991-03-31   0.070426  0.000000  0.014020       NaN       NaN       NaN   \n",
       "1991-04-30   0.095318  0.070426  0.000000  0.014020       NaN       NaN   \n",
       "1991-05-31   0.163628  0.095318  0.070426  0.000000  0.014020       NaN   \n",
       "1991-06-30   0.135141  0.163628  0.095318  0.070426  0.000000  0.014020   \n",
       "1991-07-31   0.123958  0.135141  0.163628  0.095318  0.070426  0.000000   \n",
       "1991-08-31   0.126174  0.123958  0.135141  0.163628  0.095318  0.070426   \n",
       "1991-09-30   0.092309  0.126174  0.123958  0.135141  0.163628  0.095318   \n",
       "1991-10-31   0.111395  0.092309  0.126174  0.123958  0.135141  0.163628   \n",
       "1991-11-30   0.131738  0.111395  0.092309  0.126174  0.123958  0.135141   \n",
       "1991-12-31   0.200913  0.131738  0.111395  0.092309  0.126174  0.123958   \n",
       "1992-01-31   0.030027  0.200913  0.131738  0.111395  0.092309  0.126174   \n",
       "1992-02-29   0.019993  0.030027  0.200913  0.131738  0.111395  0.092309   \n",
       "1992-03-31   0.065964  0.019993  0.030027  0.200913  0.131738  0.111395   \n",
       "\n",
       "              shift_6   shift_7   shift_8   shift_9  shift_10  shift_11  \\\n",
       "Adjustments                                                               \n",
       "1991-01-31        NaN       NaN       NaN       NaN       NaN       NaN   \n",
       "1991-02-28        NaN       NaN       NaN       NaN       NaN       NaN   \n",
       "1991-03-31        NaN       NaN       NaN       NaN       NaN       NaN   \n",
       "1991-04-30        NaN       NaN       NaN       NaN       NaN       NaN   \n",
       "1991-05-31        NaN       NaN       NaN       NaN       NaN       NaN   \n",
       "1991-06-30        NaN       NaN       NaN       NaN       NaN       NaN   \n",
       "1991-07-31   0.014020       NaN       NaN       NaN       NaN       NaN   \n",
       "1991-08-31   0.000000  0.014020       NaN       NaN       NaN       NaN   \n",
       "1991-09-30   0.070426  0.000000  0.014020       NaN       NaN       NaN   \n",
       "1991-10-31   0.095318  0.070426  0.000000  0.014020       NaN       NaN   \n",
       "1991-11-30   0.163628  0.095318  0.070426  0.000000  0.014020       NaN   \n",
       "1991-12-31   0.135141  0.163628  0.095318  0.070426  0.000000  0.014020   \n",
       "1992-01-31   0.123958  0.135141  0.163628  0.095318  0.070426  0.000000   \n",
       "1992-02-29   0.126174  0.123958  0.135141  0.163628  0.095318  0.070426   \n",
       "1992-03-31   0.092309  0.126174  0.123958  0.135141  0.163628  0.095318   \n",
       "\n",
       "             shift_12  \n",
       "Adjustments            \n",
       "1991-01-31        NaN  \n",
       "1991-02-28        NaN  \n",
       "1991-03-31        NaN  \n",
       "1991-04-30        NaN  \n",
       "1991-05-31        NaN  \n",
       "1991-06-30        NaN  \n",
       "1991-07-31        NaN  \n",
       "1991-08-31        NaN  \n",
       "1991-09-30        NaN  \n",
       "1991-10-31        NaN  \n",
       "1991-11-30        NaN  \n",
       "1991-12-31        NaN  \n",
       "1992-01-31   0.014020  \n",
       "1992-02-29   0.000000  \n",
       "1992-03-31   0.070426  "
      ]
     },
     "execution_count": 36,
     "metadata": {},
     "output_type": "execute_result"
    }
   ],
   "source": [
    "train_sc_df.head(15)"
   ]
  },
  {
   "cell_type": "code",
   "execution_count": 37,
   "metadata": {},
   "outputs": [],
   "source": [
    "X_train = train_sc_df.dropna().drop('Scaled', axis=1)\n",
    "y_train = train_sc_df.dropna()[['Scaled']]\n",
    "\n",
    "X_test = test_sc_df.dropna().drop('Scaled', axis=1)\n",
    "y_test = test_sc_df.dropna()[['Scaled']]"
   ]
  },
  {
   "cell_type": "code",
   "execution_count": 38,
   "metadata": {},
   "outputs": [
    {
     "data": {
      "text/html": [
       "<div>\n",
       "<style scoped>\n",
       "    .dataframe tbody tr th:only-of-type {\n",
       "        vertical-align: middle;\n",
       "    }\n",
       "\n",
       "    .dataframe tbody tr th {\n",
       "        vertical-align: top;\n",
       "    }\n",
       "\n",
       "    .dataframe thead th {\n",
       "        text-align: right;\n",
       "    }\n",
       "</style>\n",
       "<table border=\"1\" class=\"dataframe\">\n",
       "  <thead>\n",
       "    <tr style=\"text-align: right;\">\n",
       "      <th></th>\n",
       "      <th>shift_1</th>\n",
       "      <th>shift_2</th>\n",
       "      <th>shift_3</th>\n",
       "      <th>shift_4</th>\n",
       "      <th>shift_5</th>\n",
       "      <th>shift_6</th>\n",
       "      <th>shift_7</th>\n",
       "      <th>shift_8</th>\n",
       "      <th>shift_9</th>\n",
       "      <th>shift_10</th>\n",
       "      <th>shift_11</th>\n",
       "      <th>shift_12</th>\n",
       "    </tr>\n",
       "    <tr>\n",
       "      <th>Adjustments</th>\n",
       "      <th></th>\n",
       "      <th></th>\n",
       "      <th></th>\n",
       "      <th></th>\n",
       "      <th></th>\n",
       "      <th></th>\n",
       "      <th></th>\n",
       "      <th></th>\n",
       "      <th></th>\n",
       "      <th></th>\n",
       "      <th></th>\n",
       "      <th></th>\n",
       "    </tr>\n",
       "  </thead>\n",
       "  <tbody>\n",
       "    <tr>\n",
       "      <th>1992-01-31</th>\n",
       "      <td>0.200913</td>\n",
       "      <td>0.131738</td>\n",
       "      <td>0.111395</td>\n",
       "      <td>0.092309</td>\n",
       "      <td>0.126174</td>\n",
       "      <td>0.123958</td>\n",
       "      <td>0.135141</td>\n",
       "      <td>0.163628</td>\n",
       "      <td>0.095318</td>\n",
       "      <td>0.070426</td>\n",
       "      <td>0.000000</td>\n",
       "      <td>0.014020</td>\n",
       "    </tr>\n",
       "    <tr>\n",
       "      <th>1992-02-29</th>\n",
       "      <td>0.030027</td>\n",
       "      <td>0.200913</td>\n",
       "      <td>0.131738</td>\n",
       "      <td>0.111395</td>\n",
       "      <td>0.092309</td>\n",
       "      <td>0.126174</td>\n",
       "      <td>0.123958</td>\n",
       "      <td>0.135141</td>\n",
       "      <td>0.163628</td>\n",
       "      <td>0.095318</td>\n",
       "      <td>0.070426</td>\n",
       "      <td>0.000000</td>\n",
       "    </tr>\n",
       "    <tr>\n",
       "      <th>1992-03-31</th>\n",
       "      <td>0.019993</td>\n",
       "      <td>0.030027</td>\n",
       "      <td>0.200913</td>\n",
       "      <td>0.131738</td>\n",
       "      <td>0.111395</td>\n",
       "      <td>0.092309</td>\n",
       "      <td>0.126174</td>\n",
       "      <td>0.123958</td>\n",
       "      <td>0.135141</td>\n",
       "      <td>0.163628</td>\n",
       "      <td>0.095318</td>\n",
       "      <td>0.070426</td>\n",
       "    </tr>\n",
       "    <tr>\n",
       "      <th>1992-04-30</th>\n",
       "      <td>0.065964</td>\n",
       "      <td>0.019993</td>\n",
       "      <td>0.030027</td>\n",
       "      <td>0.200913</td>\n",
       "      <td>0.131738</td>\n",
       "      <td>0.111395</td>\n",
       "      <td>0.092309</td>\n",
       "      <td>0.126174</td>\n",
       "      <td>0.123958</td>\n",
       "      <td>0.135141</td>\n",
       "      <td>0.163628</td>\n",
       "      <td>0.095318</td>\n",
       "    </tr>\n",
       "    <tr>\n",
       "      <th>1992-05-31</th>\n",
       "      <td>0.109831</td>\n",
       "      <td>0.065964</td>\n",
       "      <td>0.019993</td>\n",
       "      <td>0.030027</td>\n",
       "      <td>0.200913</td>\n",
       "      <td>0.131738</td>\n",
       "      <td>0.111395</td>\n",
       "      <td>0.092309</td>\n",
       "      <td>0.126174</td>\n",
       "      <td>0.123958</td>\n",
       "      <td>0.135141</td>\n",
       "      <td>0.163628</td>\n",
       "    </tr>\n",
       "    <tr>\n",
       "      <th>1992-06-30</th>\n",
       "      <td>0.149130</td>\n",
       "      <td>0.109831</td>\n",
       "      <td>0.065964</td>\n",
       "      <td>0.019993</td>\n",
       "      <td>0.030027</td>\n",
       "      <td>0.200913</td>\n",
       "      <td>0.131738</td>\n",
       "      <td>0.111395</td>\n",
       "      <td>0.092309</td>\n",
       "      <td>0.126174</td>\n",
       "      <td>0.123958</td>\n",
       "      <td>0.135141</td>\n",
       "    </tr>\n",
       "    <tr>\n",
       "      <th>1992-07-31</th>\n",
       "      <td>0.147189</td>\n",
       "      <td>0.149130</td>\n",
       "      <td>0.109831</td>\n",
       "      <td>0.065964</td>\n",
       "      <td>0.019993</td>\n",
       "      <td>0.030027</td>\n",
       "      <td>0.200913</td>\n",
       "      <td>0.131738</td>\n",
       "      <td>0.111395</td>\n",
       "      <td>0.092309</td>\n",
       "      <td>0.126174</td>\n",
       "      <td>0.123958</td>\n",
       "    </tr>\n",
       "    <tr>\n",
       "      <th>1992-08-31</th>\n",
       "      <td>0.144648</td>\n",
       "      <td>0.147189</td>\n",
       "      <td>0.149130</td>\n",
       "      <td>0.109831</td>\n",
       "      <td>0.065964</td>\n",
       "      <td>0.019993</td>\n",
       "      <td>0.030027</td>\n",
       "      <td>0.200913</td>\n",
       "      <td>0.131738</td>\n",
       "      <td>0.111395</td>\n",
       "      <td>0.092309</td>\n",
       "      <td>0.126174</td>\n",
       "    </tr>\n",
       "    <tr>\n",
       "      <th>1992-09-30</th>\n",
       "      <td>0.118984</td>\n",
       "      <td>0.144648</td>\n",
       "      <td>0.147189</td>\n",
       "      <td>0.149130</td>\n",
       "      <td>0.109831</td>\n",
       "      <td>0.065964</td>\n",
       "      <td>0.019993</td>\n",
       "      <td>0.030027</td>\n",
       "      <td>0.200913</td>\n",
       "      <td>0.131738</td>\n",
       "      <td>0.111395</td>\n",
       "      <td>0.092309</td>\n",
       "    </tr>\n",
       "    <tr>\n",
       "      <th>1992-10-31</th>\n",
       "      <td>0.118027</td>\n",
       "      <td>0.118984</td>\n",
       "      <td>0.144648</td>\n",
       "      <td>0.147189</td>\n",
       "      <td>0.149130</td>\n",
       "      <td>0.109831</td>\n",
       "      <td>0.065964</td>\n",
       "      <td>0.019993</td>\n",
       "      <td>0.030027</td>\n",
       "      <td>0.200913</td>\n",
       "      <td>0.131738</td>\n",
       "      <td>0.111395</td>\n",
       "    </tr>\n",
       "    <tr>\n",
       "      <th>1992-11-30</th>\n",
       "      <td>0.142221</td>\n",
       "      <td>0.118027</td>\n",
       "      <td>0.118984</td>\n",
       "      <td>0.144648</td>\n",
       "      <td>0.147189</td>\n",
       "      <td>0.149130</td>\n",
       "      <td>0.109831</td>\n",
       "      <td>0.065964</td>\n",
       "      <td>0.019993</td>\n",
       "      <td>0.030027</td>\n",
       "      <td>0.200913</td>\n",
       "      <td>0.131738</td>\n",
       "    </tr>\n",
       "    <tr>\n",
       "      <th>1992-12-31</th>\n",
       "      <td>0.124592</td>\n",
       "      <td>0.142221</td>\n",
       "      <td>0.118027</td>\n",
       "      <td>0.118984</td>\n",
       "      <td>0.144648</td>\n",
       "      <td>0.147189</td>\n",
       "      <td>0.149130</td>\n",
       "      <td>0.109831</td>\n",
       "      <td>0.065964</td>\n",
       "      <td>0.019993</td>\n",
       "      <td>0.030027</td>\n",
       "      <td>0.200913</td>\n",
       "    </tr>\n",
       "    <tr>\n",
       "      <th>1993-01-31</th>\n",
       "      <td>0.242908</td>\n",
       "      <td>0.124592</td>\n",
       "      <td>0.142221</td>\n",
       "      <td>0.118027</td>\n",
       "      <td>0.118984</td>\n",
       "      <td>0.144648</td>\n",
       "      <td>0.147189</td>\n",
       "      <td>0.149130</td>\n",
       "      <td>0.109831</td>\n",
       "      <td>0.065964</td>\n",
       "      <td>0.019993</td>\n",
       "      <td>0.030027</td>\n",
       "    </tr>\n",
       "  </tbody>\n",
       "</table>\n",
       "</div>"
      ],
      "text/plain": [
       "              shift_1   shift_2   shift_3   shift_4   shift_5   shift_6  \\\n",
       "Adjustments                                                               \n",
       "1992-01-31   0.200913  0.131738  0.111395  0.092309  0.126174  0.123958   \n",
       "1992-02-29   0.030027  0.200913  0.131738  0.111395  0.092309  0.126174   \n",
       "1992-03-31   0.019993  0.030027  0.200913  0.131738  0.111395  0.092309   \n",
       "1992-04-30   0.065964  0.019993  0.030027  0.200913  0.131738  0.111395   \n",
       "1992-05-31   0.109831  0.065964  0.019993  0.030027  0.200913  0.131738   \n",
       "1992-06-30   0.149130  0.109831  0.065964  0.019993  0.030027  0.200913   \n",
       "1992-07-31   0.147189  0.149130  0.109831  0.065964  0.019993  0.030027   \n",
       "1992-08-31   0.144648  0.147189  0.149130  0.109831  0.065964  0.019993   \n",
       "1992-09-30   0.118984  0.144648  0.147189  0.149130  0.109831  0.065964   \n",
       "1992-10-31   0.118027  0.118984  0.144648  0.147189  0.149130  0.109831   \n",
       "1992-11-30   0.142221  0.118027  0.118984  0.144648  0.147189  0.149130   \n",
       "1992-12-31   0.124592  0.142221  0.118027  0.118984  0.144648  0.147189   \n",
       "1993-01-31   0.242908  0.124592  0.142221  0.118027  0.118984  0.144648   \n",
       "\n",
       "              shift_7   shift_8   shift_9  shift_10  shift_11  shift_12  \n",
       "Adjustments                                                              \n",
       "1992-01-31   0.135141  0.163628  0.095318  0.070426  0.000000  0.014020  \n",
       "1992-02-29   0.123958  0.135141  0.163628  0.095318  0.070426  0.000000  \n",
       "1992-03-31   0.126174  0.123958  0.135141  0.163628  0.095318  0.070426  \n",
       "1992-04-30   0.092309  0.126174  0.123958  0.135141  0.163628  0.095318  \n",
       "1992-05-31   0.111395  0.092309  0.126174  0.123958  0.135141  0.163628  \n",
       "1992-06-30   0.131738  0.111395  0.092309  0.126174  0.123958  0.135141  \n",
       "1992-07-31   0.200913  0.131738  0.111395  0.092309  0.126174  0.123958  \n",
       "1992-08-31   0.030027  0.200913  0.131738  0.111395  0.092309  0.126174  \n",
       "1992-09-30   0.019993  0.030027  0.200913  0.131738  0.111395  0.092309  \n",
       "1992-10-31   0.065964  0.019993  0.030027  0.200913  0.131738  0.111395  \n",
       "1992-11-30   0.109831  0.065964  0.019993  0.030027  0.200913  0.131738  \n",
       "1992-12-31   0.149130  0.109831  0.065964  0.019993  0.030027  0.200913  \n",
       "1993-01-31   0.147189  0.149130  0.109831  0.065964  0.019993  0.030027  "
      ]
     },
     "execution_count": 38,
     "metadata": {},
     "output_type": "execute_result"
    }
   ],
   "source": [
    "X_train.head(13)"
   ]
  },
  {
   "cell_type": "code",
   "execution_count": 39,
   "metadata": {},
   "outputs": [
    {
     "data": {
      "text/plain": [
       "(228, 12)"
      ]
     },
     "execution_count": 39,
     "metadata": {},
     "output_type": "execute_result"
    }
   ],
   "source": [
    "X_train.shape"
   ]
  },
  {
   "cell_type": "code",
   "execution_count": 40,
   "metadata": {},
   "outputs": [],
   "source": [
    "X_train = X_train.values\n",
    "X_test= X_test.values\n",
    "\n",
    "y_train = y_train.values\n",
    "y_test = y_test.values"
   ]
  },
  {
   "cell_type": "markdown",
   "metadata": {},
   "source": [
    "### Fully Connected on Windows"
   ]
  },
  {
   "cell_type": "code",
   "execution_count": 41,
   "metadata": {},
   "outputs": [
    {
     "name": "stdout",
     "output_type": "stream",
     "text": [
      "_________________________________________________________________\n",
      "Layer (type)                 Output Shape              Param #   \n",
      "=================================================================\n",
      "dense (Dense)                (None, 12)                156       \n",
      "_________________________________________________________________\n",
      "dense_1 (Dense)              (None, 1)                 13        \n",
      "=================================================================\n",
      "Total params: 169\n",
      "Trainable params: 169\n",
      "Non-trainable params: 0\n",
      "_________________________________________________________________\n"
     ]
    }
   ],
   "source": [
    "K.clear_session()\n",
    "\n",
    "model = Sequential()\n",
    "model.add(Dense(12, input_dim=12, activation='relu'))\n",
    "model.add(Dense(1))\n",
    "model.compile(loss='mean_squared_error', optimizer='adam')\n",
    "model.summary()"
   ]
  },
  {
   "cell_type": "code",
   "execution_count": 42,
   "metadata": {},
   "outputs": [
    {
     "data": {
      "text/plain": [
       "<tensorflow.python.keras.callbacks.History at 0x7f16cc46dcc0>"
      ]
     },
     "execution_count": 42,
     "metadata": {},
     "output_type": "execute_result"
    }
   ],
   "source": [
    "model.fit(X_train, y_train, epochs=200,\n",
    "          batch_size=1, verbose=0, callbacks=[early_stop])"
   ]
  },
  {
   "cell_type": "code",
   "execution_count": 43,
   "metadata": {},
   "outputs": [
    {
     "data": {
      "text/plain": [
       "[<matplotlib.lines.Line2D at 0x7f16cc46d1d0>]"
      ]
     },
     "execution_count": 43,
     "metadata": {},
     "output_type": "execute_result"
    },
    {
     "data": {
      "image/png": "[encoded data removed]",
      "text/plain": [
       "<Figure size 432x288 with 1 Axes>"
      ]
     },
     "metadata": {
      "needs_background": "light"
     },
     "output_type": "display_data"
    }
   ],
   "source": [
    "y_pred = model.predict(X_test)\n",
    "plt.plot(y_test)\n",
    "plt.plot(y_pred)"
   ]
  },
  {
   "cell_type": "code",
   "execution_count": 44,
   "metadata": {},
   "outputs": [
    {
     "name": "stdout",
     "output_type": "stream",
     "text": [
      "0.001944050203450335\n"
     ]
    }
   ],
   "source": [
    "print (mse(y_pred,y_test))"
   ]
  },
  {
   "cell_type": "markdown",
   "metadata": {},
   "source": [
    "### LSTM on Windows"
   ]
  },
  {
   "cell_type": "code",
   "execution_count": 45,
   "metadata": {},
   "outputs": [],
   "source": [
    "X_train_t = X_train.reshape(X_train.shape[0], 1, 12)\n",
    "X_test_t = X_test.reshape(X_test.shape[0], 1, 12)"
   ]
  },
  {
   "cell_type": "code",
   "execution_count": 46,
   "metadata": {},
   "outputs": [
    {
     "data": {
      "text/plain": [
       "(228, 1, 12)"
      ]
     },
     "execution_count": 46,
     "metadata": {},
     "output_type": "execute_result"
    }
   ],
   "source": [
    "X_train_t.shape"
   ]
  },
  {
   "cell_type": "code",
   "execution_count": 47,
   "metadata": {},
   "outputs": [],
   "source": [
    "K.clear_session()\n",
    "model = Sequential()\n",
    "\n",
    "model.add(LSTM(6, input_shape=(1, 12)))\n",
    "\n",
    "model.add(Dense(1))\n",
    "\n",
    "model.compile(loss='mean_squared_error', optimizer='adam')"
   ]
  },
  {
   "cell_type": "code",
   "execution_count": 48,
   "metadata": {},
   "outputs": [
    {
     "name": "stdout",
     "output_type": "stream",
     "text": [
      "_________________________________________________________________\n",
      "Layer (type)                 Output Shape              Param #   \n",
      "=================================================================\n",
      "lstm (LSTM)                  (None, 6)                 456       \n",
      "_________________________________________________________________\n",
      "dense (Dense)                (None, 1)                 7         \n",
      "=================================================================\n",
      "Total params: 463\n",
      "Trainable params: 463\n",
      "Non-trainable params: 0\n",
      "_________________________________________________________________\n"
     ]
    }
   ],
   "source": [
    "model.summary()"
   ]
  },
  {
   "cell_type": "code",
   "execution_count": 49,
   "metadata": {},
   "outputs": [
    {
     "data": {
      "text/plain": [
       "<tensorflow.python.keras.callbacks.History at 0x7f16be022a90>"
      ]
     },
     "execution_count": 49,
     "metadata": {},
     "output_type": "execute_result"
    }
   ],
   "source": [
    "model.fit(X_train_t, y_train, epochs=100,\n",
    "          batch_size=1, verbose=0, callbacks=[early_stop])"
   ]
  },
  {
   "cell_type": "code",
   "execution_count": 50,
   "metadata": {},
   "outputs": [
    {
     "data": {
      "text/plain": [
       "[<matplotlib.lines.Line2D at 0x7f16bc177630>]"
      ]
     },
     "execution_count": 50,
     "metadata": {},
     "output_type": "execute_result"
    },
    {
     "data": {
      "image/png": "[encoded data removed]",
      "text/plain": [
       "<Figure size 432x288 with 1 Axes>"
      ]
     },
     "metadata": {
      "needs_background": "light"
     },
     "output_type": "display_data"
    }
   ],
   "source": [
    "y_pred = model.predict(X_test_t)\n",
    "plt.plot(y_test)\n",
    "plt.plot(y_pred)"
   ]
  },
  {
   "cell_type": "code",
   "execution_count": 51,
   "metadata": {},
   "outputs": [
    {
     "name": "stdout",
     "output_type": "stream",
     "text": [
      "0.0035213515332676248\n"
     ]
    }
   ],
   "source": [
    "print (mse(y_pred,y_test))"
   ]
  },
  {
   "cell_type": "markdown",
   "metadata": {},
   "source": [
    "## Exercise 1\n",
    "\n",
    "In the model above we reshaped the input shape to: `(num_samples, 1, 12)`, i.e. we treated a window of 12 months as a vector of 12 coordinates that we simultaneously passed to all the LSTM nodes. An alternative way to look at the problem is to reshape the input to `(num_samples, 12, 1)`. This means we consider each input window as a sequence of 12 values that we will pass in sequence to the LSTM. In principle this looks like a more accurate description of our situation. But does it yield better predictions? Let's check it.\n",
    "\n",
    "- Reshape `X_train` and `X_test` so that they represent a set of univariate sequences\n",
    "- retrain the same LSTM(6) model, you'll have to adapt the `input_shape`\n",
    "- check the performance of this new model, is it better at predicting the test data?"
   ]
  },
  {
   "cell_type": "code",
   "execution_count": 52,
   "metadata": {},
   "outputs": [
    {
     "name": "stdout",
     "output_type": "stream",
     "text": [
      "(228, 12) (61, 12)\n"
     ]
    }
   ],
   "source": [
    "print (X_train.shape,X_test.shape)"
   ]
  },
  {
   "cell_type": "code",
   "execution_count": 55,
   "metadata": {},
   "outputs": [],
   "source": [
    "X_train = X_train.reshape(-1, 12, 1)\n",
    "X_test = X_test.reshape(-1, 12, 1)"
   ]
  },
  {
   "cell_type": "code",
   "execution_count": 56,
   "metadata": {},
   "outputs": [
    {
     "name": "stdout",
     "output_type": "stream",
     "text": [
      "(228, 12, 1) (61, 12, 1)\n"
     ]
    }
   ],
   "source": [
    "print (X_train.shape,X_test.shape)"
   ]
  },
  {
   "cell_type": "code",
   "execution_count": 57,
   "metadata": {},
   "outputs": [],
   "source": [
    "K.clear_session()\n",
    "model = Sequential()\n",
    "\n",
    "model.add(LSTM(6, input_shape=(12, 1)))\n",
    "\n",
    "model.add(Dense(1))\n",
    "\n",
    "model.compile(loss='mean_squared_error', optimizer='adam')"
   ]
  },
  {
   "cell_type": "code",
   "execution_count": 58,
   "metadata": {},
   "outputs": [
    {
     "name": "stdout",
     "output_type": "stream",
     "text": [
      "_________________________________________________________________\n",
      "Layer (type)                 Output Shape              Param #   \n",
      "=================================================================\n",
      "lstm (LSTM)                  (None, 6)                 192       \n",
      "_________________________________________________________________\n",
      "dense (Dense)                (None, 1)                 7         \n",
      "=================================================================\n",
      "Total params: 199\n",
      "Trainable params: 199\n",
      "Non-trainable params: 0\n",
      "_________________________________________________________________\n"
     ]
    }
   ],
   "source": [
    "model.summary()"
   ]
  },
  {
   "cell_type": "code",
   "execution_count": 69,
   "metadata": {},
   "outputs": [
    {
     "data": {
      "text/plain": [
       "<tensorflow.python.keras.callbacks.History at 0x7f169eeb0630>"
      ]
     },
     "execution_count": 69,
     "metadata": {},
     "output_type": "execute_result"
    }
   ],
   "source": [
    "model.fit(X_train, y_train, epochs=100,\n",
    "          batch_size=1, verbose=0, callbacks=[early_stop,TensorBoard()])"
   ]
  },
  {
   "cell_type": "code",
   "execution_count": 70,
   "metadata": {},
   "outputs": [
    {
     "data": {
      "text/plain": [
       "[<matplotlib.lines.Line2D at 0x7f169eeb0828>]"
      ]
     },
     "execution_count": 70,
     "metadata": {},
     "output_type": "execute_result"
    },
    {
     "data": {
      "image/png": "[encoded data removed]",
      "text/plain": [
       "<Figure size 432x288 with 1 Axes>"
      ]
     },
     "metadata": {
      "needs_background": "light"
     },
     "output_type": "display_data"
    }
   ],
   "source": [
    "y_pred = model.predict(X_test)\n",
    "plt.plot(y_test)\n",
    "plt.plot(y_pred)"
   ]
  },
  {
   "cell_type": "code",
   "execution_count": 71,
   "metadata": {},
   "outputs": [
    {
     "name": "stdout",
     "output_type": "stream",
     "text": [
      "0.003394159404671076\n"
     ]
    }
   ],
   "source": [
    "print (mse(y_pred,y_test))"
   ]
  },
  {
   "cell_type": "markdown",
   "metadata": {
    "collapsed": true
   },
   "source": [
    "## Exercise 2\n",
    "\n",
    "RNN models can be applied to images too. In general we can apply them to any data where there's a connnection between nearby units. Let's see how we can easily build a model that works with images.\n",
    "\n",
    "- Load the MNIST data, by now you should be able to do it blindfolded :)\n",
    "- reshape it so that an image looks like a long sequence of pixels\n",
    "- create a recurrent model and train it on the training data\n",
    "- how does it perform compared to a fully connected? How does it compare to Convolutional Neural Networks?\n",
    "\n",
    "(feel free to run this exercise on a cloud GPU if it's too slow on your laptop)"
   ]
  },
  {
   "cell_type": "code",
   "execution_count": 112,
   "metadata": {},
   "outputs": [],
   "source": [
    "import tensorflow.keras.datasets.mnist as mnist\n",
    "from tensorflow.keras.utils import to_categorical \n",
    "from sklearn.metrics import accuracy_score"
   ]
  },
  {
   "cell_type": "code",
   "execution_count": 81,
   "metadata": {},
   "outputs": [
    {
     "name": "stdout",
     "output_type": "stream",
     "text": [
      "Downloading data from https://storage.googleapis.com/tensorflow/tf-keras-datasets/mnist.npz\n",
      "11493376/11490434 [==============================] - 3s 0us/step\n"
     ]
    }
   ],
   "source": [
    "(X_train, y_train), (X_test, y_test) = mnist.load_data('/tmp/mnist.npz')"
   ]
  },
  {
   "cell_type": "code",
   "execution_count": 83,
   "metadata": {},
   "outputs": [
    {
     "name": "stdout",
     "output_type": "stream",
     "text": [
      "(60000, 28, 28) (60000,)\n"
     ]
    }
   ],
   "source": [
    "print (X_train.shape, y_train.shape)"
   ]
  },
  {
   "cell_type": "code",
   "execution_count": 86,
   "metadata": {},
   "outputs": [],
   "source": [
    "X_train_t = X_train.reshape(-1, 784, 1)\n",
    "X_test_t = X_test.reshape(-1, 784, 1)"
   ]
  },
  {
   "cell_type": "code",
   "execution_count": 87,
   "metadata": {},
   "outputs": [
    {
     "name": "stdout",
     "output_type": "stream",
     "text": [
      "(60000, 784, 1)\n"
     ]
    }
   ],
   "source": [
    "print (X_train_t.shape)"
   ]
  },
  {
   "cell_type": "code",
   "execution_count": 99,
   "metadata": {},
   "outputs": [],
   "source": [
    "y_train = to_categorical(y_train,num_classes=10)"
   ]
  },
  {
   "cell_type": "code",
   "execution_count": 100,
   "metadata": {},
   "outputs": [],
   "source": [
    "y_test = to_categorical(y_test,num_classes=10)"
   ]
  },
  {
   "cell_type": "code",
   "execution_count": 108,
   "metadata": {},
   "outputs": [],
   "source": [
    "K.clear_session()\n",
    "model = Sequential()\n",
    "\n",
    "model.add(LSTM(6, input_shape=(784, 1)))\n",
    "\n",
    "model.add(Dense(10,activation='softmax'))\n",
    "\n",
    "model.compile(loss='mean_squared_error', optimizer='adam')"
   ]
  },
  {
   "cell_type": "code",
   "execution_count": 109,
   "metadata": {},
   "outputs": [
    {
     "name": "stdout",
     "output_type": "stream",
     "text": [
      "_________________________________________________________________\n",
      "Layer (type)                 Output Shape              Param #   \n",
      "=================================================================\n",
      "lstm (LSTM)                  (None, 6)                 192       \n",
      "_________________________________________________________________\n",
      "dense (Dense)                (None, 10)                70        \n",
      "=================================================================\n",
      "Total params: 262\n",
      "Trainable params: 262\n",
      "Non-trainable params: 0\n",
      "_________________________________________________________________\n"
     ]
    }
   ],
   "source": [
    "model.summary()"
   ]
  },
  {
   "cell_type": "code",
   "execution_count": 110,
   "metadata": {},
   "outputs": [
    {
     "name": "stdout",
     "output_type": "stream",
     "text": [
      "Epoch 1/10\n",
      "60000/60000 [==============================] - 49s 824us/step - loss: 0.0900\n",
      "Epoch 2/10\n",
      "60000/60000 [==============================] - 48s 795us/step - loss: 0.0900\n",
      "Epoch 3/10\n",
      "60000/60000 [==============================] - 47s 775us/step - loss: 0.0900\n",
      "Epoch 4/10\n",
      "60000/60000 [==============================] - 47s 788us/step - loss: 0.0897\n",
      "Epoch 5/10\n",
      "60000/60000 [==============================] - 46s 775us/step - loss: 0.0857\n",
      "Epoch 6/10\n",
      "60000/60000 [==============================] - 46s 770us/step - loss: 0.0837\n",
      "Epoch 7/10\n",
      "60000/60000 [==============================] - 46s 771us/step - loss: 0.0830\n",
      "Epoch 8/10\n",
      "60000/60000 [==============================] - 46s 768us/step - loss: 0.0823\n",
      "Epoch 9/10\n",
      "60000/60000 [==============================] - 46s 770us/step - loss: 0.0813\n",
      "Epoch 10/10\n",
      "60000/60000 [==============================] - 46s 769us/step - loss: 0.0804\n"
     ]
    },
    {
     "data": {
      "text/plain": [
       "<tensorflow.python.keras.callbacks.History at 0x7f169cf96ac8>"
      ]
     },
     "execution_count": 110,
     "metadata": {},
     "output_type": "execute_result"
    }
   ],
   "source": [
    "model.fit(X_train_t, y_train, epochs=10,\n",
    "          batch_size=1024, verbose=1, callbacks=[early_stop,TensorBoard()])"
   ]
  },
  {
   "cell_type": "code",
   "execution_count": 111,
   "metadata": {},
   "outputs": [
    {
     "name": "stdout",
     "output_type": "stream",
     "text": [
      "Epoch 1/100\n",
      "60000/60000 [==============================] - 46s 773us/step - loss: 0.0797\n",
      "Epoch 2/100\n",
      "60000/60000 [==============================] - 46s 769us/step - loss: 0.0792\n",
      "Epoch 3/100\n",
      "60000/60000 [==============================] - 46s 770us/step - loss: 0.0789\n",
      "Epoch 4/100\n",
      "60000/60000 [==============================] - 46s 771us/step - loss: 0.0788\n",
      "Epoch 5/100\n",
      "60000/60000 [==============================] - 46s 773us/step - loss: 0.0784\n",
      "Epoch 6/100\n",
      "60000/60000 [==============================] - 46s 770us/step - loss: 0.0781\n",
      "Epoch 7/100\n",
      "60000/60000 [==============================] - 46s 774us/step - loss: 0.0779\n",
      "Epoch 8/100\n",
      "60000/60000 [==============================] - 46s 769us/step - loss: 0.0777\n",
      "Epoch 9/100\n",
      "60000/60000 [==============================] - 46s 771us/step - loss: 0.0775\n",
      "Epoch 10/100\n",
      "60000/60000 [==============================] - 46s 771us/step - loss: 0.0773\n",
      "Epoch 11/100\n",
      "60000/60000 [==============================] - 46s 770us/step - loss: 0.0772\n",
      "Epoch 12/100\n",
      "60000/60000 [==============================] - 46s 771us/step - loss: 0.0770\n",
      "Epoch 13/100\n",
      "60000/60000 [==============================] - 46s 770us/step - loss: 0.0769\n",
      "Epoch 14/100\n",
      "60000/60000 [==============================] - 46s 771us/step - loss: 0.0768\n",
      "Epoch 15/100\n",
      "60000/60000 [==============================] - 46s 770us/step - loss: 0.0767\n",
      "Epoch 16/100\n",
      "60000/60000 [==============================] - 46s 770us/step - loss: 0.0766\n",
      "Epoch 17/100\n",
      "60000/60000 [==============================] - 46s 770us/step - loss: 0.0765\n",
      "Epoch 18/100\n",
      "60000/60000 [==============================] - 46s 769us/step - loss: 0.0764\n",
      "Epoch 19/100\n",
      "60000/60000 [==============================] - 46s 770us/step - loss: 0.0764\n",
      "Epoch 20/100\n",
      "60000/60000 [==============================] - 46s 770us/step - loss: 0.0763\n",
      "Epoch 21/100\n",
      "60000/60000 [==============================] - 46s 771us/step - loss: 0.0763\n",
      "Epoch 22/100\n",
      "60000/60000 [==============================] - 46s 771us/step - loss: 0.0763\n",
      "Epoch 23/100\n",
      "60000/60000 [==============================] - 46s 771us/step - loss: 0.0762\n",
      "Epoch 24/100\n",
      "60000/60000 [==============================] - 46s 771us/step - loss: 0.0761\n",
      "Epoch 25/100\n",
      "60000/60000 [==============================] - 46s 770us/step - loss: 0.0761\n",
      "Epoch 26/100\n",
      "60000/60000 [==============================] - 46s 771us/step - loss: 0.0761\n",
      "Epoch 27/100\n",
      "60000/60000 [==============================] - 46s 772us/step - loss: 0.0761\n",
      "Epoch 28/100\n",
      "60000/60000 [==============================] - 46s 771us/step - loss: 0.0760\n",
      "Epoch 29/100\n",
      "60000/60000 [==============================] - 46s 770us/step - loss: 0.0760\n"
     ]
    },
    {
     "data": {
      "text/plain": [
       "<tensorflow.python.keras.callbacks.History at 0x7f168ff48f60>"
      ]
     },
     "execution_count": 111,
     "metadata": {},
     "output_type": "execute_result"
    }
   ],
   "source": [
    "model.fit(X_train_t, y_train, epochs=100,\n",
    "          batch_size=1024, verbose=1, callbacks=[early_stop,TensorBoard()])"
   ]
  },
  {
   "cell_type": "code",
   "execution_count": 115,
   "metadata": {},
   "outputs": [],
   "source": [
    "y_pred = model.predict(X_test_t)"
   ]
  },
  {
   "cell_type": "code",
   "execution_count": 120,
   "metadata": {},
   "outputs": [
    {
     "name": "stdout",
     "output_type": "stream",
     "text": [
      "(10000, 10) (10000, 10)\n"
     ]
    }
   ],
   "source": [
    "print (y_pred.shape, y_test.shape)"
   ]
  },
  {
   "cell_type": "code",
   "execution_count": 124,
   "metadata": {},
   "outputs": [],
   "source": [
    "y_pred_argmax = np.argmax(y_pred,axis=1)"
   ]
  },
  {
   "cell_type": "code",
   "execution_count": 126,
   "metadata": {},
   "outputs": [],
   "source": [
    "y_test_argmax = np.argmax(y_test,axis=1)"
   ]
  },
  {
   "cell_type": "code",
   "execution_count": 127,
   "metadata": {},
   "outputs": [
    {
     "data": {
      "text/plain": [
       "0.363"
      ]
     },
     "execution_count": 127,
     "metadata": {},
     "output_type": "execute_result"
    }
   ],
   "source": [
    "accuracy_score(y_test_argmax,y_pred_argmax)"
   ]
  },
  {
   "cell_type": "code",
   "execution_count": null,
   "metadata": {},
   "outputs": [],
   "source": []
  }
 ],
 "metadata": {
  "kernelspec": {
   "display_name": "Python 3",
   "language": "python",
   "name": "python3"
  },
  "language_info": {
   "codemirror_mode": {
    "name": "ipython",
    "version": 3
   },
   "file_extension": ".py",
   "mimetype": "text/x-python",
   "name": "python",
   "nbconvert_exporter": "python",
   "pygments_lexer": "ipython3",
   "version": "3.5.2"
  }
 },
 "nbformat": 4,
 "nbformat_minor": 2
}

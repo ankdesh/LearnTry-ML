{
 "cells": [
  {
   "cell_type": "code",
   "execution_count": 4,
   "metadata": {},
   "outputs": [
    {
     "name": "stdout",
     "output_type": "stream",
     "text": [
      "TF version: 2.3.1\n",
      "TFP version: 0.11.1\n"
     ]
    }
   ],
   "source": [
    "import tensorflow as tf\n",
    "import tensorflow_probability as tfp\n",
    "tfd = tfp.distributions\n",
    "\n",
    "print(\"TF version:\", tf.__version__)\n",
    "print(\"TFP version:\", tfp.__version__)"
   ]
  },
  {
   "cell_type": "code",
   "execution_count": 5,
   "metadata": {},
   "outputs": [],
   "source": [
    "# Additional imports and setting fixed random seed to have reproducibility\n",
    "\n",
    "import matplotlib.pyplot as plt\n",
    "import numpy as np\n",
    "tf.random.set_seed(123)\n",
    "%matplotlib inline"
   ]
  },
  {
   "cell_type": "markdown",
   "metadata": {},
   "source": [
    "# Tensorflow Distributions"
   ]
  },
  {
   "cell_type": "markdown",
   "metadata": {},
   "source": [
    "## Coding Tutorials\n",
    "#### 1. [Univariate Distributions](#univariate_distributions)\n",
    "#### 2. [Multivariate Distributions](#multivariate_distributions)\n",
    "#### 3. [The Independent Distribution](#the_independent_distribution)\n",
    "#### 4. [Sampling and log probs](#sampling_and_log_probs)\n",
    "#### 5. [Trainable Distributions](#trainable_distributions)"
   ]
  },
  {
   "cell_type": "markdown",
   "metadata": {},
   "source": [
    "***\n",
    "## Univariate distributions\n",
    "<a id='univariate_distributions'></a>"
   ]
  },
  {
   "cell_type": "code",
   "execution_count": 6,
   "metadata": {},
   "outputs": [
    {
     "name": "stdout",
     "output_type": "stream",
     "text": [
      "tfp.distributions.Normal(\"Normal\", batch_shape=[], event_shape=[], dtype=float32)\n"
     ]
    }
   ],
   "source": [
    "# Create a normal distribution from Tensorflow Distributions\n",
    "\n",
    "normal = tfd.Normal(loc=0, scale = 1)\n",
    "print (normal)"
   ]
  },
  {
   "cell_type": "code",
   "execution_count": 7,
   "metadata": {},
   "outputs": [
    {
     "data": {
      "text/plain": [
       "<tf.Tensor: shape=(), dtype=float32, numpy=-0.8980837>"
      ]
     },
     "execution_count": 7,
     "metadata": {},
     "output_type": "execute_result"
    }
   ],
   "source": [
    "# Sample from the chosen distribution...\n",
    "normal.sample()\n"
   ]
  },
  {
   "cell_type": "code",
   "execution_count": 8,
   "metadata": {},
   "outputs": [
    {
     "data": {
      "text/plain": [
       "<tf.Tensor: shape=(10,), dtype=float32, numpy=\n",
       "array([ 0.33875433,  0.3449861 , -0.6605785 , -0.28549942,  0.43852386,\n",
       "        0.8288566 , -0.53591555, -0.53534836, -1.0324249 , -2.942705  ],\n",
       "      dtype=float32)>"
      ]
     },
     "execution_count": 8,
     "metadata": {},
     "output_type": "execute_result"
    }
   ],
   "source": [
    "# ... or sample multiple times\n",
    "\n",
    "normal.sample(10)"
   ]
  },
  {
   "cell_type": "code",
   "execution_count": 9,
   "metadata": {},
   "outputs": [
    {
     "data": {
      "text/plain": [
       "<tf.Tensor: shape=(), dtype=float32, numpy=0.3989423>"
      ]
     },
     "execution_count": 9,
     "metadata": {},
     "output_type": "execute_result"
    }
   ],
   "source": [
    "# Obtain value of probability's density\n",
    "\n",
    "normal.prob(0)"
   ]
  },
  {
   "cell_type": "code",
   "execution_count": 10,
   "metadata": {},
   "outputs": [
    {
     "data": {
      "text/plain": [
       "<tf.Tensor: shape=(), dtype=float32, numpy=-0.9189385>"
      ]
     },
     "execution_count": 10,
     "metadata": {},
     "output_type": "execute_result"
    }
   ],
   "source": [
    "# Obtain value of logprobability\n",
    "\n",
    "normal.log_prob(0)"
   ]
  },
  {
   "cell_type": "code",
   "execution_count": 11,
   "metadata": {},
   "outputs": [
    {
     "name": "stdout",
     "output_type": "stream",
     "text": [
      "-0.9189385\n"
     ]
    }
   ],
   "source": [
    "# Verify that this really is the log of the probability\n",
    "\n",
    "print (np.log(normal.prob(0)))"
   ]
  },
  {
   "cell_type": "code",
   "execution_count": 12,
   "metadata": {},
   "outputs": [],
   "source": [
    "norm_samples = normal.sample(10000)"
   ]
  },
  {
   "cell_type": "code",
   "execution_count": 13,
   "metadata": {},
   "outputs": [
    {
     "data": {
      "image/png": "[encoded data removed]",
      "text/plain": [
       "<Figure size 432x288 with 1 Axes>"
      ]
     },
     "metadata": {
      "needs_background": "light"
     },
     "output_type": "display_data"
    }
   ],
   "source": [
    "# Plot a histogram, approximating the density\n",
    "\n",
    "_ = plt.hist(norm_samples.numpy(), bins=50, density=True)\n",
    "plt.show()"
   ]
  },
  {
   "cell_type": "code",
   "execution_count": 14,
   "metadata": {},
   "outputs": [
    {
     "data": {
      "image/png": "[encoded data removed]",
      "text/plain": [
       "<Figure size 432x288 with 1 Axes>"
      ]
     },
     "metadata": {
      "needs_background": "light"
     },
     "output_type": "display_data"
    }
   ],
   "source": [
    "# Do the same for the exponential distribution\n",
    "\n",
    "exponential = tfd.Exponential(rate=1)\n",
    "_ = plt.hist(exponential.sample(10000).numpy(), bins=50, density=True)"
   ]
  },
  {
   "cell_type": "code",
   "execution_count": 15,
   "metadata": {},
   "outputs": [
    {
     "data": {
      "text/plain": [
       "<tf.Tensor: shape=(10,), dtype=float32, numpy=\n",
       "array([0.3179616 , 0.9595855 , 0.6190708 , 1.3738598 , 1.6796894 ,\n",
       "       0.40142855, 1.6830153 , 1.78942   , 0.38126466, 0.5528394 ],\n",
       "      dtype=float32)>"
      ]
     },
     "execution_count": 15,
     "metadata": {},
     "output_type": "execute_result"
    }
   ],
   "source": [
    "# Sample as before\n",
    "\n",
    "exponential.sample(10)"
   ]
  },
  {
   "cell_type": "code",
   "execution_count": 16,
   "metadata": {},
   "outputs": [
    {
     "name": "stdout",
     "output_type": "stream",
     "text": [
      "tf.Tensor([0 1 1 0 0 1 1 0 1 1 1 0 1 1 1 0 1 0 1 1], shape=(20,), dtype=int32)\n"
     ]
    }
   ],
   "source": [
    "# Create a Bernoulli distribution (discrete)\n",
    "\n",
    "bernoulli = tfd.Bernoulli(probs=0.8)\n",
    "print (bernoulli.sample(20))"
   ]
  },
  {
   "cell_type": "markdown",
   "metadata": {},
   "source": [
    "#### A word of caution on discrete distributions"
   ]
  },
  {
   "cell_type": "code",
   "execution_count": 17,
   "metadata": {},
   "outputs": [
    {
     "name": "stdout",
     "output_type": "stream",
     "text": [
      "prob result 0.20000000298023224 for k = 0 \n",
      "prob result 0.4000000059604645 for k = 0.5 \n",
      "prob result 0.800000011920929 for k = 1 \n",
      "prob result 0.04999999701976776 for k = -1 \n"
     ]
    }
   ],
   "source": [
    "# Calculate Bernoulli prob and see that 0.5 and -1 do not give the correct probability!\n",
    "\n",
    "for k in [0,0.5,1,-1]:\n",
    "    print('prob result {} for k = {} '.format(bernoulli.prob(k),k))"
   ]
  },
  {
   "cell_type": "code",
   "execution_count": 18,
   "metadata": {},
   "outputs": [],
   "source": [
    "# Replicate the scores to see what is occurring under the hood\n",
    "\n",
    "def my_bernoulli(p_success, k):\n",
    "    return np.power(p_success,k)*np.power((1-p_success),(1-k))"
   ]
  },
  {
   "cell_type": "code",
   "execution_count": 19,
   "metadata": {},
   "outputs": [
    {
     "name": "stdout",
     "output_type": "stream",
     "text": [
      "prob result 0.20000000298023224 for k = 0 \n",
      "prob result 0.4000000059604645 for k = 0.5 \n",
      "prob result 0.800000011920929 for k = 1 \n",
      "prob result 0.04999999701976776 for k = -1 \n"
     ]
    }
   ],
   "source": [
    "# Evaluate it as before\n",
    "\n",
    "for k in [0,0.5,1,-1]:\n",
    "    print('prob result {} for k = {} '.format(bernoulli.prob(k),k))"
   ]
  },
  {
   "cell_type": "markdown",
   "metadata": {},
   "source": [
    "#### Work with batch distributions"
   ]
  },
  {
   "cell_type": "code",
   "execution_count": 20,
   "metadata": {},
   "outputs": [
    {
     "data": {
      "text/plain": [
       "<tfp.distributions.Bernoulli 'Bernoulli' batch_shape=[5] event_shape=[] dtype=int32>"
      ]
     },
     "execution_count": 20,
     "metadata": {},
     "output_type": "execute_result"
    }
   ],
   "source": [
    "# Create a batched Bernoulli distribution\n",
    "\n",
    "bernoulli_batch = tfd.Bernoulli(probs=[0.1, 0.25, 0.5, 0.75, 0.9])\n",
    "bernoulli_batch"
   ]
  },
  {
   "cell_type": "code",
   "execution_count": 21,
   "metadata": {},
   "outputs": [
    {
     "data": {
      "text/plain": [
       "<tf.Tensor: shape=(3, 5), dtype=int32, numpy=\n",
       "array([[0, 0, 0, 1, 1],\n",
       "       [0, 1, 0, 1, 1],\n",
       "       [0, 0, 1, 1, 1]], dtype=int32)>"
      ]
     },
     "execution_count": 21,
     "metadata": {},
     "output_type": "execute_result"
    }
   ],
   "source": [
    "# Sample from it, noting the shape\n",
    "\n",
    "bernoulli_batch.sample(3)"
   ]
  },
  {
   "cell_type": "code",
   "execution_count": 22,
   "metadata": {},
   "outputs": [
    {
     "data": {
      "text/plain": [
       "<tfp.distributions.Bernoulli 'Bernoulli' batch_shape=[1, 3, 2] event_shape=[] dtype=int32>"
      ]
     },
     "execution_count": 22,
     "metadata": {},
     "output_type": "execute_result"
    }
   ],
   "source": [
    "# Use a batch shape with higher rank\n",
    "\n",
    "probs = [[[0.5, 0.5], \n",
    "          [0.8, 0.3], \n",
    "          [0.25, 0.75]]]\n",
    "bernoulli_batch_2D = tfd.Bernoulli(probs=probs)\n",
    "bernoulli_batch_2D"
   ]
  },
  {
   "cell_type": "code",
   "execution_count": 23,
   "metadata": {},
   "outputs": [
    {
     "data": {
      "text/plain": [
       "<tf.Tensor: shape=(5, 1, 3, 2), dtype=int32, numpy=\n",
       "array([[[[0, 0],\n",
       "         [1, 1],\n",
       "         [0, 1]]],\n",
       "\n",
       "\n",
       "       [[[0, 0],\n",
       "         [1, 0],\n",
       "         [0, 1]]],\n",
       "\n",
       "\n",
       "       [[[1, 0],\n",
       "         [1, 1],\n",
       "         [0, 1]]],\n",
       "\n",
       "\n",
       "       [[[1, 0],\n",
       "         [0, 0],\n",
       "         [0, 1]]],\n",
       "\n",
       "\n",
       "       [[[0, 1],\n",
       "         [1, 1],\n",
       "         [1, 0]]]], dtype=int32)>"
      ]
     },
     "execution_count": 23,
     "metadata": {},
     "output_type": "execute_result"
    }
   ],
   "source": [
    "# Sample from this batch of distributions\n",
    "\n",
    "bernoulli_batch_2D.sample(5)"
   ]
  },
  {
   "cell_type": "code",
   "execution_count": 24,
   "metadata": {},
   "outputs": [
    {
     "data": {
      "text/plain": [
       "<tf.Tensor: shape=(1, 3, 2), dtype=float32, numpy=\n",
       "array([[[0.5      , 0.5      ],\n",
       "        [0.2      , 0.6999999],\n",
       "        [0.25     , 0.75     ]]], dtype=float32)>"
      ]
     },
     "execution_count": 24,
     "metadata": {},
     "output_type": "execute_result"
    }
   ],
   "source": [
    "# Determine probabilities from this batch distribution\n",
    "\n",
    "bernoulli_batch_2D.prob([[[1, 0], \n",
    "                         [0, 0], \n",
    "                         [1, 1]]])"
   ]
  },
  {
   "cell_type": "markdown",
   "metadata": {},
   "source": [
    "***\n",
    "<a id='multivariate_distributions'></a>\n",
    "## Multivariate Distributions\n"
   ]
  },
  {
   "cell_type": "markdown",
   "metadata": {},
   "source": [
    "#### Basic multivariate distributions"
   ]
  },
  {
   "cell_type": "code",
   "execution_count": 25,
   "metadata": {},
   "outputs": [
    {
     "name": "stdout",
     "output_type": "stream",
     "text": [
      "tfp.distributions.MultivariateNormalDiag(\"MultivariateNormalDiag\", batch_shape=[], event_shape=[2], dtype=float32)\n"
     ]
    }
   ],
   "source": [
    "# Define 2D multivariate Gaussian with diagonal covariance matrix\n",
    "\n",
    "normal_diag = tfd.MultivariateNormalDiag(loc=[0,1], scale_diag=[1,20])\n",
    "print (normal_diag)"
   ]
  },
  {
   "cell_type": "code",
   "execution_count": 26,
   "metadata": {},
   "outputs": [
    {
     "data": {
      "text/plain": [
       "<tf.Tensor: shape=(10, 2), dtype=float32, numpy=\n",
       "array([[ -0.37992278,  14.674164  ],\n",
       "       [ -2.224005  , -11.851446  ],\n",
       "       [  0.923083  , -23.528893  ],\n",
       "       [ -0.62774605, -12.385238  ],\n",
       "       [ -0.6252951 , -22.324146  ],\n",
       "       [ -0.42454168,   4.1921854 ],\n",
       "       [ -1.702882  ,   9.533869  ],\n",
       "       [ -0.4608376 , -16.023523  ],\n",
       "       [ -1.1919353 , -10.286564  ],\n",
       "       [  0.48053816, -11.693485  ]], dtype=float32)>"
      ]
     },
     "execution_count": 26,
     "metadata": {},
     "output_type": "execute_result"
    }
   ],
   "source": [
    "# Sample from it\n",
    "normal_diag.sample(10)\n"
   ]
  },
  {
   "cell_type": "code",
   "execution_count": 27,
   "metadata": {},
   "outputs": [
    {
     "data": {
      "image/png": "[encoded data removed]",
      "text/plain": [
       "<Figure size 432x288 with 1 Axes>"
      ]
     },
     "metadata": {
      "needs_background": "light"
     },
     "output_type": "display_data"
    }
   ],
   "source": [
    "# Make a plot\n",
    "\n",
    "plt_sample = normal_diag.sample(10000)\n",
    "plt.scatter(plt_sample[:, 0], plt_sample[:, 1], marker='.', alpha=0.05)\n",
    "plt.axis('equal')\n",
    "plt.show()"
   ]
  },
  {
   "cell_type": "markdown",
   "metadata": {},
   "source": [
    "#### Batches of multivariate distributions"
   ]
  },
  {
   "cell_type": "code",
   "execution_count": 28,
   "metadata": {},
   "outputs": [
    {
     "name": "stdout",
     "output_type": "stream",
     "text": [
      "tfp.distributions.MultivariateNormalDiag(\"MultivariateNormalDiag\", batch_shape=[3], event_shape=[2], dtype=float32)\n"
     ]
    }
   ],
   "source": [
    "# Create three \"batches\" of multivariate normals\n",
    "\n",
    "normal_diag_batch = tfd.MultivariateNormalDiag(loc=[[0,0],[0,0],[0,0]], scale_diag=[[1,2],[2,1],[2,3]])\n",
    "print (normal_diag_batch)                                            "
   ]
  },
  {
   "cell_type": "code",
   "execution_count": 29,
   "metadata": {},
   "outputs": [
    {
     "name": "stdout",
     "output_type": "stream",
     "text": [
      "tf.Tensor(\n",
      "[[[-0.8012545  -2.128108  ]\n",
      "  [ 2.0774972  -2.7921855 ]\n",
      "  [ 0.52665955  0.9143638 ]]\n",
      "\n",
      " [[ 0.9923561  -0.9778331 ]\n",
      "  [-0.8376892   0.70630246]\n",
      "  [-1.0894657  -0.9895425 ]]\n",
      "\n",
      " [[-1.6264789   2.2429497 ]\n",
      "  [-4.301875   -0.7626804 ]\n",
      "  [-0.4345196  -0.8553314 ]]\n",
      "\n",
      " [[ 0.73075646  2.835662  ]\n",
      "  [ 1.8173586   1.2079152 ]\n",
      "  [-3.2939956   3.504705  ]]\n",
      "\n",
      " [[-0.24759005  0.56306183]\n",
      "  [-0.6053428   0.06578209]\n",
      "  [ 1.4922864  -0.831596  ]]], shape=(5, 3, 2), dtype=float32)\n"
     ]
    }
   ],
   "source": [
    "# Sample from it\n",
    "\n",
    "samples = normal_diag_batch.sample(5)\n",
    "print (samples)"
   ]
  },
  {
   "cell_type": "code",
   "execution_count": 30,
   "metadata": {},
   "outputs": [
    {
     "name": "stdout",
     "output_type": "stream",
     "text": [
      "tf.Tensor(\n",
      "[[-3.4181342 -6.9686737 -3.7107558]\n",
      " [-3.142929  -2.8681712 -3.8324032]\n",
      " [-4.482594  -5.1351314 -3.6938815]\n",
      " [-3.803149  -3.6734028 -5.668324 ]\n",
      " [-2.6013045 -2.5789928 -3.946421 ]], shape=(5, 3), dtype=float32)\n"
     ]
    }
   ],
   "source": [
    "# Compute log probs\n",
    "\n",
    "print (normal_diag_batch.log_prob(samples))"
   ]
  },
  {
   "cell_type": "code",
   "execution_count": 31,
   "metadata": {},
   "outputs": [],
   "source": [
    "# Create a sample for a plot -- notice the shape\n",
    "\n",
    "plt_sample_batch = normal_diag_batch.sample(10000).numpy()"
   ]
  },
  {
   "cell_type": "code",
   "execution_count": 32,
   "metadata": {},
   "outputs": [
    {
     "data": {
      "image/png": "[encoded data removed]",
      "text/plain": [
       "<Figure size 720x216 with 3 Axes>"
      ]
     },
     "metadata": {
      "needs_background": "light"
     },
     "output_type": "display_data"
    }
   ],
   "source": [
    "# Plot samples from the batched multivariate Gaussian\n",
    "\n",
    "fig, axs = (plt.subplots(1, 3, sharex=True, sharey=True, figsize=(10, 3)))\n",
    "titles = ['cov_diag=[1, 2]','cov_diag=[2, 1]', 'cov_diag=[2, 2]']\n",
    "\n",
    "for i, (ax, title) in enumerate(zip(axs,titles)):\n",
    "    samples = plt_sample_batch[:,i,:] #take the ith batch [samples x event_shape]\n",
    "    ax.scatter(samples[:, 0], samples[:, 1], marker='.', alpha=0.05)\n",
    "    ax.set_title(title)\n",
    "plt.show()"
   ]
  },
  {
   "cell_type": "markdown",
   "metadata": {},
   "source": [
    "\n",
    "\n",
    "***\n",
    "<a id='the_independent_distribution'></a>\n",
    "## The Independent Distribution"
   ]
  },
  {
   "cell_type": "code",
   "execution_count": 33,
   "metadata": {},
   "outputs": [],
   "source": [
    "# Start by defining a batch of two univariate Gaussians, then\n",
    "# combine them into a bivariate Gaussian with independent components\n",
    "\n",
    "locs = [-1.,1.]\n",
    "scales = [0.5,1.0]\n",
    "batch_of_normals = tfd.Normal(loc=locs, scale = scales)"
   ]
  },
  {
   "cell_type": "code",
   "execution_count": 35,
   "metadata": {},
   "outputs": [
    {
     "name": "stderr",
     "output_type": "stream",
     "text": [
      "/home/ankdesh/virtualenvs/tf-probablity/lib/python3.6/site-packages/seaborn/_decorators.py:43: FutureWarning: Pass the following variables as keyword args: x, y. From version 0.12, the only valid positional argument will be `data`, and passing other arguments without an explicit keyword will result in an error or misinterpretation.\n",
      "  FutureWarning\n",
      "/home/ankdesh/virtualenvs/tf-probablity/lib/python3.6/site-packages/seaborn/_decorators.py:43: FutureWarning: Pass the following variables as keyword args: x, y. From version 0.12, the only valid positional argument will be `data`, and passing other arguments without an explicit keyword will result in an error or misinterpretation.\n",
      "  FutureWarning\n"
     ]
    },
    {
     "data": {
      "image/png": "[encoded data removed]",
      "text/plain": [
       "<Figure size 432x288 with 1 Axes>"
      ]
     },
     "metadata": {
      "needs_background": "light"
     },
     "output_type": "display_data"
    }
   ],
   "source": [
    "# Univariate density functions\n",
    "\n",
    "import seaborn as sns\n",
    "\n",
    "t = np.linspace(-4, 4, 10000)\n",
    "densities = batch_of_normals.prob(np.repeat(t[:, np.newaxis], 2, axis=1)) # each column is a vector of densities for one distn\n",
    "\n",
    "sns.lineplot(t, densities[:, 0], label='loc={}, scale={}'.format(locs[0], scales[0]))\n",
    "sns.lineplot(t, densities[:, 1], label='loc={}, scale={}'.format(locs[1], scales[1]))\n",
    "plt.ylabel('Probability density')\n",
    "plt.xlabel('Value')\n",
    "plt.legend()\n",
    "plt.show()"
   ]
  },
  {
   "cell_type": "code",
   "execution_count": 36,
   "metadata": {},
   "outputs": [
    {
     "name": "stdout",
     "output_type": "stream",
     "text": [
      "tfp.distributions.Normal(\"Normal\", batch_shape=[2], event_shape=[], dtype=float32)\n"
     ]
    }
   ],
   "source": [
    "# Check their batch_shape and event_shape\n",
    "\n",
    "print (batch_of_normals)"
   ]
  },
  {
   "cell_type": "code",
   "execution_count": 37,
   "metadata": {},
   "outputs": [],
   "source": [
    "# Use Independent to convert the batch shape to the event shape\n",
    "\n",
    "bivariate_normal = tfd.Independent(batch_of_normals,reinterpreted_batch_ndims=1)"
   ]
  },
  {
   "cell_type": "code",
   "execution_count": 38,
   "metadata": {},
   "outputs": [
    {
     "name": "stdout",
     "output_type": "stream",
     "text": [
      "tfp.distributions.Independent(\"IndependentNormal\", batch_shape=[], event_shape=[2], dtype=float32)\n"
     ]
    }
   ],
   "source": [
    "# Note that dimension from batch_shape has shifted to event_shape\n",
    "\n",
    "print (bivariate_normal)"
   ]
  },
  {
   "cell_type": "code",
   "execution_count": 39,
   "metadata": {},
   "outputs": [
    {
     "name": "stderr",
     "output_type": "stream",
     "text": [
      "/home/ankdesh/virtualenvs/tf-probablity/lib/python3.6/site-packages/seaborn/_decorators.py:43: FutureWarning: Pass the following variables as keyword args: x, y. From version 0.12, the only valid positional argument will be `data`, and passing other arguments without an explicit keyword will result in an error or misinterpretation.\n",
      "  FutureWarning\n"
     ]
    },
    {
     "data": {
      "text/plain": [
       "<seaborn.axisgrid.JointGrid at 0x7ff63a7c0e48>"
      ]
     },
     "execution_count": 39,
     "metadata": {},
     "output_type": "execute_result"
    },
    {
     "data": {
      "image/png": "[encoded data removed]",
      "text/plain": [
       "<Figure size 432x432 with 3 Axes>"
      ]
     },
     "metadata": {
      "needs_background": "light"
     },
     "output_type": "display_data"
    }
   ],
   "source": [
    "# Create a plot showing joint density contours and marginal density functions\n",
    "\n",
    "samples = bivariate_normal.sample(10000)\n",
    "x1 = samples[:, 0]\n",
    "x2 = samples[:, 1]\n",
    "sns.jointplot(x1, x2, kind=\"kde\", space=0, color='b', xlim=[-4, 4], ylim=[-4, 4])"
   ]
  },
  {
   "cell_type": "code",
   "execution_count": 40,
   "metadata": {},
   "outputs": [],
   "source": [
    "# Use MultivariateNormalDiag to create the equivalent distribution\n",
    "# Note that diagonal covariance matrix => no correlation => independence (for the multivariate normal distribution)\n",
    "\n",
    "bivariate_normal_direct = tfd.MultivariateNormalDiag(loc=locs, scale_diag=scales)"
   ]
  },
  {
   "cell_type": "code",
   "execution_count": 41,
   "metadata": {},
   "outputs": [
    {
     "name": "stderr",
     "output_type": "stream",
     "text": [
      "/home/ankdesh/virtualenvs/tf-probablity/lib/python3.6/site-packages/seaborn/_decorators.py:43: FutureWarning: Pass the following variables as keyword args: x, y. From version 0.12, the only valid positional argument will be `data`, and passing other arguments without an explicit keyword will result in an error or misinterpretation.\n",
      "  FutureWarning\n"
     ]
    },
    {
     "data": {
      "text/plain": [
       "<seaborn.axisgrid.JointGrid at 0x7ff63ac438d0>"
      ]
     },
     "execution_count": 41,
     "metadata": {},
     "output_type": "execute_result"
    },
    {
     "data": {
      "image/png": "[encoded data removed]",
      "text/plain": [
       "<Figure size 432x432 with 3 Axes>"
      ]
     },
     "metadata": {
      "needs_background": "light"
     },
     "output_type": "display_data"
    }
   ],
   "source": [
    "# Plot the joint density function of bivariate_normal_from_Independent\n",
    "# Refer back to bivariate_normal_from_Independent to show that the plot is the same\n",
    "# Summarise how Independent has been used\n",
    "\n",
    "samples = bivariate_normal_direct.sample(10000)\n",
    "x1 = samples[:, 0]\n",
    "x2 = samples[:, 1]\n",
    "sns.jointplot(x1, x2, kind=\"kde\", space=0, color='b', xlim=[-4, 4], ylim=[-4, 4])"
   ]
  },
  {
   "cell_type": "markdown",
   "metadata": {},
   "source": [
    "#### Shifting batch dimensions to event dimensions using \n",
    "`reinterpreted_batch_ndims`"
   ]
  },
  {
   "cell_type": "code",
   "execution_count": 42,
   "metadata": {},
   "outputs": [],
   "source": [
    "# Demonstrate use of reinterpreted_batch_ndims\n",
    "# By default all batch dims except the first are transferred to event dims\n",
    "\n",
    "loc_grid = [[-100., -100.],\n",
    "            [100., 100.],\n",
    "            [0., 0.]]\n",
    "scale_grid = [[1., 10.],\n",
    "              [1., 10.],\n",
    "              [1., 1.]]\n",
    "\n",
    "normals_batch_3by2_event_1 = tfd.Normal(loc=loc_grid, scale=scale_grid)"
   ]
  },
  {
   "cell_type": "code",
   "execution_count": 43,
   "metadata": {},
   "outputs": [
    {
     "name": "stdout",
     "output_type": "stream",
     "text": [
      "tfp.distributions.Normal(\"Normal\", batch_shape=[3, 2], event_shape=[], dtype=float32)\n"
     ]
    }
   ],
   "source": [
    "# Highlight batch_shape\n",
    "\n",
    "print (normals_batch_3by2_event_1)"
   ]
  },
  {
   "cell_type": "code",
   "execution_count": 44,
   "metadata": {},
   "outputs": [
    {
     "name": "stdout",
     "output_type": "stream",
     "text": [
      "tfp.distributions.Independent(\"IndependentNormal\", batch_shape=[3], event_shape=[2], dtype=float32)\n"
     ]
    }
   ],
   "source": [
    "# We now have a batch of 3 bivariate normal distributions,\n",
    "# each parametrised by a column of our original parameter grid\n",
    "\n",
    "normals_batch_3by2_event_2 = tfd.Independent(normals_batch_3by2_event_1)\n",
    "print (normals_batch_3by2_event_2)"
   ]
  },
  {
   "cell_type": "code",
   "execution_count": 45,
   "metadata": {},
   "outputs": [
    {
     "data": {
      "text/plain": [
       "<tf.Tensor: shape=(3,), dtype=float32, numpy=array([-4.1146406e+03, -4.1404624e+00, -2.8378770e+00], dtype=float32)>"
      ]
     },
     "execution_count": 45,
     "metadata": {},
     "output_type": "execute_result"
    }
   ],
   "source": [
    "# Evaluate log_prob\n",
    "\n",
    "normals_batch_3by2_event_2.log_prob(value=[[-10.,10.],\n",
    "                                           [100.,100.],\n",
    "                                           [1.,1.]])"
   ]
  },
  {
   "cell_type": "code",
   "execution_count": 48,
   "metadata": {},
   "outputs": [
    {
     "name": "stdout",
     "output_type": "stream",
     "text": [
      "tfp.distributions.Independent(\"IndependentNormal\", batch_shape=[], event_shape=[3, 2], dtype=float32)\n"
     ]
    }
   ],
   "source": [
    "# Can reinterpret _all_ batch dimensions as event dimensions\n",
    "\n",
    "normals_batch_3by2_event_3by2 = tfd.Independent(normals_batch_3by2_event_1,reinterpreted_batch_ndims=2)\n",
    "print (normals_batch_3by2_event_3by2)"
   ]
  },
  {
   "cell_type": "code",
   "execution_count": 49,
   "metadata": {},
   "outputs": [
    {
     "data": {
      "text/plain": [
       "<tf.Tensor: shape=(), dtype=float32, numpy=-4121.619>"
      ]
     },
     "execution_count": 49,
     "metadata": {},
     "output_type": "execute_result"
    }
   ],
   "source": [
    "# Take log_probs \n",
    "\n",
    "normals_batch_3by2_event_3by2.log_prob(value=[[-10.,10.],\n",
    "                                           [100.,100.],\n",
    "                                           [1.,1.]])"
   ]
  },
  {
   "cell_type": "markdown",
   "metadata": {},
   "source": [
    "#### Using `Independent` to build a Naive Bayes classifier"
   ]
  },
  {
   "cell_type": "markdown",
   "metadata": {},
   "source": [
    "#### Introduction to `newsgroups` data set"
   ]
  },
  {
   "cell_type": "markdown",
   "metadata": {},
   "source": [
    "In this tutorial, just load the dataset, fetch train/test splits, probably choose a subset of the data.\n",
    "\n",
    "Construct the class conditional feature distribution (with Independent, using the Naive Bayes assumption) and sample from it.\n",
    "\n",
    "We can just use the ML estimates for parameters, in later tutorials we will learn them."
   ]
  },
  {
   "cell_type": "code",
   "execution_count": 51,
   "metadata": {},
   "outputs": [],
   "source": [
    "# Convenience function for retrieving the 20 newsgroups data set\n",
    "\n",
    "# Usenet was a forerunner to modern internet forums\n",
    "# Users could post and read articles\n",
    "# Newsgroup corresponded to a topic\n",
    "# Example topics in this data set: IBM computer hardware, baseball\n",
    "# Our objective is to use an article's contents to predict its newsgroup,\n",
    "# a 20-class classification problem.\n",
    "\n",
    "# 18000 newsgroups, posts on 20 topics\n",
    "from sklearn.datasets import fetch_20newsgroups\n",
    "from sklearn.feature_extraction.text import CountVectorizer\n"
   ]
  },
  {
   "cell_type": "code",
   "execution_count": 59,
   "metadata": {},
   "outputs": [],
   "source": [
    "# Get the train data\n",
    "\n",
    "newsgroups_data = fetch_20newsgroups(data_home='20_News_dataset/',subset='train')"
   ]
  },
  {
   "cell_type": "code",
   "execution_count": 60,
   "metadata": {},
   "outputs": [
    {
     "name": "stdout",
     "output_type": "stream",
     "text": [
      ".. _20newsgroups_dataset:\n",
      "\n",
      "The 20 newsgroups text dataset\n",
      "------------------------------\n",
      "\n",
      "The 20 newsgroups dataset comprises around 18000 newsgroups posts on\n",
      "20 topics split in two subsets: one for training (or development)\n",
      "and the other one for testing (or for performance evaluation). The split\n",
      "between the train and test set is based upon a messages posted before\n",
      "and after a specific date.\n",
      "\n",
      "This module contains two loaders. The first one,\n",
      ":func:`sklearn.datasets.fetch_20newsgroups`,\n",
      "returns a list of the raw texts that can be fed to text feature\n",
      "extractors such as :class:`sklearn.feature_extraction.text.CountVectorizer`\n",
      "with custom parameters so as to extract feature vectors.\n",
      "The second one, :func:`sklearn.datasets.fetch_20newsgroups_vectorized`,\n",
      "returns ready-to-use features, i.e., it is not necessary to use a feature\n",
      "extractor.\n",
      "\n",
      "**Data Set Characteristics:**\n",
      "\n",
      "    =================   ==========\n",
      "    Classes                     20\n",
      "    Samples total            18846\n",
      "    Dimensionality               1\n",
      "    Features                  text\n",
      "    =================   ==========\n",
      "\n",
      "Usage\n",
      "~~~~~\n",
      "\n",
      "The :func:`sklearn.datasets.fetch_20newsgroups` function is a data\n",
      "fetching / caching functions that downloads the data archive from\n",
      "the original `20 newsgroups website`_, extracts the archive contents\n",
      "in the ``~/scikit_learn_data/20news_home`` folder and calls the\n",
      ":func:`sklearn.datasets.load_files` on either the training or\n",
      "testing set folder, or both of them::\n",
      "\n",
      "  >>> from sklearn.datasets import fetch_20newsgroups\n",
      "  >>> newsgroups_train = fetch_20newsgroups(subset='train')\n",
      "\n",
      "  >>> from pprint import pprint\n",
      "  >>> pprint(list(newsgroups_train.target_names))\n",
      "  ['alt.atheism',\n",
      "   'comp.graphics',\n",
      "   'comp.os.ms-windows.misc',\n",
      "   'comp.sys.ibm.pc.hardware',\n",
      "   'comp.sys.mac.hardware',\n",
      "   'comp.windows.x',\n",
      "   'misc.forsale',\n",
      "   'rec.autos',\n",
      "   'rec.motorcycles',\n",
      "   'rec.sport.baseball',\n",
      "   'rec.sport.hockey',\n",
      "   'sci.crypt',\n",
      "   'sci.electronics',\n",
      "   'sci.med',\n",
      "   'sci.space',\n",
      "   'soc.religion.christian',\n",
      "   'talk.politics.guns',\n",
      "   'talk.politics.mideast',\n",
      "   'talk.politics.misc',\n",
      "   'talk.religion.misc']\n",
      "\n",
      "The real data lies in the ``filenames`` and ``target`` attributes. The target\n",
      "attribute is the integer index of the category::\n",
      "\n",
      "  >>> newsgroups_train.filenames.shape\n",
      "  (11314,)\n",
      "  >>> newsgroups_train.target.shape\n",
      "  (11314,)\n",
      "  >>> newsgroups_train.target[:10]\n",
      "  array([ 7,  4,  4,  1, 14, 16, 13,  3,  2,  4])\n",
      "\n",
      "It is possible to load only a sub-selection of the categories by passing the\n",
      "list of the categories to load to the\n",
      ":func:`sklearn.datasets.fetch_20newsgroups` function::\n",
      "\n",
      "  >>> cats = ['alt.atheism', 'sci.space']\n",
      "  >>> newsgroups_train = fetch_20newsgroups(subset='train', categories=cats)\n",
      "\n",
      "  >>> list(newsgroups_train.target_names)\n",
      "  ['alt.atheism', 'sci.space']\n",
      "  >>> newsgroups_train.filenames.shape\n",
      "  (1073,)\n",
      "  >>> newsgroups_train.target.shape\n",
      "  (1073,)\n",
      "  >>> newsgroups_train.target[:10]\n",
      "  array([0, 1, 1, 1, 0, 1, 1, 0, 0, 0])\n",
      "\n",
      "Converting text to vectors\n",
      "~~~~~~~~~~~~~~~~~~~~~~~~~~\n",
      "\n",
      "In order to feed predictive or clustering models with the text data,\n",
      "one first need to turn the text into vectors of numerical values suitable\n",
      "for statistical analysis. This can be achieved with the utilities of the\n",
      "``sklearn.feature_extraction.text`` as demonstrated in the following\n",
      "example that extract `TF-IDF`_ vectors of unigram tokens\n",
      "from a subset of 20news::\n",
      "\n",
      "  >>> from sklearn.feature_extraction.text import TfidfVectorizer\n",
      "  >>> categories = ['alt.atheism', 'talk.religion.misc',\n",
      "  ...               'comp.graphics', 'sci.space']\n",
      "  >>> newsgroups_train = fetch_20newsgroups(subset='train',\n",
      "  ...                                       categories=categories)\n",
      "  >>> vectorizer = TfidfVectorizer()\n",
      "  >>> vectors = vectorizer.fit_transform(newsgroups_train.data)\n",
      "  >>> vectors.shape\n",
      "  (2034, 34118)\n",
      "\n",
      "The extracted TF-IDF vectors are very sparse, with an average of 159 non-zero\n",
      "components by sample in a more than 30000-dimensional space\n",
      "(less than .5% non-zero features)::\n",
      "\n",
      "  >>> vectors.nnz / float(vectors.shape[0])\n",
      "  159.01327...\n",
      "\n",
      ":func:`sklearn.datasets.fetch_20newsgroups_vectorized` is a function which \n",
      "returns ready-to-use token counts features instead of file names.\n",
      "\n",
      ".. _`20 newsgroups website`: http://people.csail.mit.edu/jrennie/20Newsgroups/\n",
      ".. _`TF-IDF`: https://en.wikipedia.org/wiki/Tf-idf\n",
      "\n",
      "\n",
      "Filtering text for more realistic training\n",
      "~~~~~~~~~~~~~~~~~~~~~~~~~~~~~~~~~~~~~~~~~~\n",
      "\n",
      "It is easy for a classifier to overfit on particular things that appear in the\n",
      "20 Newsgroups data, such as newsgroup headers. Many classifiers achieve very\n",
      "high F-scores, but their results would not generalize to other documents that\n",
      "aren't from this window of time.\n",
      "\n",
      "For example, let's look at the results of a multinomial Naive Bayes classifier,\n",
      "which is fast to train and achieves a decent F-score::\n",
      "\n",
      "  >>> from sklearn.naive_bayes import MultinomialNB\n",
      "  >>> from sklearn import metrics\n",
      "  >>> newsgroups_test = fetch_20newsgroups(subset='test',\n",
      "  ...                                      categories=categories)\n",
      "  >>> vectors_test = vectorizer.transform(newsgroups_test.data)\n",
      "  >>> clf = MultinomialNB(alpha=.01)\n",
      "  >>> clf.fit(vectors, newsgroups_train.target)\n",
      "  MultinomialNB(alpha=0.01, class_prior=None, fit_prior=True)\n",
      "\n",
      "  >>> pred = clf.predict(vectors_test)\n",
      "  >>> metrics.f1_score(newsgroups_test.target, pred, average='macro')\n",
      "  0.88213...\n",
      "\n",
      "(The example :ref:`sphx_glr_auto_examples_text_plot_document_classification_20newsgroups.py` shuffles\n",
      "the training and test data, instead of segmenting by time, and in that case\n",
      "multinomial Naive Bayes gets a much higher F-score of 0.88. Are you suspicious\n",
      "yet of what's going on inside this classifier?)\n",
      "\n",
      "Let's take a look at what the most informative features are:\n",
      "\n",
      "  >>> import numpy as np\n",
      "  >>> def show_top10(classifier, vectorizer, categories):\n",
      "  ...     feature_names = np.asarray(vectorizer.get_feature_names())\n",
      "  ...     for i, category in enumerate(categories):\n",
      "  ...         top10 = np.argsort(classifier.coef_[i])[-10:]\n",
      "  ...         print(\"%s: %s\" % (category, \" \".join(feature_names[top10])))\n",
      "  ...\n",
      "  >>> show_top10(clf, vectorizer, newsgroups_train.target_names)\n",
      "  alt.atheism: edu it and in you that is of to the\n",
      "  comp.graphics: edu in graphics it is for and of to the\n",
      "  sci.space: edu it that is in and space to of the\n",
      "  talk.religion.misc: not it you in is that and to of the\n",
      "\n",
      "\n",
      "You can now see many things that these features have overfit to:\n",
      "\n",
      "- Almost every group is distinguished by whether headers such as\n",
      "  ``NNTP-Posting-Host:`` and ``Distribution:`` appear more or less often.\n",
      "- Another significant feature involves whether the sender is affiliated with\n",
      "  a university, as indicated either by their headers or their signature.\n",
      "- The word \"article\" is a significant feature, based on how often people quote\n",
      "  previous posts like this: \"In article [article ID], [name] <[e-mail address]>\n",
      "  wrote:\"\n",
      "- Other features match the names and e-mail addresses of particular people who\n",
      "  were posting at the time.\n",
      "\n",
      "With such an abundance of clues that distinguish newsgroups, the classifiers\n",
      "barely have to identify topics from text at all, and they all perform at the\n",
      "same high level.\n",
      "\n",
      "For this reason, the functions that load 20 Newsgroups data provide a\n",
      "parameter called **remove**, telling it what kinds of information to strip out\n",
      "of each file. **remove** should be a tuple containing any subset of\n",
      "``('headers', 'footers', 'quotes')``, telling it to remove headers, signature\n",
      "blocks, and quotation blocks respectively.\n",
      "\n",
      "  >>> newsgroups_test = fetch_20newsgroups(subset='test',\n",
      "  ...                                      remove=('headers', 'footers', 'quotes'),\n",
      "  ...                                      categories=categories)\n",
      "  >>> vectors_test = vectorizer.transform(newsgroups_test.data)\n",
      "  >>> pred = clf.predict(vectors_test)\n",
      "  >>> metrics.f1_score(pred, newsgroups_test.target, average='macro')\n",
      "  0.77310...\n",
      "\n",
      "This classifier lost over a lot of its F-score, just because we removed\n",
      "metadata that has little to do with topic classification.\n",
      "It loses even more if we also strip this metadata from the training data:\n",
      "\n",
      "  >>> newsgroups_train = fetch_20newsgroups(subset='train',\n",
      "  ...                                       remove=('headers', 'footers', 'quotes'),\n",
      "  ...                                       categories=categories)\n",
      "  >>> vectors = vectorizer.fit_transform(newsgroups_train.data)\n",
      "  >>> clf = MultinomialNB(alpha=.01)\n",
      "  >>> clf.fit(vectors, newsgroups_train.target)\n",
      "  MultinomialNB(alpha=0.01, class_prior=None, fit_prior=True)\n",
      "\n",
      "  >>> vectors_test = vectorizer.transform(newsgroups_test.data)\n",
      "  >>> pred = clf.predict(vectors_test)\n",
      "  >>> metrics.f1_score(newsgroups_test.target, pred, average='macro')\n",
      "  0.76995...\n",
      "\n",
      "Some other classifiers cope better with this harder version of the task. Try\n",
      "running :ref:`sphx_glr_auto_examples_model_selection_grid_search_text_feature_extraction.py` with and without\n",
      "the ``--filter`` option to compare the results.\n",
      "\n",
      ".. topic:: Recommendation\n",
      "\n",
      "  When evaluating text classifiers on the 20 Newsgroups data, you\n",
      "  should strip newsgroup-related metadata. In scikit-learn, you can do this by\n",
      "  setting ``remove=('headers', 'footers', 'quotes')``. The F-score will be\n",
      "  lower because it is more realistic.\n",
      "\n",
      ".. topic:: Examples\n",
      "\n",
      "   * :ref:`sphx_glr_auto_examples_model_selection_grid_search_text_feature_extraction.py`\n",
      "\n",
      "   * :ref:`sphx_glr_auto_examples_text_plot_document_classification_20newsgroups.py`\n",
      "\n"
     ]
    }
   ],
   "source": [
    "# More information about the data set\n",
    "\n",
    "print (newsgroups_data['DESCR'])"
   ]
  },
  {
   "cell_type": "code",
   "execution_count": 61,
   "metadata": {},
   "outputs": [
    {
     "name": "stdout",
     "output_type": "stream",
     "text": [
      "From: lerxst@wam.umd.edu (where's my thing)\n",
      "Subject: WHAT car is this!?\n",
      "Nntp-Posting-Host: rac3.wam.umd.edu\n",
      "Organization: University of Maryland, College Park\n",
      "Lines: 15\n",
      "\n",
      " I was wondering if anyone out there could enlighten me on this car I saw\n",
      "the other day. It was a 2-door sports car, looked to be from the late 60s/\n",
      "early 70s. It was called a Bricklin. The doors were really small. In addition,\n",
      "the front bumper was separate from the rest of the body. This is \n",
      "all I know. If anyone can tellme a model name, engine specs, years\n",
      "of production, where this car is made, history, or whatever info you\n",
      "have on this funky looking car, please e-mail.\n",
      "\n",
      "Thanks,\n",
      "- IL\n",
      "   ---- brought to you by your neighborhood Lerxst ----\n",
      "\n",
      "\n",
      "\n",
      "\n",
      "\n"
     ]
    }
   ],
   "source": [
    "# Example article\n",
    "\n",
    "print (newsgroup_data['data'][0])"
   ]
  },
  {
   "cell_type": "code",
   "execution_count": 62,
   "metadata": {},
   "outputs": [
    {
     "data": {
      "text/plain": [
       "7"
      ]
     },
     "execution_count": 62,
     "metadata": {},
     "output_type": "execute_result"
    }
   ],
   "source": [
    "# Associated label\n",
    "\n",
    "newsgroups_data['target'][0]"
   ]
  },
  {
   "cell_type": "code",
   "execution_count": 63,
   "metadata": {},
   "outputs": [
    {
     "data": {
      "text/plain": [
       "3"
      ]
     },
     "execution_count": 63,
     "metadata": {},
     "output_type": "execute_result"
    }
   ],
   "source": [
    "# Name of label\n",
    "\n",
    "newsgroups_data['target'][7]"
   ]
  },
  {
   "cell_type": "code",
   "execution_count": 64,
   "metadata": {},
   "outputs": [],
   "source": [
    "# Preprocessing boilerplate\n",
    "\n",
    "n_documents = len(newsgroups_data['data'])\n",
    "\n",
    "count_vectorizer = CountVectorizer(input='content', binary=True,\n",
    "                                   max_df=0.25, min_df=1.01/n_documents) # ignore common words, words that appear once\n",
    "binary_bag_of_words = count_vectorizer.fit_transform(newsgroups_data['data']) # input is a list of strings\n"
   ]
  },
  {
   "cell_type": "code",
   "execution_count": 65,
   "metadata": {},
   "outputs": [
    {
     "data": {
      "text/plain": [
       "(11314, 56365)"
      ]
     },
     "execution_count": 65,
     "metadata": {},
     "output_type": "execute_result"
    }
   ],
   "source": [
    "# Check shape\n",
    "\n",
    "binary_bag_of_words.shape"
   ]
  },
  {
   "cell_type": "code",
   "execution_count": 66,
   "metadata": {},
   "outputs": [
    {
     "data": {
      "text/plain": [
       "[array(['lerxst', 'wam', 'umd', 'where', 'thing', 'car', 'rac3',\n",
       "        'maryland', 'college', 'park', '15', 'wondering', 'anyone',\n",
       "        'could', 'enlighten', 'saw', 'day', 'door', 'sports', 'looked',\n",
       "        'late', '60s', 'early', '70s', 'called', 'bricklin', 'doors',\n",
       "        'were', 'really', 'small', 'addition', 'front', 'bumper',\n",
       "        'separate', 'rest', 'body', 'tellme', 'model', 'name', 'engine',\n",
       "        'specs', 'years', 'production', 'made', 'history', 'whatever',\n",
       "        'info', 'funky', 'looking', 'please', 'mail', 'thanks', 'il',\n",
       "        'brought', 'neighborhood'], dtype='<U80')]"
      ]
     },
     "execution_count": 66,
     "metadata": {},
     "output_type": "execute_result"
    }
   ],
   "source": [
    "# Check that the fit has been successful\n",
    "\n",
    "count_vectorizer.inverse_transform(binary_bag_of_words[0,:])"
   ]
  },
  {
   "cell_type": "code",
   "execution_count": 67,
   "metadata": {},
   "outputs": [],
   "source": [
    "# Dict that will be useful later \n",
    "\n",
    "inv_vocabulary = {value:key for key, value in count_vectorizer.vocabulary_.items()}"
   ]
  },
  {
   "cell_type": "markdown",
   "metadata": {},
   "source": [
    "#### A Naive Bayes classifier for `newsgroup`"
   ]
  },
  {
   "cell_type": "markdown",
   "metadata": {},
   "source": [
    "Each feature vector $x$ is a list of indicators for whether a word appears in the article. $x_i$ is 1 if the $i$th word appears, and 0 otherwise. `inv_vocabulary` matches word indices $i$ to words.\n",
    "\n",
    "Each label $y$ is a value in $0, 1, \\ldots, 19$.\n",
    "\n",
    "The parts of a naive Bayes classifier for this problem can be summarised as:  \n",
    "\n",
    "\n",
    "- A probability distribution for the feature vector by class, $p(x|y = j)$ for each $j = 0, 1, \\ldots, 19$. These probability distributions are assumed to have independent components: we can factorize the joint probability as a product of marginal probabilities\n",
    "\\begin{equation}\n",
    "    p(x|y = j) = \\prod_{i=1}^d p(x_i|y = j)\n",
    "\\end{equation}\n",
    "These marginal probability distributions are Bernoulli distributions, each of which has a single parameter $\\theta_{ji} := p(x_i = 1|y = j)$. This parameter is the probability of observing word $i$ in an article of class $j$. \n",
    "\n",
    "- We will use the Laplace smoothed maximum likelihood estimate to compute these parameters. Laplace smoothing involves adding small counts to every feature for each class. Else, if a feature did not appear in the training set of a class, but then we observed it in our test data the log probability would be undefined.\n",
    "\n",
    "- A collection of class prior probabilities $p(y = j)$. These will be set by computing the class base rates in the training set.  \n",
    "\n",
    "\n",
    "- A function for computing the probability of class membership via Bayes' theorem:  \n",
    "\n",
    "\\begin{equation}\n",
    "    p(y = j|x) = \\frac{p(x|y = j)p(y = j)}{p(x)}\n",
    "\\end{equation}"
   ]
  },
  {
   "cell_type": "code",
   "execution_count": 68,
   "metadata": {},
   "outputs": [],
   "source": [
    "# Compute the parameter estimates (adjusted fraction of documents in class that contain word)\n",
    "\n",
    "n_classes = newsgroups_data['target'].max() + 1\n",
    "y = newsgroups_data['target']\n",
    "n_words = binary_bag_of_words.shape[1]\n",
    "\n",
    "alpha = 1e-6 # parameters for Laplace smoothing\n",
    "\n",
    "theta = np.zeros([n_classes, n_words]) # stores parameter values - prob. word given class\n",
    "for c_k in range(n_classes): # 0, 1, ..., 19\n",
    "    class_mask = (y == c_k)\n",
    "    N = class_mask.sum() # number of articles in class\n",
    "    theta[c_k, :] = (binary_bag_of_words[class_mask, :].sum(axis=0) + alpha)/(N + alpha*2)"
   ]
  },
  {
   "cell_type": "code",
   "execution_count": 69,
   "metadata": {},
   "outputs": [
    {
     "name": "stdout",
     "output_type": "stream",
     "text": [
      "Most probable word in class alt.atheism is \"people\".\n",
      "Most probable word in class comp.graphics is \"graphics\".\n",
      "Most probable word in class comp.os.ms-windows.misc is \"windows\".\n",
      "Most probable word in class comp.sys.ibm.pc.hardware is \"thanks\".\n",
      "Most probable word in class comp.sys.mac.hardware is \"mac\".\n",
      "Most probable word in class comp.windows.x is \"window\".\n",
      "Most probable word in class misc.forsale is \"sale\".\n",
      "Most probable word in class rec.autos is \"car\".\n",
      "Most probable word in class rec.motorcycles is \"dod\".\n",
      "Most probable word in class rec.sport.baseball is \"he\".\n",
      "Most probable word in class rec.sport.hockey is \"ca\".\n",
      "Most probable word in class sci.crypt is \"clipper\".\n",
      "Most probable word in class sci.electronics is \"use\".\n",
      "Most probable word in class sci.med is \"reply\".\n",
      "Most probable word in class sci.space is \"space\".\n",
      "Most probable word in class soc.religion.christian is \"god\".\n",
      "Most probable word in class talk.politics.guns is \"people\".\n",
      "Most probable word in class talk.politics.mideast is \"people\".\n",
      "Most probable word in class talk.politics.misc is \"people\".\n",
      "Most probable word in class talk.religion.misc is \"he\".\n"
     ]
    }
   ],
   "source": [
    "# Check whether the most probable word in each class is reasonable\n",
    "\n",
    "most_probable_word_ix = theta.argmax(axis=1) # most probable word for each class\n",
    "\n",
    "for j, ix in enumerate(most_probable_word_ix):\n",
    "    print('Most probable word in class {} is \"{}\".'.format(newsgroups_data['target_names'][j],\n",
    "                                                           inv_vocabulary[ix]))"
   ]
  },
  {
   "cell_type": "code",
   "execution_count": 70,
   "metadata": {},
   "outputs": [
    {
     "name": "stdout",
     "output_type": "stream",
     "text": [
      "tfp.distributions.Independent(\"IndependentBernoulli\", batch_shape=[20], event_shape=[56365], dtype=int32)\n"
     ]
    }
   ],
   "source": [
    "# Define a distribution for each class\n",
    "\n",
    "batch_of_bernoullis = tfd.Bernoulli(probs=theta)\n",
    "p_x_given_y = tfd.Independent(batch_of_bernoullis, reinterpreted_batch_ndims=1)\n",
    "print (p_x_given_y)"
   ]
  },
  {
   "cell_type": "code",
   "execution_count": 73,
   "metadata": {},
   "outputs": [],
   "source": [
    "# Take a sample of words from each class\n",
    "\n",
    "n_samples = 10\n",
    "samples = p_x_given_y.sample(n_samples)"
   ]
  },
  {
   "cell_type": "code",
   "execution_count": 74,
   "metadata": {},
   "outputs": [
    {
     "data": {
      "text/plain": [
       "'soc.religion.christian'"
      ]
     },
     "execution_count": 74,
     "metadata": {},
     "output_type": "execute_result"
    }
   ],
   "source": [
    "# Choose a class\n",
    "\n",
    "chosen_class = 15\n",
    "newsgroups_data['target_names'][chosen_class]"
   ]
  },
  {
   "cell_type": "code",
   "execution_count": 76,
   "metadata": {},
   "outputs": [
    {
     "data": {
      "text/plain": [
       "<tf.Tensor: shape=(10, 56365), dtype=int32, numpy=\n",
       "array([[0, 0, 0, ..., 0, 0, 0],\n",
       "       [1, 0, 0, ..., 0, 0, 0],\n",
       "       [0, 0, 0, ..., 0, 0, 0],\n",
       "       ...,\n",
       "       [0, 0, 0, ..., 0, 0, 0],\n",
       "       [0, 0, 0, ..., 0, 0, 0],\n",
       "       [0, 0, 0, ..., 0, 0, 0]], dtype=int32)>"
      ]
     },
     "execution_count": 76,
     "metadata": {},
     "output_type": "execute_result"
    }
   ],
   "source": [
    "# Indicators for words that appear in the sample\n",
    "\n",
    "class_sample = samples[:, chosen_class, :]\n",
    "class_sample"
   ]
  },
  {
   "cell_type": "code",
   "execution_count": 77,
   "metadata": {},
   "outputs": [
    {
     "data": {
      "text/plain": [
       "[array(['03', '13', '17', '1993', '47', 'actually', 'add', 'advance',\n",
       "        'agreement', 'along', 'altered', 'angels', 'anyone', 'anyways',\n",
       "        'argument', 'arises', 'augustine', 'been', 'before', 'bless',\n",
       "        'bothers', 'byler', 'call', 'carol', 'challenge', 'choice',\n",
       "        'choices', 'churches', 'civil', 'clh', 'closed', 'coined',\n",
       "        'contains', 'could', 'croats', 'dcs', 'dec', 'definitely',\n",
       "        'definition', 'depends', 'dislike', 'error', 'etc', 'even',\n",
       "        'excommunication', 'fact', 'faith', 'far', 'feels', 'first',\n",
       "        'forcing', 'gave', 'god', 'granted', 'hear', 'him', 'hug',\n",
       "        'identity', 'inc', 'infallible', 'intelligibly', 'interest',\n",
       "        'interesting', 'invoke', 'jack', 'jesus', 'john', 'knowledge',\n",
       "        'languages', 'large', 'last', 'little', 'made', 'most', 'murray',\n",
       "        'nature', 'net', 'newsgroup', 'note', 'now', 'nut', 'oh', 'once',\n",
       "        'palastine', 'paul', 'people', 'perpetual', 'places', 'point',\n",
       "        'prefer', 'preferences', 'raised', 'redwoods', 'related',\n",
       "        'relevance', 'religion', 'religious', 'removing', 'repeating',\n",
       "        'rutgers', 'sacrafice', 'should', 'sky', 'sooner', 'specifically',\n",
       "        'still', 'suspect', 'their', 'them', 'then', 'theology', 'these',\n",
       "        'things', 'though', 'thus', 'too', 'truely', 'truths', 'types',\n",
       "        'uk', 'upcoming', 'usually', 'walls', 'way', 'week', 'well',\n",
       "        'were', 'whose', 'wish', 'wittgenstein', 'writing'], dtype='<U80'),\n",
       " array(['00', '33', '4423', 'acs', 'act', 'added', 'adoption', 'already',\n",
       "        'am', 'andy', 'appeared', 'around', 'ask', 'assembling', 'attend',\n",
       "        'away', 'because', 'been', 'being', 'best', 'biblical', 'big',\n",
       "        'blood', 'born', 'cause', 'choices', 'christian', 'condemn',\n",
       "        'consistent', 'consists', 'cor', 'cultural', 'deciphered',\n",
       "        'definitely', 'determinations', 'did', 'dn', 'doesn', 'dramatic',\n",
       "        'earth', 'emeritus', 'engineer', 'engineering', 'english',\n",
       "        'entire', 'every', 'exactly', 'existence', 'father', 'fear',\n",
       "        'field', 'find', 'free', 'geneva', 'given', 'god', 'godly', 'good',\n",
       "        'heaven', 'his', 'however', 'hubris', 'huntsville', 'immediately',\n",
       "        'indeed', 'institution', 'interchangeable', 'into', 'involved',\n",
       "        'joe', 'least', 'maarten', 'making', 'many', 'marty', 'matter',\n",
       "        'means', 'mentions', 'message', 'mexico', 'might', 'mistake',\n",
       "        'new', 'nine', 'nor', 'noyes', 'operates', 'parties', 'people',\n",
       "        'pink', 'possible', 'powers', 'price', 'problem', 'purification',\n",
       "        'questions', 'rc', 'reader', 'realize', 'reformed', 'religions',\n",
       "        'religious', 'replies', 'result', 'robertson', 'said', 'say',\n",
       "        'school', 'seminary', 'sin', 'site', 'soc', 'sold', 'something',\n",
       "        'specifically', 'sphere', 'square', 'step', 'stuff', 'tar',\n",
       "        'tears', 'themselves', 'these', 'thought', 'turn', 'two', 'until',\n",
       "        'uses', 'velasco', 'vienna', 'warning', 'went', 'wether', 'where',\n",
       "        'whom', 'work'], dtype='<U80'),\n",
       " array(['15', '19', '36', '3755', '40', '714', 'after', 'allow', 'along',\n",
       "        'answered', 'anything', 'apr', 'based', 'believe', 'betrayal',\n",
       "        'better', 'bgu', 'books', 'called', 'christian', 'commitment',\n",
       "        'compromise', 'consequences', 'conventional', 'cosmogony',\n",
       "        'couples', 'course', 'court', 'dangerous', 'did', 'different',\n",
       "        'difficult', 'disagreements', 'discussion', 'down', 'eating',\n",
       "        'encyclopedia', 'evangelicals', 'even', 'existed', 'explain',\n",
       "        'explanation', 'eyes', 'false', 'far', 'favour', 'fax', 'feeling',\n",
       "        'find', 'foolish', 'fools', 'genesis', 'give', 'god', 'gods',\n",
       "        'gold', 'guess', 'had', 'happened', 'having', 'hayesstw', 'he',\n",
       "        'hollywood', 'idea', 'idly', 'immoral', 'impact', 'information',\n",
       "        'into', 'jennifer', 'jon', 'july', 'kulikauskas', 'large',\n",
       "        'lewisburg', 'liberal', 'longer', 'malcusco', 'mark', 'matthew',\n",
       "        'may', 'maybe', 'model', 'moderator', 'moral', 'mot', 'mystery',\n",
       "        'newsgroup', 'next', 'occurances', 'offshoots', 'old', 'our',\n",
       "        'own', 'parent', 'passed', 'people', 'plunged', 'practicing',\n",
       "        'probably', 'question', 'rather', 'read', 'really', 'refers',\n",
       "        'reid', 'respect', 'school', 'science', 'scriptures', 'seeing',\n",
       "        'showed', 'somehow', 'spend', 'study', 'subjective', 'susceptible',\n",
       "        'suspect', 'take', 'these', 'thinker', 'those', 'though', 'titled',\n",
       "        'trying', 'umd', 'un', 'untruth', 'vanity', 'various', 'were',\n",
       "        'where', 'wife', 'without', 'working', 'wouldn'], dtype='<U80'),\n",
       " array(['00', '01', '02', '1835', '30', '38', '706', 'above', 'acns',\n",
       "        'adam', 'address', 'aimed', 'allow', 'allows', 'always', 'animals',\n",
       "        'appears', 'approaches', 'apr', 'aramaic', 'around', 'atheists',\n",
       "        'authority', 'bad', 'become', 'been', 'believe', 'better', 'build',\n",
       "        'buy', 'cannot', 'carpenter', 'certain', 'christmas', 'church',\n",
       "        'clearest', 'comes', 'committed', 'common', 'complete',\n",
       "        'considered', 'correct', 'could', 'course', 'dawned', 'dept',\n",
       "        'detailed', 'disclaimer', 'discussion', 'done', 'druids',\n",
       "        'emphasized', 'encounters', 'engineering', 'escape', 'ethiopians',\n",
       "        'explained', 'far', 'favor', 'feast', 'field', 'finally', 'find',\n",
       "        'following', 'fundamentalism', 'games', 'given', 'gospel',\n",
       "        'gratuitous', 'great', 'hale', 'hate', 'he', 'heaven', 'him',\n",
       "        'honor', 'idea', 'impact', 'implications', 'including',\n",
       "        'individual', 'into', 'ironic', 'issue', 'jean', 'keep', 'law',\n",
       "        'least', 'local', 'logos', 'lord', 'makes', 'many', 'masonry',\n",
       "        'mean', 'messiah', 'mot', 'murphy', 'note', 'now', 'offsprings',\n",
       "        'once', 'oriental', 'over', 'own', 'place', 'position', 'pressed',\n",
       "        'proclaiming', 'props', 'quebec', 'question', 'quotations',\n",
       "        'raised', 'read', 'really', 'reasonable', 'reedr', 'repeated',\n",
       "        'responsibility', 'right', 'run', 'say', 'scourging', 'scriptures',\n",
       "        'seems', 'seen', 'shallow', 'shares', 'she', 'shintoism', 'should',\n",
       "        'show', 'shows', 'sift', 'someone', 'statement', 'such', 'suggest',\n",
       "        'sun075', 'sword', 'terlep', 'terribly', 'texas', 'than', 'them',\n",
       "        'third', 'though', 'through', 'timothy', 'too', 'tree', 'truth',\n",
       "        'until', 'us', 'use', 'used', 'while', 'wills', 'word', 'work',\n",
       "        'wrong', 'yes', 'young', 'yourself'], dtype='<U80'),\n",
       " array(['02', '100', '12', '147', '392', '44', 'aa888', 'absent',\n",
       "        'absolutely', 'actual', 'afterward', 'again', 'agony', 'always',\n",
       "        'answer', 'answers', 'anything', 'anyway', 'appears', 'ashley',\n",
       "        'ask', 'augustine', 'away', 'been', 'being', 'beyond', 'bring',\n",
       "        'brownli', 'byler', 'ca', 'called', 'canceled', 'clarify', 'comes',\n",
       "        'con', 'consulting', 'cossack', 'day', 'days', 'desperately',\n",
       "        'different', 'discussed', 'doctrine', 'dying', 'easy',\n",
       "        'ecclesiastes', 'ending', 'engineering', 'equally', 'ever',\n",
       "        'example', 'excommunicated', 'experience', 'faith', 'false',\n",
       "        'familiar', 'first', 'foolish', 'forever', 'general', 'god',\n",
       "        'group', 'gvg47', 'he', 'heartily', 'hebrew', 'henling', 'highly',\n",
       "        'him', 'hung', 'hut', 'imagine', 'implications', 'instead',\n",
       "        'intricate', 'ironic', 'its', 'iv', 'jayne', 'last', 'least',\n",
       "        'leave', 'less', 'let', 'live', 'lord', 'made', 'major', 'manner',\n",
       "        'may', 'meant', 'members', 'michael', 'mindlink', 'minimize', 'mt',\n",
       "        'nature', 'near', 'necessarily', 'nothing', 'nrsv', 'ns', 'nt',\n",
       "        'number', 'obviously', 'ohio', 'once', 'orthodox', 'our', 'parish',\n",
       "        'pauline', 'people', 'peter', 'placed', 'private', 'quite', 'real',\n",
       "        'really', 'realm', 'reason', 'reasonable', 'redeem', 'reference',\n",
       "        'replies', 'represents', 'require', 'right', 'rise', 'romans',\n",
       "        'said', 'save', 'seating', 'should', 'signs', 'solution', 'ssf',\n",
       "        'strict', 'strive', 'sympathy', 'take', 'talent', 'tell', 'their',\n",
       "        'them', 'these', 'tion', 'total', 'true', 'unlike', 'unto', 'us',\n",
       "        'uses', 'usual', 'value', 'whether'], dtype='<U80'),\n",
       " array(['10', '11', '17', '20', '23', '2nd', '34', '93', 'adoption',\n",
       "        'affect', 'agree', 'also', 'always', 'am', 'analogy', 'answer',\n",
       "        'anything', 'argument', 'athos', 'atmosphere', 'being',\n",
       "        'believers', 'bits', 'ca', 'carefully', 'catholic', 'changes',\n",
       "        'charles', 'chose', 'christ', 'claim', 'coming', 'completely',\n",
       "        'considered', 'could', 'created', 'crete', 'criticizing',\n",
       "        'determine', 'devastation', 'devoted', 'doesn', 'down', 'due',\n",
       "        'e_p', 'ecn', 'english', 'entire', 'explain', 'fearing', 'female',\n",
       "        'finds', 'focus', 'fragmentary', 'fundies', 'g41', 'geneva',\n",
       "        'gives', 'godhead', 'good', 'gospel', 'graduate', 'grow', 'having',\n",
       "        'he', 'hellbound', 'her', 'holidays', 'however', 'humanity',\n",
       "        'james', 'jesus', 'later', 'least', 'less', 'lincoln', 'longest',\n",
       "        'looks', 'lutheran', 'mail', 'man', 'many', 'masses', 'may',\n",
       "        'maybe', 'might', 'months', 'most', 'name', 'nervously', 'newton',\n",
       "        'none', 'note', 'once', 'original', 'our', 'parents', 'particular',\n",
       "        'people', 'person', 'personal', 'perspective', 'philosophy',\n",
       "        'planet', 'posts', 'practicing', 'pre', 'preserve', 'prevalent',\n",
       "        'psalmist', 'psi', 'quite', 'quotation', 'rather', 'realible',\n",
       "        'reasoning', 'resurection', 'resurrection', 'running', 'said',\n",
       "        'scripture', 'seeing', 'similar', 'son', 'spiritually', 'suspect',\n",
       "        'temper', 'their', 'them', 'things', 'thinking', 'thorough',\n",
       "        'though', 'through', 'thus', 'tim', 'time', 'times', 'top',\n",
       "        'trouble', 'turn', 'validity', 'very', 'vows', 'way', 'weeks',\n",
       "        'where', 'whoever', 'wind', 'witness', 'won', 'word', 'years'],\n",
       "       dtype='<U80'),\n",
       " array(['18', 'absurdity', 'accordance', 'accusing', 'acts', 'alt',\n",
       "        'altogether', 'answers', 'antti', 'appears', 'arrogance',\n",
       "        'arrogant', 'asking', 'assimilation', 'attempting', 'away', 'aziz',\n",
       "        'back', 'been', 'before', 'being', 'both', 'brings', 'caralv',\n",
       "        'cast', 'christian', 'claims', 'clh', 'coming', 'conversation',\n",
       "        'could', 'covenant', 'criminal', 'crowd', 'db7n', 'dead', 'decide',\n",
       "        'decided', 'descriptions', 'development', 'didn', 'died',\n",
       "        'differences', 'discussed', 'dsu', 'earth', 'end', 'endowed',\n",
       "        'entitled', 'eternal', 'exists', 'fad', 'fall', 'few', 'freenet',\n",
       "        'french', 'game', 'general', 'gov', 'guess', 'happened', 'hard',\n",
       "        'he', 'his', 'hudson', 'impersonal', 'important', 'innocence',\n",
       "        'intention', 'into', 'island', 'itself', 'jek', 'jewish', 'kjv',\n",
       "        'known', 'large', 'larry', 'larsen', 'life', 'ling', 'little',\n",
       "        'made', 'mateo', 'may', 'maybe', 'mean', 'means', 'mi', 'midway',\n",
       "        'minds', 'mine', 'months', 'moody', 'moral', 'most', 'must',\n",
       "        'mutuality', 'necessitates', 'notes', 'palms', 'part', 'parting',\n",
       "        'paul', 'phoenix', 'places', 'possibly', 'preached', 'pride',\n",
       "        'protestant', 'questions', 'read', 'receive', 'recovery',\n",
       "        'reliable', 'remember', 'respect', 'result', 'rudolf', 'rutgers',\n",
       "        'savior', 'sciences', 'scroll', 'services', 'shall', 'should',\n",
       "        'sides', 'sow', 'ssd', 'star', 'sun', 'surrounding', 'than',\n",
       "        'those', 'too', 'tough', 'uga', 'universe', 'unto', 'valuable',\n",
       "        've', 'vela', 'views', 'watch', 'were', 'willing', 'wind', 'world',\n",
       "        'worshipped', 'year'], dtype='<U80'),\n",
       " array(['07', '16', '68', '706', '9760', 'accept', 'across', 'ad',\n",
       "        'address', 'admit', 'alterations', 'another', 'answer',\n",
       "        'anthroposophy', 'apr', 'assures', 'atheists', 'athos', 'audience',\n",
       "        'balance', 'become', 'being', 'believe', 'believes', 'believing',\n",
       "        'bosnia', 'bring', 'brother', 'ca', 'case', 'century', 'change',\n",
       "        'character', 'christian', 'city', 'claremont', 'come', 'comm',\n",
       "        'compsci', 'contrary', 'copy', 'course', 'covington', 'create',\n",
       "        'david', 'discuss', 'earth', 'either', 'else', 'ever', 'fax',\n",
       "        'find', 'foreign', 'forever', 'gamers', 'gay', 'geneva', 'glory',\n",
       "        'go', 'god', 'gods', 'golded', 'good', 'he', 'hebrews', 'hello',\n",
       "        'here', 'holy', 'ideas', 'ideology', 'impossible', 'inside',\n",
       "        'intended', 'intervention', 'isn', 'kulikauskas', 'law', 'least',\n",
       "        'liar', 'life', 'lot', 'make', 'man', 'marched', 'mental', 'mine',\n",
       "        'mmalt', 'most', 'move', 'night', 'nurture', 'old', 'parable',\n",
       "        'paraphrase', 'party', 'past', 'phone', 'place', 'really',\n",
       "        'regards', 'rely', 'remember', 'right', 'rise', 'roboticist',\n",
       "        'rules', 'sciences', 'scientist', 'seem', 'seen', 'shaped',\n",
       "        'should', 'shouldn', 'silver', 'someone', 'son', 'suggested',\n",
       "        'suitable', 'then', 'theologians', 'think', 'throwing', 'time',\n",
       "        'train', 'tried', 'true', 'truth', 'use', 'useless', 'valid',\n",
       "        'view', 'watch', 'why', 'wind', 'without', 'works', 'write',\n",
       "        'wrong', 'wrote'], dtype='<U80'),\n",
       " array(['09', '14', '16', '1993', '2000', '31', 'abstain', 'accepted',\n",
       "        'accurate', 'acs', 'actually', 'already', 'although', 'appointee',\n",
       "        'athena', 'attitude', 'back', 'bad', 'before', 'being', 'big',\n",
       "        'bigelow', 'birds', 'body', 'books', 'born', 'broken', 'caused',\n",
       "        'changes', 'chanted', 'christ', 'christians', 'clh', 'committing',\n",
       "        'conception', 'conflict', 'could', 'country', 'cults', 'cultural',\n",
       "        'daily', 'danger', 'dangers', 'david', 'db7n', 'department',\n",
       "        'depends', 'did', 'die', 'down', 'dynamic', 'especially', 'even',\n",
       "        'exists', 'fault', 'find', 'first', 'fruit', 'gary', 'genocide',\n",
       "        'giving', 'god', 'good', 'grace', 'greek', 'had', 'hand', 'having',\n",
       "        'he', 'here', 'homosexuality', 'intent', 'into', 'jeff', 'jews',\n",
       "        'judgement', 'killed', 'len', 'let', 'life', 'lot', 'make', 'male',\n",
       "        'mark', 'mean', 'meetinsg', 'must', 'nine', 'oil', 'our',\n",
       "        'ourselves', 'pa', 'party', 'paul', 'perhaps', 'poram', 'prayers',\n",
       "        'principles', 'prophet', 'providing', 'questions', 'quiz', 'rate',\n",
       "        'read', 'remains', 'remember', 'reply', 'ridiculous', 'right',\n",
       "        'rose', 'say', 'seals', 'see', 'shut', 'simply', 'situation',\n",
       "        'someone', 'spat', 'specifying', 'start', 'stdisclaimer', 'still',\n",
       "        'super', 'support', 'suspect', 'sysops', 'tend', 'then', 'these',\n",
       "        'thing', 'time', 'tv', 'uncomfortable', 'unfair', 'universe',\n",
       "        'used', 'western', 'why', 'wrong', 'years'], dtype='<U80'),\n",
       " array(['01', '10', '14', '1993', '20', '24', '33', 'able', 'accepting',\n",
       "        'adam', 'ai', 'alone', 'also', 'always', 'among', 'angelino',\n",
       "        'another', 'appreciation', 'apr', 'athos', 'attended', 'author',\n",
       "        'bad', 'became', 'begin', 'beginning', 'beings', 'changes',\n",
       "        'chris', 'christians', 'christopher', 'claim', 'claims',\n",
       "        'columbia', 'confusion', 'deeply', 'destroyed', 'devoted',\n",
       "        'different', 'error', 'especially', 'essays', 'essentially',\n",
       "        'evil', 'examples', 'failed', 'faiths', 'far', 'fax', 'files',\n",
       "        'focused', 'general', 'given', 'god', 'great', 'having', 'he',\n",
       "        'hell', 'his', 'hominem', 'hospital', 'hours', 'however',\n",
       "        'immaculate', 'implications', 'inconspicuous', 'indiana',\n",
       "        'inerrancy', 'instant', 'interject', 'john', 'jw', 'less', 'lewis',\n",
       "        'lmh', 'logic', 'long', 'mind', 'ministry', 'mountains',\n",
       "        'national', 'nih', 'none', 'normal', 'off', 'opinions', 'order',\n",
       "        'our', 'oxymoron', 'parenthood', 'part', 'perfectly', 'personal',\n",
       "        'pilate', 'plural', 'policies', 'present', 'pretense', 'rather',\n",
       "        'rationalizations', 'reading', 'really', 'referee', 'relative',\n",
       "        'research', 'right', 'running', 'saved', 'says', 'see', 'seems',\n",
       "        'selfish', 'sets', 'skidmore', 'son', 'split', 'stops', 'strive',\n",
       "        'stuff', 'successful', 'take', 'tasks', 'tell', 'terribly',\n",
       "        'testament', 'them', 'these', 'things', 'though', 'thrill', 'time',\n",
       "        'times', 'true', 'us', 've', 'very', 'wouldn', 'wrote'],\n",
       "       dtype='<U80')]"
      ]
     },
     "execution_count": 77,
     "metadata": {},
     "output_type": "execute_result"
    }
   ],
   "source": [
    "# Perform inverse transform to test quality of fit\n",
    "\n",
    "count_vectorizer.inverse_transform(class_sample)"
   ]
  },
  {
   "cell_type": "markdown",
   "metadata": {},
   "source": [
    "***\n",
    "<a id='sampling_and_log_probs'></a>\n",
    "## Sampling and log probs"
   ]
  },
  {
   "cell_type": "code",
   "execution_count": 78,
   "metadata": {},
   "outputs": [
    {
     "data": {
      "text/plain": [
       "<tfp.distributions.MultivariateNormalDiag 'MultivariateNormalDiag' batch_shape=[3] event_shape=[2] dtype=float32>"
      ]
     },
     "execution_count": 78,
     "metadata": {},
     "output_type": "execute_result"
    }
   ],
   "source": [
    "# Make Multivariate Distribution\n",
    "\n",
    "normal_distributions = tfd.MultivariateNormalDiag(loc=[[0.5, 1], [0.1, 0], [0, 0.2]],\n",
    "                                 scale_diag=[[2, 3], [1, 3], [4, 4]])\n",
    "normal_distributions"
   ]
  },
  {
   "cell_type": "code",
   "execution_count": 79,
   "metadata": {},
   "outputs": [
    {
     "data": {
      "text/plain": [
       "<tf.Tensor: shape=(5, 3, 2), dtype=float32, numpy=\n",
       "array([[[ 0.5091041 , -0.8445163 ],\n",
       "        [ 0.02850274, -3.0092049 ],\n",
       "        [-0.3974903 , -1.042958  ]],\n",
       "\n",
       "       [[ 0.6262561 ,  5.6087756 ],\n",
       "        [ 1.1215973 ,  1.2328973 ],\n",
       "        [-0.40560484,  3.158251  ]],\n",
       "\n",
       "       [[-0.6722883 , -0.80218244],\n",
       "        [-1.9256128 ,  4.7444983 ],\n",
       "        [-6.2904224 ,  6.5413866 ]],\n",
       "\n",
       "       [[ 0.9676162 ,  1.5398908 ],\n",
       "        [ 0.71216375,  0.40687206],\n",
       "        [-4.891378  ,  5.1315327 ]],\n",
       "\n",
       "       [[ 5.7533975 , -2.2254767 ],\n",
       "        [-1.2845665 ,  3.319007  ],\n",
       "        [ 0.9985346 , -4.582544  ]]], dtype=float32)>"
      ]
     },
     "execution_count": 79,
     "metadata": {},
     "output_type": "execute_result"
    }
   ],
   "source": [
    "# Sample\n",
    "\n",
    "normal_distributions.sample(5)"
   ]
  },
  {
   "cell_type": "code",
   "execution_count": 80,
   "metadata": {},
   "outputs": [
    {
     "data": {
      "text/plain": [
       "<tfp.distributions.MultivariateNormalDiag 'MultivariateNormalDiag' batch_shape=[2, 2] event_shape=[3] dtype=float32>"
      ]
     },
     "execution_count": 80,
     "metadata": {},
     "output_type": "execute_result"
    }
   ],
   "source": [
    "# Multivariate Normal batched Distribution\n",
    "# We are broadcasting batch shapes of `loc` and `scal_diag` \n",
    "# against each other\n",
    "\n",
    "loc = [[[0.3, 1.5, 1.], [0.2, 0.4, 2.8]],\n",
    "        [[2., 2.3, 8], [1.4, 1, 1.3]]]\n",
    "scale_diag = [0.4, 1., 0.7]\n",
    "normal_distributions = tfd.MultivariateNormalDiag(loc=loc, scale_diag=scale_diag)\n",
    "normal_distributions"
   ]
  },
  {
   "cell_type": "code",
   "execution_count": 81,
   "metadata": {},
   "outputs": [
    {
     "name": "stdout",
     "output_type": "stream",
     "text": [
      "tfp.distributions.Independent(\"IndependentMultivariateNormalDiag\", batch_shape=[2], event_shape=[2, 3], dtype=float32)\n"
     ]
    }
   ],
   "source": [
    "# Use independent to move part of the batch shape\n",
    "\n",
    "ind_normal_distributions = tfd.Independent(normal_distributions)\n",
    "print (ind_normal_distributions)"
   ]
  },
  {
   "cell_type": "code",
   "execution_count": 83,
   "metadata": {},
   "outputs": [
    {
     "name": "stdout",
     "output_type": "stream",
     "text": [
      "(5, 2, 2, 3)\n"
     ]
    }
   ],
   "source": [
    "# Draw some samples\n",
    "\n",
    "samples = ind_normal_distributions.sample(5)\n",
    "print (samples.shape)"
   ]
  },
  {
   "cell_type": "code",
   "execution_count": 84,
   "metadata": {},
   "outputs": [
    {
     "name": "stdout",
     "output_type": "stream",
     "text": [
      "tf.Tensor([ -8.763502 -74.403946], shape=(2,), dtype=float32)\n"
     ]
    }
   ],
   "source": [
    "# `[B, E]` shaped input\n",
    "\n",
    "inp = tf.random.uniform((2,2,3))\n",
    "print (ind_normal_distributions.log_prob(inp))"
   ]
  },
  {
   "cell_type": "code",
   "execution_count": 87,
   "metadata": {},
   "outputs": [
    {
     "name": "stdout",
     "output_type": "stream",
     "text": [
      "tf.Tensor([-10.466295 -74.02366 ], shape=(2,), dtype=float32)\n"
     ]
    }
   ],
   "source": [
    "# `[E]` shaped input (broadcasting over batch size)\n",
    "\n",
    "inp = tf.random.uniform((2,3))\n",
    "print (ind_normal_distributions.log_prob(inp))"
   ]
  },
  {
   "cell_type": "code",
   "execution_count": 88,
   "metadata": {},
   "outputs": [
    {
     "name": "stdout",
     "output_type": "stream",
     "text": [
      "tf.Tensor(\n",
      "[[ -9.383299 -79.121544]\n",
      " [-10.946507 -74.29299 ]\n",
      " [ -8.559897 -69.68762 ]\n",
      " [-12.820529 -66.79883 ]\n",
      " [ -9.854922 -74.82528 ]\n",
      " [-12.127155 -75.733574]\n",
      " [-11.824251 -68.90523 ]\n",
      " [-11.961518 -77.626526]\n",
      " [-10.592487 -78.30545 ]], shape=(9, 2), dtype=float32)\n"
     ]
    }
   ],
   "source": [
    "#`[S, B, E]` shaped input (broadcasting over samples)\n",
    "\n",
    "inp = tf.random.uniform((9,2,2,3))\n",
    "print (ind_normal_distributions.log_prob(inp))"
   ]
  },
  {
   "cell_type": "code",
   "execution_count": 91,
   "metadata": {},
   "outputs": [
    {
     "name": "stdout",
     "output_type": "stream",
     "text": [
      "tf.Tensor(\n",
      "[[ -9.102527 -68.08513 ]\n",
      " [-10.051434 -81.062515]\n",
      " [ -9.239349 -64.17423 ]\n",
      " [-11.851111 -87.30027 ]\n",
      " [ -9.25128  -73.067276]], shape=(5, 2), dtype=float32)\n"
     ]
    }
   ],
   "source": [
    "# `[S, b, e]` shaped input, where [b, e] is broadcastable over [B, E]\n",
    "\n",
    "inp = tf.random.uniform((5,1,2,1))\n",
    "print (ind_normal_distributions.log_prob(inp))"
   ]
  },
  {
   "cell_type": "markdown",
   "metadata": {},
   "source": [
    "#### Naive Bayes example\n",
    "\n",
    "Lets now use what we have learned and continue the Naive Bayes classifier we were building last tutorial."
   ]
  },
  {
   "cell_type": "code",
   "execution_count": 92,
   "metadata": {},
   "outputs": [],
   "source": [
    "from sklearn.datasets import fetch_20newsgroups\n",
    "from sklearn.feature_extraction.text import CountVectorizer\n",
    "from sklearn.naive_bayes import BernoulliNB\n",
    "from sklearn.metrics import f1_score"
   ]
  },
  {
   "cell_type": "code",
   "execution_count": 93,
   "metadata": {},
   "outputs": [],
   "source": [
    "# Making a function get_data which:\n",
    "#   1) Fetches the 20 newsgroup dataset\n",
    "#   2) Performs a word count on the articles and binarizes the result\n",
    "#   3) Returns the data as a numpy matrix with the labels\n",
    "\n",
    "def get_data(categories):\n",
    "    \n",
    "    newsgroups_train_data = fetch_20newsgroups(data_home='20_Newsgroup_Data/',\n",
    "                                               subset='train', categories=categories)\n",
    "    newsgroups_test_data = fetch_20newsgroups(data_home='20_Newsgroup_Data/',\n",
    "                                              subset='test', categories=categories)\n",
    "\n",
    "    n_documents = len(newsgroups_train_data['data'])\n",
    "    count_vectorizer = CountVectorizer(input='content', binary=True,max_df=0.25, min_df=1.01/n_documents)\n",
    "    \n",
    "    train_binary_bag_of_words = count_vectorizer.fit_transform(newsgroups_train_data['data'])\n",
    "    test_binary_bag_of_words = count_vectorizer.transform(newsgroups_test_data['data']) \n",
    "\n",
    "    return (train_binary_bag_of_words.todense(), newsgroups_train_data['target']),  (test_binary_bag_of_words.todense(), newsgroups_test_data['target'])"
   ]
  },
  {
   "cell_type": "code",
   "execution_count": 94,
   "metadata": {},
   "outputs": [],
   "source": [
    "# Defining a function to conduct Laplace smoothing. This adds a base level of probability for a given feature\n",
    "# to occur in every class.\n",
    "\n",
    "def laplace_smoothing(labels, binary_data, n_classes):\n",
    "    # Compute the parameter estimates (adjusted fraction of documents in class that contain word)\n",
    "    n_words = binary_data.shape[1]\n",
    "    alpha = 1 # parameters for Laplace smoothing\n",
    "    theta = np.zeros([n_classes, n_words]) # stores parameter values - prob. word given class\n",
    "    for c_k in range(n_classes): # 0, 1, ..., 19\n",
    "        class_mask = (labels == c_k)\n",
    "        N = class_mask.sum() # number of articles in class\n",
    "        theta[c_k, :] = (binary_data[class_mask, :].sum(axis=0) + alpha)/(N + alpha*2)\n",
    "\n",
    "    return theta"
   ]
  },
  {
   "cell_type": "code",
   "execution_count": 95,
   "metadata": {},
   "outputs": [],
   "source": [
    "# Getting a subset of the 20 newsgroup dataset\n",
    "\n",
    "categories = ['alt.atheism', 'talk.religion.misc', 'comp.graphics', 'sci.space']\n",
    "\n",
    "(train_data, train_labels), (test_data, test_labels) = get_data(categories=categories)\n",
    "smoothed_counts = laplace_smoothing(labels=train_labels, binary_data=train_data, n_classes=len(categories))"
   ]
  },
  {
   "cell_type": "markdown",
   "metadata": {},
   "source": [
    "To now make our NB classifier we need to build three functions:\n",
    "* Compute the class priors\n",
    "* Build our class conditional distributions\n",
    "* Put it all together and classify our data"
   ]
  },
  {
   "cell_type": "code",
   "execution_count": null,
   "metadata": {},
   "outputs": [],
   "source": [
    "# Function which computes the prior probability of every class based on frequency of occurence in \n",
    "# the dataset\n",
    "\n",
    "def class_priors(n_classes, labels):\n",
    "    counts = np.zeros(n_classes)\n",
    "    for c_k in range(n_classes):\n",
    "        counts[c_k] = np.sum(np.where(labels==c_k, 1, 0))\n",
    "    priors = counts / np.sum(counts)\n",
    "    print('The class priors are {}'.format(priors))\n",
    "    return priors"
   ]
  },
  {
   "cell_type": "code",
   "execution_count": null,
   "metadata": {},
   "outputs": [],
   "source": [
    "# Run the function \n",
    "\n"
   ]
  },
  {
   "cell_type": "code",
   "execution_count": null,
   "metadata": {},
   "outputs": [],
   "source": [
    "# Now we will do a function that given the feature occurence counts returns a Bernoulli distribution of \n",
    "# batch_shape=number of classes and event_shape=number of features.\n",
    "\n"
   ]
  },
  {
   "cell_type": "code",
   "execution_count": null,
   "metadata": {},
   "outputs": [],
   "source": [
    "# The final function predict_sample which given the distribution, a test sample, and the class priors:\n",
    "#   1) Computes the class conditional probabilities given the sample\n",
    "#   2) Forms the joint likelihood\n",
    "#   3) Normalises the joint likelihood and returns the log prob\n",
    "\n"
   ]
  },
  {
   "cell_type": "markdown",
   "metadata": {},
   "source": [
    "#### Computing log_probs"
   ]
  },
  {
   "cell_type": "code",
   "execution_count": null,
   "metadata": {},
   "outputs": [],
   "source": [
    "# Predicting one example from our test data\n",
    "\n"
   ]
  },
  {
   "cell_type": "code",
   "execution_count": null,
   "metadata": {},
   "outputs": [],
   "source": [
    "# Loop over our test data and classify.\n",
    "\n",
    "probabilities = []\n",
    "for sample, label in zip(test_data, test_labels):\n",
    "    probabilities.append(tf.exp(predict_sample(tf_dist, sample, priors)))\n",
    "\n",
    "probabilities = np.asarray(probabilities)\n",
    "predicted_classes = np.argmax(probabilities, axis =-1)\n",
    "print('f1 ', f1_score(test_labels, predicted_classes, average='macro'))"
   ]
  },
  {
   "cell_type": "code",
   "execution_count": null,
   "metadata": {},
   "outputs": [],
   "source": [
    "# Make a Bernoulli Naive Bayes classifier using sklearn with the same level of alpha smoothing. \n",
    "\n",
    "clf = BernoulliNB(alpha=1)\n",
    "clf.fit(train_data, train_labels)\n",
    "pred = clf.predict(test_data)\n",
    "print('f1 from sklean ', f1_score(test_labels, pred, average='macro'))"
   ]
  },
  {
   "cell_type": "markdown",
   "metadata": {},
   "source": [
    "***\n",
    "<a id='trainable_distributions'></a>\n",
    "## Trainable Distributions"
   ]
  },
  {
   "cell_type": "code",
   "execution_count": 113,
   "metadata": {},
   "outputs": [],
   "source": [
    "from sklearn.datasets import fetch_20newsgroups\n",
    "from sklearn.feature_extraction.text import CountVectorizer\n",
    "from sklearn.naive_bayes import BernoulliNB\n",
    "from sklearn.metrics import f1_score"
   ]
  },
  {
   "cell_type": "code",
   "execution_count": 129,
   "metadata": {},
   "outputs": [
    {
     "name": "stderr",
     "output_type": "stream",
     "text": [
      "/home/ankdesh/virtualenvs/tf-probablity/lib/python3.6/site-packages/seaborn/distributions.py:2551: FutureWarning: `distplot` is a deprecated function and will be removed in a future version. Please adapt your code to use either `displot` (a figure-level function with similar flexibility) or `histplot` (an axes-level function for histograms).\n",
      "  warnings.warn(msg, FutureWarning)\n"
     ]
    },
    {
     "data": {
      "text/plain": [
       "<AxesSubplot:ylabel='Density'>"
      ]
     },
     "execution_count": 129,
     "metadata": {},
     "output_type": "execute_result"
    },
    {
     "data": {
      "image/png": "[encoded data removed]",
      "text/plain": [
       "<Figure size 432x288 with 1 Axes>"
      ]
     },
     "metadata": {
      "needs_background": "light"
     },
     "output_type": "display_data"
    }
   ],
   "source": [
    "# Plot\n",
    "\n",
    "exponential = tfd.Exponential(rate=0.5, name=\"exp\")\n",
    "sns.distplot(exponential.sample(5000),kde=True)"
   ]
  },
  {
   "cell_type": "code",
   "execution_count": 130,
   "metadata": {},
   "outputs": [
    {
     "name": "stdout",
     "output_type": "stream",
     "text": [
      "(<tf.Variable 'exp:0' shape=() dtype=float32, numpy=1.0>,)\n"
     ]
    }
   ],
   "source": [
    "# Define an exponential distribution with a trainable rate parameter\n",
    "\n",
    "exp_train = tfd.Exponential(rate=tf.Variable(1., name=\"exp\"), name='exp_train')\n",
    "print (exp_train.trainable_variables)"
   ]
  },
  {
   "cell_type": "code",
   "execution_count": 131,
   "metadata": {},
   "outputs": [],
   "source": [
    "# Define the negative log likelihood\n",
    "def nll(x_samples, distribution):\n",
    "    return -tf.reduce_mean(distribution.log_prob(x_samples)) \n"
   ]
  },
  {
   "cell_type": "code",
   "execution_count": 132,
   "metadata": {},
   "outputs": [],
   "source": [
    "# Define a function to compute the loss and gradients\n",
    "@tf.function\n",
    "def get_loss_and_grads (x_samples, distribution):\n",
    "    with tf.GradientTape() as tape:\n",
    "        tape.watch(distribution.trainable_variables)\n",
    "        loss = nll(x_samples, distribution)\n",
    "        grads = tape.gradient(loss, distribution.trainable_variables)\n",
    "        return loss, grads"
   ]
  },
  {
   "cell_type": "code",
   "execution_count": 134,
   "metadata": {},
   "outputs": [],
   "source": [
    "# Optimize\n",
    "\n",
    "def exponential_dist_optimisation(data, distribution):\n",
    "\n",
    "    # Keep results for plotting\n",
    "    train_loss_results = []\n",
    "    train_rate_results = []\n",
    "    \n",
    "    optimizer = tf.keras.optimizers.SGD(learning_rate=0.05)\n",
    "\n",
    "    num_steps = 100\n",
    "\n",
    "    for i in range(num_steps):\n",
    "        loss, grads = get_loss_and_grads(data,distribution)\n",
    "        optimizer.apply_gradients(zip(grads, distribution.trainable_variables))\n",
    "        \n",
    "        rate_value = distribution.rate.value()\n",
    "        train_loss_results.append(loss)\n",
    "        train_rate_results.append(rate_value)\n",
    "        print(\"Step {:03d}: Loss: {:.3f}: Rate: {:.3f}\".format(i, loss, rate_value))\n",
    "        \n",
    "    return train_loss_results, train_rate_results"
   ]
  },
  {
   "cell_type": "code",
   "execution_count": 135,
   "metadata": {},
   "outputs": [
    {
     "name": "stdout",
     "output_type": "stream",
     "text": [
      "Step 000: Loss: 1.983: Rate: 0.951\n",
      "Step 001: Loss: 1.936: Rate: 0.904\n",
      "Step 002: Loss: 1.894: Rate: 0.860\n",
      "Step 003: Loss: 1.857: Rate: 0.819\n",
      "Step 004: Loss: 1.824: Rate: 0.781\n",
      "Step 005: Loss: 1.796: Rate: 0.746\n",
      "Step 006: Loss: 1.773: Rate: 0.714\n",
      "Step 007: Loss: 1.753: Rate: 0.685\n",
      "Step 008: Loss: 1.737: Rate: 0.659\n",
      "Step 009: Loss: 1.724: Rate: 0.635\n",
      "Step 010: Loss: 1.714: Rate: 0.615\n",
      "Step 011: Loss: 1.706: Rate: 0.597\n",
      "Step 012: Loss: 1.700: Rate: 0.582\n",
      "Step 013: Loss: 1.696: Rate: 0.568\n",
      "Step 014: Loss: 1.692: Rate: 0.557\n",
      "Step 015: Loss: 1.690: Rate: 0.548\n",
      "Step 016: Loss: 1.688: Rate: 0.540\n",
      "Step 017: Loss: 1.687: Rate: 0.533\n",
      "Step 018: Loss: 1.686: Rate: 0.528\n",
      "Step 019: Loss: 1.686: Rate: 0.523\n",
      "Step 020: Loss: 1.686: Rate: 0.520\n",
      "Step 021: Loss: 1.685: Rate: 0.517\n",
      "Step 022: Loss: 1.685: Rate: 0.514\n",
      "Step 023: Loss: 1.685: Rate: 0.512\n",
      "Step 024: Loss: 1.685: Rate: 0.511\n",
      "Step 025: Loss: 1.685: Rate: 0.510\n",
      "Step 026: Loss: 1.685: Rate: 0.509\n",
      "Step 027: Loss: 1.685: Rate: 0.508\n",
      "Step 028: Loss: 1.685: Rate: 0.507\n",
      "Step 029: Loss: 1.685: Rate: 0.506\n",
      "Step 030: Loss: 1.685: Rate: 0.506\n",
      "Step 031: Loss: 1.685: Rate: 0.506\n",
      "Step 032: Loss: 1.685: Rate: 0.505\n",
      "Step 033: Loss: 1.685: Rate: 0.505\n",
      "Step 034: Loss: 1.685: Rate: 0.505\n",
      "Step 035: Loss: 1.685: Rate: 0.505\n",
      "Step 036: Loss: 1.685: Rate: 0.505\n",
      "Step 037: Loss: 1.685: Rate: 0.505\n",
      "Step 038: Loss: 1.685: Rate: 0.505\n",
      "Step 039: Loss: 1.685: Rate: 0.504\n",
      "Step 040: Loss: 1.685: Rate: 0.504\n",
      "Step 041: Loss: 1.685: Rate: 0.504\n",
      "Step 042: Loss: 1.685: Rate: 0.504\n",
      "Step 043: Loss: 1.685: Rate: 0.504\n",
      "Step 044: Loss: 1.685: Rate: 0.504\n",
      "Step 045: Loss: 1.685: Rate: 0.504\n",
      "Step 046: Loss: 1.685: Rate: 0.504\n",
      "Step 047: Loss: 1.685: Rate: 0.504\n",
      "Step 048: Loss: 1.685: Rate: 0.504\n",
      "Step 049: Loss: 1.685: Rate: 0.504\n",
      "Step 050: Loss: 1.685: Rate: 0.504\n",
      "Step 051: Loss: 1.685: Rate: 0.504\n",
      "Step 052: Loss: 1.685: Rate: 0.504\n",
      "Step 053: Loss: 1.685: Rate: 0.504\n",
      "Step 054: Loss: 1.685: Rate: 0.504\n",
      "Step 055: Loss: 1.685: Rate: 0.504\n",
      "Step 056: Loss: 1.685: Rate: 0.504\n",
      "Step 057: Loss: 1.685: Rate: 0.504\n",
      "Step 058: Loss: 1.685: Rate: 0.504\n",
      "Step 059: Loss: 1.685: Rate: 0.504\n",
      "Step 060: Loss: 1.685: Rate: 0.504\n",
      "Step 061: Loss: 1.685: Rate: 0.504\n",
      "Step 062: Loss: 1.685: Rate: 0.504\n",
      "Step 063: Loss: 1.685: Rate: 0.504\n",
      "Step 064: Loss: 1.685: Rate: 0.504\n",
      "Step 065: Loss: 1.685: Rate: 0.504\n",
      "Step 066: Loss: 1.685: Rate: 0.504\n",
      "Step 067: Loss: 1.685: Rate: 0.504\n",
      "Step 068: Loss: 1.685: Rate: 0.504\n",
      "Step 069: Loss: 1.685: Rate: 0.504\n",
      "Step 070: Loss: 1.685: Rate: 0.504\n",
      "Step 071: Loss: 1.685: Rate: 0.504\n",
      "Step 072: Loss: 1.685: Rate: 0.504\n",
      "Step 073: Loss: 1.685: Rate: 0.504\n",
      "Step 074: Loss: 1.685: Rate: 0.504\n",
      "Step 075: Loss: 1.685: Rate: 0.504\n",
      "Step 076: Loss: 1.685: Rate: 0.504\n",
      "Step 077: Loss: 1.685: Rate: 0.504\n",
      "Step 078: Loss: 1.685: Rate: 0.504\n",
      "Step 079: Loss: 1.685: Rate: 0.504\n",
      "Step 080: Loss: 1.685: Rate: 0.504\n",
      "Step 081: Loss: 1.685: Rate: 0.504\n",
      "Step 082: Loss: 1.685: Rate: 0.504\n",
      "Step 083: Loss: 1.685: Rate: 0.504\n",
      "Step 084: Loss: 1.685: Rate: 0.504\n",
      "Step 085: Loss: 1.685: Rate: 0.504\n",
      "Step 086: Loss: 1.685: Rate: 0.504\n",
      "Step 087: Loss: 1.685: Rate: 0.504\n",
      "Step 088: Loss: 1.685: Rate: 0.504\n",
      "Step 089: Loss: 1.685: Rate: 0.504\n",
      "Step 090: Loss: 1.685: Rate: 0.504\n",
      "Step 091: Loss: 1.685: Rate: 0.504\n",
      "Step 092: Loss: 1.685: Rate: 0.504\n",
      "Step 093: Loss: 1.685: Rate: 0.504\n",
      "Step 094: Loss: 1.685: Rate: 0.504\n",
      "Step 095: Loss: 1.685: Rate: 0.504\n",
      "Step 096: Loss: 1.685: Rate: 0.504\n",
      "Step 097: Loss: 1.685: Rate: 0.504\n",
      "Step 098: Loss: 1.685: Rate: 0.504\n",
      "Step 099: Loss: 1.685: Rate: 0.504\n"
     ]
    }
   ],
   "source": [
    "# Get some data and train\n",
    "\n",
    "sampled_data = exponential.sample(5000)\n",
    "train_loss_results, train_rate_results = exponential_dist_optimisation(data=sampled_data, distribution=exp_train)"
   ]
  },
  {
   "cell_type": "code",
   "execution_count": 136,
   "metadata": {},
   "outputs": [
    {
     "name": "stdout",
     "output_type": "stream",
     "text": [
      "Exact rate:  0.5\n",
      "Pred rate:   0.5041886\n"
     ]
    }
   ],
   "source": [
    "# Predicted value for the rate parameter\n",
    "\n",
    "pred_value = exp_train.rate.numpy()\n",
    "exact_value = exponential.rate.numpy()\n",
    "\n",
    "print(\"Exact rate: \", exact_value)\n",
    "print(\"Pred rate:  \", pred_value)"
   ]
  },
  {
   "cell_type": "code",
   "execution_count": 137,
   "metadata": {},
   "outputs": [
    {
     "data": {
      "image/png": "[encoded data removed]",
      "text/plain": [
       "<Figure size 864x576 with 2 Axes>"
      ]
     },
     "metadata": {
      "needs_background": "light"
     },
     "output_type": "display_data"
    }
   ],
   "source": [
    "# Plot to see the convergence of the estimated and true parameters\n",
    "\n",
    "tensor_exact_value = tf.constant(exact_value, shape=[len(train_rate_results)])\n",
    "\n",
    "fig, axes = plt.subplots(2, sharex=True, figsize=(12, 8))\n",
    "fig.suptitle('Convergence')\n",
    "\n",
    "axes[0].set_ylabel(\"Loss\", fontsize=14)\n",
    "axes[0].plot(train_loss_results)\n",
    "\n",
    "axes[1].set_ylabel(\"Rate\", fontsize=14)\n",
    "axes[1].set_xlabel(\"Epoch\", fontsize=14)\n",
    "axes[1].plot(train_rate_results, label='trainable rate variable')\n",
    "axes[1].plot(tensor_exact_value, label='exact rate')\n",
    "axes[1].legend()\n",
    "plt.show()"
   ]
  },
  {
   "cell_type": "code",
   "execution_count": 138,
   "metadata": {},
   "outputs": [],
   "source": [
    "# Making a function get_data which:\n",
    "#   1) Fetches the 20 newsgroup dataset\n",
    "#   2) Performs a word count on the articles and binarizes the result\n",
    "#   3) Returns the data as a numpy matrix with the labels\n",
    "\n",
    "def get_data(categories):\n",
    "\n",
    "    newsgroups_train_data = fetch_20newsgroups(data_home='20_Newsgroup_Data/',\n",
    "                                               subset='train', categories=categories)\n",
    "    newsgroups_test_data = fetch_20newsgroups(data_home='20_Newsgroup_Data/',\n",
    "                                              subset='test', categories=categories)\n",
    "\n",
    "    n_documents = len(newsgroups_train_data['data'])\n",
    "    count_vectorizer = CountVectorizer(input='content', binary=True,max_df=0.25, min_df=1.01/n_documents) \n",
    "    train_binary_bag_of_words = count_vectorizer.fit_transform(newsgroups_train_data['data']) \n",
    "    test_binary_bag_of_words = count_vectorizer.transform(newsgroups_test_data['data']) \n",
    "\n",
    "    return (train_binary_bag_of_words.todense(), newsgroups_train_data['target']),  (test_binary_bag_of_words.todense(), newsgroups_test_data['target'])\n"
   ]
  },
  {
   "cell_type": "code",
   "execution_count": 139,
   "metadata": {},
   "outputs": [],
   "source": [
    "# Defining a function to conduct laplace smoothing. This adds a base level of probability for a given feature\n",
    "# to occur in every class.\n",
    "\n",
    "def laplace_smoothing(labels, binary_data, n_classes):\n",
    "    # Compute the parameter estimates (adjusted fraction of documents in class that contain word)\n",
    "    n_words = binary_data.shape[1]\n",
    "    alpha = 1 # parameters for Laplace smoothing\n",
    "    theta = np.zeros([n_classes, n_words]) # stores parameter values - prob. word given class\n",
    "    for c_k in range(n_classes): # 0, 1, ..., 19\n",
    "        class_mask = (labels == c_k)\n",
    "        N = class_mask.sum() # number of articles in class\n",
    "        theta[c_k, :] = (binary_data[class_mask, :].sum(axis=0) + alpha)/(N + alpha*2)\n",
    "\n",
    "    return theta"
   ]
  },
  {
   "cell_type": "code",
   "execution_count": 140,
   "metadata": {},
   "outputs": [],
   "source": [
    "# Now we will do a function that given the feature occurence counts returns a Bernoulli distribution of \n",
    "# batch_shape=number of classes and event_shape=number of features.\n",
    "\n",
    "def make_distributions(probs):\n",
    "    batch_of_bernoullis = tfd.Bernoulli(probs=probs) # shape (n_classes, n_words)\n",
    "    dist = tfd.Independent(batch_of_bernoullis, reinterpreted_batch_ndims=1)\n",
    "    return dist"
   ]
  },
  {
   "cell_type": "code",
   "execution_count": 141,
   "metadata": {},
   "outputs": [],
   "source": [
    "# Function which computes the prior probability of every class based on frequency of occurence in \n",
    "# the dataset\n",
    "\n",
    "def class_priors(n_classes, labels):\n",
    "    counts = np.zeros(n_classes)\n",
    "    for c_k in range(n_classes):\n",
    "        counts[c_k] = np.sum(np.where(labels==c_k, 1, 0))\n",
    "    priors = counts / np.sum(counts)\n",
    "    print('The class priors are {}'.format(priors))\n",
    "    return priors"
   ]
  },
  {
   "cell_type": "code",
   "execution_count": 142,
   "metadata": {},
   "outputs": [],
   "source": [
    "# The final function predict_sample which given the distribution, a test sample, and the class priors:\n",
    "#   1) Computes the class conditional probabilities given the sample\n",
    "#   2) Forms the joint likelihood\n",
    "#   3) Normalises the joint likelihood and returns the log prob\n",
    "\n",
    "def predict_sample(dist, sample, priors):\n",
    "    cond_probs = dist.log_prob(sample)\n",
    "    joint_likelihood = tf.add(np.log(priors), cond_probs)\n",
    "    norm_factor = tf.math.reduce_logsumexp(joint_likelihood, axis=-1, keepdims=True)\n",
    "    log_prob = joint_likelihood - norm_factor\n",
    "\n",
    "    return log_prob"
   ]
  },
  {
   "cell_type": "code",
   "execution_count": null,
   "metadata": {},
   "outputs": [],
   "source": [
    "# Now we learn the distribution using gradient tape\n",
    "\n",
    "def make_distribution_withGT(data, labels, nb_classes):\n",
    "\n",
    "    class_data = []\n",
    "    train_vars = []\n",
    "    distributions = []\n",
    "    for c in range(nb_classes):\n",
    "        train_vars.append(tf.Variable(initial_value=np.random.uniform(low=0.01, high =0.1, size=data.shape[-1])))\n",
    "        distributions.append(tfd.Bernoulli(probs=train_vars[c]))\n",
    "        class_mask = (labels == c)\n",
    "        class_data.append(data[class_mask, :])\n",
    "\n",
    "    for c_num in range(0,nb_classes):\n",
    "        optimizer = tf.keras.optimizers.Adam()\n",
    "        print('\\n%-------------------%')\n",
    "        print('Class ', c_num)\n",
    "        print('%-------------------%')\n",
    "\n",
    "        for i in range(0,100):\n",
    "            \n",
    "\n",
    "    dist = tfd.Bernoulli(probs=train_vars)\n",
    "    dist = tfd.Independent(dist,reinterpreted_batch_ndims=1)\n",
    "\n",
    "    print(dist)\n",
    "\n",
    "    return dist\n"
   ]
  },
  {
   "cell_type": "code",
   "execution_count": null,
   "metadata": {},
   "outputs": [],
   "source": [
    "# Make the same Naive Bayes classifier we did last tutorial\n",
    "\n",
    "categories = ['alt.atheism', 'talk.religion.misc', 'comp.graphics', 'sci.space']\n",
    "\n",
    "(train_data, train_labels), (test_data, test_labels) = get_data(categories)\n",
    "\n",
    "smoothed_counts = laplace_smoothing(labels=train_labels, binary_data=train_data, n_classes=len(categories))\n",
    "\n",
    "priors = class_priors(n_classes=len(categories), labels=train_labels)\n",
    "tf_dist = make_distributions(smoothed_counts)"
   ]
  },
  {
   "cell_type": "code",
   "execution_count": null,
   "metadata": {},
   "outputs": [],
   "source": [
    "# Now train the distributions with gradient tape\n",
    "\n",
    "GT_dist = make_distribution_withGT(data=train_data, labels=train_labels, nb_classes=4)"
   ]
  },
  {
   "cell_type": "code",
   "execution_count": null,
   "metadata": {},
   "outputs": [],
   "source": [
    "# Compare the two results\n",
    "\n",
    "for dist in [GT_dist,tf_dist]:\n",
    "    probabilities = []\n",
    "    for sample, label in zip(test_data, test_labels):\n",
    "        probabilities.append(predict_sample(dist, sample, priors))\n",
    "\n",
    "    probabilities = np.asarray(probabilities)\n",
    "    predicted_classes = np.argmax(probabilities, axis =-1)\n",
    "    print('f1 ', f1_score(test_labels, predicted_classes, average='macro'))"
   ]
  }
 ],
 "metadata": {
  "kernelspec": {
   "display_name": "Python 3",
   "language": "python",
   "name": "python3"
  },
  "language_info": {
   "codemirror_mode": {
    "name": "ipython",
    "version": 3
   },
   "file_extension": ".py",
   "mimetype": "text/x-python",
   "name": "python",
   "nbconvert_exporter": "python",
   "pygments_lexer": "ipython3",
   "version": "3.8.2"
  }
 },
 "nbformat": 4,
 "nbformat_minor": 4
}

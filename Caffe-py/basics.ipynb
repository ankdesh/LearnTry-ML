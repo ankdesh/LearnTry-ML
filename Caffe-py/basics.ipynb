{
 "cells": [
  {
   "cell_type": "code",
   "execution_count": 1,
   "metadata": {},
   "outputs": [],
   "source": [
    "import caffe\n",
    "from google.protobuf import text_format"
   ]
  },
  {
   "cell_type": "code",
   "execution_count": 2,
   "metadata": {},
   "outputs": [],
   "source": [
    "#If you have a GPU onboard, then we need to tell Caffe that we want it to use the GPU:\n",
    "\n",
    "caffe.set_device(0)\n",
    "caffe.set_mode_gpu()"
   ]
  },
  {
   "cell_type": "code",
   "execution_count": 3,
   "metadata": {},
   "outputs": [],
   "source": [
    "net = caffe.Net('model/lenet.prototxt','model/lenet_iter_10000.caffemodel', caffe.TEST)"
   ]
  },
  {
   "cell_type": "code",
   "execution_count": 4,
   "metadata": {},
   "outputs": [
    {
     "name": "stdout",
     "output_type": "stream",
     "text": [
      "OrderedDict([('input', <caffe._caffe.Layer object at 0x7f78d2c267d0>), ('conv1', <caffe._caffe.Layer object at 0x7f78d2c26578>), ('pool1', <caffe._caffe.Layer object at 0x7f78d2c269b0>), ('conv2', <caffe._caffe.Layer object at 0x7f78d2c26a28>), ('pool2', <caffe._caffe.Layer object at 0x7f78d2c26aa0>), ('ip1', <caffe._caffe.Layer object at 0x7f78d2c26b18>), ('relu1', <caffe._caffe.Layer object at 0x7f78d2c26b90>), ('ip2', <caffe._caffe.Layer object at 0x7f78d2c26c08>), ('prob', <caffe._caffe.Layer object at 0x7f78d2c26c80>)])\n"
     ]
    }
   ],
   "source": [
    "print net.layer_dict"
   ]
  },
  {
   "cell_type": "code",
   "execution_count": 5,
   "metadata": {},
   "outputs": [
    {
     "name": "stdout",
     "output_type": "stream",
     "text": [
      "['input', 'conv1', 'pool1', 'conv2', 'pool2', 'ip1', 'relu1', 'ip2', 'prob']\n"
     ]
    }
   ],
   "source": [
    "# Print all learable layers \n",
    "print [x for x in net.layer_dict]"
   ]
  },
  {
   "cell_type": "code",
   "execution_count": 6,
   "metadata": {},
   "outputs": [
    {
     "name": "stdout",
     "output_type": "stream",
     "text": [
      "Network layers:\n",
      "input  : Input            (0 blobs)\n",
      "conv1  : Convolution      (2 blobs)\n",
      "pool1  : Pooling          (0 blobs)\n",
      "conv2  : Convolution      (2 blobs)\n",
      "pool2  : Pooling          (0 blobs)\n",
      "ip1    : InnerProduct     (2 blobs)\n",
      "relu1  : ReLU             (0 blobs)\n",
      "ip2    : InnerProduct     (2 blobs)\n",
      "prob   : Softmax          (0 blobs)\n"
     ]
    }
   ],
   "source": [
    "print(\"Network layers:\")\n",
    "for name, layer in zip(net._layer_names, net.layers):\n",
    "    print(\"{:<7}: {:17s}({} blobs)\".format(name, layer.type, len(layer.blobs)))"
   ]
  },
  {
   "cell_type": "code",
   "execution_count": 7,
   "metadata": {},
   "outputs": [
    {
     "name": "stdout",
     "output_type": "stream",
     "text": [
      "('Convolution', <caffe._caffe.Blob object at 0x7f79330ab758>, <caffe._caffe.Blob object at 0x7f7924181c08>)\n",
      "Con1Blob0.shape = [20, 1, 5, 5]\n",
      "Con1Blob1.shape = [20]\n"
     ]
    }
   ],
   "source": [
    "conv1Layer = net.layer_dict['conv1']\n",
    "conv1WeightBlob0 = conv1Layer.blobs[0]\n",
    "conv1WeightBlob1 = conv1Layer.blobs[1]\n",
    "print (conv1Layer.type, conv1WeightBlob0, conv1WeightBlob1)\n",
    "print ('Con1Blob0.shape = ' + str([x for x in conv1WeightBlob0.shape]))\n",
    "print ('Con1Blob1.shape = ' + str([x for x in conv1WeightBlob1.shape]))"
   ]
  },
  {
   "cell_type": "code",
   "execution_count": 10,
   "metadata": {},
   "outputs": [
    {
     "name": "stdout",
     "output_type": "stream",
     "text": [
      "(<type 'numpy.ndarray'>, (20, 1, 5, 5), (5, 5))\n"
     ]
    }
   ],
   "source": [
    "print (type(conv1WeightBlob0.data), conv1WeightBlob0.data.shape,conv1WeightBlob0.data[0][0].shape)"
   ]
  },
  {
   "cell_type": "code",
   "execution_count": 11,
   "metadata": {},
   "outputs": [
    {
     "name": "stdout",
     "output_type": "stream",
     "text": [
      "Blobs:\n",
      "data :  (10000, 1, 28, 28)\n",
      "conv1:  (10000, 20, 24, 24)\n",
      "pool1:  (10000, 20, 12, 12)\n",
      "conv2:  (10000, 50, 8, 8)\n",
      "pool2:  (10000, 50, 4, 4)\n",
      "ip1  :  (10000, 500)\n",
      "ip2  :  (10000, 10)\n",
      "prob :  (10000, 10)\n"
     ]
    }
   ],
   "source": [
    "print(\"Blobs:\")\n",
    "for name, blob in net.blobs.iteritems():\n",
    "    print(\"{:<5}:  {}\".format(name, blob.data.shape))"
   ]
  },
  {
   "cell_type": "code",
   "execution_count": 12,
   "metadata": {},
   "outputs": [
    {
     "name": "stdout",
     "output_type": "stream",
     "text": [
      "[20, 1, 5, 5]\n",
      "[50, 20, 5, 5]\n"
     ]
    }
   ],
   "source": [
    "# Layer corresponding to a blob\n",
    "for name, blob in net.blobs.iteritems():\n",
    "    if name in net.layer_dict.keys():\n",
    "        if net.layer_dict[name].type == 'Convolution':\n",
    "            print ([x for x in net._layer_dict[name].blobs[0].shape])\n",
    "        "
   ]
  },
  {
   "cell_type": "code",
   "execution_count": 29,
   "metadata": {},
   "outputs": [
    {
     "name": "stdout",
     "output_type": "stream",
     "text": [
      "1\n"
     ]
    }
   ],
   "source": [
    "print(conv1WeightBlob0.channels)"
   ]
  },
  {
   "cell_type": "code",
   "execution_count": null,
   "metadata": {},
   "outputs": [],
   "source": []
  }
 ],
 "metadata": {
  "kernelspec": {
   "display_name": "Python 2",
   "language": "python",
   "name": "python2"
  },
  "language_info": {
   "codemirror_mode": {
    "name": "ipython",
    "version": 2
   },
   "file_extension": ".py",
   "mimetype": "text/x-python",
   "name": "python",
   "nbconvert_exporter": "python",
   "pygments_lexer": "ipython2",
   "version": "2.7.12"
  }
 },
 "nbformat": 4,
 "nbformat_minor": 2
}
